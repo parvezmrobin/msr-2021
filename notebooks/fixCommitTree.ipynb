{
 "cells": [
  {
   "cell_type": "markdown",
   "metadata": {
    "collapsed": true,
    "pycharm": {
     "name": "#%% md\n"
    }
   },
   "source": [
    "# Generate Fix Commit Tree"
   ]
  },
  {
   "cell_type": "code",
   "execution_count": 1,
   "outputs": [],
   "source": [
    "import pandas as pd"
   ],
   "metadata": {
    "collapsed": false,
    "pycharm": {
     "name": "#%%\n"
    }
   }
  },
  {
   "cell_type": "code",
   "execution_count": 2,
   "outputs": [],
   "source": [
    "df = pd.read_json('../dataset/sstubsLarge')"
   ],
   "metadata": {
    "collapsed": false,
    "pycharm": {
     "name": "#%%\n"
    }
   }
  },
  {
   "cell_type": "code",
   "execution_count": 3,
   "outputs": [
    {
     "name": "stdout",
     "output_type": "stream",
     "text": [
      "Rows: 63923, Columns: 14\n"
     ]
    }
   ],
   "source": [
    "print('Rows: {}, Columns: {}'.format(*df.shape))"
   ],
   "metadata": {
    "collapsed": false,
    "pycharm": {
     "name": "#%%\n"
    }
   }
  },
  {
   "cell_type": "code",
   "source": [
    "print('**Columns:**')\n",
    "print(*df.columns, sep='\\n')"
   ],
   "metadata": {
    "collapsed": false,
    "pycharm": {
     "name": "#%%\n"
    }
   },
   "execution_count": 4,
   "outputs": [
    {
     "name": "stdout",
     "output_type": "stream",
     "text": [
      "**Columns:**\n",
      "bugType\n",
      "fixCommitSHA1\n",
      "fixCommitParentSHA1\n",
      "bugFilePath\n",
      "fixPatch\n",
      "projectName\n",
      "bugLineNum\n",
      "bugNodeStartChar\n",
      "bugNodeLength\n",
      "fixLineNum\n",
      "fixNodeStartChar\n",
      "fixNodeLength\n",
      "sourceBeforeFix\n",
      "sourceAfterFix\n"
     ]
    }
   ]
  },
  {
   "cell_type": "code",
   "execution_count": 5,
   "outputs": [
    {
     "name": "stdout",
     "output_type": "stream",
     "text": [
      "40954 groups\n",
      "40954 groups filtered\n"
     ]
    }
   ],
   "source": [
    "cnt = 0\n",
    "def is_consecutive_fix(sf):\n",
    "    global cnt\n",
    "    cnt += 1\n",
    "    return sf.fixCommitSHA1.isin(sf.fixCommitParentSHA1).values.sum() > 0\n",
    "\n",
    "groups = df.groupby(['projectName', 'bugFilePath', 'bugLineNum'])\n",
    "print(f'{groups.ngroups} groups')\n",
    "groups = groups.filter(is_consecutive_fix)\n",
    "print(f'{cnt} groups filtered')"
   ],
   "metadata": {
    "collapsed": false,
    "pycharm": {
     "name": "#%%\n"
    }
   }
  },
  {
   "cell_type": "code",
   "execution_count": 6,
   "outputs": [
    {
     "data": {
      "text/plain": "(1076, 14)"
     },
     "execution_count": 6,
     "metadata": {},
     "output_type": "execute_result"
    }
   ],
   "source": [
    "groups.shape"
   ],
   "metadata": {
    "collapsed": false,
    "pycharm": {
     "name": "#%%\n"
    }
   }
  },
  {
   "cell_type": "code",
   "execution_count": 9,
   "outputs": [],
   "source": [
    "import sqlite3\n",
    "conn = sqlite3.connect('../database/sstubs.db')\n",
    "cursor = conn.cursor()"
   ],
   "metadata": {
    "collapsed": false,
    "pycharm": {
     "name": "#%%\n"
    }
   }
  },
  {
   "cell_type": "code",
   "execution_count": 12,
   "outputs": [
    {
     "name": "stdout",
     "output_type": "stream",
     "text": [
      "562\n"
     ]
    }
   ],
   "source": [
    "query = '''SELECT count(*)\n",
    "    FROM sstubs_large AS b1\n",
    "        INNER JOIN sstubs_large AS b2\n",
    "        ON b1.child = b2.parent AND b1.project = b2.project AND b1.file = b2.file AND b1.line = b2.line'''\n",
    "for res in cursor.execute(query):\n",
    "    print(*res)"
   ],
   "metadata": {
    "collapsed": false,
    "pycharm": {
     "name": "#%%\n"
    }
   }
  },
  {
   "cell_type": "code",
   "execution_count": 13,
   "outputs": [
    {
     "name": "stdout",
     "output_type": "stream",
     "text": [
      "399\n"
     ]
    }
   ],
   "source": [
    "query = '''SELECT count(*) FROM sstubs_large WHERE (child, project, file, line) IN (\n",
    "    SELECT parent, project, file, line FROM sstubs_large\n",
    ")'''\n",
    "for row in cursor.execute(query):\n",
    "    print(*row)"
   ],
   "metadata": {
    "collapsed": false,
    "pycharm": {
     "name": "#%%\n"
    }
   }
  },
  {
   "cell_type": "code",
   "execution_count": null,
   "outputs": [],
   "source": [],
   "metadata": {
    "collapsed": false,
    "pycharm": {
     "name": "#%%\n"
    }
   }
  }
 ],
 "metadata": {
  "kernelspec": {
   "display_name": "Python 3",
   "language": "python",
   "name": "python3"
  },
  "language_info": {
   "codemirror_mode": {
    "name": "ipython",
    "version": 2
   },
   "file_extension": ".py",
   "mimetype": "text/x-python",
   "name": "python",
   "nbconvert_exporter": "python",
   "pygments_lexer": "ipython2",
   "version": "2.7.6"
  }
 },
 "nbformat": 4,
 "nbformat_minor": 0
}
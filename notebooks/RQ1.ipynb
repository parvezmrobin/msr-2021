{
 "cells": [
  {
   "cell_type": "markdown",
   "metadata": {
    "collapsed": true,
    "pycharm": {
     "name": "#%% md\n"
    }
   },
   "source": [
    "# Statistical Analysis"
   ]
  },
  {
   "cell_type": "code",
   "execution_count": 1,
   "metadata": {
    "pycharm": {
     "name": "#%%\n"
    }
   },
   "outputs": [],
   "source": [
    "import numpy as np\n",
    "from scipy import stats\n",
    "import pandas as pd"
   ]
  },
  {
   "cell_type": "code",
   "execution_count": 2,
   "outputs": [
    {
     "name": "stdout",
     "output_type": "stream",
     "text": [
      "Total entries: 63,923\n",
      "Unique commits: 24,486\n",
      "Entries for refix paths: 4,593\n",
      "Unique commits in refix paths: 1,110\n"
     ]
    }
   ],
   "source": [
    "from _databrick import stat_df, fix_df\n",
    "\n",
    "print(f'Total entries: {len(stat_df):,}')\n",
    "print(f'Unique commits: {len(stat_df.child.unique()):,}')\n",
    "print(f'Entries for refix paths: {len(fix_df):,}')\n",
    "print(f'Unique commits in refix paths: {len(fix_df.child.unique()):,}')"
   ],
   "metadata": {
    "collapsed": false,
    "pycharm": {
     "name": "#%%\n"
    }
   }
  },
  {
   "cell_type": "code",
   "execution_count": 3,
   "outputs": [
    {
     "data": {
      "text/plain": "parent    9d35cf00d8e3a28f8bacb48a9a16aeceb974325d\nchild     796f45d14550420d66e1ed28daefeb45874d195f\ntype                   Same Function Change Caller\ndepth                                            1\nrefix                                        False\nName: 0, dtype: object"
     },
     "execution_count": 3,
     "metadata": {},
     "output_type": "execute_result"
    }
   ],
   "source": [
    "stat_df.iloc[0]"
   ],
   "metadata": {
    "collapsed": false,
    "pycharm": {
     "name": "#%%\n"
    }
   }
  },
  {
   "cell_type": "markdown",
   "metadata": {
    "pycharm": {
     "name": "#%% md\n"
    }
   },
   "source": [
    "## General Exploration"
   ]
  },
  {
   "cell_type": "code",
   "execution_count": 4,
   "metadata": {
    "pycharm": {
     "name": "#%%\n"
    }
   },
   "outputs": [
    {
     "data": {
      "text/plain": "depth\n1     61042\n2      2408\n3       315\n4        86\n5        22\n6        20\n7        15\n8         3\n9         5\n10        2\n11        3\n12        2\ndtype: int64"
     },
     "execution_count": 4,
     "metadata": {},
     "output_type": "execute_result"
    }
   ],
   "source": [
    "stat_df.groupby('depth').agg('size')"
   ]
  },
  {
   "cell_type": "code",
   "execution_count": 5,
   "metadata": {
    "pycharm": {
     "name": "#%%\n"
    }
   },
   "outputs": [
    {
     "data": {
      "text/plain": "<AxesSubplot:>"
     },
     "execution_count": 5,
     "metadata": {},
     "output_type": "execute_result"
    },
    {
     "data": {
      "text/plain": "<Figure size 432x288 with 1 Axes>",
      "image/png": "[encoded data removed]"
     },
     "metadata": {
      "needs_background": "light"
     },
     "output_type": "display_data"
    }
   ],
   "source": [
    "stat_df['depth'].hist(log=True)"
   ]
  },
  {
   "cell_type": "code",
   "execution_count": 6,
   "metadata": {
    "pycharm": {
     "name": "#%%\n"
    }
   },
   "outputs": [
    {
     "data": {
      "text/plain": "<AxesSubplot:>"
     },
     "execution_count": 6,
     "metadata": {},
     "output_type": "execute_result"
    },
    {
     "data": {
      "text/plain": "<Figure size 432x288 with 1 Axes>",
      "image/png": "[encoded data removed]"
     },
     "metadata": {
      "needs_background": "light"
     },
     "output_type": "display_data"
    }
   ],
   "source": [
    "fix_df.depth.hist(log=True)"
   ]
  },
  {
   "cell_type": "code",
   "execution_count": 7,
   "metadata": {
    "pycharm": {
     "name": "#%%\n"
    }
   },
   "outputs": [
    {
     "data": {
      "text/plain": "           depth\ncount  63923.000\nmean       1.058\nstd        0.326\nmin        1.000\n50%        1.000\n90%        1.000\n99%        2.000\n99.9%      5.000\nmax       12.000",
      "text/html": "<div>\n<style scoped>\n    .dataframe tbody tr th:only-of-type {\n        vertical-align: middle;\n    }\n\n    .dataframe tbody tr th {\n        vertical-align: top;\n    }\n\n    .dataframe thead th {\n        text-align: right;\n    }\n</style>\n<table border=\"1\" class=\"dataframe\">\n  <thead>\n    <tr style=\"text-align: right;\">\n      <th></th>\n      <th>depth</th>\n    </tr>\n  </thead>\n  <tbody>\n    <tr>\n      <th>count</th>\n      <td>63923.000</td>\n    </tr>\n    <tr>\n      <th>mean</th>\n      <td>1.058</td>\n    </tr>\n    <tr>\n      <th>std</th>\n      <td>0.326</td>\n    </tr>\n    <tr>\n      <th>min</th>\n      <td>1.000</td>\n    </tr>\n    <tr>\n      <th>50%</th>\n      <td>1.000</td>\n    </tr>\n    <tr>\n      <th>90%</th>\n      <td>1.000</td>\n    </tr>\n    <tr>\n      <th>99%</th>\n      <td>2.000</td>\n    </tr>\n    <tr>\n      <th>99.9%</th>\n      <td>5.000</td>\n    </tr>\n    <tr>\n      <th>max</th>\n      <td>12.000</td>\n    </tr>\n  </tbody>\n</table>\n</div>"
     },
     "execution_count": 7,
     "metadata": {},
     "output_type": "execute_result"
    }
   ],
   "source": [
    "stat_df.describe(percentiles=[.90, .99, .999])"
   ]
  },
  {
   "cell_type": "markdown",
   "metadata": {
    "pycharm": {
     "name": "#%% md\n"
    }
   },
   "source": [
    "> The min value for `distance` is `1`.\n",
    "> This is because `distance` is `0` for the commits without parents.\n",
    "> There is no dedicated row for such commits in `sstubs_large`."
   ]
  },
  {
   "cell_type": "code",
   "execution_count": 8,
   "metadata": {
    "pycharm": {
     "name": "#%%\n"
    }
   },
   "outputs": [
    {
     "data": {
      "text/plain": "          depth\ncount  4593.000\nmean      1.807\nstd       0.935\nmin       1.000\n25%       1.000\n50%       2.000\n82.5%     2.000\n90%       3.000\n99%       6.000\n99.9%    10.408\nmax      12.000",
      "text/html": "<div>\n<style scoped>\n    .dataframe tbody tr th:only-of-type {\n        vertical-align: middle;\n    }\n\n    .dataframe tbody tr th {\n        vertical-align: top;\n    }\n\n    .dataframe thead th {\n        text-align: right;\n    }\n</style>\n<table border=\"1\" class=\"dataframe\">\n  <thead>\n    <tr style=\"text-align: right;\">\n      <th></th>\n      <th>depth</th>\n    </tr>\n  </thead>\n  <tbody>\n    <tr>\n      <th>count</th>\n      <td>4593.000</td>\n    </tr>\n    <tr>\n      <th>mean</th>\n      <td>1.807</td>\n    </tr>\n    <tr>\n      <th>std</th>\n      <td>0.935</td>\n    </tr>\n    <tr>\n      <th>min</th>\n      <td>1.000</td>\n    </tr>\n    <tr>\n      <th>25%</th>\n      <td>1.000</td>\n    </tr>\n    <tr>\n      <th>50%</th>\n      <td>2.000</td>\n    </tr>\n    <tr>\n      <th>82.5%</th>\n      <td>2.000</td>\n    </tr>\n    <tr>\n      <th>90%</th>\n      <td>3.000</td>\n    </tr>\n    <tr>\n      <th>99%</th>\n      <td>6.000</td>\n    </tr>\n    <tr>\n      <th>99.9%</th>\n      <td>10.408</td>\n    </tr>\n    <tr>\n      <th>max</th>\n      <td>12.000</td>\n    </tr>\n  </tbody>\n</table>\n</div>"
     },
     "execution_count": 8,
     "metadata": {},
     "output_type": "execute_result"
    }
   ],
   "source": [
    "fix_df.describe(percentiles=[.25, .50, .825, .90, .99, .999])"
   ]
  },
  {
   "cell_type": "code",
   "execution_count": 9,
   "outputs": [
    {
     "data": {
      "text/plain": "<AxesSubplot:>"
     },
     "execution_count": 9,
     "metadata": {},
     "output_type": "execute_result"
    },
    {
     "data": {
      "text/plain": "<Figure size 432x288 with 1 Axes>",
      "image/png": "[encoded data removed]"
     },
     "metadata": {
      "needs_background": "light"
     },
     "output_type": "display_data"
    }
   ],
   "source": [
    "fix_df[['depth']].boxplot(vert=False)"
   ],
   "metadata": {
    "collapsed": false,
    "pycharm": {
     "name": "#%%\n"
    }
   }
  },
  {
   "cell_type": "code",
   "execution_count": 10,
   "outputs": [
    {
     "name": "stdout",
     "output_type": "stream",
     "text": [
      "SStuBs Skewness: 10.805853473940637\n",
      "Fix Skewness: 3.456311022022263\n"
     ]
    }
   ],
   "source": [
    "print(f'SStuBs Skewness: {stat_df.depth.skew()}')\n",
    "print(f'Fix Skewness: {fix_df.depth.skew()}')"
   ],
   "metadata": {
    "collapsed": false,
    "pycharm": {
     "name": "#%%\n"
    }
   }
  },
  {
   "cell_type": "code",
   "execution_count": 11,
   "metadata": {
    "pycharm": {
     "name": "#%%\n"
    }
   },
   "outputs": [
    {
     "name": "stdout",
     "output_type": "stream",
     "text": [
      "SStuBs Kurtosis: 199.9706992380031\n",
      "Fix Kurtosis: 23.386476567966078\n"
     ]
    }
   ],
   "source": [
    "print(f'SStuBs Kurtosis: {stat_df.depth.kurt()}')\n",
    "print(f'Fix Kurtosis: {fix_df.depth.kurt()}')"
   ]
  },
  {
   "cell_type": "markdown",
   "metadata": {
    "pycharm": {
     "name": "#%% md\n"
    }
   },
   "source": [
    "## Bug Type Wise Exploration\n"
   ]
  },
  {
   "cell_type": "markdown",
   "metadata": {},
   "source": [
    "### Description"
   ]
  },
  {
   "cell_type": "code",
   "execution_count": 12,
   "metadata": {
    "pycharm": {
     "name": "#%%\n"
    }
   },
   "outputs": [
    {
     "data": {
      "text/plain": "                              count   mean    std  min  50%  75%  85%  95%  \\\ntype                                                                         \nChange Identifier Used       1535.0  1.889  0.859  1.0  2.0  2.0  2.0  3.0   \nWrong Function Name          1103.0  1.987  0.886  1.0  2.0  2.0  2.0  4.0   \nChange Numeric Literal        457.0  1.939  0.820  1.0  2.0  3.0  3.0  3.0   \nChange Modifier               408.0  1.748  1.732  1.0  1.0  2.0  2.0  4.0   \nSame Function More Args       331.0  1.290  0.480  1.0  1.0  2.0  2.0  2.0   \nSame Function Less Args       186.0  1.629  0.517  1.0  2.0  2.0  2.0  2.0   \nChange Binary Operator        156.0  1.545  0.525  1.0  2.0  2.0  2.0  2.0   \nChange Boolean Literal        100.0  1.510  0.522  1.0  1.5  2.0  2.0  2.0   \nMore Specific If               84.0  1.476  0.526  1.0  1.0  2.0  2.0  2.0   \nLess Specific If               74.0  1.473  0.579  1.0  1.0  2.0  2.0  2.0   \nSame Function Change Caller    59.0  1.627  0.667  1.0  2.0  2.0  2.0  3.0   \nChange Unary Operator          44.0  1.568  0.545  1.0  2.0  2.0  2.0  2.0   \nChange Operand                 27.0  1.481  0.580  1.0  1.0  2.0  2.0  2.0   \nSame Function Swap Args        19.0  1.684  0.478  1.0  2.0  2.0  2.0  2.0   \nMissing Throws Exception        6.0  1.500  0.548  1.0  1.5  2.0  2.0  2.0   \nDelete Throws Exception         4.0  1.500  0.577  1.0  1.5  2.0  2.0  2.0   \n\n                              max  \ntype                               \nChange Identifier Used        8.0  \nWrong Function Name           8.0  \nChange Numeric Literal        4.0  \nChange Modifier              12.0  \nSame Function More Args       3.0  \nSame Function Less Args       3.0  \nChange Binary Operator        3.0  \nChange Boolean Literal        3.0  \nMore Specific If              3.0  \nLess Specific If              3.0  \nSame Function Change Caller   3.0  \nChange Unary Operator         3.0  \nChange Operand                3.0  \nSame Function Swap Args       2.0  \nMissing Throws Exception      2.0  \nDelete Throws Exception       2.0  ",
      "text/html": "<div>\n<style scoped>\n    .dataframe tbody tr th:only-of-type {\n        vertical-align: middle;\n    }\n\n    .dataframe tbody tr th {\n        vertical-align: top;\n    }\n\n    .dataframe thead th {\n        text-align: right;\n    }\n</style>\n<table border=\"1\" class=\"dataframe\">\n  <thead>\n    <tr style=\"text-align: right;\">\n      <th></th>\n      <th>count</th>\n      <th>mean</th>\n      <th>std</th>\n      <th>min</th>\n      <th>50%</th>\n      <th>75%</th>\n      <th>85%</th>\n      <th>95%</th>\n      <th>max</th>\n    </tr>\n    <tr>\n      <th>type</th>\n      <th></th>\n      <th></th>\n      <th></th>\n      <th></th>\n      <th></th>\n      <th></th>\n      <th></th>\n      <th></th>\n      <th></th>\n    </tr>\n  </thead>\n  <tbody>\n    <tr>\n      <th>Change Identifier Used</th>\n      <td>1535.0</td>\n      <td>1.889</td>\n      <td>0.859</td>\n      <td>1.0</td>\n      <td>2.0</td>\n      <td>2.0</td>\n      <td>2.0</td>\n      <td>3.0</td>\n      <td>8.0</td>\n    </tr>\n    <tr>\n      <th>Wrong Function Name</th>\n      <td>1103.0</td>\n      <td>1.987</td>\n      <td>0.886</td>\n      <td>1.0</td>\n      <td>2.0</td>\n      <td>2.0</td>\n      <td>2.0</td>\n      <td>4.0</td>\n      <td>8.0</td>\n    </tr>\n    <tr>\n      <th>Change Numeric Literal</th>\n      <td>457.0</td>\n      <td>1.939</td>\n      <td>0.820</td>\n      <td>1.0</td>\n      <td>2.0</td>\n      <td>3.0</td>\n      <td>3.0</td>\n      <td>3.0</td>\n      <td>4.0</td>\n    </tr>\n    <tr>\n      <th>Change Modifier</th>\n      <td>408.0</td>\n      <td>1.748</td>\n      <td>1.732</td>\n      <td>1.0</td>\n      <td>1.0</td>\n      <td>2.0</td>\n      <td>2.0</td>\n      <td>4.0</td>\n      <td>12.0</td>\n    </tr>\n    <tr>\n      <th>Same Function More Args</th>\n      <td>331.0</td>\n      <td>1.290</td>\n      <td>0.480</td>\n      <td>1.0</td>\n      <td>1.0</td>\n      <td>2.0</td>\n      <td>2.0</td>\n      <td>2.0</td>\n      <td>3.0</td>\n    </tr>\n    <tr>\n      <th>Same Function Less Args</th>\n      <td>186.0</td>\n      <td>1.629</td>\n      <td>0.517</td>\n      <td>1.0</td>\n      <td>2.0</td>\n      <td>2.0</td>\n      <td>2.0</td>\n      <td>2.0</td>\n      <td>3.0</td>\n    </tr>\n    <tr>\n      <th>Change Binary Operator</th>\n      <td>156.0</td>\n      <td>1.545</td>\n      <td>0.525</td>\n      <td>1.0</td>\n      <td>2.0</td>\n      <td>2.0</td>\n      <td>2.0</td>\n      <td>2.0</td>\n      <td>3.0</td>\n    </tr>\n    <tr>\n      <th>Change Boolean Literal</th>\n      <td>100.0</td>\n      <td>1.510</td>\n      <td>0.522</td>\n      <td>1.0</td>\n      <td>1.5</td>\n      <td>2.0</td>\n      <td>2.0</td>\n      <td>2.0</td>\n      <td>3.0</td>\n    </tr>\n    <tr>\n      <th>More Specific If</th>\n      <td>84.0</td>\n      <td>1.476</td>\n      <td>0.526</td>\n      <td>1.0</td>\n      <td>1.0</td>\n      <td>2.0</td>\n      <td>2.0</td>\n      <td>2.0</td>\n      <td>3.0</td>\n    </tr>\n    <tr>\n      <th>Less Specific If</th>\n      <td>74.0</td>\n      <td>1.473</td>\n      <td>0.579</td>\n      <td>1.0</td>\n      <td>1.0</td>\n      <td>2.0</td>\n      <td>2.0</td>\n      <td>2.0</td>\n      <td>3.0</td>\n    </tr>\n    <tr>\n      <th>Same Function Change Caller</th>\n      <td>59.0</td>\n      <td>1.627</td>\n      <td>0.667</td>\n      <td>1.0</td>\n      <td>2.0</td>\n      <td>2.0</td>\n      <td>2.0</td>\n      <td>3.0</td>\n      <td>3.0</td>\n    </tr>\n    <tr>\n      <th>Change Unary Operator</th>\n      <td>44.0</td>\n      <td>1.568</td>\n      <td>0.545</td>\n      <td>1.0</td>\n      <td>2.0</td>\n      <td>2.0</td>\n      <td>2.0</td>\n      <td>2.0</td>\n      <td>3.0</td>\n    </tr>\n    <tr>\n      <th>Change Operand</th>\n      <td>27.0</td>\n      <td>1.481</td>\n      <td>0.580</td>\n      <td>1.0</td>\n      <td>1.0</td>\n      <td>2.0</td>\n      <td>2.0</td>\n      <td>2.0</td>\n      <td>3.0</td>\n    </tr>\n    <tr>\n      <th>Same Function Swap Args</th>\n      <td>19.0</td>\n      <td>1.684</td>\n      <td>0.478</td>\n      <td>1.0</td>\n      <td>2.0</td>\n      <td>2.0</td>\n      <td>2.0</td>\n      <td>2.0</td>\n      <td>2.0</td>\n    </tr>\n    <tr>\n      <th>Missing Throws Exception</th>\n      <td>6.0</td>\n      <td>1.500</td>\n      <td>0.548</td>\n      <td>1.0</td>\n      <td>1.5</td>\n      <td>2.0</td>\n      <td>2.0</td>\n      <td>2.0</td>\n      <td>2.0</td>\n    </tr>\n    <tr>\n      <th>Delete Throws Exception</th>\n      <td>4.0</td>\n      <td>1.500</td>\n      <td>0.577</td>\n      <td>1.0</td>\n      <td>1.5</td>\n      <td>2.0</td>\n      <td>2.0</td>\n      <td>2.0</td>\n      <td>2.0</td>\n    </tr>\n  </tbody>\n</table>\n</div>"
     },
     "execution_count": 12,
     "metadata": {},
     "output_type": "execute_result"
    }
   ],
   "source": [
    "fix_df.groupby(by='type').depth\\\n",
    "    .describe(percentiles=[.75, .85, .95])\\\n",
    "    .sort_values('count', ascending=False)"
   ]
  },
  {
   "cell_type": "code",
   "execution_count": 13,
   "outputs": [],
   "source": [
    "VIP_TYPES = [\n",
    "    'Change Identifier Used',\n",
    "    'Wrong Function Name',\n",
    "    'Change Numeric Literal',\n",
    "    'Change Modifier',\n",
    "]"
   ],
   "metadata": {
    "collapsed": false,
    "pycharm": {
     "name": "#%%\n"
    }
   }
  },
  {
   "cell_type": "markdown",
   "source": [
    "### Boxplot"
   ],
   "metadata": {
    "collapsed": false,
    "pycharm": {
     "name": "#%% md\n"
    }
   }
  },
  {
   "cell_type": "code",
   "execution_count": 14,
   "outputs": [
    {
     "data": {
      "text/plain": "<AxesSubplot:title={'center':'depth'}, xlabel='type'>"
     },
     "execution_count": 14,
     "metadata": {},
     "output_type": "execute_result"
    },
    {
     "data": {
      "text/plain": "<Figure size 432x288 with 1 Axes>",
      "image/png": "[encoded data removed]"
     },
     "metadata": {
      "needs_background": "light"
     },
     "output_type": "display_data"
    }
   ],
   "source": [
    "fix_df.boxplot(by='type', column=['depth'], vert=False)"
   ],
   "metadata": {
    "collapsed": false,
    "pycharm": {
     "name": "#%%\n"
    }
   }
  },
  {
   "cell_type": "code",
   "execution_count": 15,
   "outputs": [
    {
     "data": {
      "text/plain": "<AxesSubplot:title={'center':'depth'}, xlabel='type'>"
     },
     "execution_count": 15,
     "metadata": {},
     "output_type": "execute_result"
    },
    {
     "data": {
      "text/plain": "<Figure size 720x288 with 1 Axes>",
      "image/png": "[encoded data removed]"
     },
     "metadata": {
      "needs_background": "light"
     },
     "output_type": "display_data"
    }
   ],
   "source": [
    "fix_df[fix_df.type.isin(VIP_TYPES)]\\\n",
    "    .boxplot(by='type', column='depth', vert=False, figsize=(10, 4))"
   ],
   "metadata": {
    "collapsed": false,
    "pycharm": {
     "name": "#%%\n"
    }
   }
  },
  {
   "cell_type": "markdown",
   "metadata": {
    "pycharm": {
     "name": "#%% md\n"
    }
   },
   "source": [
    "### Histogram"
   ]
  },
  {
   "cell_type": "code",
   "execution_count": 16,
   "outputs": [],
   "source": [
    "def plot_hist(sharey = True, legend=False, dense=True):\n",
    "    color = '#0092A6'\n",
    "    font_size = 14\n",
    "    axes = fix_df[fix_df.type.isin(VIP_TYPES)].hist(\n",
    "        column='depth',\n",
    "        by='type',\n",
    "        log=True,\n",
    "        bins=[i+1 for i in range(11)],\n",
    "        sharey=sharey,\n",
    "        layout=(-1, 4),\n",
    "        figsize=(16 if dense else 20, 3),\n",
    "        color=color,\n",
    "        xlabelsize=font_size,\n",
    "        ylabelsize=font_size,\n",
    "        legend=legend,\n",
    "    )\n",
    "\n",
    "    for ax in axes:\n",
    "        ax.set_xlabel('Depth')\n",
    "        ax.xaxis.label.set_color(color)\n",
    "        ax.xaxis.label.set_fontsize(font_size)\n",
    "        ax.set_ylabel('Occurrence')\n",
    "        ax.yaxis.label.set_color(color)\n",
    "        ax.yaxis.label.set_fontsize(font_size)\n",
    "        ax.title.set_color(color)\n",
    "        ax.title.set_fontsize(font_size)\n",
    "        ax.tick_params(axis='x', colors=color)\n",
    "        ax.tick_params(axis='y', colors=color)\n",
    "\n",
    "    return axes"
   ],
   "metadata": {
    "collapsed": false,
    "pycharm": {
     "name": "#%%\n"
    }
   }
  },
  {
   "cell_type": "markdown",
   "metadata": {
    "pycharm": {
     "name": "#%% md\n"
    }
   },
   "source": [
    "#### Same Height\n",
    "> In the following plots, all histograms will have the same height.\n",
    "> This will help to compare how refixes are distributed among all bug-types."
   ]
  },
  {
   "cell_type": "code",
   "execution_count": 17,
   "metadata": {
    "pycharm": {
     "name": "#%%\n"
    }
   },
   "outputs": [
    {
     "data": {
      "text/plain": "array([<AxesSubplot:title={'center':'Change Identifier Used'}, xlabel='Depth', ylabel='Occurrence'>,\n       <AxesSubplot:title={'center':'Change Modifier'}, xlabel='Depth', ylabel='Occurrence'>,\n       <AxesSubplot:title={'center':'Change Numeric Literal'}, xlabel='Depth', ylabel='Occurrence'>,\n       <AxesSubplot:title={'center':'Wrong Function Name'}, xlabel='Depth', ylabel='Occurrence'>],\n      dtype=object)"
     },
     "execution_count": 17,
     "metadata": {},
     "output_type": "execute_result"
    },
    {
     "data": {
      "text/plain": "<Figure size 1152x216 with 4 Axes>",
      "image/png": "[encoded data removed]"
     },
     "metadata": {
      "needs_background": "light"
     },
     "output_type": "display_data"
    }
   ],
   "source": [
    "plot_hist(sharey=True)"
   ]
  },
  {
   "cell_type": "markdown",
   "metadata": {
    "pycharm": {
     "name": "#%% md\n"
    }
   },
   "source": [
    "#### Variable Height\n",
    "> In the following plots, all histograms will have a height based on the\n",
    "> amount of data inside the group.\n",
    "> This will help to analyze how different refix lengths are distributed\n",
    "> inside a single bug-type"
   ]
  },
  {
   "cell_type": "code",
   "execution_count": 18,
   "metadata": {
    "pycharm": {
     "name": "#%%\n"
    }
   },
   "outputs": [
    {
     "data": {
      "text/plain": "array([<AxesSubplot:title={'center':'Change Identifier Used'}, xlabel='Depth', ylabel='Occurrence'>,\n       <AxesSubplot:title={'center':'Change Modifier'}, xlabel='Depth', ylabel='Occurrence'>,\n       <AxesSubplot:title={'center':'Change Numeric Literal'}, xlabel='Depth', ylabel='Occurrence'>,\n       <AxesSubplot:title={'center':'Wrong Function Name'}, xlabel='Depth', ylabel='Occurrence'>],\n      dtype=object)"
     },
     "execution_count": 18,
     "metadata": {},
     "output_type": "execute_result"
    },
    {
     "data": {
      "text/plain": "<Figure size 1440x216 with 4 Axes>",
      "image/png": "[encoded data removed]"
     },
     "metadata": {
      "needs_background": "light"
     },
     "output_type": "display_data"
    }
   ],
   "source": [
    "plot_hist(sharey=False, dense=False)"
   ]
  },
  {
   "cell_type": "markdown",
   "metadata": {
    "pycharm": {
     "name": "#%% md\n"
    }
   },
   "source": [
    "### Central Tendency"
   ]
  },
  {
   "cell_type": "code",
   "execution_count": 19,
   "metadata": {
    "pycharm": {
     "name": "#%%\n"
    }
   },
   "outputs": [
    {
     "data": {
      "text/plain": "                              mean  hmean  gmean\ntype                                            \nWrong Function Name          1.987  1.698  1.834\nChange Numeric Literal       1.939  1.589  1.759\nChange Identifier Used       1.889  1.602  1.736\nChange Modifier              1.748  1.275  1.420\nSame Function Swap Args      1.684  1.520  1.607\nSame Function Less Args      1.629  1.447  1.539\nSame Function Change Caller  1.627  1.388  1.500\nChange Unary Operator        1.568  1.382  1.473\nChange Binary Operator       1.545  1.366  1.454\nChange Boolean Literal       1.510  1.336  1.420\nDelete Throws Exception      1.500  1.333  1.414\nMissing Throws Exception     1.500  1.333  1.414\nChange Operand               1.481  1.296  1.381\nMore Specific If             1.476  1.306  1.386\nLess Specific If             1.473  1.287  1.372\nSame Function More Args      1.290  1.164  1.218",
      "text/html": "<div>\n<style scoped>\n    .dataframe tbody tr th:only-of-type {\n        vertical-align: middle;\n    }\n\n    .dataframe tbody tr th {\n        vertical-align: top;\n    }\n\n    .dataframe thead th {\n        text-align: right;\n    }\n</style>\n<table border=\"1\" class=\"dataframe\">\n  <thead>\n    <tr style=\"text-align: right;\">\n      <th></th>\n      <th>mean</th>\n      <th>hmean</th>\n      <th>gmean</th>\n    </tr>\n    <tr>\n      <th>type</th>\n      <th></th>\n      <th></th>\n      <th></th>\n    </tr>\n  </thead>\n  <tbody>\n    <tr>\n      <th>Wrong Function Name</th>\n      <td>1.987</td>\n      <td>1.698</td>\n      <td>1.834</td>\n    </tr>\n    <tr>\n      <th>Change Numeric Literal</th>\n      <td>1.939</td>\n      <td>1.589</td>\n      <td>1.759</td>\n    </tr>\n    <tr>\n      <th>Change Identifier Used</th>\n      <td>1.889</td>\n      <td>1.602</td>\n      <td>1.736</td>\n    </tr>\n    <tr>\n      <th>Change Modifier</th>\n      <td>1.748</td>\n      <td>1.275</td>\n      <td>1.420</td>\n    </tr>\n    <tr>\n      <th>Same Function Swap Args</th>\n      <td>1.684</td>\n      <td>1.520</td>\n      <td>1.607</td>\n    </tr>\n    <tr>\n      <th>Same Function Less Args</th>\n      <td>1.629</td>\n      <td>1.447</td>\n      <td>1.539</td>\n    </tr>\n    <tr>\n      <th>Same Function Change Caller</th>\n      <td>1.627</td>\n      <td>1.388</td>\n      <td>1.500</td>\n    </tr>\n    <tr>\n      <th>Change Unary Operator</th>\n      <td>1.568</td>\n      <td>1.382</td>\n      <td>1.473</td>\n    </tr>\n    <tr>\n      <th>Change Binary Operator</th>\n      <td>1.545</td>\n      <td>1.366</td>\n      <td>1.454</td>\n    </tr>\n    <tr>\n      <th>Change Boolean Literal</th>\n      <td>1.510</td>\n      <td>1.336</td>\n      <td>1.420</td>\n    </tr>\n    <tr>\n      <th>Delete Throws Exception</th>\n      <td>1.500</td>\n      <td>1.333</td>\n      <td>1.414</td>\n    </tr>\n    <tr>\n      <th>Missing Throws Exception</th>\n      <td>1.500</td>\n      <td>1.333</td>\n      <td>1.414</td>\n    </tr>\n    <tr>\n      <th>Change Operand</th>\n      <td>1.481</td>\n      <td>1.296</td>\n      <td>1.381</td>\n    </tr>\n    <tr>\n      <th>More Specific If</th>\n      <td>1.476</td>\n      <td>1.306</td>\n      <td>1.386</td>\n    </tr>\n    <tr>\n      <th>Less Specific If</th>\n      <td>1.473</td>\n      <td>1.287</td>\n      <td>1.372</td>\n    </tr>\n    <tr>\n      <th>Same Function More Args</th>\n      <td>1.290</td>\n      <td>1.164</td>\n      <td>1.218</td>\n    </tr>\n  </tbody>\n</table>\n</div>"
     },
     "execution_count": 19,
     "metadata": {},
     "output_type": "execute_result"
    }
   ],
   "source": [
    "central_tendency_df = fix_df.groupby('type').depth\\\n",
    "    .agg(['mean', stats.hmean, stats.gmean])\\\n",
    "    .sort_values('mean', ascending=False)\n",
    "central_tendency_df"
   ]
  },
  {
   "cell_type": "markdown",
   "metadata": {
    "pycharm": {
     "name": "#%% md\n"
    }
   },
   "source": [
    "### Variance"
   ]
  },
  {
   "cell_type": "code",
   "execution_count": 20,
   "metadata": {
    "pycharm": {
     "name": "#%%\n"
    }
   },
   "outputs": [
    {
     "data": {
      "text/plain": "                               var    std  min  max\ntype                                               \nChange Modifier              3.000  1.732    1   12\nWrong Function Name          0.786  0.886    1    8\nChange Identifier Used       0.737  0.859    1    8\nChange Numeric Literal       0.672  0.820    1    4\nSame Function Change Caller  0.445  0.667    1    3\nChange Operand               0.336  0.580    1    3\nLess Specific If             0.335  0.579    1    3\nDelete Throws Exception      0.333  0.577    1    2\nMissing Throws Exception     0.300  0.548    1    2\nChange Unary Operator        0.298  0.545    1    3\nMore Specific If             0.277  0.526    1    3\nChange Binary Operator       0.275  0.525    1    3\nChange Boolean Literal       0.273  0.522    1    3\nSame Function Less Args      0.267  0.517    1    3\nSame Function More Args      0.231  0.480    1    3\nSame Function Swap Args      0.228  0.478    1    2",
      "text/html": "<div>\n<style scoped>\n    .dataframe tbody tr th:only-of-type {\n        vertical-align: middle;\n    }\n\n    .dataframe tbody tr th {\n        vertical-align: top;\n    }\n\n    .dataframe thead th {\n        text-align: right;\n    }\n</style>\n<table border=\"1\" class=\"dataframe\">\n  <thead>\n    <tr style=\"text-align: right;\">\n      <th></th>\n      <th>var</th>\n      <th>std</th>\n      <th>min</th>\n      <th>max</th>\n    </tr>\n    <tr>\n      <th>type</th>\n      <th></th>\n      <th></th>\n      <th></th>\n      <th></th>\n    </tr>\n  </thead>\n  <tbody>\n    <tr>\n      <th>Change Modifier</th>\n      <td>3.000</td>\n      <td>1.732</td>\n      <td>1</td>\n      <td>12</td>\n    </tr>\n    <tr>\n      <th>Wrong Function Name</th>\n      <td>0.786</td>\n      <td>0.886</td>\n      <td>1</td>\n      <td>8</td>\n    </tr>\n    <tr>\n      <th>Change Identifier Used</th>\n      <td>0.737</td>\n      <td>0.859</td>\n      <td>1</td>\n      <td>8</td>\n    </tr>\n    <tr>\n      <th>Change Numeric Literal</th>\n      <td>0.672</td>\n      <td>0.820</td>\n      <td>1</td>\n      <td>4</td>\n    </tr>\n    <tr>\n      <th>Same Function Change Caller</th>\n      <td>0.445</td>\n      <td>0.667</td>\n      <td>1</td>\n      <td>3</td>\n    </tr>\n    <tr>\n      <th>Change Operand</th>\n      <td>0.336</td>\n      <td>0.580</td>\n      <td>1</td>\n      <td>3</td>\n    </tr>\n    <tr>\n      <th>Less Specific If</th>\n      <td>0.335</td>\n      <td>0.579</td>\n      <td>1</td>\n      <td>3</td>\n    </tr>\n    <tr>\n      <th>Delete Throws Exception</th>\n      <td>0.333</td>\n      <td>0.577</td>\n      <td>1</td>\n      <td>2</td>\n    </tr>\n    <tr>\n      <th>Missing Throws Exception</th>\n      <td>0.300</td>\n      <td>0.548</td>\n      <td>1</td>\n      <td>2</td>\n    </tr>\n    <tr>\n      <th>Change Unary Operator</th>\n      <td>0.298</td>\n      <td>0.545</td>\n      <td>1</td>\n      <td>3</td>\n    </tr>\n    <tr>\n      <th>More Specific If</th>\n      <td>0.277</td>\n      <td>0.526</td>\n      <td>1</td>\n      <td>3</td>\n    </tr>\n    <tr>\n      <th>Change Binary Operator</th>\n      <td>0.275</td>\n      <td>0.525</td>\n      <td>1</td>\n      <td>3</td>\n    </tr>\n    <tr>\n      <th>Change Boolean Literal</th>\n      <td>0.273</td>\n      <td>0.522</td>\n      <td>1</td>\n      <td>3</td>\n    </tr>\n    <tr>\n      <th>Same Function Less Args</th>\n      <td>0.267</td>\n      <td>0.517</td>\n      <td>1</td>\n      <td>3</td>\n    </tr>\n    <tr>\n      <th>Same Function More Args</th>\n      <td>0.231</td>\n      <td>0.480</td>\n      <td>1</td>\n      <td>3</td>\n    </tr>\n    <tr>\n      <th>Same Function Swap Args</th>\n      <td>0.228</td>\n      <td>0.478</td>\n      <td>1</td>\n      <td>2</td>\n    </tr>\n  </tbody>\n</table>\n</div>"
     },
     "execution_count": 20,
     "metadata": {},
     "output_type": "execute_result"
    }
   ],
   "source": [
    "variance_df = fix_df.groupby('type').depth\\\n",
    "    .agg(['var', 'std', 'min', 'max'])\\\n",
    "    .sort_values('var', ascending=False)\n",
    "variance_df"
   ]
  },
  {
   "cell_type": "markdown",
   "metadata": {
    "pycharm": {
     "name": "#%% md\n"
    }
   },
   "source": [
    "### Symmetry"
   ]
  },
  {
   "cell_type": "code",
   "execution_count": 21,
   "metadata": {
    "pycharm": {
     "name": "#%%\n"
    }
   },
   "outputs": [
    {
     "data": {
      "text/plain": "                             count   skew    kurt\ntype                                             \nChange Modifier                408  3.989  16.920\nWrong Function Name           1103  2.429  10.028\nChange Identifier Used        1535  2.336   9.841\nSame Function More Args        331  1.256   0.348\nLess Specific If                74  0.762  -0.389\nChange Operand                  27  0.716  -0.413\nSame Function Change Caller     59  0.597  -0.636\nMore Specific If                84  0.351  -1.322\nChange Numeric Literal         457  0.258  -1.105\nChange Boolean Literal         100  0.177  -1.485\nChange Unary Operator           44  0.168  -1.081\nChange Binary Operator         156  0.090  -1.390\nDelete Throws Exception          4  0.000  -6.000\nMissing Throws Exception         6  0.000  -3.333\nSame Function Less Args        186 -0.179  -1.172\nSame Function Swap Args         19 -0.862  -1.419",
      "text/html": "<div>\n<style scoped>\n    .dataframe tbody tr th:only-of-type {\n        vertical-align: middle;\n    }\n\n    .dataframe tbody tr th {\n        vertical-align: top;\n    }\n\n    .dataframe thead th {\n        text-align: right;\n    }\n</style>\n<table border=\"1\" class=\"dataframe\">\n  <thead>\n    <tr style=\"text-align: right;\">\n      <th></th>\n      <th>count</th>\n      <th>skew</th>\n      <th>kurt</th>\n    </tr>\n    <tr>\n      <th>type</th>\n      <th></th>\n      <th></th>\n      <th></th>\n    </tr>\n  </thead>\n  <tbody>\n    <tr>\n      <th>Change Modifier</th>\n      <td>408</td>\n      <td>3.989</td>\n      <td>16.920</td>\n    </tr>\n    <tr>\n      <th>Wrong Function Name</th>\n      <td>1103</td>\n      <td>2.429</td>\n      <td>10.028</td>\n    </tr>\n    <tr>\n      <th>Change Identifier Used</th>\n      <td>1535</td>\n      <td>2.336</td>\n      <td>9.841</td>\n    </tr>\n    <tr>\n      <th>Same Function More Args</th>\n      <td>331</td>\n      <td>1.256</td>\n      <td>0.348</td>\n    </tr>\n    <tr>\n      <th>Less Specific If</th>\n      <td>74</td>\n      <td>0.762</td>\n      <td>-0.389</td>\n    </tr>\n    <tr>\n      <th>Change Operand</th>\n      <td>27</td>\n      <td>0.716</td>\n      <td>-0.413</td>\n    </tr>\n    <tr>\n      <th>Same Function Change Caller</th>\n      <td>59</td>\n      <td>0.597</td>\n      <td>-0.636</td>\n    </tr>\n    <tr>\n      <th>More Specific If</th>\n      <td>84</td>\n      <td>0.351</td>\n      <td>-1.322</td>\n    </tr>\n    <tr>\n      <th>Change Numeric Literal</th>\n      <td>457</td>\n      <td>0.258</td>\n      <td>-1.105</td>\n    </tr>\n    <tr>\n      <th>Change Boolean Literal</th>\n      <td>100</td>\n      <td>0.177</td>\n      <td>-1.485</td>\n    </tr>\n    <tr>\n      <th>Change Unary Operator</th>\n      <td>44</td>\n      <td>0.168</td>\n      <td>-1.081</td>\n    </tr>\n    <tr>\n      <th>Change Binary Operator</th>\n      <td>156</td>\n      <td>0.090</td>\n      <td>-1.390</td>\n    </tr>\n    <tr>\n      <th>Delete Throws Exception</th>\n      <td>4</td>\n      <td>0.000</td>\n      <td>-6.000</td>\n    </tr>\n    <tr>\n      <th>Missing Throws Exception</th>\n      <td>6</td>\n      <td>0.000</td>\n      <td>-3.333</td>\n    </tr>\n    <tr>\n      <th>Same Function Less Args</th>\n      <td>186</td>\n      <td>-0.179</td>\n      <td>-1.172</td>\n    </tr>\n    <tr>\n      <th>Same Function Swap Args</th>\n      <td>19</td>\n      <td>-0.862</td>\n      <td>-1.419</td>\n    </tr>\n  </tbody>\n</table>\n</div>"
     },
     "execution_count": 21,
     "metadata": {},
     "output_type": "execute_result"
    }
   ],
   "source": [
    "symmetry_df = fix_df.groupby('type').depth\\\n",
    "    .agg(['count', 'skew', pd.Series.kurt])\\\n",
    "    .sort_values('skew', ascending=False)\n",
    "symmetry_df"
   ]
  },
  {
   "cell_type": "code",
   "execution_count": 21,
   "metadata": {
    "pycharm": {
     "name": "#%%\n"
    }
   },
   "outputs": [],
   "source": []
  }
 ],
 "metadata": {
  "kernelspec": {
   "display_name": "Python 3",
   "language": "python",
   "name": "python3"
  },
  "language_info": {
   "codemirror_mode": {
    "name": "ipython",
    "version": 3
   },
   "file_extension": ".py",
   "mimetype": "text/x-python",
   "name": "python",
   "nbconvert_exporter": "python",
   "pygments_lexer": "ipython3",
   "version": "3.8.5"
  }
 },
 "nbformat": 4,
 "nbformat_minor": 1
}
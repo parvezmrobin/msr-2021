{
 "cells": [
  {
   "cell_type": "markdown",
   "metadata": {
    "collapsed": true,
    "pycharm": {
     "name": "#%% md\n"
    }
   },
   "source": [
    "# Statistical Analysis"
   ]
  },
  {
   "cell_type": "code",
   "execution_count": 1,
   "metadata": {
    "pycharm": {
     "name": "#%%\n"
    }
   },
   "outputs": [],
   "source": [
    "import numpy as np\n",
    "from scipy import stats\n",
    "import pandas as pd\n",
    "import sqlite3"
   ]
  },
  {
   "cell_type": "code",
   "execution_count": 2,
   "metadata": {
    "pycharm": {
     "name": "#%%\n"
    }
   },
   "outputs": [],
   "source": [
    "pd.set_option('precision', 3)"
   ]
  },
  {
   "cell_type": "code",
   "execution_count": 3,
   "metadata": {
    "pycharm": {
     "name": "#%%\n"
    }
   },
   "outputs": [],
   "source": [
    "cursor = sqlite3.connect('../database/sstubs.db').cursor()\n",
    "data = list(cursor.execute('SELECT * FROM sstubs_large'))\n",
    "columns = cursor.execute(\n",
    "    \"SELECT name FROM PRAGMA_TABLE_INFO('sstubs_large')\"\n",
    ")\n",
    "sstubs_df = pd.DataFrame(data=data, columns=[col for col, in columns])"
   ]
  },
  {
   "cell_type": "code",
   "execution_count": 4,
   "metadata": {
    "pycharm": {
     "name": "#%%\n"
    }
   },
   "outputs": [],
   "source": [
    "bugTypeMap = {\n",
    "    'CHANGE_MODIFIER': 'Change Modifier',\n",
    "    'CHANGE_NUMERAL': 'Change Numeric Literal',\n",
    "    'DIFFERENT_METHOD_SAME_ARGS': 'Wrong Function Name',\n",
    "    'CHANGE_IDENTIFIER': 'Change Identifier Used',\n",
    "\n",
    "    'CHANGE_CALLER_IN_FUNCTION_CALL': 'Same Function Change Caller',\n",
    "    'LESS_SPECIFIC_IF': 'Less Specific If',\n",
    "    'MORE_SPECIFIC_IF': 'More Specific If',\n",
    "    'CHANGE_OPERAND': 'Change Operand',\n",
    "\n",
    "    'SWAP_ARGUMENTS': 'Same Function Swap Args',\n",
    "    'OVERLOAD_METHOD_MORE_ARGS': 'Same Function More Args',\n",
    "    'OVERLOAD_METHOD_DELETED_ARGS': 'Same Function Less Args',\n",
    "    'CHANGE_OPERATOR': 'Change Binary Operator',\n",
    "\n",
    "    'CHANGE_UNARY_OPERATOR': 'Change Unary Operator',\n",
    "    'SWAP_BOOLEAN_LITERAL': 'Change Boolean Literal',\n",
    "    'ADD_THROWS_EXCEPTION': 'Missing Throws Exception',\n",
    "    'DELETE_THROWS_EXCEPTION': 'Delete Throws Exception',\n",
    "}\n",
    "\n",
    "sstubs_df['type'] = sstubs_df['type'].map(bugTypeMap)"
   ]
  },
  {
   "cell_type": "code",
   "execution_count": 5,
   "outputs": [
    {
     "data": {
      "text/plain": "parent              9d35cf00d8e3a28f8bacb48a9a16aeceb974325d\nchild               796f45d14550420d66e1ed28daefeb45874d195f\ntype                             Same Function Change Caller\nproject                                            ACRA.acra\nfile       acra-limiter/src/main/java/org/acra/config/Lim...\nline                                                      83\nbefore                               stacktrace.indexOf(':')\nafter                                 firstLine.indexOf(':')\nName: 0, dtype: object"
     },
     "execution_count": 5,
     "metadata": {},
     "output_type": "execute_result"
    }
   ],
   "source": [
    "sstubs_df.iloc[0]"
   ],
   "metadata": {
    "collapsed": false,
    "pycharm": {
     "name": "#%%\n"
    }
   }
  },
  {
   "cell_type": "code",
   "execution_count": 6,
   "metadata": {
    "pycharm": {
     "name": "#%%\n"
    }
   },
   "outputs": [],
   "source": [
    "sstubs_df = sstubs_df.merge(\n",
    "    right=pd.read_csv('../database/sstubs_large_distances.csv'),\n",
    "    left_on='child',\n",
    "    right_on='commit'\n",
    ")"
   ]
  },
  {
   "cell_type": "code",
   "execution_count": 7,
   "metadata": {
    "pycharm": {
     "name": "#%%\n"
    }
   },
   "outputs": [
    {
     "data": {
      "text/plain": "parent               9d35cf00d8e3a28f8bacb48a9a16aeceb974325d\nchild                796f45d14550420d66e1ed28daefeb45874d195f\ntype                              Same Function Change Caller\nproject                                             ACRA.acra\nfile        acra-limiter/src/main/java/org/acra/config/Lim...\nline                                                       83\nbefore                                stacktrace.indexOf(':')\nafter                                  firstLine.indexOf(':')\ncommit               796f45d14550420d66e1ed28daefeb45874d195f\ndistance                                                    1\nName: 0, dtype: object"
     },
     "execution_count": 7,
     "metadata": {},
     "output_type": "execute_result"
    }
   ],
   "source": [
    "sstubs_df.iloc[0]"
   ]
  },
  {
   "cell_type": "code",
   "execution_count": 8,
   "metadata": {
    "pycharm": {
     "name": "#%%\n"
    }
   },
   "outputs": [
    {
     "data": {
      "text/plain": "parent      9d35cf00d8e3a28f8bacb48a9a16aeceb974325d\nchild       796f45d14550420d66e1ed28daefeb45874d195f\ntype                     Same Function Change Caller\ndistance                                           1\nName: 0, dtype: object"
     },
     "execution_count": 8,
     "metadata": {},
     "output_type": "execute_result"
    }
   ],
   "source": [
    "stat_df = sstubs_df[['parent', 'child', 'type', 'distance']]\n",
    "fix_df = stat_df[stat_df.distance > 1]\n",
    "stat_df.iloc[0]"
   ]
  },
  {
   "cell_type": "code",
   "execution_count": 9,
   "metadata": {
    "pycharm": {
     "name": "#%%\n"
    }
   },
   "outputs": [
    {
     "name": "stdout",
     "output_type": "stream",
     "text": [
      "Total entries: 63,923\n",
      "Unique commits: 24,486\n",
      "Entries for refix paths: 2,881\n",
      "Unique commits in refix paths: 591\n"
     ]
    }
   ],
   "source": [
    "print(f'Total entries: {len(stat_df):,}')\n",
    "print(f'Unique commits: {len(stat_df.child.unique()):,}')\n",
    "print(f'Entries for refix paths: {len(fix_df):,}')\n",
    "print(f'Unique commits in refix paths: {len(fix_df.child.unique()):,}')"
   ]
  },
  {
   "cell_type": "markdown",
   "metadata": {
    "pycharm": {
     "name": "#%% md\n"
    }
   },
   "source": [
    "## General Exploration"
   ]
  },
  {
   "cell_type": "code",
   "execution_count": 10,
   "metadata": {
    "pycharm": {
     "name": "#%%\n"
    }
   },
   "outputs": [
    {
     "data": {
      "text/plain": "distance\n1     61042\n2      2408\n3       315\n4        86\n5        22\n6        20\n7        15\n8         3\n9         5\n10        2\n11        3\n12        2\ndtype: int64"
     },
     "execution_count": 10,
     "metadata": {},
     "output_type": "execute_result"
    }
   ],
   "source": [
    "stat_df.groupby('distance').agg('size')"
   ]
  },
  {
   "cell_type": "code",
   "execution_count": 11,
   "metadata": {
    "pycharm": {
     "name": "#%%\n"
    }
   },
   "outputs": [
    {
     "data": {
      "text/plain": "array([[<AxesSubplot:title={'center':'distance'}>]], dtype=object)"
     },
     "execution_count": 11,
     "metadata": {},
     "output_type": "execute_result"
    },
    {
     "data": {
      "text/plain": "<Figure size 432x288 with 1 Axes>",
      "image/png": "[encoded data removed]"
     },
     "metadata": {
      "needs_background": "light"
     },
     "output_type": "display_data"
    }
   ],
   "source": [
    "stat_df.hist(log=True)"
   ]
  },
  {
   "cell_type": "code",
   "execution_count": 12,
   "metadata": {
    "pycharm": {
     "name": "#%%\n"
    }
   },
   "outputs": [
    {
     "data": {
      "text/plain": "array([[<AxesSubplot:title={'center':'distance'}>]], dtype=object)"
     },
     "execution_count": 12,
     "metadata": {},
     "output_type": "execute_result"
    },
    {
     "data": {
      "text/plain": "<Figure size 432x288 with 1 Axes>",
      "image/png": "[encoded data removed]"
     },
     "metadata": {
      "needs_background": "light"
     },
     "output_type": "display_data"
    }
   ],
   "source": [
    "fix_df.hist(log=True)"
   ]
  },
  {
   "cell_type": "code",
   "execution_count": 13,
   "metadata": {
    "pycharm": {
     "name": "#%%\n"
    }
   },
   "outputs": [
    {
     "data": {
      "text/plain": "        distance\ncount  63923.000\nmean       1.058\nstd        0.326\nmin        1.000\n50%        1.000\n90%        1.000\n99%        2.000\n99.9%      5.000\nmax       12.000",
      "text/html": "<div>\n<style scoped>\n    .dataframe tbody tr th:only-of-type {\n        vertical-align: middle;\n    }\n\n    .dataframe tbody tr th {\n        vertical-align: top;\n    }\n\n    .dataframe thead th {\n        text-align: right;\n    }\n</style>\n<table border=\"1\" class=\"dataframe\">\n  <thead>\n    <tr style=\"text-align: right;\">\n      <th></th>\n      <th>distance</th>\n    </tr>\n  </thead>\n  <tbody>\n    <tr>\n      <th>count</th>\n      <td>63923.000</td>\n    </tr>\n    <tr>\n      <th>mean</th>\n      <td>1.058</td>\n    </tr>\n    <tr>\n      <th>std</th>\n      <td>0.326</td>\n    </tr>\n    <tr>\n      <th>min</th>\n      <td>1.000</td>\n    </tr>\n    <tr>\n      <th>50%</th>\n      <td>1.000</td>\n    </tr>\n    <tr>\n      <th>90%</th>\n      <td>1.000</td>\n    </tr>\n    <tr>\n      <th>99%</th>\n      <td>2.000</td>\n    </tr>\n    <tr>\n      <th>99.9%</th>\n      <td>5.000</td>\n    </tr>\n    <tr>\n      <th>max</th>\n      <td>12.000</td>\n    </tr>\n  </tbody>\n</table>\n</div>"
     },
     "execution_count": 13,
     "metadata": {},
     "output_type": "execute_result"
    }
   ],
   "source": [
    "stat_df.describe(percentiles=[.90, .99, .999])"
   ]
  },
  {
   "cell_type": "markdown",
   "metadata": {
    "pycharm": {
     "name": "#%% md\n"
    }
   },
   "source": [
    "> The min value for `distance` is `1`.\n",
    "> This is because `distance` is `0` for the commits without parents.\n",
    "> There is no dedicated row for such commits in `sstubs_large`."
   ]
  },
  {
   "cell_type": "code",
   "execution_count": 14,
   "metadata": {
    "pycharm": {
     "name": "#%%\n"
    }
   },
   "outputs": [
    {
     "data": {
      "text/plain": "       distance\ncount  2881.000\nmean      2.286\nstd       0.882\nmin       2.000\n50%       2.000\n82.5%     2.000\n90%       3.000\n99%       7.000\n99.9%    11.000\nmax      12.000",
      "text/html": "<div>\n<style scoped>\n    .dataframe tbody tr th:only-of-type {\n        vertical-align: middle;\n    }\n\n    .dataframe tbody tr th {\n        vertical-align: top;\n    }\n\n    .dataframe thead th {\n        text-align: right;\n    }\n</style>\n<table border=\"1\" class=\"dataframe\">\n  <thead>\n    <tr style=\"text-align: right;\">\n      <th></th>\n      <th>distance</th>\n    </tr>\n  </thead>\n  <tbody>\n    <tr>\n      <th>count</th>\n      <td>2881.000</td>\n    </tr>\n    <tr>\n      <th>mean</th>\n      <td>2.286</td>\n    </tr>\n    <tr>\n      <th>std</th>\n      <td>0.882</td>\n    </tr>\n    <tr>\n      <th>min</th>\n      <td>2.000</td>\n    </tr>\n    <tr>\n      <th>50%</th>\n      <td>2.000</td>\n    </tr>\n    <tr>\n      <th>82.5%</th>\n      <td>2.000</td>\n    </tr>\n    <tr>\n      <th>90%</th>\n      <td>3.000</td>\n    </tr>\n    <tr>\n      <th>99%</th>\n      <td>7.000</td>\n    </tr>\n    <tr>\n      <th>99.9%</th>\n      <td>11.000</td>\n    </tr>\n    <tr>\n      <th>max</th>\n      <td>12.000</td>\n    </tr>\n  </tbody>\n</table>\n</div>"
     },
     "execution_count": 14,
     "metadata": {},
     "output_type": "execute_result"
    }
   ],
   "source": [
    "fix_df.describe(percentiles=[.825, .90, .99, .999])"
   ]
  },
  {
   "cell_type": "code",
   "execution_count": 15,
   "metadata": {
    "pycharm": {
     "name": "#%%\n"
    }
   },
   "outputs": [
    {
     "name": "stdout",
     "output_type": "stream",
     "text": [
      "SStuBs Skewness: 10.805853473940637\n",
      "Fix Skewness: 5.2347588033480426\n"
     ]
    }
   ],
   "source": [
    "print(f'SStuBs Skewness: {stat_df.distance.skew()}')\n",
    "print(f'Fix Skewness: {fix_df.distance.skew()}')"
   ]
  },
  {
   "cell_type": "code",
   "execution_count": 16,
   "metadata": {
    "pycharm": {
     "name": "#%%\n"
    }
   },
   "outputs": [
    {
     "name": "stdout",
     "output_type": "stream",
     "text": [
      "SStuBs Kurtosis: 199.9706992380031\n",
      "Fix Kurtosis: 36.5528411726385\n"
     ]
    }
   ],
   "source": [
    "print(f'SStuBs Kurtosis: {stat_df.distance.kurt()}')\n",
    "print(f'Fix Kurtosis: {fix_df.distance.kurt()}')"
   ]
  },
  {
   "cell_type": "markdown",
   "metadata": {
    "pycharm": {
     "name": "#%% md\n"
    }
   },
   "source": [
    "## Bug Type Wise Exploration\n"
   ]
  },
  {
   "cell_type": "markdown",
   "metadata": {},
   "source": [
    "### Description"
   ]
  },
  {
   "cell_type": "code",
   "execution_count": 17,
   "metadata": {
    "pycharm": {
     "name": "#%%\n"
    }
   },
   "outputs": [
    {
     "data": {
      "text/plain": "                              count   mean    std  min  50%  75%  85%   95%  \\\ntype                                                                          \nChange Identifier Used       1086.0  2.257  0.762  2.0  2.0  2.0  2.0  4.00   \nWrong Function Name           849.0  2.283  0.801  2.0  2.0  2.0  3.0  4.00   \nChange Numeric Literal        295.0  2.454  0.538  2.0  2.0  3.0  3.0  3.00   \nChange Modifier               156.0  2.955  2.345  2.0  2.0  2.0  3.0  9.00   \nSame Function Less Args       114.0  2.026  0.161  2.0  2.0  2.0  2.0  2.00   \nSame Function More Args        92.0  2.043  0.205  2.0  2.0  2.0  2.0  2.00   \nChange Binary Operator         83.0  2.024  0.154  2.0  2.0  2.0  2.0  2.00   \nChange Boolean Literal         50.0  2.020  0.141  2.0  2.0  2.0  2.0  2.00   \nMore Specific If               39.0  2.026  0.160  2.0  2.0  2.0  2.0  2.00   \nLess Specific If               32.0  2.094  0.296  2.0  2.0  2.0  2.0  3.00   \nSame Function Change Caller    31.0  2.194  0.402  2.0  2.0  2.0  3.0  3.00   \nChange Unary Operator          24.0  2.042  0.204  2.0  2.0  2.0  2.0  2.00   \nSame Function Swap Args        13.0  2.000  0.000  2.0  2.0  2.0  2.0  2.00   \nChange Operand                 12.0  2.083  0.289  2.0  2.0  2.0  2.0  2.45   \nMissing Throws Exception        3.0  2.000  0.000  2.0  2.0  2.0  2.0  2.00   \nDelete Throws Exception         2.0  2.000  0.000  2.0  2.0  2.0  2.0  2.00   \n\n                              max  \ntype                               \nChange Identifier Used        8.0  \nWrong Function Name           8.0  \nChange Numeric Literal        4.0  \nChange Modifier              12.0  \nSame Function Less Args       3.0  \nSame Function More Args       3.0  \nChange Binary Operator        3.0  \nChange Boolean Literal        3.0  \nMore Specific If              3.0  \nLess Specific If              3.0  \nSame Function Change Caller   3.0  \nChange Unary Operator         3.0  \nSame Function Swap Args       2.0  \nChange Operand                3.0  \nMissing Throws Exception      2.0  \nDelete Throws Exception       2.0  ",
      "text/html": "<div>\n<style scoped>\n    .dataframe tbody tr th:only-of-type {\n        vertical-align: middle;\n    }\n\n    .dataframe tbody tr th {\n        vertical-align: top;\n    }\n\n    .dataframe thead th {\n        text-align: right;\n    }\n</style>\n<table border=\"1\" class=\"dataframe\">\n  <thead>\n    <tr style=\"text-align: right;\">\n      <th></th>\n      <th>count</th>\n      <th>mean</th>\n      <th>std</th>\n      <th>min</th>\n      <th>50%</th>\n      <th>75%</th>\n      <th>85%</th>\n      <th>95%</th>\n      <th>max</th>\n    </tr>\n    <tr>\n      <th>type</th>\n      <th></th>\n      <th></th>\n      <th></th>\n      <th></th>\n      <th></th>\n      <th></th>\n      <th></th>\n      <th></th>\n      <th></th>\n    </tr>\n  </thead>\n  <tbody>\n    <tr>\n      <th>Change Identifier Used</th>\n      <td>1086.0</td>\n      <td>2.257</td>\n      <td>0.762</td>\n      <td>2.0</td>\n      <td>2.0</td>\n      <td>2.0</td>\n      <td>2.0</td>\n      <td>4.00</td>\n      <td>8.0</td>\n    </tr>\n    <tr>\n      <th>Wrong Function Name</th>\n      <td>849.0</td>\n      <td>2.283</td>\n      <td>0.801</td>\n      <td>2.0</td>\n      <td>2.0</td>\n      <td>2.0</td>\n      <td>3.0</td>\n      <td>4.00</td>\n      <td>8.0</td>\n    </tr>\n    <tr>\n      <th>Change Numeric Literal</th>\n      <td>295.0</td>\n      <td>2.454</td>\n      <td>0.538</td>\n      <td>2.0</td>\n      <td>2.0</td>\n      <td>3.0</td>\n      <td>3.0</td>\n      <td>3.00</td>\n      <td>4.0</td>\n    </tr>\n    <tr>\n      <th>Change Modifier</th>\n      <td>156.0</td>\n      <td>2.955</td>\n      <td>2.345</td>\n      <td>2.0</td>\n      <td>2.0</td>\n      <td>2.0</td>\n      <td>3.0</td>\n      <td>9.00</td>\n      <td>12.0</td>\n    </tr>\n    <tr>\n      <th>Same Function Less Args</th>\n      <td>114.0</td>\n      <td>2.026</td>\n      <td>0.161</td>\n      <td>2.0</td>\n      <td>2.0</td>\n      <td>2.0</td>\n      <td>2.0</td>\n      <td>2.00</td>\n      <td>3.0</td>\n    </tr>\n    <tr>\n      <th>Same Function More Args</th>\n      <td>92.0</td>\n      <td>2.043</td>\n      <td>0.205</td>\n      <td>2.0</td>\n      <td>2.0</td>\n      <td>2.0</td>\n      <td>2.0</td>\n      <td>2.00</td>\n      <td>3.0</td>\n    </tr>\n    <tr>\n      <th>Change Binary Operator</th>\n      <td>83.0</td>\n      <td>2.024</td>\n      <td>0.154</td>\n      <td>2.0</td>\n      <td>2.0</td>\n      <td>2.0</td>\n      <td>2.0</td>\n      <td>2.00</td>\n      <td>3.0</td>\n    </tr>\n    <tr>\n      <th>Change Boolean Literal</th>\n      <td>50.0</td>\n      <td>2.020</td>\n      <td>0.141</td>\n      <td>2.0</td>\n      <td>2.0</td>\n      <td>2.0</td>\n      <td>2.0</td>\n      <td>2.00</td>\n      <td>3.0</td>\n    </tr>\n    <tr>\n      <th>More Specific If</th>\n      <td>39.0</td>\n      <td>2.026</td>\n      <td>0.160</td>\n      <td>2.0</td>\n      <td>2.0</td>\n      <td>2.0</td>\n      <td>2.0</td>\n      <td>2.00</td>\n      <td>3.0</td>\n    </tr>\n    <tr>\n      <th>Less Specific If</th>\n      <td>32.0</td>\n      <td>2.094</td>\n      <td>0.296</td>\n      <td>2.0</td>\n      <td>2.0</td>\n      <td>2.0</td>\n      <td>2.0</td>\n      <td>3.00</td>\n      <td>3.0</td>\n    </tr>\n    <tr>\n      <th>Same Function Change Caller</th>\n      <td>31.0</td>\n      <td>2.194</td>\n      <td>0.402</td>\n      <td>2.0</td>\n      <td>2.0</td>\n      <td>2.0</td>\n      <td>3.0</td>\n      <td>3.00</td>\n      <td>3.0</td>\n    </tr>\n    <tr>\n      <th>Change Unary Operator</th>\n      <td>24.0</td>\n      <td>2.042</td>\n      <td>0.204</td>\n      <td>2.0</td>\n      <td>2.0</td>\n      <td>2.0</td>\n      <td>2.0</td>\n      <td>2.00</td>\n      <td>3.0</td>\n    </tr>\n    <tr>\n      <th>Same Function Swap Args</th>\n      <td>13.0</td>\n      <td>2.000</td>\n      <td>0.000</td>\n      <td>2.0</td>\n      <td>2.0</td>\n      <td>2.0</td>\n      <td>2.0</td>\n      <td>2.00</td>\n      <td>2.0</td>\n    </tr>\n    <tr>\n      <th>Change Operand</th>\n      <td>12.0</td>\n      <td>2.083</td>\n      <td>0.289</td>\n      <td>2.0</td>\n      <td>2.0</td>\n      <td>2.0</td>\n      <td>2.0</td>\n      <td>2.45</td>\n      <td>3.0</td>\n    </tr>\n    <tr>\n      <th>Missing Throws Exception</th>\n      <td>3.0</td>\n      <td>2.000</td>\n      <td>0.000</td>\n      <td>2.0</td>\n      <td>2.0</td>\n      <td>2.0</td>\n      <td>2.0</td>\n      <td>2.00</td>\n      <td>2.0</td>\n    </tr>\n    <tr>\n      <th>Delete Throws Exception</th>\n      <td>2.0</td>\n      <td>2.000</td>\n      <td>0.000</td>\n      <td>2.0</td>\n      <td>2.0</td>\n      <td>2.0</td>\n      <td>2.0</td>\n      <td>2.00</td>\n      <td>2.0</td>\n    </tr>\n  </tbody>\n</table>\n</div>"
     },
     "execution_count": 17,
     "metadata": {},
     "output_type": "execute_result"
    }
   ],
   "source": [
    "describe_df = fix_df.groupby(by='type').distance\\\n",
    "    .describe(percentiles=[.75, .85, .95])\\\n",
    "    .sort_values('count', ascending=False)\n",
    "describe_df"
   ]
  },
  {
   "cell_type": "markdown",
   "metadata": {
    "pycharm": {
     "name": "#%% md\n"
    }
   },
   "source": [
    "### Histogram"
   ]
  },
  {
   "cell_type": "code",
   "execution_count": 18,
   "metadata": {
    "pycharm": {
     "name": "#%%\n"
    }
   },
   "outputs": [],
   "source": [
    "def plot_hist(sharey = True):\n",
    "    vip_types = [\n",
    "        'Change Identifier Used',\n",
    "        'Wrong Function Name',\n",
    "        'Change Numeric Literal',\n",
    "        'Change Modifier',\n",
    "    ]\n",
    "    color = '#0092A6'\n",
    "    axes = fix_df[fix_df.type.isin(vip_types)].hist(\n",
    "        column='distance',\n",
    "        by='type',\n",
    "        log=True,\n",
    "        bins=[i+2 for i in range(10)],\n",
    "        sharey=sharey,\n",
    "        layout=(-1, 4),\n",
    "        figsize=(15, 3),\n",
    "        color=color,\n",
    "        xlabelsize=16,\n",
    "        ylabelsize=16,\n",
    "    )\n",
    "\n",
    "    for ax in axes:\n",
    "        # for ax in row_ax:\n",
    "            ax.title.set_color(color)\n",
    "            ax.tick_params(axis='x', colors=color)\n",
    "            ax.tick_params(axis='y', colors=color)\n",
    "\n",
    "    return axes"
   ]
  },
  {
   "cell_type": "markdown",
   "metadata": {
    "pycharm": {
     "name": "#%% md\n"
    }
   },
   "source": [
    "#### Same Height\n",
    "> In the following plots, all histograms will have the same height.\n",
    "> This will help to compare how refixes are distributed among all bug-types."
   ]
  },
  {
   "cell_type": "code",
   "execution_count": 19,
   "metadata": {
    "pycharm": {
     "name": "#%%\n"
    }
   },
   "outputs": [
    {
     "data": {
      "text/plain": "array([<AxesSubplot:title={'center':'Change Identifier Used'}>,\n       <AxesSubplot:title={'center':'Change Modifier'}>,\n       <AxesSubplot:title={'center':'Change Numeric Literal'}>,\n       <AxesSubplot:title={'center':'Wrong Function Name'}>], dtype=object)"
     },
     "execution_count": 19,
     "metadata": {},
     "output_type": "execute_result"
    },
    {
     "data": {
      "text/plain": "<Figure size 1080x216 with 4 Axes>",
      "image/png": "[encoded data removed]"
     },
     "metadata": {
      "needs_background": "light"
     },
     "output_type": "display_data"
    }
   ],
   "source": [
    "plot_hist(sharey=True)"
   ]
  },
  {
   "cell_type": "markdown",
   "metadata": {
    "pycharm": {
     "name": "#%% md\n"
    }
   },
   "source": [
    "#### Variable Height\n",
    "> In the following plots, all histograms will have a height based on the\n",
    "> amount of data inside the group.\n",
    "> This will help to analyze how different refix lengths are distributed\n",
    "> inside a single bug-type"
   ]
  },
  {
   "cell_type": "code",
   "execution_count": 20,
   "metadata": {
    "pycharm": {
     "name": "#%%\n"
    }
   },
   "outputs": [
    {
     "data": {
      "text/plain": "array([<AxesSubplot:title={'center':'Change Identifier Used'}>,\n       <AxesSubplot:title={'center':'Change Modifier'}>,\n       <AxesSubplot:title={'center':'Change Numeric Literal'}>,\n       <AxesSubplot:title={'center':'Wrong Function Name'}>], dtype=object)"
     },
     "execution_count": 20,
     "metadata": {},
     "output_type": "execute_result"
    },
    {
     "data": {
      "text/plain": "<Figure size 1080x216 with 4 Axes>",
      "image/png": "[encoded data removed]"
     },
     "metadata": {
      "needs_background": "light"
     },
     "output_type": "display_data"
    }
   ],
   "source": [
    "plot_hist(sharey=False)"
   ]
  },
  {
   "cell_type": "markdown",
   "metadata": {
    "pycharm": {
     "name": "#%% md\n"
    }
   },
   "source": [
    "### Central Tendency"
   ]
  },
  {
   "cell_type": "code",
   "execution_count": 21,
   "metadata": {
    "pycharm": {
     "name": "#%%\n"
    }
   },
   "outputs": [
    {
     "data": {
      "text/plain": "                              mean  hmean  gmean\ntype                                            \nChange Modifier              2.955  2.296  2.502\nChange Numeric Literal       2.454  2.347  2.399\nWrong Function Name          2.283  2.147  2.199\nChange Identifier Used       2.257  2.133  2.181\nSame Function Change Caller  2.194  2.138  2.163\nLess Specific If             2.094  2.065  2.077\nChange Operand               2.083  2.057  2.069\nSame Function More Args      2.043  2.029  2.036\nChange Unary Operator        2.042  2.028  2.034\nSame Function Less Args      2.026  2.018  2.021\nMore Specific If             2.026  2.017  2.021\nChange Binary Operator       2.024  2.016  2.020\nChange Boolean Literal       2.020  2.013  2.016\nDelete Throws Exception      2.000  2.000  2.000\nMissing Throws Exception     2.000  2.000  2.000\nSame Function Swap Args      2.000  2.000  2.000",
      "text/html": "<div>\n<style scoped>\n    .dataframe tbody tr th:only-of-type {\n        vertical-align: middle;\n    }\n\n    .dataframe tbody tr th {\n        vertical-align: top;\n    }\n\n    .dataframe thead th {\n        text-align: right;\n    }\n</style>\n<table border=\"1\" class=\"dataframe\">\n  <thead>\n    <tr style=\"text-align: right;\">\n      <th></th>\n      <th>mean</th>\n      <th>hmean</th>\n      <th>gmean</th>\n    </tr>\n    <tr>\n      <th>type</th>\n      <th></th>\n      <th></th>\n      <th></th>\n    </tr>\n  </thead>\n  <tbody>\n    <tr>\n      <th>Change Modifier</th>\n      <td>2.955</td>\n      <td>2.296</td>\n      <td>2.502</td>\n    </tr>\n    <tr>\n      <th>Change Numeric Literal</th>\n      <td>2.454</td>\n      <td>2.347</td>\n      <td>2.399</td>\n    </tr>\n    <tr>\n      <th>Wrong Function Name</th>\n      <td>2.283</td>\n      <td>2.147</td>\n      <td>2.199</td>\n    </tr>\n    <tr>\n      <th>Change Identifier Used</th>\n      <td>2.257</td>\n      <td>2.133</td>\n      <td>2.181</td>\n    </tr>\n    <tr>\n      <th>Same Function Change Caller</th>\n      <td>2.194</td>\n      <td>2.138</td>\n      <td>2.163</td>\n    </tr>\n    <tr>\n      <th>Less Specific If</th>\n      <td>2.094</td>\n      <td>2.065</td>\n      <td>2.077</td>\n    </tr>\n    <tr>\n      <th>Change Operand</th>\n      <td>2.083</td>\n      <td>2.057</td>\n      <td>2.069</td>\n    </tr>\n    <tr>\n      <th>Same Function More Args</th>\n      <td>2.043</td>\n      <td>2.029</td>\n      <td>2.036</td>\n    </tr>\n    <tr>\n      <th>Change Unary Operator</th>\n      <td>2.042</td>\n      <td>2.028</td>\n      <td>2.034</td>\n    </tr>\n    <tr>\n      <th>Same Function Less Args</th>\n      <td>2.026</td>\n      <td>2.018</td>\n      <td>2.021</td>\n    </tr>\n    <tr>\n      <th>More Specific If</th>\n      <td>2.026</td>\n      <td>2.017</td>\n      <td>2.021</td>\n    </tr>\n    <tr>\n      <th>Change Binary Operator</th>\n      <td>2.024</td>\n      <td>2.016</td>\n      <td>2.020</td>\n    </tr>\n    <tr>\n      <th>Change Boolean Literal</th>\n      <td>2.020</td>\n      <td>2.013</td>\n      <td>2.016</td>\n    </tr>\n    <tr>\n      <th>Delete Throws Exception</th>\n      <td>2.000</td>\n      <td>2.000</td>\n      <td>2.000</td>\n    </tr>\n    <tr>\n      <th>Missing Throws Exception</th>\n      <td>2.000</td>\n      <td>2.000</td>\n      <td>2.000</td>\n    </tr>\n    <tr>\n      <th>Same Function Swap Args</th>\n      <td>2.000</td>\n      <td>2.000</td>\n      <td>2.000</td>\n    </tr>\n  </tbody>\n</table>\n</div>"
     },
     "execution_count": 21,
     "metadata": {},
     "output_type": "execute_result"
    }
   ],
   "source": [
    "central_tendency_df = fix_df.groupby('type').distance\\\n",
    "    .agg(['mean', stats.hmean, stats.gmean])\\\n",
    "    .sort_values('mean', ascending=False)\n",
    "central_tendency_df"
   ]
  },
  {
   "cell_type": "markdown",
   "metadata": {
    "pycharm": {
     "name": "#%% md\n"
    }
   },
   "source": [
    "### Variance"
   ]
  },
  {
   "cell_type": "code",
   "execution_count": 22,
   "metadata": {
    "pycharm": {
     "name": "#%%\n"
    }
   },
   "outputs": [
    {
     "data": {
      "text/plain": "                               var    std  min  max\ntype                                               \nChange Modifier              5.501  2.345    2   12\nWrong Function Name          0.642  0.801    2    8\nChange Identifier Used       0.580  0.762    2    8\nChange Numeric Literal       0.290  0.538    2    4\nSame Function Change Caller  0.161  0.402    2    3\nLess Specific If             0.088  0.296    2    3\nChange Operand               0.083  0.289    2    3\nSame Function More Args      0.042  0.205    2    3\nChange Unary Operator        0.042  0.204    2    3\nSame Function Less Args      0.026  0.161    2    3\nMore Specific If             0.026  0.160    2    3\nChange Binary Operator       0.024  0.154    2    3\nChange Boolean Literal       0.020  0.141    2    3\nDelete Throws Exception      0.000  0.000    2    2\nMissing Throws Exception     0.000  0.000    2    2\nSame Function Swap Args      0.000  0.000    2    2",
      "text/html": "<div>\n<style scoped>\n    .dataframe tbody tr th:only-of-type {\n        vertical-align: middle;\n    }\n\n    .dataframe tbody tr th {\n        vertical-align: top;\n    }\n\n    .dataframe thead th {\n        text-align: right;\n    }\n</style>\n<table border=\"1\" class=\"dataframe\">\n  <thead>\n    <tr style=\"text-align: right;\">\n      <th></th>\n      <th>var</th>\n      <th>std</th>\n      <th>min</th>\n      <th>max</th>\n    </tr>\n    <tr>\n      <th>type</th>\n      <th></th>\n      <th></th>\n      <th></th>\n      <th></th>\n    </tr>\n  </thead>\n  <tbody>\n    <tr>\n      <th>Change Modifier</th>\n      <td>5.501</td>\n      <td>2.345</td>\n      <td>2</td>\n      <td>12</td>\n    </tr>\n    <tr>\n      <th>Wrong Function Name</th>\n      <td>0.642</td>\n      <td>0.801</td>\n      <td>2</td>\n      <td>8</td>\n    </tr>\n    <tr>\n      <th>Change Identifier Used</th>\n      <td>0.580</td>\n      <td>0.762</td>\n      <td>2</td>\n      <td>8</td>\n    </tr>\n    <tr>\n      <th>Change Numeric Literal</th>\n      <td>0.290</td>\n      <td>0.538</td>\n      <td>2</td>\n      <td>4</td>\n    </tr>\n    <tr>\n      <th>Same Function Change Caller</th>\n      <td>0.161</td>\n      <td>0.402</td>\n      <td>2</td>\n      <td>3</td>\n    </tr>\n    <tr>\n      <th>Less Specific If</th>\n      <td>0.088</td>\n      <td>0.296</td>\n      <td>2</td>\n      <td>3</td>\n    </tr>\n    <tr>\n      <th>Change Operand</th>\n      <td>0.083</td>\n      <td>0.289</td>\n      <td>2</td>\n      <td>3</td>\n    </tr>\n    <tr>\n      <th>Same Function More Args</th>\n      <td>0.042</td>\n      <td>0.205</td>\n      <td>2</td>\n      <td>3</td>\n    </tr>\n    <tr>\n      <th>Change Unary Operator</th>\n      <td>0.042</td>\n      <td>0.204</td>\n      <td>2</td>\n      <td>3</td>\n    </tr>\n    <tr>\n      <th>Same Function Less Args</th>\n      <td>0.026</td>\n      <td>0.161</td>\n      <td>2</td>\n      <td>3</td>\n    </tr>\n    <tr>\n      <th>More Specific If</th>\n      <td>0.026</td>\n      <td>0.160</td>\n      <td>2</td>\n      <td>3</td>\n    </tr>\n    <tr>\n      <th>Change Binary Operator</th>\n      <td>0.024</td>\n      <td>0.154</td>\n      <td>2</td>\n      <td>3</td>\n    </tr>\n    <tr>\n      <th>Change Boolean Literal</th>\n      <td>0.020</td>\n      <td>0.141</td>\n      <td>2</td>\n      <td>3</td>\n    </tr>\n    <tr>\n      <th>Delete Throws Exception</th>\n      <td>0.000</td>\n      <td>0.000</td>\n      <td>2</td>\n      <td>2</td>\n    </tr>\n    <tr>\n      <th>Missing Throws Exception</th>\n      <td>0.000</td>\n      <td>0.000</td>\n      <td>2</td>\n      <td>2</td>\n    </tr>\n    <tr>\n      <th>Same Function Swap Args</th>\n      <td>0.000</td>\n      <td>0.000</td>\n      <td>2</td>\n      <td>2</td>\n    </tr>\n  </tbody>\n</table>\n</div>"
     },
     "execution_count": 22,
     "metadata": {},
     "output_type": "execute_result"
    }
   ],
   "source": [
    "variance_df = fix_df.groupby('type').distance\\\n",
    "    .agg(['var', 'std', 'min', 'max'])\\\n",
    "    .sort_values('var', ascending=False)\n",
    "variance_df"
   ]
  },
  {
   "cell_type": "markdown",
   "metadata": {
    "pycharm": {
     "name": "#%% md\n"
    }
   },
   "source": [
    "### Symmetry"
   ]
  },
  {
   "cell_type": "code",
   "execution_count": 23,
   "metadata": {
    "pycharm": {
     "name": "#%%\n"
    }
   },
   "outputs": [
    {
     "data": {
      "text/plain": "                             count   skew    kurt\ntype                                             \nChange Boolean Literal          50  7.071  50.000\nChange Binary Operator          83  6.322  38.900\nMore Specific If                39  6.245  39.000\nSame Function Less Args        114  5.998  34.577\nChange Unary Operator           24  4.899  24.000\nSame Function More Args         92  4.552  19.134\nChange Identifier Used        1086  3.833  16.735\nWrong Function Name            849  3.682  15.434\nChange Operand                  12  3.464  12.000\nLess Specific If                32  2.926   6.999\nChange Modifier                156  2.601   5.650\nSame Function Change Caller     31  1.631   0.702\nChange Numeric Literal         295  0.579  -0.870\nMissing Throws Exception         3  0.000     NaN\nSame Function Swap Args         13  0.000   0.000\nDelete Throws Exception          2    NaN     NaN",
      "text/html": "<div>\n<style scoped>\n    .dataframe tbody tr th:only-of-type {\n        vertical-align: middle;\n    }\n\n    .dataframe tbody tr th {\n        vertical-align: top;\n    }\n\n    .dataframe thead th {\n        text-align: right;\n    }\n</style>\n<table border=\"1\" class=\"dataframe\">\n  <thead>\n    <tr style=\"text-align: right;\">\n      <th></th>\n      <th>count</th>\n      <th>skew</th>\n      <th>kurt</th>\n    </tr>\n    <tr>\n      <th>type</th>\n      <th></th>\n      <th></th>\n      <th></th>\n    </tr>\n  </thead>\n  <tbody>\n    <tr>\n      <th>Change Boolean Literal</th>\n      <td>50</td>\n      <td>7.071</td>\n      <td>50.000</td>\n    </tr>\n    <tr>\n      <th>Change Binary Operator</th>\n      <td>83</td>\n      <td>6.322</td>\n      <td>38.900</td>\n    </tr>\n    <tr>\n      <th>More Specific If</th>\n      <td>39</td>\n      <td>6.245</td>\n      <td>39.000</td>\n    </tr>\n    <tr>\n      <th>Same Function Less Args</th>\n      <td>114</td>\n      <td>5.998</td>\n      <td>34.577</td>\n    </tr>\n    <tr>\n      <th>Change Unary Operator</th>\n      <td>24</td>\n      <td>4.899</td>\n      <td>24.000</td>\n    </tr>\n    <tr>\n      <th>Same Function More Args</th>\n      <td>92</td>\n      <td>4.552</td>\n      <td>19.134</td>\n    </tr>\n    <tr>\n      <th>Change Identifier Used</th>\n      <td>1086</td>\n      <td>3.833</td>\n      <td>16.735</td>\n    </tr>\n    <tr>\n      <th>Wrong Function Name</th>\n      <td>849</td>\n      <td>3.682</td>\n      <td>15.434</td>\n    </tr>\n    <tr>\n      <th>Change Operand</th>\n      <td>12</td>\n      <td>3.464</td>\n      <td>12.000</td>\n    </tr>\n    <tr>\n      <th>Less Specific If</th>\n      <td>32</td>\n      <td>2.926</td>\n      <td>6.999</td>\n    </tr>\n    <tr>\n      <th>Change Modifier</th>\n      <td>156</td>\n      <td>2.601</td>\n      <td>5.650</td>\n    </tr>\n    <tr>\n      <th>Same Function Change Caller</th>\n      <td>31</td>\n      <td>1.631</td>\n      <td>0.702</td>\n    </tr>\n    <tr>\n      <th>Change Numeric Literal</th>\n      <td>295</td>\n      <td>0.579</td>\n      <td>-0.870</td>\n    </tr>\n    <tr>\n      <th>Missing Throws Exception</th>\n      <td>3</td>\n      <td>0.000</td>\n      <td>NaN</td>\n    </tr>\n    <tr>\n      <th>Same Function Swap Args</th>\n      <td>13</td>\n      <td>0.000</td>\n      <td>0.000</td>\n    </tr>\n    <tr>\n      <th>Delete Throws Exception</th>\n      <td>2</td>\n      <td>NaN</td>\n      <td>NaN</td>\n    </tr>\n  </tbody>\n</table>\n</div>"
     },
     "execution_count": 23,
     "metadata": {},
     "output_type": "execute_result"
    }
   ],
   "source": [
    "symmetry_df = fix_df.groupby('type').distance\\\n",
    "    .agg(['count', 'skew', pd.Series.kurt])\\\n",
    "    .sort_values('skew', ascending=False)\n",
    "symmetry_df"
   ]
  },
  {
   "cell_type": "code",
   "execution_count": 23,
   "metadata": {
    "pycharm": {
     "name": "#%%\n"
    }
   },
   "outputs": [],
   "source": []
  }
 ],
 "metadata": {
  "kernelspec": {
   "display_name": "Python 3",
   "language": "python",
   "name": "python3"
  },
  "language_info": {
   "codemirror_mode": {
    "name": "ipython",
    "version": 3
   },
   "file_extension": ".py",
   "mimetype": "text/x-python",
   "name": "python",
   "nbconvert_exporter": "python",
   "pygments_lexer": "ipython3",
   "version": "3.8.5"
  }
 },
 "nbformat": 4,
 "nbformat_minor": 1
}
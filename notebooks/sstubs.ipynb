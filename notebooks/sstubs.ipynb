{
 "cells": [
  {
   "cell_type": "code",
   "execution_count": 3,
   "metadata": {},
   "outputs": [],
   "source": [
    "import pandas as pd\n",
    "import numpy as np"
   ]
  },
  {
   "cell_type": "code",
   "execution_count": 4,
   "metadata": {
    "pycharm": {
     "name": "#%%\n"
    }
   },
   "outputs": [],
   "source": [
    "df = pd.read_json('../dataset/sstubs')"
   ]
  },
  {
   "cell_type": "code",
   "execution_count": 3,
   "metadata": {
    "pycharm": {
     "name": "#%%\n"
    }
   },
   "outputs": [
    {
     "data": {
      "text/plain": [
       "(10231, 14)"
      ]
     },
     "execution_count": 3,
     "metadata": {},
     "output_type": "execute_result"
    }
   ],
   "source": [
    "df.shape"
   ]
  },
  {
   "cell_type": "markdown",
   "metadata": {
    "pycharm": {
     "name": "#%% md\n"
    }
   },
   "source": [
    "### Overview"
   ]
  },
  {
   "cell_type": "code",
   "execution_count": 4,
   "metadata": {
    "pycharm": {
     "name": "#%%\n"
    }
   },
   "outputs": [
    {
     "data": {
      "text/html": [
       "<div>\n",
       "<style scoped>\n",
       "    .dataframe tbody tr th:only-of-type {\n",
       "        vertical-align: middle;\n",
       "    }\n",
       "\n",
       "    .dataframe tbody tr th {\n",
       "        vertical-align: top;\n",
       "    }\n",
       "\n",
       "    .dataframe thead th {\n",
       "        text-align: right;\n",
       "    }\n",
       "</style>\n",
       "<table border=\"1\" class=\"dataframe\">\n",
       "  <thead>\n",
       "    <tr style=\"text-align: right;\">\n",
       "      <th></th>\n",
       "      <th>bugType</th>\n",
       "      <th>fixCommitSHA1</th>\n",
       "      <th>fixCommitParentSHA1</th>\n",
       "      <th>bugFilePath</th>\n",
       "      <th>fixPatch</th>\n",
       "      <th>projectName</th>\n",
       "      <th>bugLineNum</th>\n",
       "      <th>bugNodeStartChar</th>\n",
       "      <th>bugNodeLength</th>\n",
       "      <th>fixLineNum</th>\n",
       "      <th>fixNodeStartChar</th>\n",
       "      <th>fixNodeLength</th>\n",
       "      <th>sourceBeforeFix</th>\n",
       "      <th>sourceAfterFix</th>\n",
       "    </tr>\n",
       "  </thead>\n",
       "  <tbody>\n",
       "    <tr>\n",
       "      <th>3064</th>\n",
       "      <td>DIFFERENT_METHOD_SAME_ARGS</td>\n",
       "      <td>67685860541cf7f66d048f314e1b6084591974c3</td>\n",
       "      <td>7f417056d2f3bf4b0f1a839922c68829f84a170f</td>\n",
       "      <td>camel-core/src/test/java/org/apache/camel/comp...</td>\n",
       "      <td>diff --git a/camel-core/src/test/java/org/apac...</td>\n",
       "      <td>apache.camel</td>\n",
       "      <td>135</td>\n",
       "      <td>5309</td>\n",
       "      <td>55</td>\n",
       "      <td>135</td>\n",
       "      <td>5376</td>\n",
       "      <td>65</td>\n",
       "      <td>result.expectedBodiesReceived(\"A+C+E+G+I\",\"B+D...</td>\n",
       "      <td>result.expectedBodiesReceivedInAnyOrder(\"A+C+E...</td>\n",
       "    </tr>\n",
       "    <tr>\n",
       "      <th>3096</th>\n",
       "      <td>CHANGE_IDENTIFIER</td>\n",
       "      <td>bafb1f877934f826d5f74f9f33e824dd1aa30432</td>\n",
       "      <td>fdfbb0ca84342d5b4f328e1f9a3bfb2058552145</td>\n",
       "      <td>camel-core/src/main/java/org/apache/camel/conv...</td>\n",
       "      <td>diff --git a/camel-core/src/main/java/org/apac...</td>\n",
       "      <td>apache.camel</td>\n",
       "      <td>88</td>\n",
       "      <td>3201</td>\n",
       "      <td>10</td>\n",
       "      <td>88</td>\n",
       "      <td>3201</td>\n",
       "      <td>11</td>\n",
       "      <td>@Converter</td>\n",
       "      <td>@Deprecated</td>\n",
       "    </tr>\n",
       "    <tr>\n",
       "      <th>5821</th>\n",
       "      <td>CHANGE_IDENTIFIER</td>\n",
       "      <td>23423085f9af64ba33a2031298f46474317cb425</td>\n",
       "      <td>daa13a46ab8f1895a92975fe1d042ef86a340a76</td>\n",
       "      <td>src/com/google/javascript/jscomp/DefinitionUse...</td>\n",
       "      <td>diff --git a/src/com/google/javascript/jscomp/...</td>\n",
       "      <td>google.closure-compiler</td>\n",
       "      <td>172</td>\n",
       "      <td>5765</td>\n",
       "      <td>46</td>\n",
       "      <td>172</td>\n",
       "      <td>5765</td>\n",
       "      <td>45</td>\n",
       "      <td>this.nameDefinitionMultimap.remove(name,node)</td>\n",
       "      <td>this.nameDefinitionMultimap.remove(name,def)</td>\n",
       "    </tr>\n",
       "    <tr>\n",
       "      <th>8687</th>\n",
       "      <td>CHANGE_IDENTIFIER</td>\n",
       "      <td>e2854295f7c484671ce69bff7ec37fcb0c413a32</td>\n",
       "      <td>c2c976107dfcc44fbd6bc2af8435b2c440ca592d</td>\n",
       "      <td>src/main/java/spark/ExceptionHandlerImpl.java</td>\n",
       "      <td>diff --git a/src/main/java/spark/ExceptionHand...</td>\n",
       "      <td>perwendel.spark</td>\n",
       "      <td>59</td>\n",
       "      <td>1965</td>\n",
       "      <td>19</td>\n",
       "      <td>59</td>\n",
       "      <td>1965</td>\n",
       "      <td>11</td>\n",
       "      <td>Exception exception</td>\n",
       "      <td>T exception</td>\n",
       "    </tr>\n",
       "    <tr>\n",
       "      <th>2486</th>\n",
       "      <td>DIFFERENT_METHOD_SAME_ARGS</td>\n",
       "      <td>e5298f62da9c8ff2319709bdd35aceef75e97228</td>\n",
       "      <td>94af4251adf9d306bfead934c7587492ddcee6f9</td>\n",
       "      <td>components/camel-jmx/src/test/java/org/apache/...</td>\n",
       "      <td>diff --git a/components/camel-jmx/src/test/jav...</td>\n",
       "      <td>apache.camel</td>\n",
       "      <td>62</td>\n",
       "      <td>1895</td>\n",
       "      <td>27</td>\n",
       "      <td>62</td>\n",
       "      <td>1895</td>\n",
       "      <td>28</td>\n",
       "      <td>getRegistry().put(\"hb\",hb)</td>\n",
       "      <td>getRegistry().bind(\"hb\",hb)</td>\n",
       "    </tr>\n",
       "  </tbody>\n",
       "</table>\n",
       "</div>"
      ],
      "text/plain": [
       "                         bugType                             fixCommitSHA1  \\\n",
       "3064  DIFFERENT_METHOD_SAME_ARGS  67685860541cf7f66d048f314e1b6084591974c3   \n",
       "3096           CHANGE_IDENTIFIER  bafb1f877934f826d5f74f9f33e824dd1aa30432   \n",
       "5821           CHANGE_IDENTIFIER  23423085f9af64ba33a2031298f46474317cb425   \n",
       "8687           CHANGE_IDENTIFIER  e2854295f7c484671ce69bff7ec37fcb0c413a32   \n",
       "2486  DIFFERENT_METHOD_SAME_ARGS  e5298f62da9c8ff2319709bdd35aceef75e97228   \n",
       "\n",
       "                           fixCommitParentSHA1  \\\n",
       "3064  7f417056d2f3bf4b0f1a839922c68829f84a170f   \n",
       "3096  fdfbb0ca84342d5b4f328e1f9a3bfb2058552145   \n",
       "5821  daa13a46ab8f1895a92975fe1d042ef86a340a76   \n",
       "8687  c2c976107dfcc44fbd6bc2af8435b2c440ca592d   \n",
       "2486  94af4251adf9d306bfead934c7587492ddcee6f9   \n",
       "\n",
       "                                            bugFilePath  \\\n",
       "3064  camel-core/src/test/java/org/apache/camel/comp...   \n",
       "3096  camel-core/src/main/java/org/apache/camel/conv...   \n",
       "5821  src/com/google/javascript/jscomp/DefinitionUse...   \n",
       "8687      src/main/java/spark/ExceptionHandlerImpl.java   \n",
       "2486  components/camel-jmx/src/test/java/org/apache/...   \n",
       "\n",
       "                                               fixPatch  \\\n",
       "3064  diff --git a/camel-core/src/test/java/org/apac...   \n",
       "3096  diff --git a/camel-core/src/main/java/org/apac...   \n",
       "5821  diff --git a/src/com/google/javascript/jscomp/...   \n",
       "8687  diff --git a/src/main/java/spark/ExceptionHand...   \n",
       "2486  diff --git a/components/camel-jmx/src/test/jav...   \n",
       "\n",
       "                  projectName  bugLineNum  bugNodeStartChar  bugNodeLength  \\\n",
       "3064             apache.camel         135              5309             55   \n",
       "3096             apache.camel          88              3201             10   \n",
       "5821  google.closure-compiler         172              5765             46   \n",
       "8687          perwendel.spark          59              1965             19   \n",
       "2486             apache.camel          62              1895             27   \n",
       "\n",
       "      fixLineNum  fixNodeStartChar  fixNodeLength  \\\n",
       "3064         135              5376             65   \n",
       "3096          88              3201             11   \n",
       "5821         172              5765             45   \n",
       "8687          59              1965             11   \n",
       "2486          62              1895             28   \n",
       "\n",
       "                                        sourceBeforeFix  \\\n",
       "3064  result.expectedBodiesReceived(\"A+C+E+G+I\",\"B+D...   \n",
       "3096                                         @Converter   \n",
       "5821      this.nameDefinitionMultimap.remove(name,node)   \n",
       "8687                                Exception exception   \n",
       "2486                         getRegistry().put(\"hb\",hb)   \n",
       "\n",
       "                                         sourceAfterFix  \n",
       "3064  result.expectedBodiesReceivedInAnyOrder(\"A+C+E...  \n",
       "3096                                        @Deprecated  \n",
       "5821       this.nameDefinitionMultimap.remove(name,def)  \n",
       "8687                                        T exception  \n",
       "2486                        getRegistry().bind(\"hb\",hb)  "
      ]
     },
     "execution_count": 4,
     "metadata": {},
     "output_type": "execute_result"
    }
   ],
   "source": [
    "df.sample(5)"
   ]
  },
  {
   "cell_type": "markdown",
   "metadata": {
    "pycharm": {
     "name": "#%% md\n"
    }
   },
   "source": [
    "### Sample Entry"
   ]
  },
  {
   "cell_type": "code",
   "execution_count": 5,
   "metadata": {
    "pycharm": {
     "name": "#%%\n"
    }
   },
   "outputs": [
    {
     "name": "stdout",
     "output_type": "stream",
     "text": [
      "**bugType**\n",
      "DIFFERENT_METHOD_SAME_ARGS\n",
      "\n",
      "**fixCommitSHA1**\n",
      "114870164ba9822afc3a92eefe5258f54a1c6a17\n",
      "\n",
      "**fixCommitParentSHA1**\n",
      "845ab7d135ab688e4943bd0f5472f0a5401528f8\n",
      "\n",
      "**bugFilePath**\n",
      "modules/activiti-engine/src/test/java/org/activiti/engine/test/api/runtime/TaskInvolvementTest.java\n",
      "\n",
      "**fixPatch**\n",
      "diff --git a/modules/activiti-engine/src/test/java/org/activiti/engine/test/api/runtime/TaskInvolvementTest.java b/modules/activiti-engine/src/test/java/org/activiti/engine/test/api/runtime/TaskInvolvementTest.java\n",
      "index 4de3611..f71b5a3 100644\n",
      "--- a/modules/activiti-engine/src/test/java/org/activiti/engine/test/api/runtime/TaskInvolvementTest.java\n",
      "+++ b/modules/activiti-engine/src/test/java/org/activiti/engine/test/api/runtime/TaskInvolvementTest.java\n",
      "@@ -26,7 +26,7 @@\n",
      "             assertEquals(1, taskService.createTaskQuery()\n",
      "                     .or()\n",
      "                     .taskInvolvedUser(\"involvedUser\")\n",
      "-                    .taskInvolvedGroups(groups)\n",
      "+                    .taskInvolvedGroupsIn(groups)\n",
      "                     .endOr()\n",
      "                     .count());\n",
      " \n",
      "\n",
      "\n",
      "**projectName**\n",
      "Activiti.Activiti\n",
      "\n",
      "**bugLineNum**\n",
      "26\n",
      "\n",
      "**bugNodeStartChar**\n",
      "797\n",
      "\n",
      "**bugNodeLength**\n",
      "157\n",
      "\n",
      "**fixLineNum**\n",
      "26\n",
      "\n",
      "**fixNodeStartChar**\n",
      "797\n",
      "\n",
      "**fixNodeLength**\n",
      "159\n",
      "\n",
      "**sourceBeforeFix**\n",
      "taskService.createTaskQuery().or().taskInvolvedUser(\"involvedUser\").taskInvolvedGroups(groups)\n",
      "\n",
      "**sourceAfterFix**\n",
      "taskService.createTaskQuery().or().taskInvolvedUser(\"involvedUser\").taskInvolvedGroupsIn(groups)\n",
      "\n"
     ]
    }
   ],
   "source": [
    "for k in df.iloc[0].keys():\n",
    "    print(('**{}**'.format(k)))\n",
    "    print(df.iloc[3][k])\n",
    "    print()"
   ]
  },
  {
   "cell_type": "markdown",
   "metadata": {
    "pycharm": {
     "name": "#%% md\n"
    }
   },
   "source": [
    "### Identify Bug Types"
   ]
  },
  {
   "cell_type": "code",
   "execution_count": 46,
   "metadata": {
    "pycharm": {
     "name": "#%%\n"
    }
   },
   "outputs": [],
   "source": [
    "bugTypes = df.groupby('bugType').agg(\n",
    "    count=pd.NamedAgg(column='bugType', aggfunc='count'),\n",
    "    sourceBeforeFix=pd.NamedAgg(column='sourceBeforeFix', aggfunc='last'),\n",
    "    sourceAfterFix=pd.NamedAgg(column='sourceAfterFix', aggfunc='last'),\n",
    ")\n",
    "bugTypes.index.name = None\n",
    "percentage = [round(row / df.shape[0] * 100, 2) for row in bugTypes['count']]\n",
    "bugTypes.insert(1, 'percentage', percentage)"
   ]
  },
  {
   "cell_type": "code",
   "execution_count": 47,
   "metadata": {
    "pycharm": {
     "name": "#%%\n"
    }
   },
   "outputs": [
    {
     "data": {
      "text/html": [
       "<div>\n",
       "<style scoped>\n",
       "    .dataframe tbody tr th:only-of-type {\n",
       "        vertical-align: middle;\n",
       "    }\n",
       "\n",
       "    .dataframe tbody tr th {\n",
       "        vertical-align: top;\n",
       "    }\n",
       "\n",
       "    .dataframe thead th {\n",
       "        text-align: right;\n",
       "    }\n",
       "</style>\n",
       "<table border=\"1\" class=\"dataframe\">\n",
       "  <thead>\n",
       "    <tr style=\"text-align: right;\">\n",
       "      <th></th>\n",
       "      <th>count</th>\n",
       "      <th>percentage</th>\n",
       "      <th>sourceBeforeFix</th>\n",
       "      <th>sourceAfterFix</th>\n",
       "    </tr>\n",
       "  </thead>\n",
       "  <tbody>\n",
       "    <tr>\n",
       "      <th>ADD_THROWS_EXCEPTION</th>\n",
       "      <td>68</td>\n",
       "      <td>0.66</td>\n",
       "      <td>0</td>\n",
       "      <td>0</td>\n",
       "    </tr>\n",
       "    <tr>\n",
       "      <th>CHANGE_CALLER_IN_FUNCTION_CALL</th>\n",
       "      <td>187</td>\n",
       "      <td>1.83</td>\n",
       "      <td>userStreamListener.onStatus(new StatusJSONImpl...</td>\n",
       "      <td>listener.onStatus(new StatusJSONImpl(json))</td>\n",
       "    </tr>\n",
       "    <tr>\n",
       "      <th>CHANGE_IDENTIFIER</th>\n",
       "      <td>3265</td>\n",
       "      <td>31.91</td>\n",
       "      <td>assertTrue(found)</td>\n",
       "      <td>assertFalse(found)</td>\n",
       "    </tr>\n",
       "    <tr>\n",
       "      <th>CHANGE_MODIFIER</th>\n",
       "      <td>1852</td>\n",
       "      <td>18.10</td>\n",
       "      <td>138</td>\n",
       "      <td>202</td>\n",
       "    </tr>\n",
       "    <tr>\n",
       "      <th>CHANGE_NUMERAL</th>\n",
       "      <td>1137</td>\n",
       "      <td>11.11</td>\n",
       "      <td>args.length &lt; 1</td>\n",
       "      <td>args.length &lt; 2</td>\n",
       "    </tr>\n",
       "    <tr>\n",
       "      <th>CHANGE_OPERAND</th>\n",
       "      <td>120</td>\n",
       "      <td>1.17</td>\n",
       "      <td>preDestroys != null</td>\n",
       "      <td>prePassivates != null</td>\n",
       "    </tr>\n",
       "    <tr>\n",
       "      <th>CHANGE_OPERATOR</th>\n",
       "      <td>275</td>\n",
       "      <td>2.69</td>\n",
       "      <td>responseCode &lt; OK &amp;&amp; MULTIPLE_CHOICES &lt;= respo...</td>\n",
       "      <td>responseCode &lt; OK || MULTIPLE_CHOICES &lt;= respo...</td>\n",
       "    </tr>\n",
       "    <tr>\n",
       "      <th>CHANGE_UNARY_OPERATOR</th>\n",
       "      <td>170</td>\n",
       "      <td>1.66</td>\n",
       "      <td>JedisClusterHashTagUtil.isClusterCompliantMatc...</td>\n",
       "      <td>!JedisClusterHashTagUtil.isClusterCompliantMat...</td>\n",
       "    </tr>\n",
       "    <tr>\n",
       "      <th>DELETE_THROWS_EXCEPTION</th>\n",
       "      <td>48</td>\n",
       "      <td>0.47</td>\n",
       "      <td>1</td>\n",
       "      <td>1</td>\n",
       "    </tr>\n",
       "    <tr>\n",
       "      <th>DIFFERENT_METHOD_SAME_ARGS</th>\n",
       "      <td>1486</td>\n",
       "      <td>14.52</td>\n",
       "      <td>assertTrue(found)</td>\n",
       "      <td>assertFalse(found)</td>\n",
       "    </tr>\n",
       "    <tr>\n",
       "      <th>LESS_SPECIFIC_IF</th>\n",
       "      <td>215</td>\n",
       "      <td>2.10</td>\n",
       "      <td>original.getScreenName().endsWith(\"new\")</td>\n",
       "      <td>original.getScreenName().endsWith(\"new\") || or...</td>\n",
       "    </tr>\n",
       "    <tr>\n",
       "      <th>MORE_SPECIFIC_IF</th>\n",
       "      <td>175</td>\n",
       "      <td>1.71</td>\n",
       "      <td>wsdlLocation.length() &gt; 0</td>\n",
       "      <td>wsdlLocation != null &amp;&amp; wsdlLocation.length() &gt; 0</td>\n",
       "    </tr>\n",
       "    <tr>\n",
       "      <th>OVERLOAD_METHOD_DELETED_ARGS</th>\n",
       "      <td>179</td>\n",
       "      <td>1.75</td>\n",
       "      <td>new JedisClusterCommand&lt;Set&lt;String&gt;&gt;(connectio...</td>\n",
       "      <td>new JedisClusterCommand&lt;Set&lt;String&gt;&gt;(connectio...</td>\n",
       "    </tr>\n",
       "    <tr>\n",
       "      <th>OVERLOAD_METHOD_MORE_ARGS</th>\n",
       "      <td>758</td>\n",
       "      <td>7.41</td>\n",
       "      <td>new java.util.Date()</td>\n",
       "      <td>new java.util.Date(System.currentTimeMillis() ...</td>\n",
       "    </tr>\n",
       "    <tr>\n",
       "      <th>SWAP_ARGUMENTS</th>\n",
       "      <td>127</td>\n",
       "      <td>1.24</td>\n",
       "      <td>twitter1.checkUserListSubscription(id1.screenN...</td>\n",
       "      <td>twitter1.checkUserListSubscription(id1.screenN...</td>\n",
       "    </tr>\n",
       "    <tr>\n",
       "      <th>SWAP_BOOLEAN_LITERAL</th>\n",
       "      <td>169</td>\n",
       "      <td>1.65</td>\n",
       "      <td>new ConnectorRefsAttribute(CommonAttributes.ST...</td>\n",
       "      <td>new ConnectorRefsAttribute(CommonAttributes.ST...</td>\n",
       "    </tr>\n",
       "  </tbody>\n",
       "</table>\n",
       "</div>"
      ],
      "text/plain": [
       "                                count  percentage  \\\n",
       "ADD_THROWS_EXCEPTION               68        0.66   \n",
       "CHANGE_CALLER_IN_FUNCTION_CALL    187        1.83   \n",
       "CHANGE_IDENTIFIER                3265       31.91   \n",
       "CHANGE_MODIFIER                  1852       18.10   \n",
       "CHANGE_NUMERAL                   1137       11.11   \n",
       "CHANGE_OPERAND                    120        1.17   \n",
       "CHANGE_OPERATOR                   275        2.69   \n",
       "CHANGE_UNARY_OPERATOR             170        1.66   \n",
       "DELETE_THROWS_EXCEPTION            48        0.47   \n",
       "DIFFERENT_METHOD_SAME_ARGS       1486       14.52   \n",
       "LESS_SPECIFIC_IF                  215        2.10   \n",
       "MORE_SPECIFIC_IF                  175        1.71   \n",
       "OVERLOAD_METHOD_DELETED_ARGS      179        1.75   \n",
       "OVERLOAD_METHOD_MORE_ARGS         758        7.41   \n",
       "SWAP_ARGUMENTS                    127        1.24   \n",
       "SWAP_BOOLEAN_LITERAL              169        1.65   \n",
       "\n",
       "                                                                  sourceBeforeFix  \\\n",
       "ADD_THROWS_EXCEPTION                                                            0   \n",
       "CHANGE_CALLER_IN_FUNCTION_CALL  userStreamListener.onStatus(new StatusJSONImpl...   \n",
       "CHANGE_IDENTIFIER                                               assertTrue(found)   \n",
       "CHANGE_MODIFIER                                                               138   \n",
       "CHANGE_NUMERAL                                                    args.length < 1   \n",
       "CHANGE_OPERAND                                                preDestroys != null   \n",
       "CHANGE_OPERATOR                 responseCode < OK && MULTIPLE_CHOICES <= respo...   \n",
       "CHANGE_UNARY_OPERATOR           JedisClusterHashTagUtil.isClusterCompliantMatc...   \n",
       "DELETE_THROWS_EXCEPTION                                                         1   \n",
       "DIFFERENT_METHOD_SAME_ARGS                                      assertTrue(found)   \n",
       "LESS_SPECIFIC_IF                         original.getScreenName().endsWith(\"new\")   \n",
       "MORE_SPECIFIC_IF                                        wsdlLocation.length() > 0   \n",
       "OVERLOAD_METHOD_DELETED_ARGS    new JedisClusterCommand<Set<String>>(connectio...   \n",
       "OVERLOAD_METHOD_MORE_ARGS                                    new java.util.Date()   \n",
       "SWAP_ARGUMENTS                  twitter1.checkUserListSubscription(id1.screenN...   \n",
       "SWAP_BOOLEAN_LITERAL            new ConnectorRefsAttribute(CommonAttributes.ST...   \n",
       "\n",
       "                                                                   sourceAfterFix  \n",
       "ADD_THROWS_EXCEPTION                                                            0  \n",
       "CHANGE_CALLER_IN_FUNCTION_CALL        listener.onStatus(new StatusJSONImpl(json))  \n",
       "CHANGE_IDENTIFIER                                              assertFalse(found)  \n",
       "CHANGE_MODIFIER                                                               202  \n",
       "CHANGE_NUMERAL                                                    args.length < 2  \n",
       "CHANGE_OPERAND                                              prePassivates != null  \n",
       "CHANGE_OPERATOR                 responseCode < OK || MULTIPLE_CHOICES <= respo...  \n",
       "CHANGE_UNARY_OPERATOR           !JedisClusterHashTagUtil.isClusterCompliantMat...  \n",
       "DELETE_THROWS_EXCEPTION                                                         1  \n",
       "DIFFERENT_METHOD_SAME_ARGS                                     assertFalse(found)  \n",
       "LESS_SPECIFIC_IF                original.getScreenName().endsWith(\"new\") || or...  \n",
       "MORE_SPECIFIC_IF                wsdlLocation != null && wsdlLocation.length() > 0  \n",
       "OVERLOAD_METHOD_DELETED_ARGS    new JedisClusterCommand<Set<String>>(connectio...  \n",
       "OVERLOAD_METHOD_MORE_ARGS       new java.util.Date(System.currentTimeMillis() ...  \n",
       "SWAP_ARGUMENTS                  twitter1.checkUserListSubscription(id1.screenN...  \n",
       "SWAP_BOOLEAN_LITERAL            new ConnectorRefsAttribute(CommonAttributes.ST...  "
      ]
     },
     "execution_count": 47,
     "metadata": {},
     "output_type": "execute_result"
    }
   ],
   "source": [
    "bugTypes"
   ]
  },
  {
   "cell_type": "markdown",
   "metadata": {
    "pycharm": {
     "name": "#%% md\n"
    }
   },
   "source": [
    "### Explore Each Bug Type Individually"
   ]
  },
  {
   "cell_type": "markdown",
   "metadata": {
    "pycharm": {
     "is_executing": true,
     "name": "#%% md\n"
    }
   },
   "source": [
    "#### 0. ADD_THROWS_EXCEPTION"
   ]
  },
  {
   "cell_type": "code",
   "execution_count": 198,
   "metadata": {
    "pycharm": {
     "name": "#%%\n"
    }
   },
   "outputs": [
    {
     "name": "stdout",
     "output_type": "stream",
     "text": [
      "1\n",
      "1\n",
      "\n",
      "diff --git a/core/client/fs/src/test/java/alluxio/client/file/policy/LocalFirstAvoidEvictionPolicyTest.java b/core/client/fs/src/test/java/alluxio/client/file/policy/LocalFirstAvoidEvictionPolicyTest.java\n",
      "index 9bb1562..b10143e 100644\n",
      "--- a/core/client/fs/src/test/java/alluxio/client/file/policy/LocalFirstAvoidEvictionPolicyTest.java\n",
      "+++ b/core/client/fs/src/test/java/alluxio/client/file/policy/LocalFirstAvoidEvictionPolicyTest.java\n",
      "@@ -34,7 +34,7 @@\n",
      " public class LocalFirstAvoidEvictionPolicyTest {\n",
      " \n",
      "   @Test\n",
      "-  public void chooseClosestTierAvoidEviction() {\n",
      "+  public void chooseClosestTierAvoidEviction() throws Exception {\n",
      "     List<BlockWorkerInfo> workers = new ArrayList<>();\n",
      "     workers.add(worker(Constants.GB, Constants.MB, \"node2\", \"rack3\"));\n",
      "     workers.add(worker(Constants.GB, 0, \"node3\", \"rack2\"));\n",
      "\n"
     ]
    }
   ],
   "source": [
    "bugTypeDf = df[df.bugType == 'ADD_THROWS_EXCEPTION']\n",
    "bugTypeSample = bugTypeDf.iloc[0]\n",
    "print(bugTypeSample.sourceBeforeFix)\n",
    "print(bugTypeSample.sourceAfterFix)\n",
    "print()\n",
    "print(bugTypeSample.fixPatch)"
   ]
  },
  {
   "cell_type": "code",
   "execution_count": 199,
   "metadata": {
    "pycharm": {
     "name": "#%%\n"
    }
   },
   "outputs": [
    {
     "name": "stdout",
     "output_type": "stream",
     "text": [
      "['0' '1' '2' '33' '34' '4' '9']\n",
      "['0' '1' '2' '33' '34' '4' '9']\n"
     ]
    }
   ],
   "source": [
    "print(np.unique(bugTypeDf.sourceBeforeFix))\n",
    "print(np.unique(bugTypeDf.sourceAfterFix))"
   ]
  },
  {
   "cell_type": "markdown",
   "metadata": {
    "pycharm": {
     "name": "#%% md\n"
    }
   },
   "source": [
    "- Simply contains diffs that include a `throws Exception`\n",
    "- Values in `sourceBeforeFix` or `sourceAfterFix` ain't clear.\n",
    "  Need to find corresponding docs."
   ]
  },
  {
   "cell_type": "markdown",
   "metadata": {
    "pycharm": {
     "name": "#%% md\n"
    }
   },
   "source": [
    "#### 1. CHANGE_CALLER_IN_FUNCTION_CALL"
   ]
  },
  {
   "cell_type": "code",
   "execution_count": 5,
   "metadata": {
    "pycharm": {
     "name": "#%%\n"
    }
   },
   "outputs": [
    {
     "name": "stdout",
     "output_type": "stream",
     "text": [
      "DATABASE_TYPE_MYSQL.equals(databaseType)\n",
      "DATABASE_TYPE_MSSQL.equals(databaseType)\n",
      "\n",
      "diff --git a/modules/activiti-engine/src/main/java/org/activiti/engine/impl/cfg/ProcessEngineConfigurationImpl.java b/modules/activiti-engine/src/main/java/org/activiti/engine/impl/cfg/ProcessEngineConfigurationImpl.java\n",
      "index 6335125..7604803 100755\n",
      "--- a/modules/activiti-engine/src/main/java/org/activiti/engine/impl/cfg/ProcessEngineConfigurationImpl.java\n",
      "+++ b/modules/activiti-engine/src/main/java/org/activiti/engine/impl/cfg/ProcessEngineConfigurationImpl.java\n",
      "@@ -1209,7 +1209,7 @@\n",
      " \n",
      "       // Special care for MSSQL, as it has a hard limit of 2000 params per statement (incl bulk statement).\n",
      "       // Especially with executions, with 100 as default, this limit is passed.\n",
      "-      if (DATABASE_TYPE_MYSQL.equals(databaseType)) {\n",
      "+      if (DATABASE_TYPE_MSSQL.equals(databaseType)) {\n",
      "         maxNrOfStatementsInBulkInsert = DEFAULT_MAX_NR_OF_STATEMENTS_BULK_INSERT_SQL_SERVER;\n",
      "       }\n",
      "       \n",
      "\n",
      "9b649ac6da4293d736676de895a67aaf87fc5979\n"
     ]
    }
   ],
   "source": [
    "bugTypeDf = df[df.bugType == 'CHANGE_CALLER_IN_FUNCTION_CALL']\n",
    "bugTypeSample = bugTypeDf.iloc[0]\n",
    "print(bugTypeSample.sourceBeforeFix)\n",
    "print(bugTypeSample.sourceAfterFix)\n",
    "print()\n",
    "print(bugTypeSample.fixPatch)\n",
    "print(bugTypeSample.fixCommitSHA1)"
   ]
  },
  {
   "cell_type": "markdown",
   "metadata": {},
   "source": [
    "#### 2. CHANGE_IDENTIFIER"
   ]
  },
  {
   "cell_type": "code",
   "execution_count": 6,
   "metadata": {
    "pycharm": {
     "name": "#%%\n"
    }
   },
   "outputs": [
    {
     "name": "stdout",
     "output_type": "stream",
     "text": [
      "DATABASE_TYPE_MYSQL.equals(databaseType)\n",
      "DATABASE_TYPE_MSSQL.equals(databaseType)\n",
      "\n",
      "diff --git a/modules/activiti-engine/src/main/java/org/activiti/engine/impl/cfg/ProcessEngineConfigurationImpl.java b/modules/activiti-engine/src/main/java/org/activiti/engine/impl/cfg/ProcessEngineConfigurationImpl.java\n",
      "index 6335125..7604803 100755\n",
      "--- a/modules/activiti-engine/src/main/java/org/activiti/engine/impl/cfg/ProcessEngineConfigurationImpl.java\n",
      "+++ b/modules/activiti-engine/src/main/java/org/activiti/engine/impl/cfg/ProcessEngineConfigurationImpl.java\n",
      "@@ -1209,7 +1209,7 @@\n",
      " \n",
      "       // Special care for MSSQL, as it has a hard limit of 2000 params per statement (incl bulk statement).\n",
      "       // Especially with executions, with 100 as default, this limit is passed.\n",
      "-      if (DATABASE_TYPE_MYSQL.equals(databaseType)) {\n",
      "+      if (DATABASE_TYPE_MSSQL.equals(databaseType)) {\n",
      "         maxNrOfStatementsInBulkInsert = DEFAULT_MAX_NR_OF_STATEMENTS_BULK_INSERT_SQL_SERVER;\n",
      "       }\n",
      "       \n",
      "\n"
     ]
    }
   ],
   "source": [
    "bugTypeDf = df[df.bugType == 'CHANGE_IDENTIFIER']\n",
    "bugTypeSample = bugTypeDf.iloc[2]\n",
    "print(bugTypeSample.sourceBeforeFix)\n",
    "print(bugTypeSample.sourceAfterFix)\n",
    "print()\n",
    "print(bugTypeSample.fixPatch)"
   ]
  },
  {
   "cell_type": "markdown",
   "metadata": {},
   "source": [
    "- Includes any type of identifier change ranging from object, method, variable and so on\n",
    "- A single diff can be present in multiple `bugType`s. Entry with `fixCommitSHA1`:\n",
    "  `\"9b649ac6da4293d736676de895a67aaf87fc5979\"` is present in both `CHANGE_CALLER_IN_FUNCTION_CALL`\n",
    "  and `CHANGE_IDENTIFIER`."
   ]
  },
  {
   "cell_type": "markdown",
   "metadata": {
    "pycharm": {
     "name": "#%% md\n"
    }
   },
   "source": [
    "#### 3. CHANGE_MODIFIER"
   ]
  },
  {
   "cell_type": "code",
   "execution_count": 220,
   "metadata": {
    "pycharm": {
     "name": "#%%\n"
    }
   },
   "outputs": [
    {
     "name": "stdout",
     "output_type": "stream",
     "text": [
      "2\n",
      "18\n",
      "\n",
      "diff --git a/core/server/worker/src/main/java/alluxio/SessionInfo.java b/core/server/worker/src/main/java/alluxio/SessionInfo.java\n",
      "index 51a2fa5..11432aa 100644\n",
      "--- a/core/server/worker/src/main/java/alluxio/SessionInfo.java\n",
      "+++ b/core/server/worker/src/main/java/alluxio/SessionInfo.java\n",
      "@@ -24,7 +24,7 @@\n",
      "   private final long mSessionId;\n",
      " \n",
      "   private long mLastHeartbeatMs;\n",
      "-  private int mSessionTimeoutMs;\n",
      "+  private final int mSessionTimeoutMs;\n",
      " \n",
      "   /**\n",
      "    * Creates a new instance of {@link SessionInfo}.\n",
      "\n"
     ]
    }
   ],
   "source": [
    "bugTypeDf = df[df.bugType == 'CHANGE_MODIFIER']\n",
    "bugTypeSample = bugTypeDf.iloc[3]\n",
    "print(bugTypeSample.sourceBeforeFix)\n",
    "print(bugTypeSample.sourceAfterFix)\n",
    "print()\n",
    "print(bugTypeSample.fixPatch)"
   ]
  },
  {
   "cell_type": "code",
   "execution_count": 221,
   "metadata": {
    "pycharm": {
     "name": "#%%\n"
    }
   },
   "outputs": [
    {
     "name": "stdout",
     "output_type": "stream",
     "text": [
      "['0' '1' '10' '1024' '1025' '1034' '12' '128' '138' '146' '16' '17' '18'\n",
      " '2' '20' '24' '25' '26' '28' '32' '33' '34' '4' '49' '66' '8' '9']\n",
      "['0' '1' '10' '1025' '1028' '1033' '12' '130' '146' '154' '16' '17' '18'\n",
      " '192' '2' '20' '202' '24' '25' '26' '28' '32' '33' '34' '36' '4' '40'\n",
      " '41' '42' '64' '66' '68' '74' '76' '8' '9']\n"
     ]
    }
   ],
   "source": [
    "print(np.unique(bugTypeDf.sourceBeforeFix))\n",
    "print(np.unique(bugTypeDf.sourceAfterFix))"
   ]
  },
  {
   "cell_type": "markdown",
   "metadata": {
    "pycharm": {
     "name": "#%% md\n"
    }
   },
   "source": [
    "- Contains changes in modifiers like `public`, `private`, `abstract`, `final` etc.\n",
    "- Not sure the values of `sourceBeforeFix` and `sourceAfterFix`."
   ]
  },
  {
   "cell_type": "markdown",
   "metadata": {
    "pycharm": {
     "name": "#%% md\n"
    }
   },
   "source": [
    "#### 4. CHANGE_NUMERAL"
   ]
  },
  {
   "cell_type": "code",
   "execution_count": 202,
   "metadata": {
    "pycharm": {
     "name": "#%%\n"
    }
   },
   "outputs": [
    {
     "name": "stdout",
     "output_type": "stream",
     "text": [
      "waitForJobExecutorToProcessAllJobs(3000,500)\n",
      "waitForJobExecutorToProcessAllJobs(5000,500)\n",
      "\n",
      "diff --git a/modules/activiti-camel/src/test/java/org/activiti/camel/revisited/AsyncProcessRevisitedTest.java b/modules/activiti-camel/src/test/java/org/activiti/camel/revisited/AsyncProcessRevisitedTest.java\n",
      "index ec34354..951cf7a 100755\n",
      "--- a/modules/activiti-camel/src/test/java/org/activiti/camel/revisited/AsyncProcessRevisitedTest.java\n",
      "+++ b/modules/activiti-camel/src/test/java/org/activiti/camel/revisited/AsyncProcessRevisitedTest.java\n",
      "@@ -53,7 +53,7 @@\n",
      "     ProcessInstance processInstance = runtimeService.startProcessInstanceByKey(\"asyncCamelProcessRevisited\");\n",
      "     List<Execution> executionList = runtimeService.createExecutionQuery().list();\n",
      "     assertEquals(3, executionList.size());\n",
      "-    waitForJobExecutorToProcessAllJobs(3000, 500);\n",
      "+    waitForJobExecutorToProcessAllJobs(5000, 500);\n",
      "     assertEquals(0, runtimeService.createProcessInstanceQuery().processInstanceId(processInstance.getId()).count());\n",
      "   }\n",
      " }\n",
      "\n"
     ]
    }
   ],
   "source": [
    "bugTypeDf = df[df.bugType == 'CHANGE_NUMERAL']\n",
    "bugTypeSample = bugTypeDf.iloc[1]\n",
    "print(bugTypeSample.sourceBeforeFix)\n",
    "print(bugTypeSample.sourceAfterFix)\n",
    "print()\n",
    "print(bugTypeSample.fixPatch)"
   ]
  },
  {
   "cell_type": "markdown",
   "metadata": {
    "pycharm": {
     "name": "#%% md\n"
    }
   },
   "source": [
    "- Contains changing one number to another\n",
    "- Might change the type"
   ]
  },
  {
   "cell_type": "markdown",
   "metadata": {
    "pycharm": {
     "name": "#%% md\n"
    }
   },
   "source": [
    "#### 5. CHANGE_OPERAND"
   ]
  },
  {
   "cell_type": "code",
   "execution_count": 203,
   "metadata": {
    "pycharm": {
     "name": "#%%\n"
    }
   },
   "outputs": [
    {
     "name": "stdout",
     "output_type": "stream",
     "text": [
      "\"\" + SYSTEM_PROPERTIES_MODE_FALLBACK\n",
      "\"\" + ENVIRONMENT_VARIABLES_MODE_OVERRIDE\n",
      "\n",
      "diff --git a/components/camel-properties/src/main/java/org/apache/camel/component/properties/PropertiesComponent.java b/components/camel-properties/src/main/java/org/apache/camel/component/properties/PropertiesComponent.java\n",
      "index b6a2df5..5094e47 100644\n",
      "--- a/components/camel-properties/src/main/java/org/apache/camel/component/properties/PropertiesComponent.java\n",
      "+++ b/components/camel-properties/src/main/java/org/apache/camel/component/properties/PropertiesComponent.java\n",
      "@@ -120,7 +120,7 @@\n",
      "     private Properties overrideProperties;\n",
      "     @Metadata(defaultValue = \"\" + SYSTEM_PROPERTIES_MODE_OVERRIDE, enums = \"0,1,2\")\n",
      "     private int systemPropertiesMode = SYSTEM_PROPERTIES_MODE_OVERRIDE;\n",
      "-    @Metadata(defaultValue = \"\" + SYSTEM_PROPERTIES_MODE_FALLBACK, enums = \"0,1,2\")\n",
      "+    @Metadata(defaultValue = \"\" + ENVIRONMENT_VARIABLES_MODE_OVERRIDE, enums = \"0,1,2\")\n",
      "     private int environmentVariableMode = ENVIRONMENT_VARIABLES_MODE_OVERRIDE;\n",
      " \n",
      "     public PropertiesComponent() {\n",
      "\n"
     ]
    }
   ],
   "source": [
    "bugTypeDf = df[df.bugType == 'CHANGE_OPERAND']\n",
    "bugTypeSample = bugTypeDf.iloc[28]\n",
    "print(bugTypeSample.sourceBeforeFix)\n",
    "print(bugTypeSample.sourceAfterFix)\n",
    "print()\n",
    "print(bugTypeSample.fixPatch)"
   ]
  },
  {
   "cell_type": "markdown",
   "metadata": {
    "pycharm": {
     "name": "#%% md\n"
    }
   },
   "source": [
    "- Contains changing an operand of an operator\n",
    "- Need to check if contains changing both operator\n",
    "- Need to check if contains `=` operator"
   ]
  },
  {
   "cell_type": "markdown",
   "metadata": {
    "pycharm": {
     "name": "#%% md\n"
    }
   },
   "source": [
    "#### 6. CHANGE_OPERATOR"
   ]
  },
  {
   "cell_type": "code",
   "execution_count": 204,
   "metadata": {
    "pycharm": {
     "name": "#%%\n"
    }
   },
   "outputs": [
    {
     "name": "stdout",
     "output_type": "stream",
     "text": [
      "i > BY_WOOL_DATA.length\n",
      "i >= BY_WOOL_DATA.length\n",
      "\n",
      "diff --git a/src/main/java/org/bukkit/DyeColor.java b/src/main/java/org/bukkit/DyeColor.java\n",
      "index b8e59a4..58f517b 100644\n",
      "--- a/src/main/java/org/bukkit/DyeColor.java\n",
      "+++ b/src/main/java/org/bukkit/DyeColor.java\n",
      "@@ -164,7 +164,7 @@\n",
      "      */\n",
      "     public static DyeColor getByWoolData(final byte data) {\n",
      "         int i = 0xff & data;\n",
      "-        if (i > BY_WOOL_DATA.length) {\n",
      "+        if (i >= BY_WOOL_DATA.length) {\n",
      "             return null;\n",
      "         }\n",
      "         return BY_WOOL_DATA[i];\n",
      "@@ -179,7 +179,7 @@\n",
      "      */\n",
      "     public static DyeColor getByDyeData(final byte data) {\n",
      "         int i = 0xff & data;\n",
      "-        if (i > BY_DYE_DATA.length) {\n",
      "+        if (i >= BY_DYE_DATA.length) {\n",
      "             return null;\n",
      "         }\n",
      "         return BY_DYE_DATA[i];\n",
      "\n"
     ]
    }
   ],
   "source": [
    "bugTypeDf = df[df.bugType == 'CHANGE_OPERATOR']\n",
    "bugTypeSample = bugTypeDf.iloc[28]\n",
    "print(bugTypeSample.sourceBeforeFix)\n",
    "print(bugTypeSample.sourceAfterFix)\n",
    "print()\n",
    "print(bugTypeSample.fixPatch)"
   ]
  },
  {
   "cell_type": "markdown",
   "metadata": {
    "pycharm": {
     "name": "#%% md\n"
    }
   },
   "source": [
    "#### 7. CHANGE_UNARY_OPERATOR"
   ]
  },
  {
   "cell_type": "code",
   "execution_count": 205,
   "metadata": {
    "pycharm": {
     "name": "#%%\n"
    }
   },
   "outputs": [
    {
     "name": "stdout",
     "output_type": "stream",
     "text": [
      "ufsDeleter.delete(alluxioUriToDel,delInode)\n",
      "!ufsDeleter.delete(alluxioUriToDel,delInode)\n",
      "\n",
      "diff --git a/core/server/master/src/main/java/alluxio/master/file/DefaultFileSystemMaster.java b/core/server/master/src/main/java/alluxio/master/file/DefaultFileSystemMaster.java\n",
      "index e015ad9..9def980 100644\n",
      "--- a/core/server/master/src/main/java/alluxio/master/file/DefaultFileSystemMaster.java\n",
      "+++ b/core/server/master/src/main/java/alluxio/master/file/DefaultFileSystemMaster.java\n",
      "@@ -1207,7 +1207,7 @@\n",
      "               unmountInternal(alluxioUriToDel);\n",
      "             } else if (!deleteOptions.isAlluxioOnly()) {\n",
      "               // Attempt to delete node if all children were deleted successfully\n",
      "-              failedToDelete = ufsDeleter.delete(alluxioUriToDel, delInode);\n",
      "+              failedToDelete = !ufsDeleter.delete(alluxioUriToDel, delInode);\n",
      "             }\n",
      "           } catch (InvalidPathException e) {\n",
      "             LOG.warn(e.getMessage());\n",
      "\n"
     ]
    }
   ],
   "source": [
    "bugTypeDf = df[df.bugType == 'CHANGE_UNARY_OPERATOR']\n",
    "bugTypeSample = bugTypeDf.iloc[5]\n",
    "print(bugTypeSample.sourceBeforeFix)\n",
    "print(bugTypeSample.sourceAfterFix)\n",
    "print()\n",
    "print(bugTypeSample.fixPatch)"
   ]
  },
  {
   "cell_type": "markdown",
   "metadata": {
    "pycharm": {
     "name": "#%% md\n"
    }
   },
   "source": [
    "- Need to check if contains anything other than `!`"
   ]
  },
  {
   "cell_type": "markdown",
   "metadata": {
    "pycharm": {
     "name": "#%% md\n"
    }
   },
   "source": [
    "#### 8. DELETE_THROWS_EXCEPTION"
   ]
  },
  {
   "cell_type": "code",
   "execution_count": 206,
   "metadata": {
    "pycharm": {
     "name": "#%%\n"
    }
   },
   "outputs": [
    {
     "name": "stdout",
     "output_type": "stream",
     "text": [
      "1\n",
      "1\n",
      "\n",
      "diff --git a/src/main/java/com/alibaba/druid/support/spring/stat/BeanTypeAutoProxyCreator.java b/src/main/java/com/alibaba/druid/support/spring/stat/BeanTypeAutoProxyCreator.java\n",
      "index 42409d8..6ce7f98 100644\n",
      "--- a/src/main/java/com/alibaba/druid/support/spring/stat/BeanTypeAutoProxyCreator.java\n",
      "+++ b/src/main/java/com/alibaba/druid/support/spring/stat/BeanTypeAutoProxyCreator.java\n",
      "@@ -52,7 +52,7 @@\n",
      "         this.targetBeanType = targetClass;\n",
      "     }\n",
      " \n",
      "-    public void setApplicationContext(ApplicationContext context) throws BeansException {\n",
      "+    public void setApplicationContext(ApplicationContext context) {\n",
      "         this.context = context;\n",
      "     }\n",
      " \n",
      "\n"
     ]
    }
   ],
   "source": [
    "bugTypeDf = df[df.bugType == 'DELETE_THROWS_EXCEPTION']\n",
    "bugTypeSample = bugTypeDf.iloc[5]\n",
    "print(bugTypeSample.sourceBeforeFix)\n",
    "print(bugTypeSample.sourceAfterFix)\n",
    "print()\n",
    "print(bugTypeSample.fixPatch)"
   ]
  },
  {
   "cell_type": "code",
   "execution_count": 207,
   "metadata": {
    "pycharm": {
     "name": "#%%\n"
    }
   },
   "outputs": [
    {
     "name": "stdout",
     "output_type": "stream",
     "text": [
      "['0' '1' '10' '4' '9']\n",
      "['0' '1' '10' '4' '9']\n"
     ]
    }
   ],
   "source": [
    "print(np.unique(bugTypeDf.sourceBeforeFix))\n",
    "print(np.unique(bugTypeDf.sourceAfterFix))"
   ]
  },
  {
   "cell_type": "markdown",
   "metadata": {
    "pycharm": {
     "name": "#%% md\n"
    }
   },
   "source": [
    "- Values in `sourceBeforeFix` or `sourceAfterFix` are different from `ADD_THROWS_EXCEPTION`.\n",
    "  Need to explore outersecting types (`'2' '10' '33' '34')`."
   ]
  },
  {
   "cell_type": "markdown",
   "metadata": {
    "pycharm": {
     "is_executing": true,
     "name": "#%% md\n"
    }
   },
   "source": [
    "#### 9. DIFFERENT_METHOD_SAME_ARGS"
   ]
  },
  {
   "cell_type": "code",
   "execution_count": 208,
   "metadata": {
    "pycharm": {
     "name": "#%%\n"
    }
   },
   "outputs": [
    {
     "name": "stdout",
     "output_type": "stream",
     "text": [
      "xtw.writeCharacters(customProperty.getSimpleValue())\n",
      "xtw.writeCData(customProperty.getSimpleValue())\n",
      "\n",
      "diff --git a/modules/activiti-bpmn-converter/src/main/java/org/activiti/bpmn/converter/UserTaskXMLConverter.java b/modules/activiti-bpmn-converter/src/main/java/org/activiti/bpmn/converter/UserTaskXMLConverter.java\n",
      "index d588c3d..fb523c6 100644\n",
      "--- a/modules/activiti-bpmn-converter/src/main/java/org/activiti/bpmn/converter/UserTaskXMLConverter.java\n",
      "+++ b/modules/activiti-bpmn-converter/src/main/java/org/activiti/bpmn/converter/UserTaskXMLConverter.java\n",
      "@@ -162,7 +162,7 @@\n",
      "           didWriteExtensionStartElement = true;\n",
      "         }\n",
      "         xtw.writeStartElement(ACTIVITI_EXTENSIONS_PREFIX, customProperty.getName(), ACTIVITI_EXTENSIONS_NAMESPACE);\n",
      "-        xtw.writeCharacters(customProperty.getSimpleValue());\n",
      "+        xtw.writeCData(customProperty.getSimpleValue());\n",
      "         xtw.writeEndElement();\n",
      "       }\n",
      "     }\n",
      "\n"
     ]
    }
   ],
   "source": [
    "bugTypeDf = df[df.bugType == 'DIFFERENT_METHOD_SAME_ARGS']\n",
    "bugTypeSample = bugTypeDf.iloc[8]\n",
    "print(bugTypeSample.sourceBeforeFix)\n",
    "print(bugTypeSample.sourceAfterFix)\n",
    "print()\n",
    "print(bugTypeSample.fixPatch)"
   ]
  },
  {
   "cell_type": "markdown",
   "metadata": {
    "pycharm": {
     "name": "#%% md\n"
    }
   },
   "source": [
    "- Need to check if shares entries with `CHANGE_IDENTIFIER`"
   ]
  },
  {
   "cell_type": "markdown",
   "metadata": {
    "pycharm": {
     "name": "#%% md\n"
    }
   },
   "source": [
    "#### 10. LESS_SPECIFIC_IF"
   ]
  },
  {
   "cell_type": "code",
   "execution_count": 209,
   "metadata": {
    "pycharm": {
     "name": "#%%\n"
    }
   },
   "outputs": [
    {
     "name": "stdout",
     "output_type": "stream",
     "text": [
      "!ufsSyncChecker.isDirectoryInSync(parentUri)\n",
      "alluxioUriToDel.equals(inodePath.getUri()) || !ufsSyncChecker.isDirectoryInSync(parentUri)\n",
      "\n",
      "diff --git a/core/server/master/src/main/java/alluxio/master/file/DefaultFileSystemMaster.java b/core/server/master/src/main/java/alluxio/master/file/DefaultFileSystemMaster.java\n",
      "index 435021b..77a8b9f 100644\n",
      "--- a/core/server/master/src/main/java/alluxio/master/file/DefaultFileSystemMaster.java\n",
      "+++ b/core/server/master/src/main/java/alluxio/master/file/DefaultFileSystemMaster.java\n",
      "@@ -1226,7 +1226,8 @@\n",
      "               String ufsUri = resolution.getUri().toString();\n",
      "               UnderFileSystem ufs = resolution.getUfs();\n",
      "               AlluxioURI parentUri = alluxioUriToDel.getParent();\n",
      "-              if (!ufsSyncChecker.isDirectoryInSync(parentUri)) {\n",
      "+              if (alluxioUriToDel.equals(inodePath.getUri())\n",
      "+                  || !ufsSyncChecker.isDirectoryInSync(parentUri)) {\n",
      "                 // Parent will not recursively delete, so delete this inode individually\n",
      "                 if (delInode.isFile()) {\n",
      "                   if (!ufs.deleteFile(ufsUri)) {\n",
      "\n"
     ]
    }
   ],
   "source": [
    "bugTypeDf = df[df.bugType == 'LESS_SPECIFIC_IF']\n",
    "bugTypeSample = bugTypeDf.iloc[4]\n",
    "print(bugTypeSample.sourceBeforeFix)\n",
    "print(bugTypeSample.sourceAfterFix)\n",
    "print()\n",
    "print(bugTypeSample.fixPatch)"
   ]
  },
  {
   "cell_type": "markdown",
   "metadata": {
    "pycharm": {
     "name": "#%% md\n"
    }
   },
   "source": [
    "- Contains `if`s where more condition added with `OR`"
   ]
  },
  {
   "cell_type": "markdown",
   "metadata": {
    "pycharm": {
     "name": "#%% md\n"
    }
   },
   "source": [
    "#### 11. MORE_SPECIFIC_IF"
   ]
  },
  {
   "cell_type": "code",
   "execution_count": 210,
   "metadata": {
    "pycharm": {
     "name": "#%%\n"
    }
   },
   "outputs": [
    {
     "name": "stdout",
     "output_type": "stream",
     "text": [
      "idAnnotation != null\n",
      "idAnnotation != null && !method.isBridge()\n",
      "\n",
      "diff --git a/modules/activiti-engine/src/main/java/org/activiti/engine/impl/variable/JPAEntityScanner.java b/modules/activiti-engine/src/main/java/org/activiti/engine/impl/variable/JPAEntityScanner.java\n",
      "index 5fbbb87..f3e9bf7 100644\n",
      "--- a/modules/activiti-engine/src/main/java/org/activiti/engine/impl/variable/JPAEntityScanner.java\n",
      "+++ b/modules/activiti-engine/src/main/java/org/activiti/engine/impl/variable/JPAEntityScanner.java\n",
      "@@ -70,7 +70,7 @@\n",
      "     Id idAnnotation = null;\n",
      "     for (Method method : methods) {\n",
      "       idAnnotation = method.getAnnotation(Id.class);\n",
      "-      if (idAnnotation != null) {\n",
      "+      if(idAnnotation != null && !method.isBridge()) {\n",
      "         idMethod = method;\n",
      "         break;\n",
      "       }\n",
      "\n"
     ]
    }
   ],
   "source": [
    "bugTypeDf = df[df.bugType == 'MORE_SPECIFIC_IF']\n",
    "bugTypeSample = bugTypeDf.iloc[4]\n",
    "print(bugTypeSample.sourceBeforeFix)\n",
    "print(bugTypeSample.sourceAfterFix)\n",
    "print()\n",
    "print(bugTypeSample.fixPatch)"
   ]
  },
  {
   "cell_type": "markdown",
   "metadata": {
    "pycharm": {
     "name": "#%% md\n"
    }
   },
   "source": [
    "- Contains `if`s where more condition added with `AND`"
   ]
  },
  {
   "cell_type": "markdown",
   "metadata": {
    "pycharm": {
     "name": "#%% md\n"
    }
   },
   "source": [
    "#### 12. OVERLOAD_METHOD_DELETED_ARGS"
   ]
  },
  {
   "cell_type": "code",
   "execution_count": 211,
   "metadata": {
    "pycharm": {
     "name": "#%%\n"
    }
   },
   "outputs": [
    {
     "name": "stdout",
     "output_type": "stream",
     "text": [
      "new LocalTachyonClusterResource(Constants.GB,Constants.KB,BLOCK_SIZE,Constants.KEY_VALUE_ENABLED,\"true\",Constants.KEY_VALUE_PARTITION_SIZE_BYTES_MAX,Integer.toString(KEY_VALUE_PARTITION_SIZE))\n",
      "new LocalTachyonClusterResource(Constants.GB,BLOCK_SIZE,Constants.KEY_VALUE_ENABLED,\"true\",Constants.KEY_VALUE_PARTITION_SIZE_BYTES_MAX,Integer.toString(KEY_VALUE_PARTITION_SIZE))\n",
      "\n",
      "diff --git a/tests/src/test/java/tachyon/client/keyvalue/hadoop/KeyValueStoreMapReduceIntegrationTest.java b/tests/src/test/java/tachyon/client/keyvalue/hadoop/KeyValueStoreMapReduceIntegrationTest.java\n",
      "index 9bd8778..b34b8aa 100644\n",
      "--- a/tests/src/test/java/tachyon/client/keyvalue/hadoop/KeyValueStoreMapReduceIntegrationTest.java\n",
      "+++ b/tests/src/test/java/tachyon/client/keyvalue/hadoop/KeyValueStoreMapReduceIntegrationTest.java\n",
      "@@ -50,7 +50,7 @@\n",
      " \n",
      "   @ClassRule\n",
      "   public static LocalTachyonClusterResource sLocalTachyonClusterResource =\n",
      "-      new LocalTachyonClusterResource(Constants.GB, Constants.KB, BLOCK_SIZE,\n",
      "+      new LocalTachyonClusterResource(Constants.GB, BLOCK_SIZE,\n",
      "           /* ensure key-value service is turned on */\n",
      "           Constants.KEY_VALUE_ENABLED, \"true\",\n",
      "           Constants.KEY_VALUE_PARTITION_SIZE_BYTES_MAX, Integer.toString(KEY_VALUE_PARTITION_SIZE));\n",
      "\n"
     ]
    }
   ],
   "source": [
    "bugTypeDf = df[df.bugType == 'OVERLOAD_METHOD_DELETED_ARGS']\n",
    "bugTypeSample = bugTypeDf.iloc[4]\n",
    "print(bugTypeSample.sourceBeforeFix)\n",
    "print(bugTypeSample.sourceAfterFix)\n",
    "print()\n",
    "print(bugTypeSample.fixPatch)"
   ]
  },
  {
   "cell_type": "markdown",
   "metadata": {
    "pycharm": {
     "name": "#%% md\n"
    }
   },
   "source": [
    "- Contains if an argument is removed from method"
   ]
  },
  {
   "cell_type": "markdown",
   "metadata": {
    "pycharm": {
     "name": "#%% md\n"
    }
   },
   "source": [
    "#### 13. OVERLOAD_METHOD_MORE_ARGS"
   ]
  },
  {
   "cell_type": "code",
   "execution_count": 212,
   "metadata": {
    "pycharm": {
     "name": "#%%\n"
    }
   },
   "outputs": [
    {
     "name": "stdout",
     "output_type": "stream",
     "text": [
      "IOUtils.toString(stencilsetStream)\n",
      "IOUtils.toString(stencilsetStream,\"utf-8\")\n",
      "\n",
      "diff --git a/modules/activiti-modeler/src/main/java/org/activiti/rest/editor/main/StencilsetRestResource.java b/modules/activiti-modeler/src/main/java/org/activiti/rest/editor/main/StencilsetRestResource.java\n",
      "index b07c4a7..4502b19 100644\n",
      "--- a/modules/activiti-modeler/src/main/java/org/activiti/rest/editor/main/StencilsetRestResource.java\n",
      "+++ b/modules/activiti-modeler/src/main/java/org/activiti/rest/editor/main/StencilsetRestResource.java\n",
      "@@ -27,11 +27,11 @@\n",
      " @RestController\n",
      " public class StencilsetRestResource {\n",
      "   \n",
      "-  @RequestMapping(value=\"/editor/stencilset\", method = RequestMethod.GET, produces = \"application/json\")\n",
      "+  @RequestMapping(value=\"/editor/stencilset\", method = RequestMethod.GET, produces = \"application/json;charset=utf-8\")\n",
      "   public @ResponseBody String getStencilset() {\n",
      "     InputStream stencilsetStream = this.getClass().getClassLoader().getResourceAsStream(\"stencilset.json\");\n",
      "     try {\n",
      "-      return IOUtils.toString(stencilsetStream);\n",
      "+      return IOUtils.toString(stencilsetStream, \"utf-8\");\n",
      "     } catch (Exception e) {\n",
      "       throw new ActivitiException(\"Error while loading stencil set\", e);\n",
      "     }\n",
      "\n"
     ]
    }
   ],
   "source": [
    "bugTypeDf = df[df.bugType == 'OVERLOAD_METHOD_MORE_ARGS']\n",
    "bugTypeSample = bugTypeDf.iloc[4]\n",
    "print(bugTypeSample.sourceBeforeFix)\n",
    "print(bugTypeSample.sourceAfterFix)\n",
    "print()\n",
    "print(bugTypeSample.fixPatch)"
   ]
  },
  {
   "cell_type": "markdown",
   "metadata": {
    "pycharm": {
     "name": "#%% md\n"
    }
   },
   "source": [
    "- Contains if an argument is added to method\n",
    "- Need to check if more than one argument are added anywhere"
   ]
  },
  {
   "cell_type": "markdown",
   "metadata": {
    "pycharm": {
     "name": "#%% md\n"
    }
   },
   "source": [
    "#### 14. SWAP_ARGUMENTS"
   ]
  },
  {
   "cell_type": "code",
   "execution_count": 213,
   "metadata": {
    "pycharm": {
     "name": "#%%\n"
    }
   },
   "outputs": [
    {
     "name": "stdout",
     "output_type": "stream",
     "text": [
      "new NetAddress(resolvedHost,resolvedPort,-1)\n",
      "new NetAddress(resolvedHost,-1,resolvedPort)\n",
      "\n",
      "diff --git a/servers/src/main/java/tachyon/master/BlockInfo.java b/servers/src/main/java/tachyon/master/BlockInfo.java\n",
      "index 10f3b21..ec659db 100644\n",
      "--- a/servers/src/main/java/tachyon/master/BlockInfo.java\n",
      "+++ b/servers/src/main/java/tachyon/master/BlockInfo.java\n",
      "@@ -187,7 +187,8 @@\n",
      "           } catch (NumberFormatException nfe) {\n",
      "             continue;\n",
      "           }\n",
      "-          ret.add(new NetAddress(resolvedHost, resolvedPort, -1));\n",
      "+          // The resolved port is the data transfer port not the rpc port\n",
      "+          ret.add(new NetAddress(resolvedHost, -1, resolvedPort));\n",
      "         }\n",
      "       }\n",
      "     }\n",
      "\n"
     ]
    }
   ],
   "source": [
    "bugTypeDf = df[df.bugType == 'SWAP_ARGUMENTS']\n",
    "bugTypeSample = bugTypeDf.iloc[0]\n",
    "print(bugTypeSample.sourceBeforeFix)\n",
    "print(bugTypeSample.sourceAfterFix)\n",
    "print()\n",
    "print(bugTypeSample.fixPatch)"
   ]
  },
  {
   "cell_type": "markdown",
   "metadata": {
    "pycharm": {
     "name": "#%% md\n"
    }
   },
   "source": [
    "- Very few entries here are actually bugs. Most are assertions.\n",
    "- As expected, where it is really error, the types of both the arguments are the same."
   ]
  },
  {
   "cell_type": "markdown",
   "metadata": {
    "pycharm": {
     "name": "#%% md\n"
    }
   },
   "source": [
    "#### 15. SWAP_BOOLEAN_LITERAL"
   ]
  },
  {
   "cell_type": "code",
   "execution_count": 214,
   "metadata": {
    "pycharm": {
     "name": "#%%\n"
    }
   },
   "outputs": [
    {
     "name": "stdout",
     "output_type": "stream",
     "text": [
      "setAttributeInternal(tempInodePath,true,opTimeMs,options)\n",
      "setAttributeInternal(tempInodePath,false,opTimeMs,options)\n",
      "\n",
      "diff --git a/core/server/src/main/java/alluxio/master/file/FileSystemMaster.java b/core/server/src/main/java/alluxio/master/file/FileSystemMaster.java\n",
      "index 3e6c8a8..79939ab 100644\n",
      "--- a/core/server/src/main/java/alluxio/master/file/FileSystemMaster.java\n",
      "+++ b/core/server/src/main/java/alluxio/master/file/FileSystemMaster.java\n",
      "@@ -2294,14 +2294,14 @@\n",
      "         for (Inode<?> inode : inodeChildren) {\n",
      "           // the path to inode for getPath should already be locked.\n",
      "           tempInodePath.setDescendant(inode, mInodeTree.getPath(inode));\n",
      "-          List<Inode<?>> persistedInodes = setAttributeInternal(tempInodePath, true, opTimeMs,\n",
      "+          List<Inode<?>> persistedInodes = setAttributeInternal(tempInodePath, false, opTimeMs,\n",
      "               options);\n",
      "           journalPersistedInodes(persistedInodes);\n",
      "           journalSetAttribute(tempInodePath, opTimeMs, options);\n",
      "         }\n",
      "       }\n",
      "     }\n",
      "-    List<Inode<?>> persistedInodes = setAttributeInternal(inodePath, true, opTimeMs, options);\n",
      "+    List<Inode<?>> persistedInodes = setAttributeInternal(inodePath, false, opTimeMs, options);\n",
      "     journalPersistedInodes(persistedInodes);\n",
      "     return journalSetAttribute(inodePath, opTimeMs, options);\n",
      "   }\n",
      "@@ -2529,7 +2529,7 @@\n",
      "     }\n",
      "     try (LockedInodePath inodePath = mInodeTree\n",
      "         .lockFullInodePath(entry.getId(), InodeTree.LockMode.WRITE)) {\n",
      "-      setAttributeInternal(inodePath, false, entry.getOpTimeMs(), options);\n",
      "+      setAttributeInternal(inodePath, true, entry.getOpTimeMs(), options);\n",
      "       // Intentionally not journaling the persisted inodes from setAttributeInternal\n",
      "     }\n",
      "   }\n",
      "\n"
     ]
    }
   ],
   "source": [
    "bugTypeDf = df[df.bugType == 'SWAP_BOOLEAN_LITERAL']\n",
    "bugTypeSample = bugTypeDf.iloc[9]\n",
    "print(bugTypeSample.sourceBeforeFix)\n",
    "print(bugTypeSample.sourceAfterFix)\n",
    "print()\n",
    "print(bugTypeSample.fixPatch)"
   ]
  },
  {
   "cell_type": "markdown",
   "metadata": {
    "pycharm": {
     "name": "#%% md\n"
    }
   },
   "source": [
    "- Contains entries where `true` is changed to `false` or vice-versa."
   ]
  },
  {
   "cell_type": "markdown",
   "metadata": {
    "pycharm": {
     "name": "#%% md\n"
    }
   },
   "source": [
    "### Key Notes"
   ]
  },
  {
   "cell_type": "markdown",
   "metadata": {
    "pycharm": {
     "name": "#%% md\n"
    }
   },
   "source": [
    "* If there are multiple diffs, then they are counted as different entries\n"
   ]
  }
 ],
 "metadata": {
  "kernelspec": {
   "display_name": "Python 3",
   "language": "python",
   "name": "python3"
  },
  "language_info": {
   "codemirror_mode": {
    "name": "ipython",
    "version": 3
   },
   "file_extension": ".py",
   "mimetype": "text/x-python",
   "name": "python",
   "nbconvert_exporter": "python",
   "pygments_lexer": "ipython3",
   "version": "3.7.8"
  }
 },
 "nbformat": 4,
 "nbformat_minor": 1
}

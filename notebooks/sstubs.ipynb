{
 "cells": [
  {
   "cell_type": "code",
   "execution_count": 45,
   "metadata": {
    "collapsed": true
   },
   "outputs": [],
   "source": [
    "import pandas as pd\n",
    "import numpy as np"
   ]
  },
  {
   "cell_type": "code",
   "execution_count": 3,
   "outputs": [],
   "source": [
    "df = pd.read_json('../dataset/sstubs')"
   ],
   "metadata": {
    "collapsed": false,
    "pycharm": {
     "name": "#%%\n"
    }
   }
  },
  {
   "cell_type": "code",
   "execution_count": 36,
   "outputs": [
    {
     "data": {
      "text/plain": "(10231, 14)"
     },
     "execution_count": 36,
     "metadata": {},
     "output_type": "execute_result"
    }
   ],
   "source": [
    "df.shape"
   ],
   "metadata": {
    "collapsed": false,
    "pycharm": {
     "name": "#%%\n"
    }
   }
  },
  {
   "cell_type": "markdown",
   "source": [
    "### Overview"
   ],
   "metadata": {
    "collapsed": false,
    "pycharm": {
     "name": "#%% md\n"
    }
   }
  },
  {
   "cell_type": "code",
   "execution_count": 56,
   "outputs": [
    {
     "data": {
      "text/plain": "                             bugType  \\\n5620  CHANGE_CALLER_IN_FUNCTION_CALL   \n1174               CHANGE_IDENTIFIER   \n773                CHANGE_IDENTIFIER   \n1146       OVERLOAD_METHOD_MORE_ARGS   \n2874                  CHANGE_NUMERAL   \n\n                                 fixCommitSHA1  \\\n5620  be32765c0ef5c0c0b48f8c649e971595a439013a   \n1174  a161d8d1924d1fb49a4d229370d998be1493957c   \n773   c3439fb13b3fa16d5e42d0e064065be5ae7462eb   \n1146  a8c6a40fd192cd5692c550a3311db004535cd0a6   \n2874  435805f612bf78ee0d2fd93cd90fa6c6740e17c2   \n\n                           fixCommitParentSHA1  \\\n5620  0ccf4b5d33513e0071ab3b669856903ea7f6a8be   \n1174  2226b56a998b547dcd7363212f64c6348e067175   \n773   a9985cbe64988960f30426fd36cbb4487e6d10b4   \n1146  7bc94baa71ade05764f5d5b4e37729139213b090   \n2874  b3d9693fe46c1bb11d299aa00042a48af11f276a   \n\n                                            bugFilePath  \\\n5620  VisualizationModule/src/org/gephi/visualizatio...   \n1174  graylog2-shared/src/main/java/org/graylog2/sha...   \n773   src/main/java/com/ning/http/client/SimpleAsync...   \n1146  graylog2-server/src/main/java/org/graylog2/ind...   \n2874  components/camel-jsch/src/test/java/org/apache...   \n\n                                               fixPatch  \\\n5620  diff --git a/VisualizationModule/src/org/gephi...   \n1174  diff --git a/graylog2-shared/src/main/java/org...   \n773   diff --git a/src/main/java/com/ning/http/clien...   \n1146  diff --git a/graylog2-server/src/main/java/org...   \n2874  diff --git a/components/camel-jsch/src/test/ja...   \n\n                            projectName  bugLineNum  bugNodeStartChar  \\\n5620                        gephi.gephi         274              9640   \n1174           Graylog2.graylog2-server         462             21886   \n773   AsyncHttpClient.async-http-client         485             18758   \n1146           Graylog2.graylog2-server         256             10737   \n2874                       apache.camel          77              3168   \n\n      bugNodeLength  fixLineNum  fixNodeStartChar  fixNodeLength  \\\n5620             39         274              9640             38   \n1174             48         462             21886             52   \n773             135         485             18758            128   \n1146            111         256             10737            118   \n2874             17          77              3168             17   \n\n                                        sourceBeforeFix  \\\n5620            colorModeClass.equals(\"ScaledSizeMode\")   \n1174   JavaConversions.asIterable(logManager.allLogs())   \n773   public DerivedBuilder setRealmPassword(String ...   \n1146  filteredSearchRequest(query,filter,IndexHelper...   \n2874                                  Thread.sleep(200)   \n\n                                         sourceAfterFix  \n5620             sizeModeClass.equals(\"ScaledSizeMode\")  \n1174  JavaConversions.asJavaIterable(logManager.allL...  \n773   public Builder setRealmPassword(String passwor...  \n1146  filteredSearchRequest(query,filter,IndexHelper...  \n2874                                  Thread.sleep(500)  ",
      "text/html": "<div>\n<style scoped>\n    .dataframe tbody tr th:only-of-type {\n        vertical-align: middle;\n    }\n\n    .dataframe tbody tr th {\n        vertical-align: top;\n    }\n\n    .dataframe thead th {\n        text-align: right;\n    }\n</style>\n<table border=\"1\" class=\"dataframe\">\n  <thead>\n    <tr style=\"text-align: right;\">\n      <th></th>\n      <th>bugType</th>\n      <th>fixCommitSHA1</th>\n      <th>fixCommitParentSHA1</th>\n      <th>bugFilePath</th>\n      <th>fixPatch</th>\n      <th>projectName</th>\n      <th>bugLineNum</th>\n      <th>bugNodeStartChar</th>\n      <th>bugNodeLength</th>\n      <th>fixLineNum</th>\n      <th>fixNodeStartChar</th>\n      <th>fixNodeLength</th>\n      <th>sourceBeforeFix</th>\n      <th>sourceAfterFix</th>\n    </tr>\n  </thead>\n  <tbody>\n    <tr>\n      <th>5620</th>\n      <td>CHANGE_CALLER_IN_FUNCTION_CALL</td>\n      <td>be32765c0ef5c0c0b48f8c649e971595a439013a</td>\n      <td>0ccf4b5d33513e0071ab3b669856903ea7f6a8be</td>\n      <td>VisualizationModule/src/org/gephi/visualizatio...</td>\n      <td>diff --git a/VisualizationModule/src/org/gephi...</td>\n      <td>gephi.gephi</td>\n      <td>274</td>\n      <td>9640</td>\n      <td>39</td>\n      <td>274</td>\n      <td>9640</td>\n      <td>38</td>\n      <td>colorModeClass.equals(\"ScaledSizeMode\")</td>\n      <td>sizeModeClass.equals(\"ScaledSizeMode\")</td>\n    </tr>\n    <tr>\n      <th>1174</th>\n      <td>CHANGE_IDENTIFIER</td>\n      <td>a161d8d1924d1fb49a4d229370d998be1493957c</td>\n      <td>2226b56a998b547dcd7363212f64c6348e067175</td>\n      <td>graylog2-shared/src/main/java/org/graylog2/sha...</td>\n      <td>diff --git a/graylog2-shared/src/main/java/org...</td>\n      <td>Graylog2.graylog2-server</td>\n      <td>462</td>\n      <td>21886</td>\n      <td>48</td>\n      <td>462</td>\n      <td>21886</td>\n      <td>52</td>\n      <td>JavaConversions.asIterable(logManager.allLogs())</td>\n      <td>JavaConversions.asJavaIterable(logManager.allL...</td>\n    </tr>\n    <tr>\n      <th>773</th>\n      <td>CHANGE_IDENTIFIER</td>\n      <td>c3439fb13b3fa16d5e42d0e064065be5ae7462eb</td>\n      <td>a9985cbe64988960f30426fd36cbb4487e6d10b4</td>\n      <td>src/main/java/com/ning/http/client/SimpleAsync...</td>\n      <td>diff --git a/src/main/java/com/ning/http/clien...</td>\n      <td>AsyncHttpClient.async-http-client</td>\n      <td>485</td>\n      <td>18758</td>\n      <td>135</td>\n      <td>485</td>\n      <td>18758</td>\n      <td>128</td>\n      <td>public DerivedBuilder setRealmPassword(String ...</td>\n      <td>public Builder setRealmPassword(String passwor...</td>\n    </tr>\n    <tr>\n      <th>1146</th>\n      <td>OVERLOAD_METHOD_MORE_ARGS</td>\n      <td>a8c6a40fd192cd5692c550a3311db004535cd0a6</td>\n      <td>7bc94baa71ade05764f5d5b4e37729139213b090</td>\n      <td>graylog2-server/src/main/java/org/graylog2/ind...</td>\n      <td>diff --git a/graylog2-server/src/main/java/org...</td>\n      <td>Graylog2.graylog2-server</td>\n      <td>256</td>\n      <td>10737</td>\n      <td>111</td>\n      <td>256</td>\n      <td>10737</td>\n      <td>118</td>\n      <td>filteredSearchRequest(query,filter,IndexHelper...</td>\n      <td>filteredSearchRequest(query,filter,IndexHelper...</td>\n    </tr>\n    <tr>\n      <th>2874</th>\n      <td>CHANGE_NUMERAL</td>\n      <td>435805f612bf78ee0d2fd93cd90fa6c6740e17c2</td>\n      <td>b3d9693fe46c1bb11d299aa00042a48af11f276a</td>\n      <td>components/camel-jsch/src/test/java/org/apache...</td>\n      <td>diff --git a/components/camel-jsch/src/test/ja...</td>\n      <td>apache.camel</td>\n      <td>77</td>\n      <td>3168</td>\n      <td>17</td>\n      <td>77</td>\n      <td>3168</td>\n      <td>17</td>\n      <td>Thread.sleep(200)</td>\n      <td>Thread.sleep(500)</td>\n    </tr>\n  </tbody>\n</table>\n</div>"
     },
     "execution_count": 56,
     "metadata": {},
     "output_type": "execute_result"
    }
   ],
   "source": [
    "df.sample(5)"
   ],
   "metadata": {
    "collapsed": false,
    "pycharm": {
     "name": "#%%\n"
    }
   }
  },
  {
   "cell_type": "markdown",
   "source": [
    "### Sample Entry"
   ],
   "metadata": {
    "collapsed": false,
    "pycharm": {
     "name": "#%% md\n"
    }
   }
  },
  {
   "cell_type": "code",
   "execution_count": 55,
   "outputs": [
    {
     "name": "stdout",
     "output_type": "stream",
     "text": [
      "**bugType**\n",
      "DIFFERENT_METHOD_SAME_ARGS\n",
      "\n",
      "**fixCommitSHA1**\n",
      "114870164ba9822afc3a92eefe5258f54a1c6a17\n",
      "\n",
      "**fixCommitParentSHA1**\n",
      "845ab7d135ab688e4943bd0f5472f0a5401528f8\n",
      "\n",
      "**bugFilePath**\n",
      "modules/activiti-engine/src/test/java/org/activiti/engine/test/api/runtime/TaskInvolvementTest.java\n",
      "\n",
      "**fixPatch**\n",
      "diff --git a/modules/activiti-engine/src/test/java/org/activiti/engine/test/api/runtime/TaskInvolvementTest.java b/modules/activiti-engine/src/test/java/org/activiti/engine/test/api/runtime/TaskInvolvementTest.java\n",
      "index 4de3611..f71b5a3 100644\n",
      "--- a/modules/activiti-engine/src/test/java/org/activiti/engine/test/api/runtime/TaskInvolvementTest.java\n",
      "+++ b/modules/activiti-engine/src/test/java/org/activiti/engine/test/api/runtime/TaskInvolvementTest.java\n",
      "@@ -26,7 +26,7 @@\n",
      "             assertEquals(1, taskService.createTaskQuery()\n",
      "                     .or()\n",
      "                     .taskInvolvedUser(\"involvedUser\")\n",
      "-                    .taskInvolvedGroups(groups)\n",
      "+                    .taskInvolvedGroupsIn(groups)\n",
      "                     .endOr()\n",
      "                     .count());\n",
      " \n",
      "\n",
      "\n",
      "**projectName**\n",
      "Activiti.Activiti\n",
      "\n",
      "**bugLineNum**\n",
      "26\n",
      "\n",
      "**bugNodeStartChar**\n",
      "797\n",
      "\n",
      "**bugNodeLength**\n",
      "157\n",
      "\n",
      "**fixLineNum**\n",
      "26\n",
      "\n",
      "**fixNodeStartChar**\n",
      "797\n",
      "\n",
      "**fixNodeLength**\n",
      "159\n",
      "\n",
      "**sourceBeforeFix**\n",
      "taskService.createTaskQuery().or().taskInvolvedUser(\"involvedUser\").taskInvolvedGroups(groups)\n",
      "\n",
      "**sourceAfterFix**\n",
      "taskService.createTaskQuery().or().taskInvolvedUser(\"involvedUser\").taskInvolvedGroupsIn(groups)\n",
      "\n"
     ]
    }
   ],
   "source": [
    "for k in df.iloc[0].keys():\n",
    "    print(('**{}**'.format(k)))\n",
    "    print(df.iloc[3][k])\n",
    "    print()"
   ],
   "metadata": {
    "collapsed": false,
    "pycharm": {
     "name": "#%%\n"
    }
   }
  },
  {
   "cell_type": "markdown",
   "source": [
    "### Identify Bug Types"
   ],
   "metadata": {
    "collapsed": false,
    "pycharm": {
     "name": "#%% md\n"
    }
   }
  },
  {
   "cell_type": "code",
   "execution_count": 54,
   "outputs": [
    {
     "data": {
      "text/plain": "                           bugType  count  \\\n0             ADD_THROWS_EXCEPTION     68   \n1   CHANGE_CALLER_IN_FUNCTION_CALL    187   \n2                CHANGE_IDENTIFIER   3265   \n3                  CHANGE_MODIFIER   1852   \n4                   CHANGE_NUMERAL   1137   \n5                   CHANGE_OPERAND    120   \n6                  CHANGE_OPERATOR    275   \n7            CHANGE_UNARY_OPERATOR    170   \n8          DELETE_THROWS_EXCEPTION     48   \n9       DIFFERENT_METHOD_SAME_ARGS   1486   \n10                LESS_SPECIFIC_IF    215   \n11                MORE_SPECIFIC_IF    175   \n12    OVERLOAD_METHOD_DELETED_ARGS    179   \n13       OVERLOAD_METHOD_MORE_ARGS    758   \n14                  SWAP_ARGUMENTS    127   \n15            SWAP_BOOLEAN_LITERAL    169   \n\n                                      sourceBeforeFix  \\\n0                                                   1   \n1                                          ar.cause()   \n2   CsvReporter.forRegistry(registry).convertDurat...   \n3                                                   0   \n4                                            id=13307   \n5   \"access-control/default is missing operations:...   \n6                                         url == null   \n7   Context.getEncounterService().canViewAllEncoun...   \n8                                                   1   \n9   statistics.addPutTimeNano(System.nanoTime() - ...   \n10  privObj.getObjectName().equals(\"masking_test_v...   \n11  controller.getState() != ServiceController.Sta...   \n12  new Packet(data,operation.getPartitionId(),ser...   \n13  new CustomChangeException(\"Failed to insert on...   \n14  AdviceWithTasks.beforeByToString(route,toStrin...   \n15                             flushStatements(false)   \n\n                                       sourceAfterFix  \n0                                                   1  \n1                                       aggMap.size()  \n2   public class XpathRegressionOneStatementPerLin...  \n3                                                  16  \n4   new ThreadPoolExecutor(5,Integer.MAX_VALUE,60L...  \n5                           initialCapacity > 1 << 30  \n6   nlDataOutNodes != null && nlDataOutNodes.getLe...  \n7   !Objects.equals(builtInVersion,configuredVersion)  \n8                                                   1  \n9        ConfigUtils.absoluteStormLocalDir(stormConf)  \n10  (getStatus().getState() == OperationState.CANC...  \n11                      t != null && t.st == ST.LABEL  \n12  new LocalTachyonClusterResource(Constants.GB,B...  \n13  MESSAGES.failToReplicateAttribute(name,value.g...  \n14  Assert.assertEquals(new InetSocketAddress(defa...  \n15                                    monochrome=true  ",
      "text/html": "<div>\n<style scoped>\n    .dataframe tbody tr th:only-of-type {\n        vertical-align: middle;\n    }\n\n    .dataframe tbody tr th {\n        vertical-align: top;\n    }\n\n    .dataframe thead th {\n        text-align: right;\n    }\n</style>\n<table border=\"1\" class=\"dataframe\">\n  <thead>\n    <tr style=\"text-align: right;\">\n      <th></th>\n      <th>bugType</th>\n      <th>count</th>\n      <th>sourceBeforeFix</th>\n      <th>sourceAfterFix</th>\n    </tr>\n  </thead>\n  <tbody>\n    <tr>\n      <th>0</th>\n      <td>ADD_THROWS_EXCEPTION</td>\n      <td>68</td>\n      <td>1</td>\n      <td>1</td>\n    </tr>\n    <tr>\n      <th>1</th>\n      <td>CHANGE_CALLER_IN_FUNCTION_CALL</td>\n      <td>187</td>\n      <td>ar.cause()</td>\n      <td>aggMap.size()</td>\n    </tr>\n    <tr>\n      <th>2</th>\n      <td>CHANGE_IDENTIFIER</td>\n      <td>3265</td>\n      <td>CsvReporter.forRegistry(registry).convertDurat...</td>\n      <td>public class XpathRegressionOneStatementPerLin...</td>\n    </tr>\n    <tr>\n      <th>3</th>\n      <td>CHANGE_MODIFIER</td>\n      <td>1852</td>\n      <td>0</td>\n      <td>16</td>\n    </tr>\n    <tr>\n      <th>4</th>\n      <td>CHANGE_NUMERAL</td>\n      <td>1137</td>\n      <td>id=13307</td>\n      <td>new ThreadPoolExecutor(5,Integer.MAX_VALUE,60L...</td>\n    </tr>\n    <tr>\n      <th>5</th>\n      <td>CHANGE_OPERAND</td>\n      <td>120</td>\n      <td>\"access-control/default is missing operations:...</td>\n      <td>initialCapacity &gt; 1 &lt;&lt; 30</td>\n    </tr>\n    <tr>\n      <th>6</th>\n      <td>CHANGE_OPERATOR</td>\n      <td>275</td>\n      <td>url == null</td>\n      <td>nlDataOutNodes != null &amp;&amp; nlDataOutNodes.getLe...</td>\n    </tr>\n    <tr>\n      <th>7</th>\n      <td>CHANGE_UNARY_OPERATOR</td>\n      <td>170</td>\n      <td>Context.getEncounterService().canViewAllEncoun...</td>\n      <td>!Objects.equals(builtInVersion,configuredVersion)</td>\n    </tr>\n    <tr>\n      <th>8</th>\n      <td>DELETE_THROWS_EXCEPTION</td>\n      <td>48</td>\n      <td>1</td>\n      <td>1</td>\n    </tr>\n    <tr>\n      <th>9</th>\n      <td>DIFFERENT_METHOD_SAME_ARGS</td>\n      <td>1486</td>\n      <td>statistics.addPutTimeNano(System.nanoTime() - ...</td>\n      <td>ConfigUtils.absoluteStormLocalDir(stormConf)</td>\n    </tr>\n    <tr>\n      <th>10</th>\n      <td>LESS_SPECIFIC_IF</td>\n      <td>215</td>\n      <td>privObj.getObjectName().equals(\"masking_test_v...</td>\n      <td>(getStatus().getState() == OperationState.CANC...</td>\n    </tr>\n    <tr>\n      <th>11</th>\n      <td>MORE_SPECIFIC_IF</td>\n      <td>175</td>\n      <td>controller.getState() != ServiceController.Sta...</td>\n      <td>t != null &amp;&amp; t.st == ST.LABEL</td>\n    </tr>\n    <tr>\n      <th>12</th>\n      <td>OVERLOAD_METHOD_DELETED_ARGS</td>\n      <td>179</td>\n      <td>new Packet(data,operation.getPartitionId(),ser...</td>\n      <td>new LocalTachyonClusterResource(Constants.GB,B...</td>\n    </tr>\n    <tr>\n      <th>13</th>\n      <td>OVERLOAD_METHOD_MORE_ARGS</td>\n      <td>758</td>\n      <td>new CustomChangeException(\"Failed to insert on...</td>\n      <td>MESSAGES.failToReplicateAttribute(name,value.g...</td>\n    </tr>\n    <tr>\n      <th>14</th>\n      <td>SWAP_ARGUMENTS</td>\n      <td>127</td>\n      <td>AdviceWithTasks.beforeByToString(route,toStrin...</td>\n      <td>Assert.assertEquals(new InetSocketAddress(defa...</td>\n    </tr>\n    <tr>\n      <th>15</th>\n      <td>SWAP_BOOLEAN_LITERAL</td>\n      <td>169</td>\n      <td>flushStatements(false)</td>\n      <td>monochrome=true</td>\n    </tr>\n  </tbody>\n</table>\n</div>"
     },
     "execution_count": 54,
     "metadata": {},
     "output_type": "execute_result"
    }
   ],
   "source": [
    "df.groupby('bugType').agg(\n",
    "    count=pd.NamedAgg(column='bugType', aggfunc='count'),\n",
    "    sourceBeforeFix=pd.NamedAgg(column='sourceBeforeFix', aggfunc=np.random.choice),\n",
    "    sourceAfterFix=pd.NamedAgg(column='sourceAfterFix', aggfunc=np.random.choice),\n",
    ").reset_index()"
   ],
   "metadata": {
    "collapsed": false,
    "pycharm": {
     "name": "#%%\n"
    }
   }
  },
  {
   "cell_type": "markdown",
   "source": [
    "### Explore Each Bug Type Individually"
   ],
   "metadata": {
    "collapsed": false,
    "pycharm": {
     "name": "#%% md\n"
    }
   }
  },
  {
   "cell_type": "markdown",
   "source": [
    "#### 1. ADD_THROWS_EXCEPTION"
   ],
   "metadata": {
    "collapsed": false,
    "pycharm": {
     "name": "#%% md\n",
     "is_executing": true
    }
   }
  },
  {
   "cell_type": "code",
   "execution_count": 97,
   "outputs": [
    {
     "name": "stdout",
     "output_type": "stream",
     "text": [
      "1\n",
      "1\n",
      "diff --git a/core/client/fs/src/test/java/alluxio/client/file/policy/LocalFirstAvoidEvictionPolicyTest.java b/core/client/fs/src/test/java/alluxio/client/file/policy/LocalFirstAvoidEvictionPolicyTest.java\n",
      "index 9bb1562..b10143e 100644\n",
      "--- a/core/client/fs/src/test/java/alluxio/client/file/policy/LocalFirstAvoidEvictionPolicyTest.java\n",
      "+++ b/core/client/fs/src/test/java/alluxio/client/file/policy/LocalFirstAvoidEvictionPolicyTest.java\n",
      "@@ -34,7 +34,7 @@\n",
      " public class LocalFirstAvoidEvictionPolicyTest {\n",
      " \n",
      "   @Test\n",
      "-  public void chooseClosestTierAvoidEviction() {\n",
      "+  public void chooseClosestTierAvoidEviction() throws Exception {\n",
      "     List<BlockWorkerInfo> workers = new ArrayList<>();\n",
      "     workers.add(worker(Constants.GB, Constants.MB, \"node2\", \"rack3\"));\n",
      "     workers.add(worker(Constants.GB, 0, \"node3\", \"rack2\"));\n",
      "\n"
     ]
    }
   ],
   "source": [
    "throws_df = df[df.bugType == 'ADD_THROWS_EXCEPTION']\n",
    "sampleThrows = throws_df.iloc[0]\n",
    "print(sampleThrows.sourceBeforeFix)\n",
    "print()\n",
    "print(sampleThrows.sourceAfterFix)\n",
    "print(sampleThrows.fixPatch)"
   ],
   "metadata": {
    "collapsed": false,
    "pycharm": {
     "name": "#%%\n"
    }
   }
  },
  {
   "cell_type": "code",
   "execution_count": 101,
   "outputs": [
    {
     "name": "stdout",
     "output_type": "stream",
     "text": [
      "['0' '1' '2' '33' '34' '4' '9']\n",
      "['0' '1' '2' '33' '34' '4' '9']\n"
     ]
    }
   ],
   "source": [
    "print(np.unique(throws_df.sourceBeforeFix))\n",
    "print(np.unique(throws_df.sourceAfterFix))"
   ],
   "metadata": {
    "collapsed": false,
    "pycharm": {
     "name": "#%%\n"
    }
   }
  },
  {
   "cell_type": "markdown",
   "source": [
    "- Simply contains diffs that include a `throws Exception`\n",
    "- Values in `sourceBeforeFix` or `sourceAfterFix` ain't clear.\n",
    "  Need to find corresponding docs."
   ],
   "metadata": {
    "collapsed": false,
    "pycharm": {
     "name": "#%% md\n"
    }
   }
  },
  {
   "cell_type": "markdown",
   "source": [
    "#### 2. CHANGE_CALLER_IN_FUNCTION_CALL"
   ],
   "metadata": {
    "collapsed": false,
    "pycharm": {
     "name": "#%% md\n"
    }
   }
  },
  {
   "cell_type": "code",
   "execution_count": 112,
   "outputs": [
    {
     "name": "stdout",
     "output_type": "stream",
     "text": [
      "DATABASE_TYPE_MYSQL.equals(databaseType)\n",
      "DATABASE_TYPE_MSSQL.equals(databaseType)\n",
      "9b649ac6da4293d736676de895a67aaf87fc5979\n",
      "diff --git a/modules/activiti-engine/src/main/java/org/activiti/engine/impl/cfg/ProcessEngineConfigurationImpl.java b/modules/activiti-engine/src/main/java/org/activiti/engine/impl/cfg/ProcessEngineConfigurationImpl.java\n",
      "index 6335125..7604803 100755\n",
      "--- a/modules/activiti-engine/src/main/java/org/activiti/engine/impl/cfg/ProcessEngineConfigurationImpl.java\n",
      "+++ b/modules/activiti-engine/src/main/java/org/activiti/engine/impl/cfg/ProcessEngineConfigurationImpl.java\n",
      "@@ -1209,7 +1209,7 @@\n",
      " \n",
      "       // Special care for MSSQL, as it has a hard limit of 2000 params per statement (incl bulk statement).\n",
      "       // Especially with executions, with 100 as default, this limit is passed.\n",
      "-      if (DATABASE_TYPE_MYSQL.equals(databaseType)) {\n",
      "+      if (DATABASE_TYPE_MSSQL.equals(databaseType)) {\n",
      "         maxNrOfStatementsInBulkInsert = DEFAULT_MAX_NR_OF_STATEMENTS_BULK_INSERT_SQL_SERVER;\n",
      "       }\n",
      "       \n",
      "\n"
     ]
    }
   ],
   "source": [
    "chg_caller_df = df[df.bugType == 'CHANGE_CALLER_IN_FUNCTION_CALL']\n",
    "sampleChgCaller = chg_caller_df.iloc[0]\n",
    "print(sampleChgCaller.sourceBeforeFix)\n",
    "print(sampleChgCaller.sourceAfterFix)\n",
    "print()\n",
    "print(sampleChgCaller.fixPatch)"
   ],
   "metadata": {
    "collapsed": false,
    "pycharm": {
     "name": "#%%\n"
    }
   }
  },
  {
   "cell_type": "markdown",
   "source": [
    "#### 3. CHANGE_IDENTIFIER"
   ],
   "metadata": {
    "collapsed": false,
    "pycharm": {
     "name": "#%% md\n"
    }
   }
  },
  {
   "cell_type": "code",
   "execution_count": 111,
   "outputs": [
    {
     "name": "stdout",
     "output_type": "stream",
     "text": [
      "DATABASE_TYPE_MYSQL.equals(databaseType)\n",
      "DATABASE_TYPE_MSSQL.equals(databaseType)\n",
      "\n",
      "diff --git a/modules/activiti-engine/src/main/java/org/activiti/engine/impl/cfg/ProcessEngineConfigurationImpl.java b/modules/activiti-engine/src/main/java/org/activiti/engine/impl/cfg/ProcessEngineConfigurationImpl.java\n",
      "index 6335125..7604803 100755\n",
      "--- a/modules/activiti-engine/src/main/java/org/activiti/engine/impl/cfg/ProcessEngineConfigurationImpl.java\n",
      "+++ b/modules/activiti-engine/src/main/java/org/activiti/engine/impl/cfg/ProcessEngineConfigurationImpl.java\n",
      "@@ -1209,7 +1209,7 @@\n",
      " \n",
      "       // Special care for MSSQL, as it has a hard limit of 2000 params per statement (incl bulk statement).\n",
      "       // Especially with executions, with 100 as default, this limit is passed.\n",
      "-      if (DATABASE_TYPE_MYSQL.equals(databaseType)) {\n",
      "+      if (DATABASE_TYPE_MSSQL.equals(databaseType)) {\n",
      "         maxNrOfStatementsInBulkInsert = DEFAULT_MAX_NR_OF_STATEMENTS_BULK_INSERT_SQL_SERVER;\n",
      "       }\n",
      "       \n",
      "\n"
     ]
    }
   ],
   "source": [
    "chg_id_df = df[df.bugType == 'CHANGE_IDENTIFIER']\n",
    "sampleChgId = chg_id_df.iloc[2]\n",
    "print(sampleChgId.sourceBeforeFix)\n",
    "print(sampleChgId.sourceAfterFix)\n",
    "print()\n",
    "print(sampleChgId.fixPatch)"
   ],
   "metadata": {
    "collapsed": false,
    "pycharm": {
     "name": "#%%\n"
    }
   }
  },
  {
   "cell_type": "markdown",
   "source": [
    "- Includes any type of identifier change ranging from object, method, variable and so on\n",
    "- A single diff can be present in multiple `bugType`s. Entry with `fixCommitSHA1`:\n",
    "  `\"9b649ac6da4293d736676de895a67aaf87fc5979\"` is present in both `CHANGE_CALLER_IN_FUNCTION_CALL`\n",
    "  and `CHANGE_IDENTIFIER`."
   ],
   "metadata": {
    "collapsed": false,
    "pycharm": {
     "name": "#%% md\n"
    }
   }
  },
  {
   "cell_type": "markdown",
   "source": [
    "#### 4. CHANGE_NUMERAL"
   ],
   "metadata": {
    "collapsed": false,
    "pycharm": {
     "name": "#%% md\n"
    }
   }
  },
  {
   "cell_type": "code",
   "execution_count": 126,
   "outputs": [
    {
     "name": "stdout",
     "output_type": "stream",
     "text": [
      "waitForJobExecutorToProcessAllJobs(3000,500)\n",
      "waitForJobExecutorToProcessAllJobs(5000,500)\n",
      "\n",
      "diff --git a/modules/activiti-camel/src/test/java/org/activiti/camel/revisited/AsyncProcessRevisitedTest.java b/modules/activiti-camel/src/test/java/org/activiti/camel/revisited/AsyncProcessRevisitedTest.java\n",
      "index ec34354..951cf7a 100755\n",
      "--- a/modules/activiti-camel/src/test/java/org/activiti/camel/revisited/AsyncProcessRevisitedTest.java\n",
      "+++ b/modules/activiti-camel/src/test/java/org/activiti/camel/revisited/AsyncProcessRevisitedTest.java\n",
      "@@ -53,7 +53,7 @@\n",
      "     ProcessInstance processInstance = runtimeService.startProcessInstanceByKey(\"asyncCamelProcessRevisited\");\n",
      "     List<Execution> executionList = runtimeService.createExecutionQuery().list();\n",
      "     assertEquals(3, executionList.size());\n",
      "-    waitForJobExecutorToProcessAllJobs(3000, 500);\n",
      "+    waitForJobExecutorToProcessAllJobs(5000, 500);\n",
      "     assertEquals(0, runtimeService.createProcessInstanceQuery().processInstanceId(processInstance.getId()).count());\n",
      "   }\n",
      " }\n",
      "\n"
     ]
    }
   ],
   "source": [
    "dfCngNum = df[df.bugType == 'CHANGE_NUMERAL']\n",
    "sampleChgNum = dfCngNum.iloc[1]\n",
    "print(sampleChgNum.sourceBeforeFix)\n",
    "print(sampleChgNum.sourceAfterFix)\n",
    "print()\n",
    "print(sampleChgNum.fixPatch)"
   ],
   "metadata": {
    "collapsed": false,
    "pycharm": {
     "name": "#%%\n"
    }
   }
  },
  {
   "cell_type": "markdown",
   "source": [
    "- Contains changing one number to another\n",
    "- Might change the type"
   ],
   "metadata": {
    "collapsed": false,
    "pycharm": {
     "name": "#%% md\n"
    }
   }
  },
  {
   "cell_type": "markdown",
   "source": [
    "#### 5. CHANGE_OPERAND"
   ],
   "metadata": {
    "collapsed": false,
    "pycharm": {
     "name": "#%% md\n"
    }
   }
  },
  {
   "cell_type": "code",
   "execution_count": 147,
   "outputs": [
    {
     "name": "stdout",
     "output_type": "stream",
     "text": [
      "\"\" + SYSTEM_PROPERTIES_MODE_FALLBACK\n",
      "\"\" + ENVIRONMENT_VARIABLES_MODE_OVERRIDE\n",
      "\n",
      "diff --git a/components/camel-properties/src/main/java/org/apache/camel/component/properties/PropertiesComponent.java b/components/camel-properties/src/main/java/org/apache/camel/component/properties/PropertiesComponent.java\n",
      "index b6a2df5..5094e47 100644\n",
      "--- a/components/camel-properties/src/main/java/org/apache/camel/component/properties/PropertiesComponent.java\n",
      "+++ b/components/camel-properties/src/main/java/org/apache/camel/component/properties/PropertiesComponent.java\n",
      "@@ -120,7 +120,7 @@\n",
      "     private Properties overrideProperties;\n",
      "     @Metadata(defaultValue = \"\" + SYSTEM_PROPERTIES_MODE_OVERRIDE, enums = \"0,1,2\")\n",
      "     private int systemPropertiesMode = SYSTEM_PROPERTIES_MODE_OVERRIDE;\n",
      "-    @Metadata(defaultValue = \"\" + SYSTEM_PROPERTIES_MODE_FALLBACK, enums = \"0,1,2\")\n",
      "+    @Metadata(defaultValue = \"\" + ENVIRONMENT_VARIABLES_MODE_OVERRIDE, enums = \"0,1,2\")\n",
      "     private int environmentVariableMode = ENVIRONMENT_VARIABLES_MODE_OVERRIDE;\n",
      " \n",
      "     public PropertiesComponent() {\n",
      "\n"
     ]
    }
   ],
   "source": [
    "dfCngOpr = df[df.bugType == 'CHANGE_OPERAND']\n",
    "sampleCngOpr = dfCngOpr.iloc[28]\n",
    "print(sampleCngOpr.sourceBeforeFix)\n",
    "print(sampleCngOpr.sourceAfterFix)\n",
    "print()\n",
    "print(sampleCngOpr.fixPatch)"
   ],
   "metadata": {
    "collapsed": false,
    "pycharm": {
     "name": "#%%\n"
    }
   }
  },
  {
   "cell_type": "markdown",
   "source": [
    "- Contains changing an operand of an operator\n",
    "- Need to check if contains changing both operator\n",
    "- Need to check if contains `=` operator"
   ],
   "metadata": {
    "collapsed": false,
    "pycharm": {
     "name": "#%% md\n"
    }
   }
  },
  {
   "cell_type": "markdown",
   "source": [
    "#### 6. CHANGE_OPERATOR"
   ],
   "metadata": {
    "collapsed": false,
    "pycharm": {
     "name": "#%% md\n"
    }
   }
  },
  {
   "cell_type": "code",
   "execution_count": 148,
   "outputs": [
    {
     "name": "stdout",
     "output_type": "stream",
     "text": [
      "i > BY_WOOL_DATA.length\n",
      "i >= BY_WOOL_DATA.length\n",
      "\n",
      "diff --git a/src/main/java/org/bukkit/DyeColor.java b/src/main/java/org/bukkit/DyeColor.java\n",
      "index b8e59a4..58f517b 100644\n",
      "--- a/src/main/java/org/bukkit/DyeColor.java\n",
      "+++ b/src/main/java/org/bukkit/DyeColor.java\n",
      "@@ -164,7 +164,7 @@\n",
      "      */\n",
      "     public static DyeColor getByWoolData(final byte data) {\n",
      "         int i = 0xff & data;\n",
      "-        if (i > BY_WOOL_DATA.length) {\n",
      "+        if (i >= BY_WOOL_DATA.length) {\n",
      "             return null;\n",
      "         }\n",
      "         return BY_WOOL_DATA[i];\n",
      "@@ -179,7 +179,7 @@\n",
      "      */\n",
      "     public static DyeColor getByDyeData(final byte data) {\n",
      "         int i = 0xff & data;\n",
      "-        if (i > BY_DYE_DATA.length) {\n",
      "+        if (i >= BY_DYE_DATA.length) {\n",
      "             return null;\n",
      "         }\n",
      "         return BY_DYE_DATA[i];\n",
      "\n"
     ]
    }
   ],
   "source": [
    "dfCngOpt = df[df.bugType == 'CHANGE_OPERATOR']\n",
    "sampleCngOpt = dfCngOpt.iloc[28]\n",
    "print(sampleCngOpt.sourceBeforeFix)\n",
    "print(sampleCngOpt.sourceAfterFix)\n",
    "print()\n",
    "print(sampleCngOpt.fixPatch)"
   ],
   "metadata": {
    "collapsed": false,
    "pycharm": {
     "name": "#%%\n"
    }
   }
  },
  {
   "cell_type": "markdown",
   "source": [
    "#### 7. CHANGE_UNARY_OPERATOR"
   ],
   "metadata": {
    "collapsed": false,
    "pycharm": {
     "name": "#%% md\n"
    }
   }
  },
  {
   "cell_type": "code",
   "execution_count": 154,
   "outputs": [
    {
     "name": "stdout",
     "output_type": "stream",
     "text": [
      "ufsDeleter.delete(alluxioUriToDel,delInode)\n",
      "!ufsDeleter.delete(alluxioUriToDel,delInode)\n",
      "\n",
      "diff --git a/core/server/master/src/main/java/alluxio/master/file/DefaultFileSystemMaster.java b/core/server/master/src/main/java/alluxio/master/file/DefaultFileSystemMaster.java\n",
      "index e015ad9..9def980 100644\n",
      "--- a/core/server/master/src/main/java/alluxio/master/file/DefaultFileSystemMaster.java\n",
      "+++ b/core/server/master/src/main/java/alluxio/master/file/DefaultFileSystemMaster.java\n",
      "@@ -1207,7 +1207,7 @@\n",
      "               unmountInternal(alluxioUriToDel);\n",
      "             } else if (!deleteOptions.isAlluxioOnly()) {\n",
      "               // Attempt to delete node if all children were deleted successfully\n",
      "-              failedToDelete = ufsDeleter.delete(alluxioUriToDel, delInode);\n",
      "+              failedToDelete = !ufsDeleter.delete(alluxioUriToDel, delInode);\n",
      "             }\n",
      "           } catch (InvalidPathException e) {\n",
      "             LOG.warn(e.getMessage());\n",
      "\n"
     ]
    }
   ],
   "source": [
    "dfCngUnaryOpt = df[df.bugType == 'CHANGE_UNARY_OPERATOR']\n",
    "sampleCngUnaryOpt = dfCngUnaryOpt.iloc[5]\n",
    "print(sampleCngUnaryOpt.sourceBeforeFix)\n",
    "print(sampleCngUnaryOpt.sourceAfterFix)\n",
    "print()\n",
    "print(sampleCngUnaryOpt.fixPatch)"
   ],
   "metadata": {
    "collapsed": false,
    "pycharm": {
     "name": "#%%\n"
    }
   }
  },
  {
   "cell_type": "markdown",
   "source": [
    "- Need to check if contains anything other than `!`\n",
    "\n"
   ],
   "metadata": {
    "collapsed": false,
    "pycharm": {
     "name": "#%% md\n"
    }
   }
  }
 ],
 "metadata": {
  "kernelspec": {
   "display_name": "Python 3",
   "language": "python",
   "name": "python3"
  },
  "language_info": {
   "codemirror_mode": {
    "name": "ipython",
    "version": 2
   },
   "file_extension": ".py",
   "mimetype": "text/x-python",
   "name": "python",
   "nbconvert_exporter": "python",
   "pygments_lexer": "ipython2",
   "version": "2.7.6"
  }
 },
 "nbformat": 4,
 "nbformat_minor": 0
}
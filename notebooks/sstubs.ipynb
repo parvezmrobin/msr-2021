{
 "cells": [
  {
   "cell_type": "code",
   "execution_count": 192,
   "metadata": {
    "collapsed": true
   },
   "outputs": [],
   "source": [
    "import pandas as pd\n",
    "import numpy as np"
   ]
  },
  {
   "cell_type": "code",
   "execution_count": 193,
   "outputs": [],
   "source": [
    "df = pd.read_json('../dataset/sstubs')"
   ],
   "metadata": {
    "collapsed": false,
    "pycharm": {
     "name": "#%%\n"
    }
   }
  },
  {
   "cell_type": "code",
   "execution_count": 194,
   "outputs": [
    {
     "data": {
      "text/plain": "(10231, 14)"
     },
     "execution_count": 194,
     "metadata": {},
     "output_type": "execute_result"
    }
   ],
   "source": [
    "df.shape"
   ],
   "metadata": {
    "collapsed": false,
    "pycharm": {
     "name": "#%%\n"
    }
   }
  },
  {
   "cell_type": "markdown",
   "source": [
    "### Overview"
   ],
   "metadata": {
    "collapsed": false,
    "pycharm": {
     "name": "#%% md\n"
    }
   }
  },
  {
   "cell_type": "code",
   "execution_count": 195,
   "outputs": [
    {
     "data": {
      "text/plain": "                         bugType                             fixCommitSHA1  \\\n6943  DIFFERENT_METHOD_SAME_ARGS  1ed2dc07807972afe507a33ec9a92004b1cfaaa0   \n4290           CHANGE_IDENTIFIER  0c797c7035998e70bc194c801f44d44cfac2effe   \n9876              CHANGE_NUMERAL  fedfad854b134ea5428c592ea711c59b377a71fa   \n447            CHANGE_IDENTIFIER  fa04fa8df997e88d5109f9fd6d8ec61167cf5750   \n9814  DIFFERENT_METHOD_SAME_ARGS  cfee205c31ff46c1bb0b43812185a7f2dc34cf11   \n\n                           fixCommitParentSHA1  \\\n6943  62ae69ab8deec8e54bcfe1a5d956870218ee94c4   \n4290  a189f64d0a71258c860aa5e8949a1a94f3444234   \n9876  7a8678decaae4216d3cd55f60a189ce24c48f759   \n447   3bfa53219cb70f86d71e6373b7bd7f7bf345e691   \n9814  0a7cf91fcb2fd7f6335da77212609d253aca72e0   \n\n                                            bugFilePath  \\\n6943  hazelcast-hibernate/src/test/java/com/hazelcas...   \n4290  src/it/java/org/checkstyle/suppressionxpathfil...   \n9876  host-controller/src/main/java/org/jboss/as/dom...   \n447   servers/src/main/java/tachyon/worker/file/File...   \n9814  modcluster/src/main/java/org/jboss/as/modclust...   \n\n                                               fixPatch  \\\n6943  diff --git a/hazelcast-hibernate/src/test/java...   \n4290  diff --git a/src/it/java/org/checkstyle/suppre...   \n9876  diff --git a/host-controller/src/main/java/org...   \n447   diff --git a/servers/src/main/java/tachyon/wor...   \n9814  diff --git a/modcluster/src/main/java/org/jbos...   \n\n                projectName  bugLineNum  bugNodeStartChar  bugNodeLength  \\\n6943    hazelcast.hazelcast          91              3388             48   \n4290  checkstyle.checkstyle          31              1313           2684   \n9876        wildfly.wildfly         131              5618             10   \n447         Alluxio.alluxio         247              8030             42   \n9814        wildfly.wildfly         139              7417             46   \n\n      fixLineNum  fixNodeStartChar  fixNodeLength  \\\n6943          91              3388             47   \n4290          31              1313           2676   \n9876         131              5618             10   \n447          247              8030             41   \n9814         139              7417             53   \n\n                                        sourceBeforeFix  \\\n6943   hz.getCluster().getLocalMember().isSuperClient()   \n4290  public class XpathRegressionJavadocVariableTes...   \n9876                                           id=15806   \n447          mPersistedFiles.removeAll(mPersistedFiles)   \n9814     ssl.has(CommonAttributes.CERTIFICATE_KEY_FILE)   \n\n                                         sourceAfterFix  \n6943    hz.getCluster().getLocalMember().isLiteMember()  \n4290  public class XpathRegressionJavadocVariableTes...  \n9876                                           id=10806  \n447           mPersistedFiles.removeAll(persistedFiles)  \n9814  ssl.hasDefined(CommonAttributes.CERTIFICATE_KE...  ",
      "text/html": "<div>\n<style scoped>\n    .dataframe tbody tr th:only-of-type {\n        vertical-align: middle;\n    }\n\n    .dataframe tbody tr th {\n        vertical-align: top;\n    }\n\n    .dataframe thead th {\n        text-align: right;\n    }\n</style>\n<table border=\"1\" class=\"dataframe\">\n  <thead>\n    <tr style=\"text-align: right;\">\n      <th></th>\n      <th>bugType</th>\n      <th>fixCommitSHA1</th>\n      <th>fixCommitParentSHA1</th>\n      <th>bugFilePath</th>\n      <th>fixPatch</th>\n      <th>projectName</th>\n      <th>bugLineNum</th>\n      <th>bugNodeStartChar</th>\n      <th>bugNodeLength</th>\n      <th>fixLineNum</th>\n      <th>fixNodeStartChar</th>\n      <th>fixNodeLength</th>\n      <th>sourceBeforeFix</th>\n      <th>sourceAfterFix</th>\n    </tr>\n  </thead>\n  <tbody>\n    <tr>\n      <th>6943</th>\n      <td>DIFFERENT_METHOD_SAME_ARGS</td>\n      <td>1ed2dc07807972afe507a33ec9a92004b1cfaaa0</td>\n      <td>62ae69ab8deec8e54bcfe1a5d956870218ee94c4</td>\n      <td>hazelcast-hibernate/src/test/java/com/hazelcas...</td>\n      <td>diff --git a/hazelcast-hibernate/src/test/java...</td>\n      <td>hazelcast.hazelcast</td>\n      <td>91</td>\n      <td>3388</td>\n      <td>48</td>\n      <td>91</td>\n      <td>3388</td>\n      <td>47</td>\n      <td>hz.getCluster().getLocalMember().isSuperClient()</td>\n      <td>hz.getCluster().getLocalMember().isLiteMember()</td>\n    </tr>\n    <tr>\n      <th>4290</th>\n      <td>CHANGE_IDENTIFIER</td>\n      <td>0c797c7035998e70bc194c801f44d44cfac2effe</td>\n      <td>a189f64d0a71258c860aa5e8949a1a94f3444234</td>\n      <td>src/it/java/org/checkstyle/suppressionxpathfil...</td>\n      <td>diff --git a/src/it/java/org/checkstyle/suppre...</td>\n      <td>checkstyle.checkstyle</td>\n      <td>31</td>\n      <td>1313</td>\n      <td>2684</td>\n      <td>31</td>\n      <td>1313</td>\n      <td>2676</td>\n      <td>public class XpathRegressionJavadocVariableTes...</td>\n      <td>public class XpathRegressionJavadocVariableTes...</td>\n    </tr>\n    <tr>\n      <th>9876</th>\n      <td>CHANGE_NUMERAL</td>\n      <td>fedfad854b134ea5428c592ea711c59b377a71fa</td>\n      <td>7a8678decaae4216d3cd55f60a189ce24c48f759</td>\n      <td>host-controller/src/main/java/org/jboss/as/dom...</td>\n      <td>diff --git a/host-controller/src/main/java/org...</td>\n      <td>wildfly.wildfly</td>\n      <td>131</td>\n      <td>5618</td>\n      <td>10</td>\n      <td>131</td>\n      <td>5618</td>\n      <td>10</td>\n      <td>id=15806</td>\n      <td>id=10806</td>\n    </tr>\n    <tr>\n      <th>447</th>\n      <td>CHANGE_IDENTIFIER</td>\n      <td>fa04fa8df997e88d5109f9fd6d8ec61167cf5750</td>\n      <td>3bfa53219cb70f86d71e6373b7bd7f7bf345e691</td>\n      <td>servers/src/main/java/tachyon/worker/file/File...</td>\n      <td>diff --git a/servers/src/main/java/tachyon/wor...</td>\n      <td>Alluxio.alluxio</td>\n      <td>247</td>\n      <td>8030</td>\n      <td>42</td>\n      <td>247</td>\n      <td>8030</td>\n      <td>41</td>\n      <td>mPersistedFiles.removeAll(mPersistedFiles)</td>\n      <td>mPersistedFiles.removeAll(persistedFiles)</td>\n    </tr>\n    <tr>\n      <th>9814</th>\n      <td>DIFFERENT_METHOD_SAME_ARGS</td>\n      <td>cfee205c31ff46c1bb0b43812185a7f2dc34cf11</td>\n      <td>0a7cf91fcb2fd7f6335da77212609d253aca72e0</td>\n      <td>modcluster/src/main/java/org/jboss/as/modclust...</td>\n      <td>diff --git a/modcluster/src/main/java/org/jbos...</td>\n      <td>wildfly.wildfly</td>\n      <td>139</td>\n      <td>7417</td>\n      <td>46</td>\n      <td>139</td>\n      <td>7417</td>\n      <td>53</td>\n      <td>ssl.has(CommonAttributes.CERTIFICATE_KEY_FILE)</td>\n      <td>ssl.hasDefined(CommonAttributes.CERTIFICATE_KE...</td>\n    </tr>\n  </tbody>\n</table>\n</div>"
     },
     "execution_count": 195,
     "metadata": {},
     "output_type": "execute_result"
    }
   ],
   "source": [
    "df.sample(5)"
   ],
   "metadata": {
    "collapsed": false,
    "pycharm": {
     "name": "#%%\n"
    }
   }
  },
  {
   "cell_type": "markdown",
   "source": [
    "### Sample Entry"
   ],
   "metadata": {
    "collapsed": false,
    "pycharm": {
     "name": "#%% md\n"
    }
   }
  },
  {
   "cell_type": "code",
   "execution_count": 196,
   "outputs": [
    {
     "name": "stdout",
     "output_type": "stream",
     "text": [
      "**bugType**\n",
      "DIFFERENT_METHOD_SAME_ARGS\n",
      "\n",
      "**fixCommitSHA1**\n",
      "114870164ba9822afc3a92eefe5258f54a1c6a17\n",
      "\n",
      "**fixCommitParentSHA1**\n",
      "845ab7d135ab688e4943bd0f5472f0a5401528f8\n",
      "\n",
      "**bugFilePath**\n",
      "modules/activiti-engine/src/test/java/org/activiti/engine/test/api/runtime/TaskInvolvementTest.java\n",
      "\n",
      "**fixPatch**\n",
      "diff --git a/modules/activiti-engine/src/test/java/org/activiti/engine/test/api/runtime/TaskInvolvementTest.java b/modules/activiti-engine/src/test/java/org/activiti/engine/test/api/runtime/TaskInvolvementTest.java\n",
      "index 4de3611..f71b5a3 100644\n",
      "--- a/modules/activiti-engine/src/test/java/org/activiti/engine/test/api/runtime/TaskInvolvementTest.java\n",
      "+++ b/modules/activiti-engine/src/test/java/org/activiti/engine/test/api/runtime/TaskInvolvementTest.java\n",
      "@@ -26,7 +26,7 @@\n",
      "             assertEquals(1, taskService.createTaskQuery()\n",
      "                     .or()\n",
      "                     .taskInvolvedUser(\"involvedUser\")\n",
      "-                    .taskInvolvedGroups(groups)\n",
      "+                    .taskInvolvedGroupsIn(groups)\n",
      "                     .endOr()\n",
      "                     .count());\n",
      " \n",
      "\n",
      "\n",
      "**projectName**\n",
      "Activiti.Activiti\n",
      "\n",
      "**bugLineNum**\n",
      "26\n",
      "\n",
      "**bugNodeStartChar**\n",
      "797\n",
      "\n",
      "**bugNodeLength**\n",
      "157\n",
      "\n",
      "**fixLineNum**\n",
      "26\n",
      "\n",
      "**fixNodeStartChar**\n",
      "797\n",
      "\n",
      "**fixNodeLength**\n",
      "159\n",
      "\n",
      "**sourceBeforeFix**\n",
      "taskService.createTaskQuery().or().taskInvolvedUser(\"involvedUser\").taskInvolvedGroups(groups)\n",
      "\n",
      "**sourceAfterFix**\n",
      "taskService.createTaskQuery().or().taskInvolvedUser(\"involvedUser\").taskInvolvedGroupsIn(groups)\n",
      "\n"
     ]
    }
   ],
   "source": [
    "for k in df.iloc[0].keys():\n",
    "    print(('**{}**'.format(k)))\n",
    "    print(df.iloc[3][k])\n",
    "    print()"
   ],
   "metadata": {
    "collapsed": false,
    "pycharm": {
     "name": "#%%\n"
    }
   }
  },
  {
   "cell_type": "markdown",
   "source": [
    "### Identify Bug Types"
   ],
   "metadata": {
    "collapsed": false,
    "pycharm": {
     "name": "#%% md\n"
    }
   }
  },
  {
   "cell_type": "code",
   "execution_count": 197,
   "outputs": [
    {
     "data": {
      "text/plain": "                           bugType  count  \\\n0             ADD_THROWS_EXCEPTION     68   \n1   CHANGE_CALLER_IN_FUNCTION_CALL    187   \n2                CHANGE_IDENTIFIER   3265   \n3                  CHANGE_MODIFIER   1852   \n4                   CHANGE_NUMERAL   1137   \n5                   CHANGE_OPERAND    120   \n6                  CHANGE_OPERATOR    275   \n7            CHANGE_UNARY_OPERATOR    170   \n8          DELETE_THROWS_EXCEPTION     48   \n9       DIFFERENT_METHOD_SAME_ARGS   1486   \n10                LESS_SPECIFIC_IF    215   \n11                MORE_SPECIFIC_IF    175   \n12    OVERLOAD_METHOD_DELETED_ARGS    179   \n13       OVERLOAD_METHOD_MORE_ARGS    758   \n14                  SWAP_ARGUMENTS    127   \n15            SWAP_BOOLEAN_LITERAL    169   \n\n                                      sourceBeforeFix  \\\n0                                                   0   \n1                                   username.length()   \n2                                     Endpoint server   \n3                                                   2   \n4                                            16 << 10   \n5                                  attributes == null   \n6                        lastPosition < positionCount   \n7                 !mPreferredHost.equals(\"localhost\")   \n8                                                   1   \n9   LOG.info(\"Cannot access storage directory \" + ...   \n10                               serverSocket == null   \n11                         cr.session_timeout_ms != 0   \n12  doAnswer(new Answer<Object>(){   @Override pub...   \n13  Arrays.asList(CoreAnnotations.TextAnnotation.c...   \n14  AdviceWithTasks.beforeByToString(route,toStrin...   \n15  ObjectTypeAttributeDefinition.Builder.of(Model...   \n\n                                       sourceAfterFix  \n0                                                   9  \n1                            request.getContextPath()  \n2                                   CharSequence text  \n3                                                   9  \n4                              new StringBuilder(560)  \n5   \"Unsupported filesystem scheme found in the ba...  \n6                    nodeData.getAttributes() != null  \n7                                                   1  \n8                                                   1  \n9   testError(js,VariableReferenceCheck.REDECLARED...  \n10  configuredScriptEngineNames == null || configu...  \n11              saHooks != null && !saHooks.isEmpty()  \n12  testWarning(\"goog.require('a.c');\\ngoog.requir...  \n13                                      intbuf.get(0)  \n14  booleanProperty(DYNAMIC_SCHEDULE_FOR_GROUPED_E...  \n15  SimpleAttributeDefinitionBuilder.create(ModelD...  ",
      "text/html": "<div>\n<style scoped>\n    .dataframe tbody tr th:only-of-type {\n        vertical-align: middle;\n    }\n\n    .dataframe tbody tr th {\n        vertical-align: top;\n    }\n\n    .dataframe thead th {\n        text-align: right;\n    }\n</style>\n<table border=\"1\" class=\"dataframe\">\n  <thead>\n    <tr style=\"text-align: right;\">\n      <th></th>\n      <th>bugType</th>\n      <th>count</th>\n      <th>sourceBeforeFix</th>\n      <th>sourceAfterFix</th>\n    </tr>\n  </thead>\n  <tbody>\n    <tr>\n      <th>0</th>\n      <td>ADD_THROWS_EXCEPTION</td>\n      <td>68</td>\n      <td>0</td>\n      <td>9</td>\n    </tr>\n    <tr>\n      <th>1</th>\n      <td>CHANGE_CALLER_IN_FUNCTION_CALL</td>\n      <td>187</td>\n      <td>username.length()</td>\n      <td>request.getContextPath()</td>\n    </tr>\n    <tr>\n      <th>2</th>\n      <td>CHANGE_IDENTIFIER</td>\n      <td>3265</td>\n      <td>Endpoint server</td>\n      <td>CharSequence text</td>\n    </tr>\n    <tr>\n      <th>3</th>\n      <td>CHANGE_MODIFIER</td>\n      <td>1852</td>\n      <td>2</td>\n      <td>9</td>\n    </tr>\n    <tr>\n      <th>4</th>\n      <td>CHANGE_NUMERAL</td>\n      <td>1137</td>\n      <td>16 &lt;&lt; 10</td>\n      <td>new StringBuilder(560)</td>\n    </tr>\n    <tr>\n      <th>5</th>\n      <td>CHANGE_OPERAND</td>\n      <td>120</td>\n      <td>attributes == null</td>\n      <td>\"Unsupported filesystem scheme found in the ba...</td>\n    </tr>\n    <tr>\n      <th>6</th>\n      <td>CHANGE_OPERATOR</td>\n      <td>275</td>\n      <td>lastPosition &lt; positionCount</td>\n      <td>nodeData.getAttributes() != null</td>\n    </tr>\n    <tr>\n      <th>7</th>\n      <td>CHANGE_UNARY_OPERATOR</td>\n      <td>170</td>\n      <td>!mPreferredHost.equals(\"localhost\")</td>\n      <td>1</td>\n    </tr>\n    <tr>\n      <th>8</th>\n      <td>DELETE_THROWS_EXCEPTION</td>\n      <td>48</td>\n      <td>1</td>\n      <td>1</td>\n    </tr>\n    <tr>\n      <th>9</th>\n      <td>DIFFERENT_METHOD_SAME_ARGS</td>\n      <td>1486</td>\n      <td>LOG.info(\"Cannot access storage directory \" + ...</td>\n      <td>testError(js,VariableReferenceCheck.REDECLARED...</td>\n    </tr>\n    <tr>\n      <th>10</th>\n      <td>LESS_SPECIFIC_IF</td>\n      <td>215</td>\n      <td>serverSocket == null</td>\n      <td>configuredScriptEngineNames == null || configu...</td>\n    </tr>\n    <tr>\n      <th>11</th>\n      <td>MORE_SPECIFIC_IF</td>\n      <td>175</td>\n      <td>cr.session_timeout_ms != 0</td>\n      <td>saHooks != null &amp;&amp; !saHooks.isEmpty()</td>\n    </tr>\n    <tr>\n      <th>12</th>\n      <td>OVERLOAD_METHOD_DELETED_ARGS</td>\n      <td>179</td>\n      <td>doAnswer(new Answer&lt;Object&gt;(){   @Override pub...</td>\n      <td>testWarning(\"goog.require('a.c');\\ngoog.requir...</td>\n    </tr>\n    <tr>\n      <th>13</th>\n      <td>OVERLOAD_METHOD_MORE_ARGS</td>\n      <td>758</td>\n      <td>Arrays.asList(CoreAnnotations.TextAnnotation.c...</td>\n      <td>intbuf.get(0)</td>\n    </tr>\n    <tr>\n      <th>14</th>\n      <td>SWAP_ARGUMENTS</td>\n      <td>127</td>\n      <td>AdviceWithTasks.beforeByToString(route,toStrin...</td>\n      <td>booleanProperty(DYNAMIC_SCHEDULE_FOR_GROUPED_E...</td>\n    </tr>\n    <tr>\n      <th>15</th>\n      <td>SWAP_BOOLEAN_LITERAL</td>\n      <td>169</td>\n      <td>ObjectTypeAttributeDefinition.Builder.of(Model...</td>\n      <td>SimpleAttributeDefinitionBuilder.create(ModelD...</td>\n    </tr>\n  </tbody>\n</table>\n</div>"
     },
     "execution_count": 197,
     "metadata": {},
     "output_type": "execute_result"
    }
   ],
   "source": [
    "df.groupby('bugType').agg(\n",
    "    count=pd.NamedAgg(column='bugType', aggfunc='count'),\n",
    "    sourceBeforeFix=pd.NamedAgg(column='sourceBeforeFix', aggfunc=np.random.choice),\n",
    "    sourceAfterFix=pd.NamedAgg(column='sourceAfterFix', aggfunc=np.random.choice),\n",
    ").reset_index()"
   ],
   "metadata": {
    "collapsed": false,
    "pycharm": {
     "name": "#%%\n"
    }
   }
  },
  {
   "cell_type": "markdown",
   "source": [
    "### Explore Each Bug Type Individually"
   ],
   "metadata": {
    "collapsed": false,
    "pycharm": {
     "name": "#%% md\n"
    }
   }
  },
  {
   "cell_type": "markdown",
   "source": [
    "#### 1. ADD_THROWS_EXCEPTION"
   ],
   "metadata": {
    "collapsed": false,
    "pycharm": {
     "name": "#%% md\n",
     "is_executing": true
    }
   }
  },
  {
   "cell_type": "code",
   "execution_count": 198,
   "outputs": [
    {
     "name": "stdout",
     "output_type": "stream",
     "text": [
      "1\n",
      "1\n",
      "\n",
      "diff --git a/core/client/fs/src/test/java/alluxio/client/file/policy/LocalFirstAvoidEvictionPolicyTest.java b/core/client/fs/src/test/java/alluxio/client/file/policy/LocalFirstAvoidEvictionPolicyTest.java\n",
      "index 9bb1562..b10143e 100644\n",
      "--- a/core/client/fs/src/test/java/alluxio/client/file/policy/LocalFirstAvoidEvictionPolicyTest.java\n",
      "+++ b/core/client/fs/src/test/java/alluxio/client/file/policy/LocalFirstAvoidEvictionPolicyTest.java\n",
      "@@ -34,7 +34,7 @@\n",
      " public class LocalFirstAvoidEvictionPolicyTest {\n",
      " \n",
      "   @Test\n",
      "-  public void chooseClosestTierAvoidEviction() {\n",
      "+  public void chooseClosestTierAvoidEviction() throws Exception {\n",
      "     List<BlockWorkerInfo> workers = new ArrayList<>();\n",
      "     workers.add(worker(Constants.GB, Constants.MB, \"node2\", \"rack3\"));\n",
      "     workers.add(worker(Constants.GB, 0, \"node3\", \"rack2\"));\n",
      "\n"
     ]
    }
   ],
   "source": [
    "bugTypeDf = df[df.bugType == 'ADD_THROWS_EXCEPTION']\n",
    "bugTypeSample = bugTypeDf.iloc[0]\n",
    "print(bugTypeSample.sourceBeforeFix)\n",
    "print(bugTypeSample.sourceAfterFix)\n",
    "print()\n",
    "print(bugTypeSample.fixPatch)"
   ],
   "metadata": {
    "collapsed": false,
    "pycharm": {
     "name": "#%%\n"
    }
   }
  },
  {
   "cell_type": "code",
   "execution_count": 199,
   "outputs": [
    {
     "name": "stdout",
     "output_type": "stream",
     "text": [
      "['0' '1' '2' '33' '34' '4' '9']\n",
      "['0' '1' '2' '33' '34' '4' '9']\n"
     ]
    }
   ],
   "source": [
    "print(np.unique(bugTypeDf.sourceBeforeFix))\n",
    "print(np.unique(bugTypeDf.sourceAfterFix))"
   ],
   "metadata": {
    "collapsed": false,
    "pycharm": {
     "name": "#%%\n"
    }
   }
  },
  {
   "cell_type": "markdown",
   "source": [
    "- Simply contains diffs that include a `throws Exception`\n",
    "- Values in `sourceBeforeFix` or `sourceAfterFix` ain't clear.\n",
    "  Need to find corresponding docs."
   ],
   "metadata": {
    "collapsed": false,
    "pycharm": {
     "name": "#%% md\n"
    }
   }
  },
  {
   "cell_type": "markdown",
   "source": [
    "#### 2. CHANGE_CALLER_IN_FUNCTION_CALL"
   ],
   "metadata": {
    "collapsed": false,
    "pycharm": {
     "name": "#%% md\n"
    }
   }
  },
  {
   "cell_type": "code",
   "execution_count": 200,
   "outputs": [
    {
     "name": "stdout",
     "output_type": "stream",
     "text": [
      "DATABASE_TYPE_MYSQL.equals(databaseType)\n",
      "DATABASE_TYPE_MSSQL.equals(databaseType)\n",
      "\n",
      "diff --git a/modules/activiti-engine/src/main/java/org/activiti/engine/impl/cfg/ProcessEngineConfigurationImpl.java b/modules/activiti-engine/src/main/java/org/activiti/engine/impl/cfg/ProcessEngineConfigurationImpl.java\n",
      "index 6335125..7604803 100755\n",
      "--- a/modules/activiti-engine/src/main/java/org/activiti/engine/impl/cfg/ProcessEngineConfigurationImpl.java\n",
      "+++ b/modules/activiti-engine/src/main/java/org/activiti/engine/impl/cfg/ProcessEngineConfigurationImpl.java\n",
      "@@ -1209,7 +1209,7 @@\n",
      " \n",
      "       // Special care for MSSQL, as it has a hard limit of 2000 params per statement (incl bulk statement).\n",
      "       // Especially with executions, with 100 as default, this limit is passed.\n",
      "-      if (DATABASE_TYPE_MYSQL.equals(databaseType)) {\n",
      "+      if (DATABASE_TYPE_MSSQL.equals(databaseType)) {\n",
      "         maxNrOfStatementsInBulkInsert = DEFAULT_MAX_NR_OF_STATEMENTS_BULK_INSERT_SQL_SERVER;\n",
      "       }\n",
      "       \n",
      "\n"
     ]
    }
   ],
   "source": [
    "bugTypeDf = df[df.bugType == 'CHANGE_CALLER_IN_FUNCTION_CALL']\n",
    "bugTypeSample = bugTypeDf.iloc[0]\n",
    "print(bugTypeSample.sourceBeforeFix)\n",
    "print(bugTypeSample.sourceAfterFix)\n",
    "print()\n",
    "print(bugTypeSample.fixPatch)"
   ],
   "metadata": {
    "collapsed": false,
    "pycharm": {
     "name": "#%%\n"
    }
   }
  },
  {
   "cell_type": "markdown",
   "source": [
    "#### 3. CHANGE_IDENTIFIER"
   ],
   "metadata": {
    "collapsed": false,
    "pycharm": {
     "name": "#%% md\n"
    }
   }
  },
  {
   "cell_type": "code",
   "execution_count": 201,
   "outputs": [
    {
     "name": "stdout",
     "output_type": "stream",
     "text": [
      "DATABASE_TYPE_MYSQL.equals(databaseType)\n",
      "DATABASE_TYPE_MSSQL.equals(databaseType)\n",
      "\n",
      "diff --git a/modules/activiti-engine/src/main/java/org/activiti/engine/impl/cfg/ProcessEngineConfigurationImpl.java b/modules/activiti-engine/src/main/java/org/activiti/engine/impl/cfg/ProcessEngineConfigurationImpl.java\n",
      "index 6335125..7604803 100755\n",
      "--- a/modules/activiti-engine/src/main/java/org/activiti/engine/impl/cfg/ProcessEngineConfigurationImpl.java\n",
      "+++ b/modules/activiti-engine/src/main/java/org/activiti/engine/impl/cfg/ProcessEngineConfigurationImpl.java\n",
      "@@ -1209,7 +1209,7 @@\n",
      " \n",
      "       // Special care for MSSQL, as it has a hard limit of 2000 params per statement (incl bulk statement).\n",
      "       // Especially with executions, with 100 as default, this limit is passed.\n",
      "-      if (DATABASE_TYPE_MYSQL.equals(databaseType)) {\n",
      "+      if (DATABASE_TYPE_MSSQL.equals(databaseType)) {\n",
      "         maxNrOfStatementsInBulkInsert = DEFAULT_MAX_NR_OF_STATEMENTS_BULK_INSERT_SQL_SERVER;\n",
      "       }\n",
      "       \n",
      "\n"
     ]
    }
   ],
   "source": [
    "bugTypeDf = df[df.bugType == 'CHANGE_IDENTIFIER']\n",
    "bugTypeSample = bugTypeDf.iloc[2]\n",
    "print(bugTypeSample.sourceBeforeFix)\n",
    "print(bugTypeSample.sourceAfterFix)\n",
    "print()\n",
    "print(bugTypeSample.fixPatch)"
   ],
   "metadata": {
    "collapsed": false,
    "pycharm": {
     "name": "#%%\n"
    }
   }
  },
  {
   "cell_type": "markdown",
   "source": [
    "- Includes any type of identifier change ranging from object, method, variable and so on\n",
    "- A single diff can be present in multiple `bugType`s. Entry with `fixCommitSHA1`:\n",
    "  `\"9b649ac6da4293d736676de895a67aaf87fc5979\"` is present in both `CHANGE_CALLER_IN_FUNCTION_CALL`\n",
    "  and `CHANGE_IDENTIFIER`."
   ],
   "metadata": {
    "collapsed": false,
    "pycharm": {
     "name": "#%% md\n"
    }
   }
  },
  {
   "cell_type": "markdown",
   "source": [
    "#### 4. CHANGE_NUMERAL"
   ],
   "metadata": {
    "collapsed": false,
    "pycharm": {
     "name": "#%% md\n"
    }
   }
  },
  {
   "cell_type": "code",
   "execution_count": 202,
   "outputs": [
    {
     "name": "stdout",
     "output_type": "stream",
     "text": [
      "waitForJobExecutorToProcessAllJobs(3000,500)\n",
      "waitForJobExecutorToProcessAllJobs(5000,500)\n",
      "\n",
      "diff --git a/modules/activiti-camel/src/test/java/org/activiti/camel/revisited/AsyncProcessRevisitedTest.java b/modules/activiti-camel/src/test/java/org/activiti/camel/revisited/AsyncProcessRevisitedTest.java\n",
      "index ec34354..951cf7a 100755\n",
      "--- a/modules/activiti-camel/src/test/java/org/activiti/camel/revisited/AsyncProcessRevisitedTest.java\n",
      "+++ b/modules/activiti-camel/src/test/java/org/activiti/camel/revisited/AsyncProcessRevisitedTest.java\n",
      "@@ -53,7 +53,7 @@\n",
      "     ProcessInstance processInstance = runtimeService.startProcessInstanceByKey(\"asyncCamelProcessRevisited\");\n",
      "     List<Execution> executionList = runtimeService.createExecutionQuery().list();\n",
      "     assertEquals(3, executionList.size());\n",
      "-    waitForJobExecutorToProcessAllJobs(3000, 500);\n",
      "+    waitForJobExecutorToProcessAllJobs(5000, 500);\n",
      "     assertEquals(0, runtimeService.createProcessInstanceQuery().processInstanceId(processInstance.getId()).count());\n",
      "   }\n",
      " }\n",
      "\n"
     ]
    }
   ],
   "source": [
    "bugTypeDf = df[df.bugType == 'CHANGE_NUMERAL']\n",
    "bugTypeSample = bugTypeDf.iloc[1]\n",
    "print(bugTypeSample.sourceBeforeFix)\n",
    "print(bugTypeSample.sourceAfterFix)\n",
    "print()\n",
    "print(bugTypeSample.fixPatch)"
   ],
   "metadata": {
    "collapsed": false,
    "pycharm": {
     "name": "#%%\n"
    }
   }
  },
  {
   "cell_type": "markdown",
   "source": [
    "- Contains changing one number to another\n",
    "- Might change the type"
   ],
   "metadata": {
    "collapsed": false,
    "pycharm": {
     "name": "#%% md\n"
    }
   }
  },
  {
   "cell_type": "markdown",
   "source": [
    "#### 5. CHANGE_OPERAND"
   ],
   "metadata": {
    "collapsed": false,
    "pycharm": {
     "name": "#%% md\n"
    }
   }
  },
  {
   "cell_type": "code",
   "execution_count": 203,
   "outputs": [
    {
     "name": "stdout",
     "output_type": "stream",
     "text": [
      "\"\" + SYSTEM_PROPERTIES_MODE_FALLBACK\n",
      "\"\" + ENVIRONMENT_VARIABLES_MODE_OVERRIDE\n",
      "\n",
      "diff --git a/components/camel-properties/src/main/java/org/apache/camel/component/properties/PropertiesComponent.java b/components/camel-properties/src/main/java/org/apache/camel/component/properties/PropertiesComponent.java\n",
      "index b6a2df5..5094e47 100644\n",
      "--- a/components/camel-properties/src/main/java/org/apache/camel/component/properties/PropertiesComponent.java\n",
      "+++ b/components/camel-properties/src/main/java/org/apache/camel/component/properties/PropertiesComponent.java\n",
      "@@ -120,7 +120,7 @@\n",
      "     private Properties overrideProperties;\n",
      "     @Metadata(defaultValue = \"\" + SYSTEM_PROPERTIES_MODE_OVERRIDE, enums = \"0,1,2\")\n",
      "     private int systemPropertiesMode = SYSTEM_PROPERTIES_MODE_OVERRIDE;\n",
      "-    @Metadata(defaultValue = \"\" + SYSTEM_PROPERTIES_MODE_FALLBACK, enums = \"0,1,2\")\n",
      "+    @Metadata(defaultValue = \"\" + ENVIRONMENT_VARIABLES_MODE_OVERRIDE, enums = \"0,1,2\")\n",
      "     private int environmentVariableMode = ENVIRONMENT_VARIABLES_MODE_OVERRIDE;\n",
      " \n",
      "     public PropertiesComponent() {\n",
      "\n"
     ]
    }
   ],
   "source": [
    "bugTypeDf = df[df.bugType == 'CHANGE_OPERAND']\n",
    "bugTypeSample = bugTypeDf.iloc[28]\n",
    "print(bugTypeSample.sourceBeforeFix)\n",
    "print(bugTypeSample.sourceAfterFix)\n",
    "print()\n",
    "print(bugTypeSample.fixPatch)"
   ],
   "metadata": {
    "collapsed": false,
    "pycharm": {
     "name": "#%%\n"
    }
   }
  },
  {
   "cell_type": "markdown",
   "source": [
    "- Contains changing an operand of an operator\n",
    "- Need to check if contains changing both operator\n",
    "- Need to check if contains `=` operator"
   ],
   "metadata": {
    "collapsed": false,
    "pycharm": {
     "name": "#%% md\n"
    }
   }
  },
  {
   "cell_type": "markdown",
   "source": [
    "#### 6. CHANGE_OPERATOR"
   ],
   "metadata": {
    "collapsed": false,
    "pycharm": {
     "name": "#%% md\n"
    }
   }
  },
  {
   "cell_type": "code",
   "execution_count": 204,
   "outputs": [
    {
     "name": "stdout",
     "output_type": "stream",
     "text": [
      "i > BY_WOOL_DATA.length\n",
      "i >= BY_WOOL_DATA.length\n",
      "\n",
      "diff --git a/src/main/java/org/bukkit/DyeColor.java b/src/main/java/org/bukkit/DyeColor.java\n",
      "index b8e59a4..58f517b 100644\n",
      "--- a/src/main/java/org/bukkit/DyeColor.java\n",
      "+++ b/src/main/java/org/bukkit/DyeColor.java\n",
      "@@ -164,7 +164,7 @@\n",
      "      */\n",
      "     public static DyeColor getByWoolData(final byte data) {\n",
      "         int i = 0xff & data;\n",
      "-        if (i > BY_WOOL_DATA.length) {\n",
      "+        if (i >= BY_WOOL_DATA.length) {\n",
      "             return null;\n",
      "         }\n",
      "         return BY_WOOL_DATA[i];\n",
      "@@ -179,7 +179,7 @@\n",
      "      */\n",
      "     public static DyeColor getByDyeData(final byte data) {\n",
      "         int i = 0xff & data;\n",
      "-        if (i > BY_DYE_DATA.length) {\n",
      "+        if (i >= BY_DYE_DATA.length) {\n",
      "             return null;\n",
      "         }\n",
      "         return BY_DYE_DATA[i];\n",
      "\n"
     ]
    }
   ],
   "source": [
    "bugTypeDf = df[df.bugType == 'CHANGE_OPERATOR']\n",
    "bugTypeSample = bugTypeDf.iloc[28]\n",
    "print(bugTypeSample.sourceBeforeFix)\n",
    "print(bugTypeSample.sourceAfterFix)\n",
    "print()\n",
    "print(bugTypeSample.fixPatch)"
   ],
   "metadata": {
    "collapsed": false,
    "pycharm": {
     "name": "#%%\n"
    }
   }
  },
  {
   "cell_type": "markdown",
   "source": [
    "#### 7. CHANGE_UNARY_OPERATOR"
   ],
   "metadata": {
    "collapsed": false,
    "pycharm": {
     "name": "#%% md\n"
    }
   }
  },
  {
   "cell_type": "code",
   "execution_count": 205,
   "outputs": [
    {
     "name": "stdout",
     "output_type": "stream",
     "text": [
      "ufsDeleter.delete(alluxioUriToDel,delInode)\n",
      "!ufsDeleter.delete(alluxioUriToDel,delInode)\n",
      "\n",
      "diff --git a/core/server/master/src/main/java/alluxio/master/file/DefaultFileSystemMaster.java b/core/server/master/src/main/java/alluxio/master/file/DefaultFileSystemMaster.java\n",
      "index e015ad9..9def980 100644\n",
      "--- a/core/server/master/src/main/java/alluxio/master/file/DefaultFileSystemMaster.java\n",
      "+++ b/core/server/master/src/main/java/alluxio/master/file/DefaultFileSystemMaster.java\n",
      "@@ -1207,7 +1207,7 @@\n",
      "               unmountInternal(alluxioUriToDel);\n",
      "             } else if (!deleteOptions.isAlluxioOnly()) {\n",
      "               // Attempt to delete node if all children were deleted successfully\n",
      "-              failedToDelete = ufsDeleter.delete(alluxioUriToDel, delInode);\n",
      "+              failedToDelete = !ufsDeleter.delete(alluxioUriToDel, delInode);\n",
      "             }\n",
      "           } catch (InvalidPathException e) {\n",
      "             LOG.warn(e.getMessage());\n",
      "\n"
     ]
    }
   ],
   "source": [
    "bugTypeDf = df[df.bugType == 'CHANGE_UNARY_OPERATOR']\n",
    "bugTypeSample = bugTypeDf.iloc[5]\n",
    "print(bugTypeSample.sourceBeforeFix)\n",
    "print(bugTypeSample.sourceAfterFix)\n",
    "print()\n",
    "print(bugTypeSample.fixPatch)"
   ],
   "metadata": {
    "collapsed": false,
    "pycharm": {
     "name": "#%%\n"
    }
   }
  },
  {
   "cell_type": "markdown",
   "source": [
    "- Need to check if contains anything other than `!`"
   ],
   "metadata": {
    "collapsed": false,
    "pycharm": {
     "name": "#%% md\n"
    }
   }
  },
  {
   "cell_type": "markdown",
   "source": [
    "#### 8. DELETE_THROWS_EXCEPTION"
   ],
   "metadata": {
    "collapsed": false,
    "pycharm": {
     "name": "#%% md\n"
    }
   }
  },
  {
   "cell_type": "code",
   "execution_count": 206,
   "outputs": [
    {
     "name": "stdout",
     "output_type": "stream",
     "text": [
      "1\n",
      "1\n",
      "\n",
      "diff --git a/src/main/java/com/alibaba/druid/support/spring/stat/BeanTypeAutoProxyCreator.java b/src/main/java/com/alibaba/druid/support/spring/stat/BeanTypeAutoProxyCreator.java\n",
      "index 42409d8..6ce7f98 100644\n",
      "--- a/src/main/java/com/alibaba/druid/support/spring/stat/BeanTypeAutoProxyCreator.java\n",
      "+++ b/src/main/java/com/alibaba/druid/support/spring/stat/BeanTypeAutoProxyCreator.java\n",
      "@@ -52,7 +52,7 @@\n",
      "         this.targetBeanType = targetClass;\n",
      "     }\n",
      " \n",
      "-    public void setApplicationContext(ApplicationContext context) throws BeansException {\n",
      "+    public void setApplicationContext(ApplicationContext context) {\n",
      "         this.context = context;\n",
      "     }\n",
      " \n",
      "\n"
     ]
    }
   ],
   "source": [
    "bugTypeDf = df[df.bugType == 'DELETE_THROWS_EXCEPTION']\n",
    "bugTypeSample = bugTypeDf.iloc[5]\n",
    "print(bugTypeSample.sourceBeforeFix)\n",
    "print(bugTypeSample.sourceAfterFix)\n",
    "print()\n",
    "print(bugTypeSample.fixPatch)"
   ],
   "metadata": {
    "collapsed": false,
    "pycharm": {
     "name": "#%%\n"
    }
   }
  },
  {
   "cell_type": "code",
   "execution_count": 207,
   "outputs": [
    {
     "name": "stdout",
     "output_type": "stream",
     "text": [
      "['0' '1' '10' '4' '9']\n",
      "['0' '1' '10' '4' '9']\n"
     ]
    }
   ],
   "source": [
    "print(np.unique(bugTypeDf.sourceBeforeFix))\n",
    "print(np.unique(bugTypeDf.sourceAfterFix))"
   ],
   "metadata": {
    "collapsed": false,
    "pycharm": {
     "name": "#%%\n"
    }
   }
  },
  {
   "cell_type": "markdown",
   "source": [
    "- Values in `sourceBeforeFix` or `sourceAfterFix` are different from `ADD_THROWS_EXCEPTION`.\n",
    "  Need to explore outersecting types (`'2' '10' '33' '34')`."
   ],
   "metadata": {
    "collapsed": false,
    "pycharm": {
     "name": "#%% md\n"
    }
   }
  },
  {
   "cell_type": "markdown",
   "source": [
    "#### 9. DIFFERENT_METHOD_SAME_ARGS"
   ],
   "metadata": {
    "collapsed": false,
    "pycharm": {
     "name": "#%% md\n",
     "is_executing": true
    }
   }
  },
  {
   "cell_type": "code",
   "execution_count": 208,
   "outputs": [
    {
     "name": "stdout",
     "output_type": "stream",
     "text": [
      "xtw.writeCharacters(customProperty.getSimpleValue())\n",
      "xtw.writeCData(customProperty.getSimpleValue())\n",
      "\n",
      "diff --git a/modules/activiti-bpmn-converter/src/main/java/org/activiti/bpmn/converter/UserTaskXMLConverter.java b/modules/activiti-bpmn-converter/src/main/java/org/activiti/bpmn/converter/UserTaskXMLConverter.java\n",
      "index d588c3d..fb523c6 100644\n",
      "--- a/modules/activiti-bpmn-converter/src/main/java/org/activiti/bpmn/converter/UserTaskXMLConverter.java\n",
      "+++ b/modules/activiti-bpmn-converter/src/main/java/org/activiti/bpmn/converter/UserTaskXMLConverter.java\n",
      "@@ -162,7 +162,7 @@\n",
      "           didWriteExtensionStartElement = true;\n",
      "         }\n",
      "         xtw.writeStartElement(ACTIVITI_EXTENSIONS_PREFIX, customProperty.getName(), ACTIVITI_EXTENSIONS_NAMESPACE);\n",
      "-        xtw.writeCharacters(customProperty.getSimpleValue());\n",
      "+        xtw.writeCData(customProperty.getSimpleValue());\n",
      "         xtw.writeEndElement();\n",
      "       }\n",
      "     }\n",
      "\n"
     ]
    }
   ],
   "source": [
    "bugTypeDf = df[df.bugType == 'DIFFERENT_METHOD_SAME_ARGS']\n",
    "bugTypeSample = bugTypeDf.iloc[8]\n",
    "print(bugTypeSample.sourceBeforeFix)\n",
    "print(bugTypeSample.sourceAfterFix)\n",
    "print()\n",
    "print(bugTypeSample.fixPatch)"
   ],
   "metadata": {
    "collapsed": false,
    "pycharm": {
     "name": "#%%\n"
    }
   }
  },
  {
   "cell_type": "markdown",
   "source": [
    "- Need to check if shares entries with `CHANGE_IDENTIFIER`"
   ],
   "metadata": {
    "collapsed": false,
    "pycharm": {
     "name": "#%% md\n"
    }
   }
  },
  {
   "cell_type": "markdown",
   "source": [
    "#### 10. LESS_SPECIFIC_IF"
   ],
   "metadata": {
    "collapsed": false,
    "pycharm": {
     "name": "#%% md\n"
    }
   }
  },
  {
   "cell_type": "code",
   "execution_count": 209,
   "outputs": [
    {
     "name": "stdout",
     "output_type": "stream",
     "text": [
      "!ufsSyncChecker.isDirectoryInSync(parentUri)\n",
      "alluxioUriToDel.equals(inodePath.getUri()) || !ufsSyncChecker.isDirectoryInSync(parentUri)\n",
      "\n",
      "diff --git a/core/server/master/src/main/java/alluxio/master/file/DefaultFileSystemMaster.java b/core/server/master/src/main/java/alluxio/master/file/DefaultFileSystemMaster.java\n",
      "index 435021b..77a8b9f 100644\n",
      "--- a/core/server/master/src/main/java/alluxio/master/file/DefaultFileSystemMaster.java\n",
      "+++ b/core/server/master/src/main/java/alluxio/master/file/DefaultFileSystemMaster.java\n",
      "@@ -1226,7 +1226,8 @@\n",
      "               String ufsUri = resolution.getUri().toString();\n",
      "               UnderFileSystem ufs = resolution.getUfs();\n",
      "               AlluxioURI parentUri = alluxioUriToDel.getParent();\n",
      "-              if (!ufsSyncChecker.isDirectoryInSync(parentUri)) {\n",
      "+              if (alluxioUriToDel.equals(inodePath.getUri())\n",
      "+                  || !ufsSyncChecker.isDirectoryInSync(parentUri)) {\n",
      "                 // Parent will not recursively delete, so delete this inode individually\n",
      "                 if (delInode.isFile()) {\n",
      "                   if (!ufs.deleteFile(ufsUri)) {\n",
      "\n"
     ]
    }
   ],
   "source": [
    "bugTypeDf = df[df.bugType == 'LESS_SPECIFIC_IF']\n",
    "bugTypeSample = bugTypeDf.iloc[4]\n",
    "print(bugTypeSample.sourceBeforeFix)\n",
    "print(bugTypeSample.sourceAfterFix)\n",
    "print()\n",
    "print(bugTypeSample.fixPatch)"
   ],
   "metadata": {
    "collapsed": false,
    "pycharm": {
     "name": "#%%\n"
    }
   }
  },
  {
   "cell_type": "markdown",
   "source": [
    "- Contains `if`s where more condition added with `OR`"
   ],
   "metadata": {
    "collapsed": false,
    "pycharm": {
     "name": "#%% md\n"
    }
   }
  },
  {
   "cell_type": "markdown",
   "source": [
    "#### 11. MORE_SPECIFIC_IF"
   ],
   "metadata": {
    "collapsed": false,
    "pycharm": {
     "name": "#%% md\n"
    }
   }
  },
  {
   "cell_type": "code",
   "execution_count": 210,
   "outputs": [
    {
     "name": "stdout",
     "output_type": "stream",
     "text": [
      "idAnnotation != null\n",
      "idAnnotation != null && !method.isBridge()\n",
      "\n",
      "diff --git a/modules/activiti-engine/src/main/java/org/activiti/engine/impl/variable/JPAEntityScanner.java b/modules/activiti-engine/src/main/java/org/activiti/engine/impl/variable/JPAEntityScanner.java\n",
      "index 5fbbb87..f3e9bf7 100644\n",
      "--- a/modules/activiti-engine/src/main/java/org/activiti/engine/impl/variable/JPAEntityScanner.java\n",
      "+++ b/modules/activiti-engine/src/main/java/org/activiti/engine/impl/variable/JPAEntityScanner.java\n",
      "@@ -70,7 +70,7 @@\n",
      "     Id idAnnotation = null;\n",
      "     for (Method method : methods) {\n",
      "       idAnnotation = method.getAnnotation(Id.class);\n",
      "-      if (idAnnotation != null) {\n",
      "+      if(idAnnotation != null && !method.isBridge()) {\n",
      "         idMethod = method;\n",
      "         break;\n",
      "       }\n",
      "\n"
     ]
    }
   ],
   "source": [
    "bugTypeDf = df[df.bugType == 'MORE_SPECIFIC_IF']\n",
    "bugTypeSample = bugTypeDf.iloc[4]\n",
    "print(bugTypeSample.sourceBeforeFix)\n",
    "print(bugTypeSample.sourceAfterFix)\n",
    "print()\n",
    "print(bugTypeSample.fixPatch)"
   ],
   "metadata": {
    "collapsed": false,
    "pycharm": {
     "name": "#%%\n"
    }
   }
  },
  {
   "cell_type": "markdown",
   "source": [
    "- Contains `if`s where more condition added with `AND`"
   ],
   "metadata": {
    "collapsed": false,
    "pycharm": {
     "name": "#%% md\n"
    }
   }
  },
  {
   "cell_type": "markdown",
   "source": [
    "#### 12. OVERLOAD_METHOD_DELETED_ARGS"
   ],
   "metadata": {
    "collapsed": false,
    "pycharm": {
     "name": "#%% md\n"
    }
   }
  },
  {
   "cell_type": "code",
   "execution_count": 211,
   "outputs": [
    {
     "name": "stdout",
     "output_type": "stream",
     "text": [
      "new LocalTachyonClusterResource(Constants.GB,Constants.KB,BLOCK_SIZE,Constants.KEY_VALUE_ENABLED,\"true\",Constants.KEY_VALUE_PARTITION_SIZE_BYTES_MAX,Integer.toString(KEY_VALUE_PARTITION_SIZE))\n",
      "new LocalTachyonClusterResource(Constants.GB,BLOCK_SIZE,Constants.KEY_VALUE_ENABLED,\"true\",Constants.KEY_VALUE_PARTITION_SIZE_BYTES_MAX,Integer.toString(KEY_VALUE_PARTITION_SIZE))\n",
      "\n",
      "diff --git a/tests/src/test/java/tachyon/client/keyvalue/hadoop/KeyValueStoreMapReduceIntegrationTest.java b/tests/src/test/java/tachyon/client/keyvalue/hadoop/KeyValueStoreMapReduceIntegrationTest.java\n",
      "index 9bd8778..b34b8aa 100644\n",
      "--- a/tests/src/test/java/tachyon/client/keyvalue/hadoop/KeyValueStoreMapReduceIntegrationTest.java\n",
      "+++ b/tests/src/test/java/tachyon/client/keyvalue/hadoop/KeyValueStoreMapReduceIntegrationTest.java\n",
      "@@ -50,7 +50,7 @@\n",
      " \n",
      "   @ClassRule\n",
      "   public static LocalTachyonClusterResource sLocalTachyonClusterResource =\n",
      "-      new LocalTachyonClusterResource(Constants.GB, Constants.KB, BLOCK_SIZE,\n",
      "+      new LocalTachyonClusterResource(Constants.GB, BLOCK_SIZE,\n",
      "           /* ensure key-value service is turned on */\n",
      "           Constants.KEY_VALUE_ENABLED, \"true\",\n",
      "           Constants.KEY_VALUE_PARTITION_SIZE_BYTES_MAX, Integer.toString(KEY_VALUE_PARTITION_SIZE));\n",
      "\n"
     ]
    }
   ],
   "source": [
    "bugTypeDf = df[df.bugType == 'OVERLOAD_METHOD_DELETED_ARGS']\n",
    "bugTypeSample = bugTypeDf.iloc[4]\n",
    "print(bugTypeSample.sourceBeforeFix)\n",
    "print(bugTypeSample.sourceAfterFix)\n",
    "print()\n",
    "print(bugTypeSample.fixPatch)"
   ],
   "metadata": {
    "collapsed": false,
    "pycharm": {
     "name": "#%%\n"
    }
   }
  },
  {
   "cell_type": "markdown",
   "source": [
    "- Contains if an argument is removed from method"
   ],
   "metadata": {
    "collapsed": false,
    "pycharm": {
     "name": "#%% md\n"
    }
   }
  },
  {
   "cell_type": "markdown",
   "source": [
    "#### 13. OVERLOAD_METHOD_MORE_ARGS"
   ],
   "metadata": {
    "collapsed": false,
    "pycharm": {
     "name": "#%% md\n"
    }
   }
  },
  {
   "cell_type": "code",
   "execution_count": 212,
   "outputs": [
    {
     "name": "stdout",
     "output_type": "stream",
     "text": [
      "IOUtils.toString(stencilsetStream)\n",
      "IOUtils.toString(stencilsetStream,\"utf-8\")\n",
      "\n",
      "diff --git a/modules/activiti-modeler/src/main/java/org/activiti/rest/editor/main/StencilsetRestResource.java b/modules/activiti-modeler/src/main/java/org/activiti/rest/editor/main/StencilsetRestResource.java\n",
      "index b07c4a7..4502b19 100644\n",
      "--- a/modules/activiti-modeler/src/main/java/org/activiti/rest/editor/main/StencilsetRestResource.java\n",
      "+++ b/modules/activiti-modeler/src/main/java/org/activiti/rest/editor/main/StencilsetRestResource.java\n",
      "@@ -27,11 +27,11 @@\n",
      " @RestController\n",
      " public class StencilsetRestResource {\n",
      "   \n",
      "-  @RequestMapping(value=\"/editor/stencilset\", method = RequestMethod.GET, produces = \"application/json\")\n",
      "+  @RequestMapping(value=\"/editor/stencilset\", method = RequestMethod.GET, produces = \"application/json;charset=utf-8\")\n",
      "   public @ResponseBody String getStencilset() {\n",
      "     InputStream stencilsetStream = this.getClass().getClassLoader().getResourceAsStream(\"stencilset.json\");\n",
      "     try {\n",
      "-      return IOUtils.toString(stencilsetStream);\n",
      "+      return IOUtils.toString(stencilsetStream, \"utf-8\");\n",
      "     } catch (Exception e) {\n",
      "       throw new ActivitiException(\"Error while loading stencil set\", e);\n",
      "     }\n",
      "\n"
     ]
    }
   ],
   "source": [
    "bugTypeDf = df[df.bugType == 'OVERLOAD_METHOD_MORE_ARGS']\n",
    "bugTypeSample = bugTypeDf.iloc[4]\n",
    "print(bugTypeSample.sourceBeforeFix)\n",
    "print(bugTypeSample.sourceAfterFix)\n",
    "print()\n",
    "print(bugTypeSample.fixPatch)"
   ],
   "metadata": {
    "collapsed": false,
    "pycharm": {
     "name": "#%%\n"
    }
   }
  },
  {
   "cell_type": "markdown",
   "source": [
    "- Contains if an argument is added to method\n",
    "- Need to check if more than one argument are added anywhere"
   ],
   "metadata": {
    "collapsed": false,
    "pycharm": {
     "name": "#%% md\n"
    }
   }
  },
  {
   "cell_type": "markdown",
   "source": [
    "#### 13. SWAP_ARGUMENTS"
   ],
   "metadata": {
    "collapsed": false,
    "pycharm": {
     "name": "#%% md\n"
    }
   }
  },
  {
   "cell_type": "code",
   "execution_count": 213,
   "outputs": [
    {
     "name": "stdout",
     "output_type": "stream",
     "text": [
      "new NetAddress(resolvedHost,resolvedPort,-1)\n",
      "new NetAddress(resolvedHost,-1,resolvedPort)\n",
      "\n",
      "diff --git a/servers/src/main/java/tachyon/master/BlockInfo.java b/servers/src/main/java/tachyon/master/BlockInfo.java\n",
      "index 10f3b21..ec659db 100644\n",
      "--- a/servers/src/main/java/tachyon/master/BlockInfo.java\n",
      "+++ b/servers/src/main/java/tachyon/master/BlockInfo.java\n",
      "@@ -187,7 +187,8 @@\n",
      "           } catch (NumberFormatException nfe) {\n",
      "             continue;\n",
      "           }\n",
      "-          ret.add(new NetAddress(resolvedHost, resolvedPort, -1));\n",
      "+          // The resolved port is the data transfer port not the rpc port\n",
      "+          ret.add(new NetAddress(resolvedHost, -1, resolvedPort));\n",
      "         }\n",
      "       }\n",
      "     }\n",
      "\n"
     ]
    }
   ],
   "source": [
    "bugTypeDf = df[df.bugType == 'SWAP_ARGUMENTS']\n",
    "bugTypeSample = bugTypeDf.iloc[0]\n",
    "print(bugTypeSample.sourceBeforeFix)\n",
    "print(bugTypeSample.sourceAfterFix)\n",
    "print()\n",
    "print(bugTypeSample.fixPatch)"
   ],
   "metadata": {
    "collapsed": false,
    "pycharm": {
     "name": "#%%\n"
    }
   }
  },
  {
   "cell_type": "markdown",
   "source": [
    "- Very few entries here are actually bugs. Most are assertions.\n",
    "- As expected, where it is really error, the types of both the arguments are the same."
   ],
   "metadata": {
    "collapsed": false,
    "pycharm": {
     "name": "#%% md\n"
    }
   }
  },
  {
   "cell_type": "markdown",
   "source": [
    "#### 14. SWAP_BOOLEAN_LITERAL"
   ],
   "metadata": {
    "collapsed": false,
    "pycharm": {
     "name": "#%% md\n"
    }
   }
  },
  {
   "cell_type": "code",
   "execution_count": 214,
   "outputs": [
    {
     "name": "stdout",
     "output_type": "stream",
     "text": [
      "setAttributeInternal(tempInodePath,true,opTimeMs,options)\n",
      "setAttributeInternal(tempInodePath,false,opTimeMs,options)\n",
      "\n",
      "diff --git a/core/server/src/main/java/alluxio/master/file/FileSystemMaster.java b/core/server/src/main/java/alluxio/master/file/FileSystemMaster.java\n",
      "index 3e6c8a8..79939ab 100644\n",
      "--- a/core/server/src/main/java/alluxio/master/file/FileSystemMaster.java\n",
      "+++ b/core/server/src/main/java/alluxio/master/file/FileSystemMaster.java\n",
      "@@ -2294,14 +2294,14 @@\n",
      "         for (Inode<?> inode : inodeChildren) {\n",
      "           // the path to inode for getPath should already be locked.\n",
      "           tempInodePath.setDescendant(inode, mInodeTree.getPath(inode));\n",
      "-          List<Inode<?>> persistedInodes = setAttributeInternal(tempInodePath, true, opTimeMs,\n",
      "+          List<Inode<?>> persistedInodes = setAttributeInternal(tempInodePath, false, opTimeMs,\n",
      "               options);\n",
      "           journalPersistedInodes(persistedInodes);\n",
      "           journalSetAttribute(tempInodePath, opTimeMs, options);\n",
      "         }\n",
      "       }\n",
      "     }\n",
      "-    List<Inode<?>> persistedInodes = setAttributeInternal(inodePath, true, opTimeMs, options);\n",
      "+    List<Inode<?>> persistedInodes = setAttributeInternal(inodePath, false, opTimeMs, options);\n",
      "     journalPersistedInodes(persistedInodes);\n",
      "     return journalSetAttribute(inodePath, opTimeMs, options);\n",
      "   }\n",
      "@@ -2529,7 +2529,7 @@\n",
      "     }\n",
      "     try (LockedInodePath inodePath = mInodeTree\n",
      "         .lockFullInodePath(entry.getId(), InodeTree.LockMode.WRITE)) {\n",
      "-      setAttributeInternal(inodePath, false, entry.getOpTimeMs(), options);\n",
      "+      setAttributeInternal(inodePath, true, entry.getOpTimeMs(), options);\n",
      "       // Intentionally not journaling the persisted inodes from setAttributeInternal\n",
      "     }\n",
      "   }\n",
      "\n"
     ]
    }
   ],
   "source": [
    "bugTypeDf = df[df.bugType == 'SWAP_BOOLEAN_LITERAL']\n",
    "bugTypeSample = bugTypeDf.iloc[9]\n",
    "print(bugTypeSample.sourceBeforeFix)\n",
    "print(bugTypeSample.sourceAfterFix)\n",
    "print()\n",
    "print(bugTypeSample.fixPatch)"
   ],
   "metadata": {
    "collapsed": false,
    "pycharm": {
     "name": "#%%\n"
    }
   }
  },
  {
   "cell_type": "markdown",
   "source": [
    "- Contains entries where `true` is changed to `false` or vice-versa."
   ],
   "metadata": {
    "collapsed": false,
    "pycharm": {
     "name": "#%% md\n"
    }
   }
  },
  {
   "cell_type": "markdown",
   "source": [
    "### Key Notes"
   ],
   "metadata": {
    "collapsed": false,
    "pycharm": {
     "name": "#%% md\n"
    }
   }
  },
  {
   "cell_type": "markdown",
   "source": [
    "- Annotations do not contribute to bug type\n",
    "- If more than one diff is present, only the first one is counted\n"
   ],
   "metadata": {
    "collapsed": false,
    "pycharm": {
     "name": "#%% md\n"
    }
   }
  }
 ],
 "metadata": {
  "kernelspec": {
   "display_name": "Python 3",
   "language": "python",
   "name": "python3"
  },
  "language_info": {
   "codemirror_mode": {
    "name": "ipython",
    "version": 2
   },
   "file_extension": ".py",
   "mimetype": "text/x-python",
   "name": "python",
   "nbconvert_exporter": "python",
   "pygments_lexer": "ipython2",
   "version": "2.7.6"
  }
 },
 "nbformat": 4,
 "nbformat_minor": 0
}
{
 "cells": [
  {
   "cell_type": "code",
   "execution_count": 12,
   "metadata": {
    "collapsed": true
   },
   "outputs": [],
   "source": [
    "import pandas as pd"
   ]
  },
  {
   "cell_type": "code",
   "execution_count": 2,
   "outputs": [],
   "source": [
    "df = pd.read_json('../dataset/sstubs')"
   ],
   "metadata": {
    "collapsed": false,
    "pycharm": {
     "name": "#%%\n"
    }
   }
  },
  {
   "cell_type": "code",
   "execution_count": 3,
   "outputs": [
    {
     "data": {
      "text/plain": "                      bugType                             fixCommitSHA1  \\\n0             CHANGE_OPERATOR  aa90e04b5e6eb7f6d46dde16867196329568324e   \n1   OVERLOAD_METHOD_MORE_ARGS  46d3a4007fe1418d53baabc16dec39275079684b   \n2   OVERLOAD_METHOD_MORE_ARGS  e15dbdf6aceac531383d22369d7f09b40106f06e   \n3  DIFFERENT_METHOD_SAME_ARGS  114870164ba9822afc3a92eefe5258f54a1c6a17   \n4           CHANGE_IDENTIFIER  114870164ba9822afc3a92eefe5258f54a1c6a17   \n\n                        fixCommitParentSHA1  \\\n0  46d3a4007fe1418d53baabc16dec39275079684b   \n1  4a51f2c95fc1ab5eb6c32c32d8d31dc078fea630   \n2  27471f6535a7c91cf5387a88b1a920d4d991c2e5   \n3  845ab7d135ab688e4943bd0f5472f0a5401528f8   \n4  845ab7d135ab688e4943bd0f5472f0a5401528f8   \n\n                                         bugFilePath  \\\n0  modules/activiti-form-engine/src/main/java/org...   \n1  modules/activiti-secure-service-tasks/src/test...   \n2  modules/activiti-secure-service-tasks/src/test...   \n3  modules/activiti-engine/src/test/java/org/acti...   \n4  modules/activiti-engine/src/test/java/org/acti...   \n\n                                            fixPatch        projectName  \\\n0  diff --git a/modules/activiti-form-engine/src/...  Activiti.Activiti   \n1  diff --git a/modules/activiti-secure-service-t...  Activiti.Activiti   \n2  diff --git a/modules/activiti-secure-service-t...  Activiti.Activiti   \n3  diff --git a/modules/activiti-engine/src/test/...  Activiti.Activiti   \n4  diff --git a/modules/activiti-engine/src/test/...  Activiti.Activiti   \n\n   bugLineNum  bugNodeStartChar  bugNodeLength  fixLineNum  fixNodeStartChar  \\\n0         184              8444             35         184              8444   \n1          31              1214             26          31              1214   \n2          31              1214             26          31              1214   \n3          26               797            157          26               797   \n4          26               797            157          26               797   \n\n   fixNodeLength                                    sourceBeforeFix  \\\n0             35                submittedNode.get(\"values\") != null   \n1             32                          Arrays.asList(\"ls\",\"pwd\")   \n2             32                          Arrays.asList(\"ls\",\"pwd\")   \n3            159  taskService.createTaskQuery().or().taskInvolve...   \n4            159  taskService.createTaskQuery().or().taskInvolve...   \n\n                                      sourceAfterFix  \n0                submittedNode.get(\"values\") == null  \n1                    Arrays.asList(\"cmd\",\"ls\",\"pwd\")  \n2                    Arrays.asList(\"cmd\",\"ls\",\"pwd\")  \n3  taskService.createTaskQuery().or().taskInvolve...  \n4  taskService.createTaskQuery().or().taskInvolve...  ",
      "text/html": "<div>\n<style scoped>\n    .dataframe tbody tr th:only-of-type {\n        vertical-align: middle;\n    }\n\n    .dataframe tbody tr th {\n        vertical-align: top;\n    }\n\n    .dataframe thead th {\n        text-align: right;\n    }\n</style>\n<table border=\"1\" class=\"dataframe\">\n  <thead>\n    <tr style=\"text-align: right;\">\n      <th></th>\n      <th>bugType</th>\n      <th>fixCommitSHA1</th>\n      <th>fixCommitParentSHA1</th>\n      <th>bugFilePath</th>\n      <th>fixPatch</th>\n      <th>projectName</th>\n      <th>bugLineNum</th>\n      <th>bugNodeStartChar</th>\n      <th>bugNodeLength</th>\n      <th>fixLineNum</th>\n      <th>fixNodeStartChar</th>\n      <th>fixNodeLength</th>\n      <th>sourceBeforeFix</th>\n      <th>sourceAfterFix</th>\n    </tr>\n  </thead>\n  <tbody>\n    <tr>\n      <th>0</th>\n      <td>CHANGE_OPERATOR</td>\n      <td>aa90e04b5e6eb7f6d46dde16867196329568324e</td>\n      <td>46d3a4007fe1418d53baabc16dec39275079684b</td>\n      <td>modules/activiti-form-engine/src/main/java/org...</td>\n      <td>diff --git a/modules/activiti-form-engine/src/...</td>\n      <td>Activiti.Activiti</td>\n      <td>184</td>\n      <td>8444</td>\n      <td>35</td>\n      <td>184</td>\n      <td>8444</td>\n      <td>35</td>\n      <td>submittedNode.get(\"values\") != null</td>\n      <td>submittedNode.get(\"values\") == null</td>\n    </tr>\n    <tr>\n      <th>1</th>\n      <td>OVERLOAD_METHOD_MORE_ARGS</td>\n      <td>46d3a4007fe1418d53baabc16dec39275079684b</td>\n      <td>4a51f2c95fc1ab5eb6c32c32d8d31dc078fea630</td>\n      <td>modules/activiti-secure-service-tasks/src/test...</td>\n      <td>diff --git a/modules/activiti-secure-service-t...</td>\n      <td>Activiti.Activiti</td>\n      <td>31</td>\n      <td>1214</td>\n      <td>26</td>\n      <td>31</td>\n      <td>1214</td>\n      <td>32</td>\n      <td>Arrays.asList(\"ls\",\"pwd\")</td>\n      <td>Arrays.asList(\"cmd\",\"ls\",\"pwd\")</td>\n    </tr>\n    <tr>\n      <th>2</th>\n      <td>OVERLOAD_METHOD_MORE_ARGS</td>\n      <td>e15dbdf6aceac531383d22369d7f09b40106f06e</td>\n      <td>27471f6535a7c91cf5387a88b1a920d4d991c2e5</td>\n      <td>modules/activiti-secure-service-tasks/src/test...</td>\n      <td>diff --git a/modules/activiti-secure-service-t...</td>\n      <td>Activiti.Activiti</td>\n      <td>31</td>\n      <td>1214</td>\n      <td>26</td>\n      <td>31</td>\n      <td>1214</td>\n      <td>32</td>\n      <td>Arrays.asList(\"ls\",\"pwd\")</td>\n      <td>Arrays.asList(\"cmd\",\"ls\",\"pwd\")</td>\n    </tr>\n    <tr>\n      <th>3</th>\n      <td>DIFFERENT_METHOD_SAME_ARGS</td>\n      <td>114870164ba9822afc3a92eefe5258f54a1c6a17</td>\n      <td>845ab7d135ab688e4943bd0f5472f0a5401528f8</td>\n      <td>modules/activiti-engine/src/test/java/org/acti...</td>\n      <td>diff --git a/modules/activiti-engine/src/test/...</td>\n      <td>Activiti.Activiti</td>\n      <td>26</td>\n      <td>797</td>\n      <td>157</td>\n      <td>26</td>\n      <td>797</td>\n      <td>159</td>\n      <td>taskService.createTaskQuery().or().taskInvolve...</td>\n      <td>taskService.createTaskQuery().or().taskInvolve...</td>\n    </tr>\n    <tr>\n      <th>4</th>\n      <td>CHANGE_IDENTIFIER</td>\n      <td>114870164ba9822afc3a92eefe5258f54a1c6a17</td>\n      <td>845ab7d135ab688e4943bd0f5472f0a5401528f8</td>\n      <td>modules/activiti-engine/src/test/java/org/acti...</td>\n      <td>diff --git a/modules/activiti-engine/src/test/...</td>\n      <td>Activiti.Activiti</td>\n      <td>26</td>\n      <td>797</td>\n      <td>157</td>\n      <td>26</td>\n      <td>797</td>\n      <td>159</td>\n      <td>taskService.createTaskQuery().or().taskInvolve...</td>\n      <td>taskService.createTaskQuery().or().taskInvolve...</td>\n    </tr>\n  </tbody>\n</table>\n</div>"
     },
     "execution_count": 3,
     "metadata": {},
     "output_type": "execute_result"
    }
   ],
   "source": [
    "df.head()"
   ],
   "metadata": {
    "collapsed": false,
    "pycharm": {
     "name": "#%%\n"
    }
   }
  },
  {
   "cell_type": "code",
   "execution_count": 22,
   "outputs": [
    {
     "name": "stdout",
     "output_type": "stream",
     "text": [
      "**bugType**\n",
      "DIFFERENT_METHOD_SAME_ARGS\n",
      "\n",
      "**fixCommitSHA1**\n",
      "114870164ba9822afc3a92eefe5258f54a1c6a17\n",
      "\n",
      "**fixCommitParentSHA1**\n",
      "845ab7d135ab688e4943bd0f5472f0a5401528f8\n",
      "\n",
      "**bugFilePath**\n",
      "modules/activiti-engine/src/test/java/org/activiti/engine/test/api/runtime/TaskInvolvementTest.java\n",
      "\n",
      "**fixPatch**\n",
      "diff --git a/modules/activiti-engine/src/test/java/org/activiti/engine/test/api/runtime/TaskInvolvementTest.java b/modules/activiti-engine/src/test/java/org/activiti/engine/test/api/runtime/TaskInvolvementTest.java\n",
      "index 4de3611..f71b5a3 100644\n",
      "--- a/modules/activiti-engine/src/test/java/org/activiti/engine/test/api/runtime/TaskInvolvementTest.java\n",
      "+++ b/modules/activiti-engine/src/test/java/org/activiti/engine/test/api/runtime/TaskInvolvementTest.java\n",
      "@@ -26,7 +26,7 @@\n",
      "             assertEquals(1, taskService.createTaskQuery()\n",
      "                     .or()\n",
      "                     .taskInvolvedUser(\"involvedUser\")\n",
      "-                    .taskInvolvedGroups(groups)\n",
      "+                    .taskInvolvedGroupsIn(groups)\n",
      "                     .endOr()\n",
      "                     .count());\n",
      " \n",
      "\n",
      "\n",
      "**projectName**\n",
      "Activiti.Activiti\n",
      "\n",
      "**bugLineNum**\n",
      "26\n",
      "\n",
      "**bugNodeStartChar**\n",
      "797\n",
      "\n",
      "**bugNodeLength**\n",
      "157\n",
      "\n",
      "**fixLineNum**\n",
      "26\n",
      "\n",
      "**fixNodeStartChar**\n",
      "797\n",
      "\n",
      "**fixNodeLength**\n",
      "159\n",
      "\n",
      "**sourceBeforeFix**\n",
      "taskService.createTaskQuery().or().taskInvolvedUser(\"involvedUser\").taskInvolvedGroups(groups)\n",
      "\n",
      "**sourceAfterFix**\n",
      "taskService.createTaskQuery().or().taskInvolvedUser(\"involvedUser\").taskInvolvedGroupsIn(groups)\n",
      "\n"
     ]
    }
   ],
   "source": [
    "for k in df.iloc[3].keys():\n",
    "    print(('**{}**'.format(k)))\n",
    "    print(df.iloc[3][k])\n",
    "    print()"
   ],
   "metadata": {
    "collapsed": false,
    "pycharm": {
     "name": "#%%\n"
    }
   }
  },
  {
   "cell_type": "code",
   "execution_count": 33,
   "outputs": [
    {
     "data": {
      "text/plain": "                                                                  sourceBeforeFix  \\\nbugType                                                                             \nADD_THROWS_EXCEPTION                                                            1   \nCHANGE_CALLER_IN_FUNCTION_CALL           DATABASE_TYPE_MYSQL.equals(databaseType)   \nCHANGE_IDENTIFIER               taskService.createTaskQuery().or().taskInvolve...   \nCHANGE_MODIFIER                                                                 1   \nCHANGE_NUMERAL                       waitForJobExecutorToProcessAllJobs(3000,500)   \nCHANGE_OPERAND                               mLockMode == InodeTree.LockMode.READ   \nCHANGE_OPERATOR                               submittedNode.get(\"values\") != null   \nCHANGE_UNARY_OPERATOR                                                     exclude   \nDELETE_THROWS_EXCEPTION                                                         4   \nDIFFERENT_METHOD_SAME_ARGS      taskService.createTaskQuery().or().taskInvolve...   \nLESS_SPECIFIC_IF                          processDefinition.getTenantId() == null   \nMORE_SPECIFIC_IF                                      getDatabaseSchema() != null   \nOVERLOAD_METHOD_DELETED_ARGS    LOG.error(\"Fail to set owner for {} with user:...   \nOVERLOAD_METHOD_MORE_ARGS                               Arrays.asList(\"ls\",\"pwd\")   \nSWAP_ARGUMENTS                       new NetAddress(resolvedHost,resolvedPort,-1)   \nSWAP_BOOLEAN_LITERAL            new GetExecutionVariableInstancesCmd(execution...   \n\n                                                                   sourceAfterFix  \nbugType                                                                            \nADD_THROWS_EXCEPTION                                                            1  \nCHANGE_CALLER_IN_FUNCTION_CALL           DATABASE_TYPE_MSSQL.equals(databaseType)  \nCHANGE_IDENTIFIER               taskService.createTaskQuery().or().taskInvolve...  \nCHANGE_MODIFIER                                                              1025  \nCHANGE_NUMERAL                       waitForJobExecutorToProcessAllJobs(5000,500)  \nCHANGE_OPERAND                                lockMode == InodeTree.LockMode.READ  \nCHANGE_OPERATOR                               submittedNode.get(\"values\") == null  \nCHANGE_UNARY_OPERATOR                                                    !exclude  \nDELETE_THROWS_EXCEPTION                                                         4  \nDIFFERENT_METHOD_SAME_ARGS      taskService.createTaskQuery().or().taskInvolve...  \nLESS_SPECIFIC_IF                processDefinition.getTenantId() == null || Pro...  \nMORE_SPECIFIC_IF                getDatabaseSchema() != null && getDatabaseSche...  \nOVERLOAD_METHOD_DELETED_ARGS    LOG.error(\"Fail to set owner for {} with user:...  \nOVERLOAD_METHOD_MORE_ARGS                         Arrays.asList(\"cmd\",\"ls\",\"pwd\")  \nSWAP_ARGUMENTS                       new NetAddress(resolvedHost,-1,resolvedPort)  \nSWAP_BOOLEAN_LITERAL            new GetExecutionVariableInstancesCmd(execution...  ",
      "text/html": "<div>\n<style scoped>\n    .dataframe tbody tr th:only-of-type {\n        vertical-align: middle;\n    }\n\n    .dataframe tbody tr th {\n        vertical-align: top;\n    }\n\n    .dataframe thead th {\n        text-align: right;\n    }\n</style>\n<table border=\"1\" class=\"dataframe\">\n  <thead>\n    <tr style=\"text-align: right;\">\n      <th></th>\n      <th>sourceBeforeFix</th>\n      <th>sourceAfterFix</th>\n    </tr>\n    <tr>\n      <th>bugType</th>\n      <th></th>\n      <th></th>\n    </tr>\n  </thead>\n  <tbody>\n    <tr>\n      <th>ADD_THROWS_EXCEPTION</th>\n      <td>1</td>\n      <td>1</td>\n    </tr>\n    <tr>\n      <th>CHANGE_CALLER_IN_FUNCTION_CALL</th>\n      <td>DATABASE_TYPE_MYSQL.equals(databaseType)</td>\n      <td>DATABASE_TYPE_MSSQL.equals(databaseType)</td>\n    </tr>\n    <tr>\n      <th>CHANGE_IDENTIFIER</th>\n      <td>taskService.createTaskQuery().or().taskInvolve...</td>\n      <td>taskService.createTaskQuery().or().taskInvolve...</td>\n    </tr>\n    <tr>\n      <th>CHANGE_MODIFIER</th>\n      <td>1</td>\n      <td>1025</td>\n    </tr>\n    <tr>\n      <th>CHANGE_NUMERAL</th>\n      <td>waitForJobExecutorToProcessAllJobs(3000,500)</td>\n      <td>waitForJobExecutorToProcessAllJobs(5000,500)</td>\n    </tr>\n    <tr>\n      <th>CHANGE_OPERAND</th>\n      <td>mLockMode == InodeTree.LockMode.READ</td>\n      <td>lockMode == InodeTree.LockMode.READ</td>\n    </tr>\n    <tr>\n      <th>CHANGE_OPERATOR</th>\n      <td>submittedNode.get(\"values\") != null</td>\n      <td>submittedNode.get(\"values\") == null</td>\n    </tr>\n    <tr>\n      <th>CHANGE_UNARY_OPERATOR</th>\n      <td>exclude</td>\n      <td>!exclude</td>\n    </tr>\n    <tr>\n      <th>DELETE_THROWS_EXCEPTION</th>\n      <td>4</td>\n      <td>4</td>\n    </tr>\n    <tr>\n      <th>DIFFERENT_METHOD_SAME_ARGS</th>\n      <td>taskService.createTaskQuery().or().taskInvolve...</td>\n      <td>taskService.createTaskQuery().or().taskInvolve...</td>\n    </tr>\n    <tr>\n      <th>LESS_SPECIFIC_IF</th>\n      <td>processDefinition.getTenantId() == null</td>\n      <td>processDefinition.getTenantId() == null || Pro...</td>\n    </tr>\n    <tr>\n      <th>MORE_SPECIFIC_IF</th>\n      <td>getDatabaseSchema() != null</td>\n      <td>getDatabaseSchema() != null &amp;&amp; getDatabaseSche...</td>\n    </tr>\n    <tr>\n      <th>OVERLOAD_METHOD_DELETED_ARGS</th>\n      <td>LOG.error(\"Fail to set owner for {} with user:...</td>\n      <td>LOG.error(\"Fail to set owner for {} with user:...</td>\n    </tr>\n    <tr>\n      <th>OVERLOAD_METHOD_MORE_ARGS</th>\n      <td>Arrays.asList(\"ls\",\"pwd\")</td>\n      <td>Arrays.asList(\"cmd\",\"ls\",\"pwd\")</td>\n    </tr>\n    <tr>\n      <th>SWAP_ARGUMENTS</th>\n      <td>new NetAddress(resolvedHost,resolvedPort,-1)</td>\n      <td>new NetAddress(resolvedHost,-1,resolvedPort)</td>\n    </tr>\n    <tr>\n      <th>SWAP_BOOLEAN_LITERAL</th>\n      <td>new GetExecutionVariableInstancesCmd(execution...</td>\n      <td>new GetExecutionVariableInstancesCmd(execution...</td>\n    </tr>\n  </tbody>\n</table>\n</div>"
     },
     "execution_count": 33,
     "metadata": {},
     "output_type": "execute_result"
    }
   ],
   "source": [
    "df.groupby('bugType').first()[['sourceBeforeFix', 'sourceAfterFix']]"
   ],
   "metadata": {
    "collapsed": false,
    "pycharm": {
     "name": "#%%\n"
    }
   }
  }
 ],
 "metadata": {
  "kernelspec": {
   "display_name": "Python 3",
   "language": "python",
   "name": "python3"
  },
  "language_info": {
   "codemirror_mode": {
    "name": "ipython",
    "version": 2
   },
   "file_extension": ".py",
   "mimetype": "text/x-python",
   "name": "python",
   "nbconvert_exporter": "python",
   "pygments_lexer": "ipython2",
   "version": "2.7.6"
  }
 },
 "nbformat": 4,
 "nbformat_minor": 0
}
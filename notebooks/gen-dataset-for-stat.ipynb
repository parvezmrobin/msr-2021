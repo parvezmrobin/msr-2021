{
 "cells": [
  {
   "cell_type": "markdown",
   "metadata": {
    "pycharm": {
     "name": "#%% md\n"
    }
   },
   "source": [
    "# Inspect Various Attributes"
   ]
  },
  {
   "cell_type": "code",
   "execution_count": 2,
   "metadata": {},
   "outputs": [],
   "source": [
    "import sqlite3"
   ]
  },
  {
   "cell_type": "code",
   "execution_count": 2,
   "metadata": {
    "pycharm": {
     "name": "#%%\n"
    }
   },
   "outputs": [
    {
     "name": "stdout",
     "output_type": "stream",
     "text": [
      "10231 entries added to table SStuBs\n",
      "63923 entries added to table SStuBs Large\n",
      "25539 entries added to table Bugs\n",
      "153652 entries added to table Bugs Large\n",
      "Created indices\n"
     ]
    }
   ],
   "source": [
    "import scripts.buildSqlite"
   ]
  },
  {
   "cell_type": "code",
   "execution_count": 3,
   "metadata": {
    "pycharm": {
     "name": "#%%\n"
    }
   },
   "outputs": [],
   "source": [
    "conn = sqlite3.connect('../database/sstubs.db')\n",
    "cursor = conn.cursor()"
   ]
  },
  {
   "cell_type": "markdown",
   "source": [
    "### Terminologies\n",
    "\n",
    "DB Col | Dataset Col | Def\n",
    "--- | --- | --- |\n",
    "parent | fixCommitParentSHA1 | SHA1 of the parent commit\n",
    "child | fixCommitSHA1 | SHA1 of the current commit\n",
    "type | bugType | One of the given 16 bug types\n",
    "project | projectName | The project's name in format '{repo_owner}.{repo_name}'\n",
    "file | bugFilePath | Relative path to the buggy file\n",
    "line | bugLineNum | Line number of the buggy AST node\n",
    "before | sourceBeforeFix | The fixed AST node in textual format\n",
    "after | sourceAfterFix | The buggy AST node in textual format"
   ],
   "metadata": {
    "collapsed": false,
    "pycharm": {
     "name": "#%% md\n"
    }
   }
  },
  {
   "cell_type": "markdown",
   "metadata": {
    "pycharm": {
     "name": "#%% md\n"
    }
   },
   "source": [
    "### 1. Unique SHA1"
   ]
  },
  {
   "cell_type": "markdown",
   "source": [
    "#### 1.1. Bugs"
   ],
   "metadata": {
    "collapsed": false,
    "pycharm": {
     "name": "#%% md\n"
    }
   }
  },
  {
   "cell_type": "code",
   "execution_count": 4,
   "metadata": {
    "pycharm": {
     "name": "#%%\n"
    }
   },
   "outputs": [
    {
     "name": "stdout",
     "output_type": "stream",
     "text": [
      "There are total 66,261 unique fixCommitSHA1 among total 153,652 entries\n",
      "That is each commit fixes nearly 2.32 buggy lines\n"
     ]
    }
   ],
   "source": [
    "query = 'SELECT count(DISTINCT child), count() FROM bugs_large'\n",
    "for unq, tot in cursor.execute(query):\n",
    "    print(f'There are total {unq:,} unique fixCommitSHA1 among total {tot:,} entries')\n",
    "    print(f'That is each commit fixes nearly {round(tot / unq, 2)} buggy lines')"
   ]
  },
  {
   "cell_type": "markdown",
   "source": [
    "#### 1.2. SStuBs"
   ],
   "metadata": {
    "collapsed": false,
    "pycharm": {
     "name": "#%% md\n"
    }
   }
  },
  {
   "cell_type": "code",
   "execution_count": 5,
   "metadata": {
    "pycharm": {
     "name": "#%%\n"
    }
   },
   "outputs": [
    {
     "name": "stdout",
     "output_type": "stream",
     "text": [
      "There are total 24,486 unique fixCommitSHA1 among total 63,923 entries\n",
      "That is each commit contains nearly 2.61 lines of stupid bugs\n"
     ]
    }
   ],
   "source": [
    "query = 'SELECT count(DISTINCT child), count() FROM sstubs_large'\n",
    "for unq, tot in cursor.execute(query):\n",
    "    print(f'There are total {unq:,} unique fixCommitSHA1 among total {tot:,} entries')\n",
    "    print(f'That is each commit contains nearly {round(tot / unq, 2)} lines of stupid bugs')"
   ]
  },
  {
   "cell_type": "markdown",
   "metadata": {},
   "source": [
    "### 2. Chance of introducing new bug / skipping existing bug"
   ]
  },
  {
   "cell_type": "markdown",
   "source": [
    "#### 2.1. At commit level\n",
    "If the same `fixCommitSHA1` is found as the `fixCommitParentSHA1` in another commit,\n",
    "then the former commit needed a subsequent fix."
   ],
   "metadata": {
    "collapsed": false
   }
  },
  {
   "cell_type": "markdown",
   "source": [
    "##### 2.1.1. Bugs"
   ],
   "metadata": {
    "collapsed": false,
    "pycharm": {
     "name": "#%% md\n"
    }
   }
  },
  {
   "cell_type": "code",
   "execution_count": 6,
   "outputs": [
    {
     "name": "stdout",
     "output_type": "stream",
     "text": [
      "3,357 fixe commits required another fix\n"
     ]
    }
   ],
   "source": [
    "query = '''SELECT count(DISTINCT child) FROM bugs_large WHERE child IN (\n",
    "    SELECT parent FROM bugs_large\n",
    ")'''\n",
    "\n",
    "for row, in cursor.execute(query):\n",
    "    print(f'{row:,} fixe commits required another fix')"
   ],
   "metadata": {
    "collapsed": false,
    "pycharm": {
     "name": "#%%\n"
    }
   }
  },
  {
   "cell_type": "markdown",
   "source": [
    "##### 2.1.2. SStubs"
   ],
   "metadata": {
    "collapsed": false,
    "pycharm": {
     "name": "#%% md\n"
    }
   }
  },
  {
   "cell_type": "code",
   "execution_count": 7,
   "outputs": [
    {
     "name": "stdout",
     "output_type": "stream",
     "text": [
      "582 fixe commits required another fix\n"
     ]
    }
   ],
   "source": [
    "query = '''SELECT count(DISTINCT child) FROM sstubs_large WHERE child IN (\n",
    "    SELECT parent FROM sstubs_large\n",
    ")'''\n",
    "\n",
    "for row, in cursor.execute(query):\n",
    "    print(f'{row:,} fixe commits required another fix')"
   ],
   "metadata": {
    "collapsed": false,
    "pycharm": {
     "name": "#%%\n"
    }
   }
  },
  {
   "cell_type": "markdown",
   "source": [
    "#### 2.2. At line level\n",
    "If the same (line, file, project) sequence contains a `fixCommitSHA1`\n",
    "that was `fixCommitParentSHA1` in a previous entry, that means that line required a subsequent fix"
   ],
   "metadata": {
    "collapsed": false,
    "pycharm": {
     "name": "#%% md\n"
    }
   }
  },
  {
   "cell_type": "markdown",
   "source": [
    "##### 2.2.1. Bugs"
   ],
   "metadata": {
    "collapsed": false,
    "pycharm": {
     "name": "#%% md\n"
    }
   }
  },
  {
   "cell_type": "code",
   "execution_count": 8,
   "metadata": {
    "pycharm": {
     "name": "#%%\n"
    }
   },
   "outputs": [
    {
     "name": "stdout",
     "output_type": "stream",
     "text": [
      "846 line-fixes required another fix\n"
     ]
    }
   ],
   "source": [
    "query = '''\n",
    "SELECT 1 as dummy_col\n",
    "FROM bugs_large\n",
    "WHERE (child, project, file, line) IN (\n",
    "    SELECT parent, project, file, line FROM bugs_large\n",
    ")\n",
    "GROUP BY child, project, file, line'''\n",
    "print(f'{len(list(cursor.execute(query))):,} line-fixes required another fix')"
   ]
  },
  {
   "cell_type": "markdown",
   "source": [
    "##### 2.2.2. SStubs"
   ],
   "metadata": {
    "collapsed": false,
    "pycharm": {
     "name": "#%% md\n"
    }
   }
  },
  {
   "cell_type": "code",
   "execution_count": 9,
   "outputs": [
    {
     "name": "stdout",
     "output_type": "stream",
     "text": [
      "315 line-fixes required another fix\n"
     ]
    }
   ],
   "source": [
    "query = '''SELECT 1 as dummy_col FROM sstubs_large WHERE (child, project, file, line) IN (\n",
    "    SELECT parent, project, file, line FROM sstubs_large\n",
    ") GROUP BY child, project, file, line'''\n",
    "print(f'{len(list(cursor.execute(query))):,} line-fixes required another fix')"
   ],
   "metadata": {
    "collapsed": false,
    "pycharm": {
     "name": "#%%\n"
    }
   }
  },
  {
   "cell_type": "markdown",
   "metadata": {
    "pycharm": {
     "name": "#%% md\n"
    }
   },
   "source": [
    "### 3. Fix-commit tree"
   ]
  },
  {
   "cell_type": "code",
   "execution_count": 4,
   "metadata": {
    "pycharm": {
     "name": "#%%\n"
    }
   },
   "outputs": [],
   "source": [
    "from collections import deque"
   ]
  },
  {
   "cell_type": "markdown",
   "source": [
    "#### 3.1. Get necessary data"
   ],
   "metadata": {
    "collapsed": false,
    "pycharm": {
     "name": "#%% md\n"
    }
   }
  },
  {
   "cell_type": "markdown",
   "source": [
    "##### 3.1.1 Get parent-child relations"
   ],
   "metadata": {
    "collapsed": false,
    "pycharm": {
     "name": "#%% md\n"
    }
   }
  },
  {
   "cell_type": "markdown",
   "source": [
    "Imagine a forest of the following structure\n",
    "```\n",
    "    a        e      g\n",
    "   / \\      /      /\n",
    "  b   c    f      h\n",
    "     /           /\n",
    "    d           i\n",
    "```\n",
    "\n",
    "Now, to find a path of length 3, we must start at either `a` or `g`.\n",
    "However, `tree.keys()` will have every node that has a child (e.g., `c` or `h`).\n",
    "Thus, we also defined a list `treeRoots` that contains nodes without any parents."
   ],
   "metadata": {
    "collapsed": false
   }
  },
  {
   "cell_type": "code",
   "execution_count": 5,
   "metadata": {
    "pycharm": {
     "name": "#%%\n"
    }
   },
   "outputs": [
    {
     "name": "stdout",
     "output_type": "stream",
     "text": [
      "For database: sstubs_large\n",
      "23,784 unique parentSHA1\n",
      "24,486 unique childSHA1 from 63,923 entry\n",
      "47,688 uniqueSHA1 combining children and parents\n",
      "23,202 tree roots\n",
      "23,202 tree-roots\n"
     ]
    }
   ],
   "source": [
    "tree = {}\n",
    "treeRoots = []\n",
    "\n",
    "def init_tree(db: str):\n",
    "    global tree, treeRoots\n",
    "\n",
    "    print(f'For database: {db}')\n",
    "\n",
    "    tree = {}\n",
    "    query = f'SELECT parent, child FROM {db}'\n",
    "    children = list()\n",
    "    for parent, child in cursor.execute(query):\n",
    "        if parent not in tree:\n",
    "            tree[parent] = set()\n",
    "        tree[parent].add(child)\n",
    "        children.append(child)\n",
    "\n",
    "    print(f'{len(tree):,} unique parentSHA1')\n",
    "    uql_child_count = len(set(children))\n",
    "    print(f'{ uql_child_count :,} unique childSHA1 from {len(children):,} entry')\n",
    "    tot_sha1 = len(set(tree.keys()).union(children))\n",
    "    print(f'{ tot_sha1 :,} uniqueSHA1 combining children and parents')\n",
    "    print(f'{tot_sha1 - uql_child_count :,} tree roots')\n",
    "\n",
    "    query = f'''\n",
    "    SELECT DISTINCT parent FROM {db} WHERE parent NOT IN (\n",
    "        SELECT child FROM {db}\n",
    "    )\n",
    "    '''\n",
    "    treeRoots = [p for p, in list(cursor.execute(query))]\n",
    "    print(f'{len(treeRoots):,} tree-roots')\n",
    "\n",
    "init_tree('sstubs_large')"
   ]
  },
  {
   "cell_type": "markdown",
   "source": [
    "##### 3.1.2. Define utility function"
   ],
   "metadata": {
    "collapsed": false,
    "pycharm": {
     "name": "#%% md\n"
    }
   }
  },
  {
   "cell_type": "code",
   "execution_count": 6,
   "metadata": {
    "pycharm": {
     "name": "#%%\n"
    }
   },
   "outputs": [],
   "source": [
    "def bfs(start, return_path=False, return_refix=False):\n",
    "    visited_roots = set()\n",
    "    distance = {start: 0}\n",
    "    queue = deque()\n",
    "    queue.append(start)\n",
    "    # mark `start` as visited\n",
    "    visited_roots.add(start)\n",
    "\n",
    "    max_dist = 0\n",
    "    distant_child = None\n",
    "    # `parent_map` is used to trace back from leaf to root\n",
    "    parent_map = {}\n",
    "    while queue:\n",
    "        p = queue.popleft()\n",
    "        if p not in tree:\n",
    "            continue\n",
    "        for c in tree[p]:\n",
    "            if c not in visited_roots:\n",
    "                parent_map[c] = p\n",
    "                visited_roots.add(c)\n",
    "                distance[c] = distance[p] + 1\n",
    "                queue.append(c)\n",
    "\n",
    "                if distance[c] > max_dist:\n",
    "                    max_dist = distance[c]\n",
    "                    distant_child = c\n",
    "\n",
    "    ret = [distant_child, max_dist]\n",
    "\n",
    "    if return_path:\n",
    "        fix_path = [distant_child]\n",
    "        node = distant_child\n",
    "        while node in parent_map:\n",
    "            node = parent_map[node]\n",
    "            fix_path.append(node)\n",
    "        fix_path.reverse()\n",
    "        ret.append(fix_path)\n",
    "\n",
    "    if return_refix:\n",
    "        # distance of 1 does not make a node part of a refix path.\n",
    "        # first identify the nodes with distance > 1\n",
    "        # then include their parents as well.\n",
    "        non_parent_nodes_of_refix_paths = [node for node in distance.keys() if distance[node] > 1]\n",
    "        nodes_of_refix_paths = set(non_parent_nodes_of_refix_paths)\\\n",
    "            .union([parent_map[c] for c in non_parent_nodes_of_refix_paths])\n",
    "        ret.append(nodes_of_refix_paths)\n",
    "\n",
    "        leaves_of_refix_paths = [\n",
    "            node for node in distance.keys()\n",
    "                # if `node` is not a key of `tree` then it does not have any child\n",
    "                # and thus a leaf\n",
    "                if distance[node] > 1 and node not in tree\n",
    "        ]\n",
    "        num_refix_paths = len(leaves_of_refix_paths)\n",
    "        ret.append(num_refix_paths)\n",
    "        ret.append(visited_roots)\n",
    "    ret.append(distance)\n",
    "\n",
    "\n",
    "    return ret"
   ]
  },
  {
   "cell_type": "markdown",
   "source": [
    "#### 4.2. Finding a commit sequence of length 5"
   ],
   "metadata": {
    "collapsed": false,
    "pycharm": {
     "name": "#%% md\n"
    }
   }
  },
  {
   "cell_type": "code",
   "execution_count": 7,
   "outputs": [
    {
     "name": "stdout",
     "output_type": "stream",
     "text": [
      "For database: bugs_large\n",
      "63,994 unique parentSHA1\n",
      "66,261 unique childSHA1 from 153,652 entry\n",
      "126,898 uniqueSHA1 combining children and parents\n",
      "60,637 tree roots\n",
      "60,637 tree-roots\n",
      "Path:\n",
      "063bc8616e8322dca47ae4b9d4860b864a61f215, 0b31e2f4558706b0831744485a80958c93524a44, 4eae69e20692a697a12a705155e972ddf448ca48, 9323424d263a1e573ab7edbfc69d67d8782ce36a, 6f74927366d17a4773006a094a7f0bc29c4b674b, c32ad40f85061b84724dd9b5b8479eebea8675a0\n",
      "Path:\n",
      "154a32588bfb56ed6d48e16fe64304d38ecf59f7, e1f0ce0162ca5f44a89e9f0f0cf9409c00a04a9e, 4731edc4e961df6038f18ead56be3d79eb92b7e4, 70e0f49912c83b35db962467cfab565e9c81926a, c76fee435972cbc2100bdd6e14dd86d99f28250a, c4481249285a509c7e63530cf3c55f79a6cb40f0, af0fd5a0a75424622e5dd770e7d785fd2b53e792, 13b12c5a65bace78fe91ec92e82e4e0b080a8bc1, de4eccb401ed0af0f7286aef660ef9644dabe471, 0e3f8db4f85fe7cf63843c52a0c06a6bdcbf109d, c4e45597c4f9bb3d9550ba5ec72fb67a7655532e\n",
      "Path:\n",
      "1c009a8c4c3c07923d8f23231496d77024010bdb, b20c6c74cc4cd9e0f674399e132a1cd42c0ad44b, e31cd003ff9e4e4d6c49112b37f4e4368e69a862, eda38b32b8e6c57ea861136508bed28fc3951a8d, f5cd1c73e55fb96f9952d06bbb7c879d1a9b50ad, 8677371110524878a3601031cc27a019a3788d81, 1be7ae124abb80b7bc1256d91a441332e95a9a3e, aca0e598caf6cb6770e6d4c6d2b7a84d38bce1f1, fea679b2c1804b2d79aacc475842504c9f6e8353, 33ed8cdcd2375fa17b6a517b9eb4bf13e66541eb, 994fc56bbfc1380d2c7568d9b53bcd634b055637, 46d486fb000cb0c5771355a6970e8699f8e9f8db\n",
      "Path:\n",
      "2233a6a98a7fc23de6e451390c11f40c5d9d59f5, 98a0f4f25ac7a1ef672852a61888af0a126cb723, fdcfcdb292aa616bcd7dbc58c9df835bbe25cfad, ecae562c590700a724d0da810bcc11b58f64ef50, 4af1c5d2e3b062d3ff9bf35e517d79e92fe3ab50, 287c7bd4665f8458adea24bd36767a6790fa3e8f, 4b360740e4852855de473dea10ff9974cf4a6ce4\n",
      "Path:\n",
      "2b56464ad9c183f772e7351edf9ae609b642f31f, 4024ddd384ff9273c03ec23641923ffe0b9073ea, a667a72585bc64dd93b3d624197f02f5d1eabb5f, dcbfd332abb85a2a473b9163bb65cad0f83c6539, 9d018764816123b576c85dae874034c479022a9c, 36858f53deda12d7cede8d42e1c4ecf86b2e2fca, 64b5655d7ce104544b963a0e9b322feafdd26d5d, 63a8197f5a74500c5a818ab858a29b1882e46626, fb348449c318eaf70a3acc004eb0575f82a3bc07, 05a8a31d4acd6b015646f63c7972033e626e9472, 0d23157e3b61a048e6e81f391ca6b30558c48fc6, caabbd735aab11119b8ef8e70997a8a5483d1b89, f8f2169643be140627260c1b606bdf0846d611d3\n",
      "Path:\n",
      "31e41e7b02bcd65fdfa3b9da7e7520695c781270, 62a8bae494ea259e9f0295fa441ec182459783bc, 5e4068de456e12c71d3ab8a268faa798ad3327cc, d9bde84daf19fd90eb1d45a68301011cacece6e6, 0b9decdf42ff910ffc04c0f90e8b836b1c8ac583, f7c4b0e7c4926512844a6cacca45bc01b5363b43\n",
      "Path:\n",
      "346514449db3d567b3e2f15190bd47334cfb1806, 7043e87c3187c4db3b2305532e4d42472afed141, 2adbd108af146a944e49772b2b93914cb2763d86, 596e5266bfbf90b734cb539c3bbb7a21e2a8b741, 4c2d37af808fc93871d2a2a507b9aba79f42d594, 3f46c8697cb27bb392e72c5b67a69d2a83f46a5c, 51abdbeddba569858b7135093d6d1ae78cdffb2d\n",
      "Path:\n",
      "3f57bf9479bff798110fe689146e4f9a7ff0327d, c4e41a2873c8dc129566f94f12ff9b44ff8e5e5a, 45ae5f46df23b4e9084a1b67ea556aee8bde41d5, 51c96324ba2c6664a7994f7b9931acea69e09ca5, e1fb715a870d319db93ad1b6b0b8bee51101de1f, b399c24740cfb5474b8d86676705edf21524ec47\n",
      "Path:\n",
      "421ba3f15d391a336ba6ebccb264d291f6116d64, 6ed252e1929625de528e8d790f0439017c48932a, 947fbfdb11656593c325edec5f93a57655ae6d59, 9e6527ada8c2e204a7b7408f39f82caf674a448c, aaa0a5c4e1be1980222968f994b8b1f0f5f49dc8, bb41283e7adf33344548b63c2d613f5eeee1d0ab, ad016ccace5ebc98826cf13770e2301d4e661469, fb1efd77c0b58ca292859c050358d7753689d76a, 7ddb47fdaa9af13fabffe8b18e57a8d5df297c1e, fb786b8725c39444457421484370fa2272475c57, c02fa0354cddb3e25c741aa7ac1c94cef1082c3f, d1cbf23facfc38fea9bd69d83de8b3c5c5269433, 51c81ccf330b4023463ec38fa21d90cbdf571346\n",
      "Path:\n",
      "4538a25c0112cdd4ac8e3a9e12cf843add608e6e, 9b8f3a40fe7f19987314c0c2f276229fdebf39a2, c9b08d18d48a01a93e50f12d2641295aafe4d7a6, bd5d9cc72f246efb474394fdb16b17beab58b67d, 6e570b903a799d4f73474861c9f1a1db0099310a, 65889c87521d24e99045161a973dfcb594bdca44, 579e92eb87c439dda88d7bff340c9e890c63e236\n",
      "Path:\n",
      "4c20f9f410be8ee6f1c0c043db529e94704539ef, ac90d2739639fd004c417836f25df4aeea372d3d, aa1add1eee6deb43000a362d3f2150a9aec596c5, 94a24bfa7af010523c0355047e1c2cd8a5d72de9, a277eb97efb83dd25926bf84107829d660414f03, 1190b19f611938ba11dbc505a62eb8b710def67c, 607fe04a64c4db2ae80c62b987bf7a9b6bd0dc29\n",
      "Path:\n",
      "4ca640b37a994fee6239fede9b8daffcc741c8e0, 3c9c786ca4ba08b7decc26bffd67bbc4a87454bd, 9969649b39fccaf2912d53e2fca0424e50f835d3, fc8ae468a52462ab42cb2d535c8339567d92fe83, 89e873a4eb1962e677fd936e30eaa0ff993e3122, 90a9b94910475c9b8b39e65650c845524b4edf7c, 303e8cc25eb6deffb289f5d29dc5885c17d44276, d414d686f64a28e2b55d6c4869866bf5c089b1ce, 3817f85e4f1b5fc344de75aaa13dfc078aa314e2, 57b74f842ba07bce269b08191c6860b381cdcc36\n",
      "Path:\n",
      "50f0431db4a246314bc54cabecdccb50b3b1e464, cef687236504e195758e53220fc5e80e387a070a, 5007fab11cf7e6517f09cc2f4ec656ab6d058742, 7d77eb37b5288483dc7bfa815d75aa2f752b7b1a, de01e05b15ca705f160f09757a4e8d1ac2f74bc3, 761605d13108b98efd0adfa4d174a1f1d8677263\n",
      "Path:\n",
      "5b7cd67262483a762b7cb83b9b5f5e53bf8dfce7, 19b9b2b814fa1a85f6d6b094701fbac800169d57, cf4fb52b7d625702db5f00126c6e2b58f45e8171, ba4fe18cb8d2d8a5e7715f5600c52310540c1f17, 2c65df85d862f15159ba31e16d6819409b3c9584, 1d477c968f291d28fcabdcb477f5409ce16bc8ec, e9b5da450da6ff23061ac122d02871ca0a82eccd\n",
      "Path:\n",
      "767663af92aa95bdeb1c2f263a24710e730c820f, f8ff9296bc4bab175379d7235b1cf53f9ea36c35, 2c5562b6ff2d202cbab2ffbe4836296bc55eac46, 1fcbbc8262b25db647cd63c7ae24d4dcb1b0bac3, 5fe0a8f2fb6546dda4d90abc834d9367ad13456a, d9762ac9bd5c578bc9b975dd1233cfea917134b2\n",
      "Path:\n",
      "8f064c9409df9883d6005e1bc1f897b7a4042740, 6a72a3c7e47dd58c0f3c658845f718caa4c241a3, e263d49e75cc4e2e222a7fd9eb4b66ace626482e, 1568cab4d6760c67e75da0fc60489d9e9d4b62f0, fa2cd1deb3a7d674d0da41ab97ffd022a1d4fa57, 0ab4b96a1b65639fdb2c83ec40c9760912a61cb6, dbca8e163a376a756e349027f41f13286f8ca991, e2a1e4011f358449b384d88d61565109ea3fc773, 6327abd9e97900ac81670004cde17c689b235d4a, 8c193385352fd1265a80395fb59033b83643093f\n",
      "Path:\n",
      "947e63de62cba719d709be18b07c76b1d63f2faf, 35b9ddf511782d63b4b31f7a3513f98380d23eff, 0777b79361ff267252d882f33fcaf2c9306aaace, d9900fc5abc4e068e8e6c4b6714e16ac382b9862, 52d6d2969d3555969d06f383c96993d756863355, 999cbd9a5de4072ec700ea2b46a63dab4c2054c7, 09f85b145f022d0f75e658f71002375870ee6b11, 5f525313e8e8817685b360b17f4c060de58dfe0b\n",
      "Path:\n",
      "a2ff848ee4cb414720764ad9be625f105d46e41d, cec24058a303a2d4ea8b7c07032161145a39718a, 2a8bf27dfd5085c3eb15614425f64c1881ddfe25, 614d6498b8b39796d3dfe16c1c61892f840f96f3, 2409baa12254ee627f528332681d7c82b1efe79e, fa648700e3a2a03127b1ff9508868e4b123a4047, 6439c1259fc2940402a1caa3fca2ebeee8968534, b4e3f0ec17f0356d520fc206468fa534058d042b, ae20d7c489372f4cb2dd6e9687979990c70d4f15, fa7869d978b3c00484814721625db7d5ada81aef\n",
      "Path:\n",
      "a317d47b3b99938de67e7e58102ab6e296bd05bd, 75702ef5ef0ca06752a8ca14be2a2a9291b07e3a, 12ec450a2be3bf33f2fd4077d5de01326a822da8, 7140151dafc35d8f4e24261bb40b973ffeb69d3a, e9cc81b97822f8998081f0e7758c493b2c25e5b4, 6960a802d9d7b23f924d58faa979894d479d54b9, 6bc06b3f07e53137486f3e84881d6b2355d78956\n",
      "Path:\n",
      "a791de06c8b824094a2875ce54b934e734888f27, ae85364071f63f413788dab839d6da7c06ae58fc, 2c7c0a297152ab15e36d477392a30f3a6b66627c, 29d8d6d6d0f762b15dca5db757b468875d90a1cd, 89eb8a7828b3b68c640f5b3f5b1db990496b1aaa, e0316316807cea6fb5951874041a937855a7c730\n",
      "Path:\n",
      "a909bc90beb0657dcf34de3192a1ff88f59f3bc1, 69862e83a1b07122dde3a466d680c0644678e71f, ea42e0f5682a8e8d179a702b9937df6d887265a2, 20439a54489d90fa225a03764d947968c55b29cd, 04feed78fed172a75e2f5f1029ba7b920f4aa96d, 758c4267ceae1beff93e511950b41a7764b503ad, 5bdbde6e032e593b579b8917dd52375cbca7055f, 8fe433c9e9eac589cafc7df5b6893d6fa66e3e42, a0e77c96bcb0ad99b8f78dab416e9ef9ac4b4571\n",
      "Path:\n",
      "b64e83c6ad4d1ec5919d74b82e713d5be6c2eaf1, 84247947f637db63dcfd0c0ed401cf29ebccf1b7, 56370669947b0b3321f0cfa77b35167096144d83, fa86f708f72c4ef0775eac943cbcd71e90734a89, f24d4e8aaf4e04b7e46f8600e6cc72eb7ddcf107, c0827b8ced01b26068ae64c4f756c238048b9c61\n",
      "Path:\n",
      "b788ee61a087926f6b5b497dc05b8df00280ce58, 6edafbde350e7bf139704d07c86d82925c3f444d, db1e2c1095abb5d2a42426db540a1d815958f1fb, daeb956864dffa3ff49ecd5e8931b31b5c6f96cf, aefd8253d6c19400d25bbe51b9d485b8506ef90f, 1ebbe919a57b9831904971c0646da5bc48b4b2c5\n",
      "Path:\n",
      "b79c58a976a8a81bfeae865758217f466de7e821, 6b667401eadf1ea3f4476936a9c6b1ef4adfd5f4, 5570291b2471dd44f022cdb42ae07f315d70c2a9, 93f6873b2b50003b5f82f1624d4d16b62b3550cd, e1d2ac01779e35d47f875aae2adae993760e14fd, 31ad6990a733aadaa0cb25e334fd82677dcd6d95, e57f8799be2221a8f22595dda9de8c5f8b050803, 6a0e29072ac103dfa0108d10def98e194cbceda5, 61bd1b8dd9d30594fcbaa9a408ff06c03cedeadc\n",
      "Path:\n",
      "b99293905329d1c7e45ea305a9faa8fa5727268b, a92550e1ca8673ccd1d1c2a2c56182f5eaa82923, e016264d2ed009fb1df86d82506bc91517218552, e4da9fee6357a6f9cd878abc0999f1edb1cf5db4, db4c59f84aae51db4f2ebe7c42390d05624aab74, 7c00bcbcf2ac9f99b695b7e426abc8843b59e449\n",
      "Path:\n",
      "d2b2165627ed1a4c11aad077c6fa36331a297523, a18014f3cd017a75a2632172f4222f394dd9e4ef, f8adaf3a413c7a7212adf1804d1255466a0af089, 2e89a127abbfdc09b770332db020ae558ecead37, 70f77fe4f58436844af280817a9a7a51213dab32, 9391509bf00af9b0638d044571447ef5011d2d27, 4bcc76c96810b0b6fc51cc601c431c480e23ea2b, 0cca3777fcc00bcbf17d6b991b0a355ad613ceca, a3b9608516a2a42943a68eb261525640a906eae2, e9e404544a02c886d4a7c89ea26d878aeafab361, 4db04f8664225b39584a941ee4b940ed3057eb56, c81a9399b9479ca838ad0cbc6eed83f7f4bcc1c6, acf5bbc3d2e89992630591ff9e5179bc55fd0a09\n",
      "Path:\n",
      "d37f3d68a339f98055b3f9e82d7ac12171e58fd6, d7cc7dde8f5bc3bf573ec4e7b4e500e5accdcd25, 5c98a9a77137ecee6ed62d8f7b0b2a0999051b60, 7274d19d3eaeb4bc1ef2a16c0ac08e7447a27003, 8f1349d4f3fb6affc967663a8c8032535735585a, f622591e032c552afd84483fdcab2e9cd5b14065, 6ba4ff2eed6ffb1393a898b642f8f42e0bbff0cf\n",
      "Path:\n",
      "d9249ce1d14fdddffb4c9598e6a58b6118930cb8, ba09812af039d2c3e3f02bdb4c4d82f2a4218dad, 48abea70eee835b2476e1bbb7c385b4007cb538a, f29cc180d193068c3a99f01e006d8ca42806310a, 8f24490c264fdc590d1a6d09a411a50e14786093, 0a4bf65ebce1c525d8cc10f6fe3ba5027bc14bc6, 57c5ed7e714a395e051fb9dd7428b277a8041cc7, 0e3bbd099ce621b9a4e0c7c408c369f415ad77ab, 2756681063908e0f3a1b0d4f3c7e7aa800b24a51, e2664318a5f29841b5144d964ce820a4eef9ae4c\n",
      "Path:\n",
      "efeb21125040ecf52f8cb2cf3186a1bc18a8faf8, eb67cbe228131eac622869f29aa6678bfd1978df, 80685f5f16a880201404a0edb8fda2df17f7ad8f, 6622691c7a703326bb4c9fab4bf7cf0798fc32eb, dedb7e7fabd17a4d34d6cfbe7b69f76b2f7f21bd, ff082aa9d4974be9c2482763cf88cbbd6291a06d, 6a4cbcbd58f07609230f68d02183a5181a08f943, af1944d7867b825077cdee55aadf325f3511934e\n",
      "Path:\n",
      "f7ed26a7350c7e7fa96646a35f92b769279e263a, 4d1b8422d4f313f95f993466b2d8167fa847a19a, f5e97b4b33fc72aa51521f1fb150231773664eb4, 63cf3672442851480942b570c8804497d71bb037, db2903d3e3c7af9226162b09bdab57b999043ed5, 204d4e67d105f0128ab068c80dce3ddddadb9c53, a7a97f6679f3e4bfe56831ea33961cf6047a988f, f76980aa45d834465c9dec3781afc7585c253779\n",
      "Path:\n",
      "fc88c7d515154f039aa88996968b2c75d12827c2, 1f487d2c32036d7f39e0ed9fa0bf56482eb5cd18, a0b72cf4265604f908bba6b2de69577877c6c311, ebe7d96fa400d0bc5927c0e21b530ada4c9e618b, e82af5d8b988d79e691315d297b75617fa08d0f1, 97ad267d2040bc154b0b1386e5308a3413ecf3dd, 3a8b1baaeeda47660078991d8bed05b215581f9e\n",
      "Path:\n",
      "fceb6a085fec4b0b0883323318df0d5ec252c4c0, 0e5e300831279a4f3d491e4da802f99d9d092fe2, 244eb1099979359be54366f22cd25c4d1b45dec1, 8fda714cebcd20b61cab85a87169981934f5e199, 46eeeb4d7ec54506345f8cefa2fc130ace501efe, 74615c9b711087c191e31dad7e3842cf012b44f3\n",
      "Path:\n",
      "fda7b8158255293704b5867442bb42655e26286d, 3a1537cee07a1641d703279969227bcff02d6447, 4c5e9439d8de7b2762f3f81010783be26b3d58ac, 859f7d5e82a6816febd650a919bd98cea6b2d6da, 00054685fe488b213300d32bd4caca202ddab018, dc1b7cd4a99ec2c6f53024f9ca98201524ceaffc, dc6a1dbd21d864d24ea11048379ed88bfce492ec, 912a3c4a93382db8ee5380007dc289bee2f65656, ff957c1249b28aa2e205aa3062deabb1da4f6b04, 3d8758a68a57100888eddf3fc00b8b4f54d65833\n",
      "There are total 33 path with depth >= 5 with 270 commits\n"
     ]
    }
   ],
   "source": [
    "init_tree('bugs_large')\n",
    "path = []\n",
    "count = 0\n",
    "commitCount = 0\n",
    "for root in treeRoots:\n",
    "    longestPathEnd, longestDistance, *_ = bfs(root)\n",
    "    if longestDistance >= 5:\n",
    "        _, _, path, *_ = bfs(root, True)\n",
    "        print('Path:')\n",
    "        print(*path, sep=', ')\n",
    "        count += 1\n",
    "        commitCount += len(path)\n",
    "print(f'There are total {count} path with depth >= 5 with {commitCount} commits')"
   ],
   "metadata": {
    "collapsed": false,
    "pycharm": {
     "name": "#%%\n"
    }
   }
  },
  {
   "cell_type": "markdown",
   "metadata": {
    "pycharm": {
     "name": "#%% md\n"
    }
   },
   "source": [
    "#### 4.3. Files and corresponding changes of the found fix-path"
   ]
  },
  {
   "cell_type": "code",
   "execution_count": 8,
   "outputs": [
    {
     "name": "stdout",
     "output_type": "stream",
     "text": [
      "fda7b8158255293704b5867442bb42655e26286d\n",
      "3a1537cee07a1641d703279969227bcff02d6447\n",
      "\n",
      "=========================================\n",
      "3a1537cee07a1641d703279969227bcff02d6447\n",
      "4c5e9439d8de7b2762f3f81010783be26b3d58ac\n",
      "\n",
      "=========================================\n",
      "4c5e9439d8de7b2762f3f81010783be26b3d58ac\n",
      "859f7d5e82a6816febd650a919bd98cea6b2d6da\n",
      "\n",
      "=========================================\n",
      "859f7d5e82a6816febd650a919bd98cea6b2d6da\n",
      "00054685fe488b213300d32bd4caca202ddab018\n",
      "\n",
      "=========================================\n",
      "00054685fe488b213300d32bd4caca202ddab018\n",
      "dc1b7cd4a99ec2c6f53024f9ca98201524ceaffc\n",
      "\n",
      "=========================================\n",
      "dc1b7cd4a99ec2c6f53024f9ca98201524ceaffc\n",
      "dc6a1dbd21d864d24ea11048379ed88bfce492ec\n",
      "\n",
      "=========================================\n",
      "dc6a1dbd21d864d24ea11048379ed88bfce492ec\n",
      "912a3c4a93382db8ee5380007dc289bee2f65656\n",
      "\n",
      "=========================================\n",
      "912a3c4a93382db8ee5380007dc289bee2f65656\n",
      "ff957c1249b28aa2e205aa3062deabb1da4f6b04\n",
      "\n",
      "=========================================\n",
      "ff957c1249b28aa2e205aa3062deabb1da4f6b04\n",
      "3d8758a68a57100888eddf3fc00b8b4f54d65833\n",
      "\n",
      "=========================================\n"
     ]
    }
   ],
   "source": [
    "parent_child = []\n",
    "placeholder = []\n",
    "for i in range(1, len(path)):\n",
    "    query = f'''\n",
    "    SELECT * FROM (\n",
    "        SELECT file, group_concat(before) as before, group_concat(after) as after\n",
    "        FROM bugs\n",
    "        WHERE (parent=? AND child=?)\n",
    "        GROUP BY parent, child, file, line\n",
    "    )'''\n",
    "\n",
    "    print(path[i-1], path[i], sep='\\n', end='\\n\\n')\n",
    "    for file, before, after in cursor.execute(query, (path[i-1], path[i])):\n",
    "        print(file, before, after, sep='\\n', end='\\n\\n')\n",
    "    print('=========================================')\n"
   ],
   "metadata": {
    "collapsed": false,
    "pycharm": {
     "name": "#%%\n"
    }
   }
  },
  {
   "cell_type": "markdown",
   "source": [
    "#### 4.4. Number of refix"
   ],
   "metadata": {
    "collapsed": false,
    "pycharm": {
     "name": "#%% md\n"
    }
   }
  },
  {
   "cell_type": "code",
   "execution_count": 9,
   "outputs": [
    {
     "name": "stdout",
     "output_type": "stream",
     "text": [
      "For database: sstubs_large\n",
      "23,784 unique parentSHA1\n",
      "24,486 unique childSHA1 from 63,923 entry\n",
      "47,688 uniqueSHA1 combining children and parents\n",
      "23,202 tree roots\n",
      "23,202 tree-roots\n",
      "There are total 528 paths in sstubs_large that required at least one refix (have at least 2 child commits)\n",
      "There are 47,688 commits in these paths\n"
     ]
    }
   ],
   "source": [
    "init_tree('sstubs_large')\n",
    "total_refix = 0\n",
    "visited = set()\n",
    "for k in treeRoots:\n",
    "    if k not in visited:\n",
    "        _, _, new_refix_nodes, num_new_refix, visited_now, _ = bfs(k, return_refix=True)\n",
    "        total_refix += num_new_refix\n",
    "        visited = visited.union(visited_now)\n",
    "print(f'There are total {total_refix} paths in sstubs_large that required at least one refix (have at least 2 child commits)')\n",
    "print(f'There are {len(visited):,} commits in these paths')"
   ],
   "metadata": {
    "collapsed": false,
    "pycharm": {
     "name": "#%%\n"
    }
   }
  },
  {
   "cell_type": "markdown",
   "source": [
    "#### 4.5. Refix database"
   ],
   "metadata": {
    "collapsed": false,
    "pycharm": {
     "name": "#%% md\n"
    }
   }
  },
  {
   "cell_type": "code",
   "execution_count": 16,
   "outputs": [],
   "source": [
    "import warnings\n",
    "import pandas as pd"
   ],
   "metadata": {
    "collapsed": false,
    "pycharm": {
     "name": "#%%\n"
    }
   }
  },
  {
   "cell_type": "code",
   "execution_count": 17,
   "outputs": [
    {
     "name": "stdout",
     "output_type": "stream",
     "text": [
      "For database: sstubs_large\n",
      "23,784 unique parentSHA1\n",
      "24,486 unique childSHA1 from 63,923 entry\n",
      "47,688 uniqueSHA1 combining children and parents\n",
      "23,202 tree roots\n",
      "23,202 tree-roots\n",
      "528 refix paths\n",
      "1,110 nodes involving refix in sstubs_large\n",
      "\n",
      "For database: bugs_large\n",
      "63,994 unique parentSHA1\n",
      "66,261 unique childSHA1 from 153,652 entry\n",
      "126,898 uniqueSHA1 combining children and parents\n",
      "60,637 tree roots\n",
      "60,637 tree-roots\n",
      "2,983 refix paths\n",
      "6,340 nodes involving refix in bugs_large\n",
      "\n"
     ]
    }
   ],
   "source": [
    "databases = ['sstubs_large', 'bugs_large']\n",
    "for database in databases:\n",
    "    init_tree(database)\n",
    "    distance = {}\n",
    "    refix_path_commits = set()\n",
    "    num_refix_paths = 0\n",
    "    for p in treeRoots:\n",
    "        if p in distance:\n",
    "            warnings.warn(f'A root {p} is already visited')\n",
    "            continue\n",
    "\n",
    "        _, _, new_refix_nodes, new_refix_count, _, new_distance = bfs(p, return_refix=True)\n",
    "        for node in new_refix_nodes:\n",
    "            if node in refix_path_commits:\n",
    "                warnings.warn(f'Node {node} is already present in a refix path')\n",
    "                continue\n",
    "            refix_path_commits.add(node)\n",
    "        num_refix_paths += new_refix_count\n",
    "\n",
    "        for k, v in new_distance.items():\n",
    "            if k in distance:\n",
    "                warnings.warn(f'Key: {k}, old dist: {distance[k]}, new dist: {new_distance[k]}')\n",
    "                continue\n",
    "            distance[k] = new_distance[k]\n",
    "\n",
    "    print(f'{num_refix_paths:,} refix paths')\n",
    "    print(f'{len(refix_path_commits):,} nodes involving refix in {database}\\n')\n",
    "\n",
    "    data = [\n",
    "        [key, value, key in refix_path_commits] for key, value in distance.items()\n",
    "    ]\n",
    "    pd.DataFrame(\n",
    "        data=data,\n",
    "        columns=['commit', 'distance', 'refix'],\n",
    "    ).to_csv(f'../database/{database}_distances.csv', index=False)"
   ],
   "metadata": {
    "collapsed": false,
    "pycharm": {
     "name": "#%%\n"
    }
   }
  },
  {
   "cell_type": "markdown",
   "source": [
    "### 5. Number of Owner and Projects"
   ],
   "metadata": {
    "collapsed": false,
    "pycharm": {
     "name": "#%% md\n"
    }
   }
  },
  {
   "cell_type": "code",
   "execution_count": 18,
   "outputs": [
    {
     "name": "stdout",
     "output_type": "stream",
     "text": [
      "There are 96 projects / repo\n"
     ]
    }
   ],
   "source": [
    "query = '''SELECT count(DISTINCT project) FROM bugs'''\n",
    "for row in cursor.execute(query):\n",
    "    print(f'There are {row[0]} projects / repo')"
   ],
   "metadata": {
    "collapsed": false,
    "pycharm": {
     "name": "#%%\n"
    }
   }
  },
  {
   "cell_type": "code",
   "execution_count": 19,
   "outputs": [
    {
     "name": "stdout",
     "output_type": "stream",
     "text": [
      "There are 558 repo owners\n"
     ]
    }
   ],
   "source": [
    "query = '''SELECT count(DISTINCT substr(project, 0, instr(project, '.'))) FROM bugs_large'''\n",
    "for row in cursor.execute(query):\n",
    "    print(f'There are {row[0]} repo owners')"
   ],
   "metadata": {
    "collapsed": false,
    "pycharm": {
     "name": "#%%\n"
    }
   }
  },
  {
   "cell_type": "code",
   "execution_count": 20,
   "outputs": [
    {
     "name": "stdout",
     "output_type": "stream",
     "text": [
      "There are 57 repo owners having multiple projects / repo\n"
     ]
    }
   ],
   "source": [
    "query = '''\n",
    "SELECT count()\n",
    "FROM (\n",
    "    SELECT *\n",
    "    FROM (\n",
    "        SELECT\n",
    "           substr(project, 0, instr(project, '.')) as owner,\n",
    "           substr(project, instr(project, '.') + 1) as repo\n",
    "        FROM bugs_large) AS owners\n",
    "    GROUP BY owner\n",
    "    HAVING count(DISTINCT repo) > 1\n",
    ")'''\n",
    "for row in cursor.execute(query):\n",
    "    print(f'There are {row[0]} repo owners having multiple projects / repo')"
   ],
   "metadata": {
    "collapsed": false,
    "pycharm": {
     "name": "#%%\n"
    }
   }
  },
  {
   "cell_type": "code",
   "execution_count": 21,
   "outputs": [
    {
     "name": "stdout",
     "output_type": "stream",
     "text": [
      "There are 65 repo having the same name as owner\n"
     ]
    }
   ],
   "source": [
    "query = '''\n",
    "SELECT count()\n",
    "FROM (\n",
    "    SELECT DISTINCT owner\n",
    "    FROM (\n",
    "        SELECT\n",
    "           substr(project, 0, instr(project, '.')) as owner,\n",
    "           substr(project, instr(project, '.') + 1) as repo\n",
    "        FROM bugs_large) AS owners\n",
    "    WHERE owner = repo\n",
    ")'''\n",
    "for row in cursor.execute(query):\n",
    "    print(f'There are {row[0]} repo having the same name as owner')"
   ],
   "metadata": {
    "collapsed": false,
    "pycharm": {
     "name": "#%%\n"
    }
   }
  },
  {
   "cell_type": "markdown",
   "source": [
    "### 6. Sources That Required Sub-Sequent Changes"
   ],
   "metadata": {
    "collapsed": false,
    "pycharm": {
     "name": "#%% md\n"
    }
   }
  },
  {
   "cell_type": "code",
   "execution_count": 22,
   "outputs": [],
   "source": [
    "import pandas as pd\n",
    "pd.set_option('display.max_rows', 0)"
   ],
   "metadata": {
    "collapsed": false,
    "pycharm": {
     "name": "#%%\n"
    }
   }
  },
  {
   "cell_type": "code",
   "execution_count": 23,
   "outputs": [
    {
     "data": {
      "text/plain": "                              First       Second        Third\n0                     IOException e  Exception e  Throwable e\n1         NumberFormatException nfe  Exception e  Throwable e\n2        IllegalArgumentException e  Exception e  Throwable e\n3        IllegalArgumentException e  Exception e  Throwable e\n4    ReflectiveOperationException e  Exception e  Throwable e\n5    ReflectiveOperationException e  Exception e  Throwable e\n6                     IOException e  Exception e  Throwable e\n7                     IOException e  Exception e  Throwable e\n8                     IOException e  Exception e  Throwable e\n..                              ...          ...          ...\n327                        id=19903     id=19904     id=19905\n328                        id=19904     id=19905     id=19906\n329                        id=19905     id=19906     id=19907\n330                        id=19906     id=19907     id=19908\n331                        id=19907     id=19908     id=19909\n332                        id=19908     id=19909     id=19910\n333                        id=19909     id=19910     id=19911\n334                      offset > 0  offset >= 0   offset > 0\n335                     offset >= 0   offset > 0  offset >= 0\n\n[336 rows x 3 columns]",
      "text/html": "<div>\n<style scoped>\n    .dataframe tbody tr th:only-of-type {\n        vertical-align: middle;\n    }\n\n    .dataframe tbody tr th {\n        vertical-align: top;\n    }\n\n    .dataframe thead th {\n        text-align: right;\n    }\n</style>\n<table border=\"1\" class=\"dataframe\">\n  <thead>\n    <tr style=\"text-align: right;\">\n      <th></th>\n      <th>First</th>\n      <th>Second</th>\n      <th>Third</th>\n    </tr>\n  </thead>\n  <tbody>\n    <tr>\n      <th>0</th>\n      <td>IOException e</td>\n      <td>Exception e</td>\n      <td>Throwable e</td>\n    </tr>\n    <tr>\n      <th>1</th>\n      <td>NumberFormatException nfe</td>\n      <td>Exception e</td>\n      <td>Throwable e</td>\n    </tr>\n    <tr>\n      <th>2</th>\n      <td>IllegalArgumentException e</td>\n      <td>Exception e</td>\n      <td>Throwable e</td>\n    </tr>\n    <tr>\n      <th>3</th>\n      <td>IllegalArgumentException e</td>\n      <td>Exception e</td>\n      <td>Throwable e</td>\n    </tr>\n    <tr>\n      <th>4</th>\n      <td>ReflectiveOperationException e</td>\n      <td>Exception e</td>\n      <td>Throwable e</td>\n    </tr>\n    <tr>\n      <th>5</th>\n      <td>ReflectiveOperationException e</td>\n      <td>Exception e</td>\n      <td>Throwable e</td>\n    </tr>\n    <tr>\n      <th>6</th>\n      <td>IOException e</td>\n      <td>Exception e</td>\n      <td>Throwable e</td>\n    </tr>\n    <tr>\n      <th>7</th>\n      <td>IOException e</td>\n      <td>Exception e</td>\n      <td>Throwable e</td>\n    </tr>\n    <tr>\n      <th>8</th>\n      <td>IOException e</td>\n      <td>Exception e</td>\n      <td>Throwable e</td>\n    </tr>\n    <tr>\n      <th>...</th>\n      <td>...</td>\n      <td>...</td>\n      <td>...</td>\n    </tr>\n    <tr>\n      <th>327</th>\n      <td>id=19903</td>\n      <td>id=19904</td>\n      <td>id=19905</td>\n    </tr>\n    <tr>\n      <th>328</th>\n      <td>id=19904</td>\n      <td>id=19905</td>\n      <td>id=19906</td>\n    </tr>\n    <tr>\n      <th>329</th>\n      <td>id=19905</td>\n      <td>id=19906</td>\n      <td>id=19907</td>\n    </tr>\n    <tr>\n      <th>330</th>\n      <td>id=19906</td>\n      <td>id=19907</td>\n      <td>id=19908</td>\n    </tr>\n    <tr>\n      <th>331</th>\n      <td>id=19907</td>\n      <td>id=19908</td>\n      <td>id=19909</td>\n    </tr>\n    <tr>\n      <th>332</th>\n      <td>id=19908</td>\n      <td>id=19909</td>\n      <td>id=19910</td>\n    </tr>\n    <tr>\n      <th>333</th>\n      <td>id=19909</td>\n      <td>id=19910</td>\n      <td>id=19911</td>\n    </tr>\n    <tr>\n      <th>334</th>\n      <td>offset &gt; 0</td>\n      <td>offset &gt;= 0</td>\n      <td>offset &gt; 0</td>\n    </tr>\n    <tr>\n      <th>335</th>\n      <td>offset &gt;= 0</td>\n      <td>offset &gt; 0</td>\n      <td>offset &gt;= 0</td>\n    </tr>\n  </tbody>\n</table>\n<p>336 rows × 3 columns</p>\n</div>"
     },
     "execution_count": 23,
     "metadata": {},
     "output_type": "execute_result"
    }
   ],
   "source": [
    "query = '''\n",
    "SELECT a.before as first, a.after as second, b.after as third\n",
    "FROM sstubs AS a\n",
    "    INNER JOIN sstubs as b on a.after = b.before\n",
    "WHERE 5 < length(b.before) AND length(b.before) < 12\n",
    "'''\n",
    "pd.DataFrame(cursor.execute(query), columns=['First', 'Second', 'Third'])"
   ],
   "metadata": {
    "collapsed": false,
    "pycharm": {
     "name": "#%%\n"
    }
   }
  },
  {
   "cell_type": "markdown",
   "source": [
    "### 7. Length of SHA1 to Uniquely identify a commit"
   ],
   "metadata": {
    "collapsed": false,
    "pycharm": {
     "name": "#%% md\n"
    }
   }
  },
  {
   "cell_type": "code",
   "execution_count": 24,
   "outputs": [
    {
     "name": "stdout",
     "output_type": "stream",
     "text": [
      "For bugs 9 chars are enough to identify a commit SHA1\n",
      "For bugs_large 10 chars are enough to identify a commit SHA1\n",
      "For sstubs 8 chars are enough to identify a commit SHA1\n",
      "For sstubs_large 9 chars are enough to identify a commit SHA1\n"
     ]
    }
   ],
   "source": [
    "for table in ['bugs', 'bugs_large', 'sstubs', 'sstubs_large']:\n",
    "    # noinspection SqlResolve\n",
    "    query = f'''\n",
    "    SELECT count()\n",
    "    FROM (\n",
    "         SELECT parent FROM {table} UNION SELECT child FROM {table}\n",
    "    )\n",
    "    '''\n",
    "    numUnqCommits = next(cursor.execute(query))\n",
    "    for i in range(40):\n",
    "        # noinspection SqlResolve\n",
    "        query = f'''\n",
    "        SELECT count(DISTINCT substr(parent, 0, {i}))\n",
    "        FROM (\n",
    "             SELECT parent FROM {table} UNION SELECT child FROM {table}\n",
    "        )\n",
    "        '''\n",
    "        numIdentifiableCommits = next(cursor.execute(query))\n",
    "        if numUnqCommits == numIdentifiableCommits:\n",
    "            print(f'For {table} {i} chars are enough to identify a commit SHA1')\n",
    "            break"
   ],
   "metadata": {
    "collapsed": false,
    "pycharm": {
     "name": "#%%\n"
    }
   }
  },
  {
   "cell_type": "code",
   "execution_count": 24,
   "outputs": [],
   "source": [],
   "metadata": {
    "collapsed": false,
    "pycharm": {
     "name": "#%%\n"
    }
   }
  }
 ],
 "metadata": {
  "kernelspec": {
   "display_name": "Python 3",
   "language": "python",
   "name": "python3"
  },
  "language_info": {
   "codemirror_mode": {
    "name": "ipython",
    "version": 3
   },
   "file_extension": ".py",
   "mimetype": "text/x-python",
   "name": "python",
   "nbconvert_exporter": "python",
   "pygments_lexer": "ipython3",
   "version": "3.7.8"
  }
 },
 "nbformat": 4,
 "nbformat_minor": 1
}
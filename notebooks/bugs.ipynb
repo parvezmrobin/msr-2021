{
 "cells": [
  {
   "cell_type": "code",
   "execution_count": 4,
   "metadata": {
    "collapsed": true
   },
   "outputs": [],
   "source": [
    "import pandas as pd"
   ]
  },
  {
   "cell_type": "markdown",
   "source": [
    "## Explore bugs"
   ],
   "metadata": {
    "collapsed": false,
    "pycharm": {
     "name": "#%% md\n"
    }
   }
  },
  {
   "cell_type": "code",
   "execution_count": 7,
   "outputs": [],
   "source": [
    "df = pd.read_json('../dataset/bugs')"
   ],
   "metadata": {
    "collapsed": false,
    "pycharm": {
     "name": "#%%\n"
    }
   }
  },
  {
   "cell_type": "code",
   "execution_count": 14,
   "outputs": [
    {
     "data": {
      "text/plain": "                              fixCommitSHA1  \\\n0  e1b4341bcf2075abbb30b3336aa889a04f683cd4   \n1  aa90e04b5e6eb7f6d46dde16867196329568324e   \n2  aa90e04b5e6eb7f6d46dde16867196329568324e   \n3  46d3a4007fe1418d53baabc16dec39275079684b   \n4  46d3a4007fe1418d53baabc16dec39275079684b   \n\n                        fixCommitParentSHA1  \\\n0  e15dbdf6aceac531383d22369d7f09b40106f06e   \n1  46d3a4007fe1418d53baabc16dec39275079684b   \n2  46d3a4007fe1418d53baabc16dec39275079684b   \n3  4a51f2c95fc1ab5eb6c32c32d8d31dc078fea630   \n4  4a51f2c95fc1ab5eb6c32c32d8d31dc078fea630   \n\n                                         bugFilePath  \\\n0  modules/activiti-secure-service-tasks/src/test...   \n1  modules/activiti-form-engine/src/main/java/org...   \n2  modules/activiti-form-engine/src/main/java/org...   \n3  modules/activiti-secure-service-tasks/src/test...   \n4  modules/activiti-secure-service-tasks/src/test...   \n\n                                            fixPatch        projectName  \\\n0  diff --git a/modules/activiti-secure-service-t...  Activiti.Activiti   \n1  diff --git a/modules/activiti-form-engine/src/...  Activiti.Activiti   \n2  diff --git a/modules/activiti-form-engine/src/...  Activiti.Activiti   \n3  diff --git a/modules/activiti-secure-service-t...  Activiti.Activiti   \n4  diff --git a/modules/activiti-secure-service-t...  Activiti.Activiti   \n\n   bugLineNum  bugNodeStartChar  bugNodeLength  fixLineNum  fixNodeStartChar  \\\n0          41              1519             19          41              1519   \n1         184              8444             35         184              8444   \n2         224              9811              9         224              9811   \n3          31              1214             26          31              1214   \n4          31              1077             47          31              1077   \n\n   fixNodeLength                                  sourceBeforeFix  \\\n0             18                              \"shellCommandStart\"   \n1             35              submittedNode.get(\"values\") != null   \n2             30                                        dateValue   \n3             32                        Arrays.asList(\"ls\",\"pwd\")   \n4             43  \"ShellTaskTest.testEchoShellWindows.bpmn20.xml\"   \n\n                                sourceAfterFix  \n0                           \"shellCommandEcho\"  \n1          submittedNode.get(\"values\") == null  \n2               dateValue.toString(\"yyyy-M-d\")  \n3              Arrays.asList(\"cmd\",\"ls\",\"pwd\")  \n4  \"ShellTaskTest.testShellWindows.bpmn20.xml\"  ",
      "text/html": "<div>\n<style scoped>\n    .dataframe tbody tr th:only-of-type {\n        vertical-align: middle;\n    }\n\n    .dataframe tbody tr th {\n        vertical-align: top;\n    }\n\n    .dataframe thead th {\n        text-align: right;\n    }\n</style>\n<table border=\"1\" class=\"dataframe\">\n  <thead>\n    <tr style=\"text-align: right;\">\n      <th></th>\n      <th>fixCommitSHA1</th>\n      <th>fixCommitParentSHA1</th>\n      <th>bugFilePath</th>\n      <th>fixPatch</th>\n      <th>projectName</th>\n      <th>bugLineNum</th>\n      <th>bugNodeStartChar</th>\n      <th>bugNodeLength</th>\n      <th>fixLineNum</th>\n      <th>fixNodeStartChar</th>\n      <th>fixNodeLength</th>\n      <th>sourceBeforeFix</th>\n      <th>sourceAfterFix</th>\n    </tr>\n  </thead>\n  <tbody>\n    <tr>\n      <th>0</th>\n      <td>e1b4341bcf2075abbb30b3336aa889a04f683cd4</td>\n      <td>e15dbdf6aceac531383d22369d7f09b40106f06e</td>\n      <td>modules/activiti-secure-service-tasks/src/test...</td>\n      <td>diff --git a/modules/activiti-secure-service-t...</td>\n      <td>Activiti.Activiti</td>\n      <td>41</td>\n      <td>1519</td>\n      <td>19</td>\n      <td>41</td>\n      <td>1519</td>\n      <td>18</td>\n      <td>\"shellCommandStart\"</td>\n      <td>\"shellCommandEcho\"</td>\n    </tr>\n    <tr>\n      <th>1</th>\n      <td>aa90e04b5e6eb7f6d46dde16867196329568324e</td>\n      <td>46d3a4007fe1418d53baabc16dec39275079684b</td>\n      <td>modules/activiti-form-engine/src/main/java/org...</td>\n      <td>diff --git a/modules/activiti-form-engine/src/...</td>\n      <td>Activiti.Activiti</td>\n      <td>184</td>\n      <td>8444</td>\n      <td>35</td>\n      <td>184</td>\n      <td>8444</td>\n      <td>35</td>\n      <td>submittedNode.get(\"values\") != null</td>\n      <td>submittedNode.get(\"values\") == null</td>\n    </tr>\n    <tr>\n      <th>2</th>\n      <td>aa90e04b5e6eb7f6d46dde16867196329568324e</td>\n      <td>46d3a4007fe1418d53baabc16dec39275079684b</td>\n      <td>modules/activiti-form-engine/src/main/java/org...</td>\n      <td>diff --git a/modules/activiti-form-engine/src/...</td>\n      <td>Activiti.Activiti</td>\n      <td>224</td>\n      <td>9811</td>\n      <td>9</td>\n      <td>224</td>\n      <td>9811</td>\n      <td>30</td>\n      <td>dateValue</td>\n      <td>dateValue.toString(\"yyyy-M-d\")</td>\n    </tr>\n    <tr>\n      <th>3</th>\n      <td>46d3a4007fe1418d53baabc16dec39275079684b</td>\n      <td>4a51f2c95fc1ab5eb6c32c32d8d31dc078fea630</td>\n      <td>modules/activiti-secure-service-tasks/src/test...</td>\n      <td>diff --git a/modules/activiti-secure-service-t...</td>\n      <td>Activiti.Activiti</td>\n      <td>31</td>\n      <td>1214</td>\n      <td>26</td>\n      <td>31</td>\n      <td>1214</td>\n      <td>32</td>\n      <td>Arrays.asList(\"ls\",\"pwd\")</td>\n      <td>Arrays.asList(\"cmd\",\"ls\",\"pwd\")</td>\n    </tr>\n    <tr>\n      <th>4</th>\n      <td>46d3a4007fe1418d53baabc16dec39275079684b</td>\n      <td>4a51f2c95fc1ab5eb6c32c32d8d31dc078fea630</td>\n      <td>modules/activiti-secure-service-tasks/src/test...</td>\n      <td>diff --git a/modules/activiti-secure-service-t...</td>\n      <td>Activiti.Activiti</td>\n      <td>31</td>\n      <td>1077</td>\n      <td>47</td>\n      <td>31</td>\n      <td>1077</td>\n      <td>43</td>\n      <td>\"ShellTaskTest.testEchoShellWindows.bpmn20.xml\"</td>\n      <td>\"ShellTaskTest.testShellWindows.bpmn20.xml\"</td>\n    </tr>\n  </tbody>\n</table>\n</div>"
     },
     "execution_count": 14,
     "metadata": {},
     "output_type": "execute_result"
    }
   ],
   "source": [
    "df.head()"
   ],
   "metadata": {
    "collapsed": false,
    "pycharm": {
     "name": "#%%\n"
    }
   }
  },
  {
   "cell_type": "code",
   "execution_count": 24,
   "outputs": [
    {
     "data": {
      "text/plain": "fixCommitSHA1                   c015d11303339f50254a10be7335fd33546911ab\nfixCommitParentSHA1             d9dc1d6e0dfb3965544251d705aca06ea0352922\nbugFilePath            modules/activiti-modeler/src/main/java/org/act...\nfixPatch               diff --git a/modules/activiti-modeler/src/main...\nprojectName                                            Activiti.Activiti\nbugLineNum                                                            34\nbugNodeStartChar                                                    1341\nbugNodeLength                                                         34\nfixLineNum                                                            34\nfixNodeStartChar                                                    1341\nfixNodeLength                                                         43\nsourceBeforeFix                       IOUtils.toString(stencilsetStream)\nsourceAfterFix                IOUtils.toString(stencilsetStream,\"utf-8\")\nName: 100, dtype: object"
     },
     "execution_count": 24,
     "metadata": {},
     "output_type": "execute_result"
    }
   ],
   "source": [
    "df.iloc[100]"
   ],
   "metadata": {
    "collapsed": false,
    "pycharm": {
     "name": "#%%\n"
    }
   }
  },
  {
   "cell_type": "code",
   "execution_count": 25,
   "outputs": [
    {
     "name": "stdout",
     "output_type": "stream",
     "text": [
      "diff --git a/modules/activiti-modeler/src/main/java/org/activiti/rest/editor/main/StencilsetRestResource.java b/modules/activiti-modeler/src/main/java/org/activiti/rest/editor/main/StencilsetRestResource.java\n",
      "index b07c4a7..4502b19 100644\n",
      "--- a/modules/activiti-modeler/src/main/java/org/activiti/rest/editor/main/StencilsetRestResource.java\n",
      "+++ b/modules/activiti-modeler/src/main/java/org/activiti/rest/editor/main/StencilsetRestResource.java\n",
      "@@ -27,11 +27,11 @@\n",
      " @RestController\n",
      " public class StencilsetRestResource {\n",
      "   \n",
      "-  @RequestMapping(value=\"/editor/stencilset\", method = RequestMethod.GET, produces = \"application/json\")\n",
      "+  @RequestMapping(value=\"/editor/stencilset\", method = RequestMethod.GET, produces = \"application/json;charset=utf-8\")\n",
      "   public @ResponseBody String getStencilset() {\n",
      "     InputStream stencilsetStream = this.getClass().getClassLoader().getResourceAsStream(\"stencilset.json\");\n",
      "     try {\n",
      "-      return IOUtils.toString(stencilsetStream);\n",
      "+      return IOUtils.toString(stencilsetStream, \"utf-8\");\n",
      "     } catch (Exception e) {\n",
      "       throw new ActivitiException(\"Error while loading stencil set\", e);\n",
      "     }\n",
      "\n"
     ]
    }
   ],
   "source": [
    "print(df.iloc[100].fixPatch)\n"
   ],
   "metadata": {
    "collapsed": false,
    "pycharm": {
     "name": "#%%\n"
    }
   }
  }
 ],
 "metadata": {
  "kernelspec": {
   "display_name": "Python 3",
   "language": "python",
   "name": "python3"
  },
  "language_info": {
   "codemirror_mode": {
    "name": "ipython",
    "version": 2
   },
   "file_extension": ".py",
   "mimetype": "text/x-python",
   "name": "python",
   "nbconvert_exporter": "python",
   "pygments_lexer": "ipython2",
   "version": "2.7.6"
  }
 },
 "nbformat": 4,
 "nbformat_minor": 0
}
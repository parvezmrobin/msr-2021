{
 "cells": [
  {
   "cell_type": "markdown",
   "metadata": {
    "collapsed": true,
    "pycharm": {
     "name": "#%% md\n"
    }
   },
   "source": [
    "# Generate Fix Commit Tree"
   ]
  },
  {
   "cell_type": "markdown",
   "source": [
    "If the same (project, file, line) sequence has a fix-commit\n",
    "that is appeared as fix-commit-parent for the same sequence,\n",
    "we are saying the first fix created / left a bug.\n",
    "\n",
    "This notebook will find such commit sequence and make a tree from those sequence.\n",
    "This will help to investigate in which situation\n",
    "developers create / leave a bug while fixing another."
   ],
   "metadata": {
    "collapsed": false,
    "pycharm": {
     "name": "#%% md\n"
    }
   }
  },
  {
   "cell_type": "code",
   "execution_count": 1,
   "metadata": {
    "pycharm": {
     "name": "#%%\n"
    }
   },
   "outputs": [],
   "source": [
    "import pandas as pd\n",
    "import numpy as np"
   ]
  },
  {
   "cell_type": "code",
   "execution_count": 2,
   "metadata": {
    "pycharm": {
     "name": "#%%\n"
    }
   },
   "outputs": [],
   "source": [
    "df = pd.read_json('../dataset/sstubsLarge')"
   ]
  },
  {
   "cell_type": "code",
   "execution_count": 3,
   "metadata": {
    "pycharm": {
     "name": "#%%\n"
    }
   },
   "outputs": [
    {
     "name": "stdout",
     "output_type": "stream",
     "text": [
      "Rows: 63923, Columns: 14\n"
     ]
    }
   ],
   "source": [
    "print('Rows: {}, Columns: {}'.format(*df.shape))"
   ]
  },
  {
   "cell_type": "code",
   "execution_count": 4,
   "metadata": {
    "pycharm": {
     "name": "#%%\n"
    }
   },
   "outputs": [
    {
     "name": "stdout",
     "output_type": "stream",
     "text": [
      "**Columns:**\n",
      "bugType\n",
      "fixCommitSHA1\n",
      "fixCommitParentSHA1\n",
      "bugFilePath\n",
      "fixPatch\n",
      "projectName\n",
      "bugLineNum\n",
      "bugNodeStartChar\n",
      "bugNodeLength\n",
      "fixLineNum\n",
      "fixNodeStartChar\n",
      "fixNodeLength\n",
      "sourceBeforeFix\n",
      "sourceAfterFix\n"
     ]
    }
   ],
   "source": [
    "print('**Columns:**')\n",
    "print(*df.columns, sep='\\n')"
   ]
  },
  {
   "cell_type": "markdown",
   "source": [
    "## Filter tree-commits"
   ],
   "metadata": {
    "collapsed": false,
    "pycharm": {
     "name": "#%% md\n"
    }
   }
  },
  {
   "cell_type": "markdown",
   "source": [
    "First, the fix-commits appearing as parent-commit in another entry are found via SQL.\n",
    "Three different SQL queries are run producing the same result to grow confidence.\n",
    "Then this query is applied to `pd.DataFrame`."
   ],
   "metadata": {
    "collapsed": false,
    "pycharm": {
     "name": "#%% md\n"
    }
   }
  },
  {
   "cell_type": "code",
   "execution_count": 5,
   "metadata": {
    "pycharm": {
     "name": "#%%\n"
    }
   },
   "outputs": [],
   "source": [
    "import sqlite3\n",
    "conn = sqlite3.connect('../database/sstubs.db')\n",
    "cursor = conn.cursor()"
   ]
  },
  {
   "cell_type": "code",
   "execution_count": 6,
   "metadata": {
    "pycharm": {
     "name": "#%%\n"
    }
   },
   "outputs": [
    {
     "name": "stdout",
     "output_type": "stream",
     "text": [
      "400\n"
     ]
    }
   ],
   "source": [
    "query = '''SELECT count(*)\n",
    "    FROM (SELECT * \n",
    "    FROM sstubs_large AS b1\n",
    "        INNER JOIN sstubs_large AS b2\n",
    "        ON b1.parent = b2.child AND b1.project = b2.project AND b1.file = b2.file AND b1.line = b2.line\n",
    "    GROUP BY b1.child, b1.parent, b1.project, b1.line, b1.file, b1.type)'''\n",
    "for res in cursor.execute(query):\n",
    "    print(*res)"
   ]
  },
  {
   "cell_type": "code",
   "execution_count": 7,
   "metadata": {
    "pycharm": {
     "name": "#%%\n"
    }
   },
   "outputs": [
    {
     "name": "stdout",
     "output_type": "stream",
     "text": [
      "400\n"
     ]
    }
   ],
   "source": [
    "query = '''SELECT count(*) FROM sstubs_large WHERE (parent, project, file, line) IN (\n",
    "                SELECT child, project, file, line FROM sstubs_large\n",
    "           ) '''\n",
    "for row in cursor.execute(query):\n",
    "    print(*row)\n"
   ]
  },
  {
   "cell_type": "code",
   "execution_count": 8,
   "metadata": {
    "pycharm": {
     "name": "#%%\n"
    }
   },
   "outputs": [
    {
     "name": "stdout",
     "output_type": "stream",
     "text": [
      "400\n"
     ]
    }
   ],
   "source": [
    "query = '''SELECT count(*) FROM sstubs_large AS P WHERE EXISTS (\n",
    "                SELECT parent\n",
    "                FROM sstubs_large AS C\n",
    "                WHERE C.child = P.parent AND C.project = P.project AND C.file = P.file AND C.line = P.line\n",
    "           ) '''\n",
    "for row in cursor.execute(query):\n",
    "    print(*row)"
   ]
  },
  {
   "cell_type": "code",
   "execution_count": 25,
   "outputs": [],
   "source": [
    "columns = [\n",
    "    'fixCommitSHA1',\n",
    "    'bugFilePath',\n",
    "    'projectName',\n",
    "    'bugLineNum',\n",
    "    'bugType',\n",
    "    'sourceBeforeFix',\n",
    "    'sourceAfterFix',\n",
    "]\n",
    "child_df = df[['fixCommitParentSHA1', *columns]]\n",
    "parent_df = df[columns]\\\n",
    "    .rename(columns={'fixCommitSHA1': 'fixCommitParentSHA1'})\n",
    "rename_cols = {\n",
    "    'sourceBeforeFix_y': 'sourceA', # initial source in parent\n",
    "    # later source in parent === initial source in child (sourceBeforeFix_x)\n",
    "    'sourceAfterFix_y': 'sourceB',\n",
    "    'sourceAfterFix_x': 'sourceC', # later source in child\n",
    "    'bugType_y': 'bugTypeA', # parent bug type\n",
    "    'bugType_x': 'bugTypeB' # child bug type\n",
    "}\n",
    "\n",
    "merged_df = child_df.merge(\n",
    "    parent_df,\n",
    "    how='inner',\n",
    "    on=['fixCommitParentSHA1', 'bugFilePath', 'projectName', 'bugLineNum'],\n",
    ").drop(columns='sourceBeforeFix_x').rename(columns=rename_cols)"
   ],
   "metadata": {
    "collapsed": false,
    "pycharm": {
     "name": "#%%\n"
    }
   }
  },
  {
   "cell_type": "code",
   "execution_count": 35,
   "outputs": [
    {
     "data": {
      "text/plain": "                                  sourceA                    bugTypeA  \\\n355     countNewlines(headerFragment) + 1              CHANGE_NUMERAL   \n83   ref_val.startsWith(\"HTTP error 403\")            LESS_SPECIFIC_IF   \n395             ret.setComplete(response)           CHANGE_IDENTIFIER   \n310                           new Paint()   OVERLOAD_METHOD_MORE_ARGS   \n370                  postfix.equals(\"id\")  DIFFERENT_METHOD_SAME_ARGS   \n\n                                               sourceB  \\\n355                  countNewlines(headerFragment) + 2   \n83   ref_val.startsWith(\"HTTP error 403\") || ref_va...   \n395                        ret.setComplete(e,response)   \n310                   new Paint(Paint.ANTI_ALIAS_FLAG)   \n370                           postfix.startsWith(\"id\")   \n\n                         bugTypeB                             sourceC  \n355                CHANGE_NUMERAL   countNewlines(headerFragment) + 1  \n83     DIFFERENT_METHOD_SAME_ARGS  ref_val.contains(\"HTTP error 403\")  \n395             CHANGE_IDENTIFIER           ret.setComplete(response)  \n310  OVERLOAD_METHOD_DELETED_ARGS                         new Paint()  \n370             CHANGE_IDENTIFIER                postfix.equals(\"id\")  ",
      "text/html": "<div>\n<style scoped>\n    .dataframe tbody tr th:only-of-type {\n        vertical-align: middle;\n    }\n\n    .dataframe tbody tr th {\n        vertical-align: top;\n    }\n\n    .dataframe thead th {\n        text-align: right;\n    }\n</style>\n<table border=\"1\" class=\"dataframe\">\n  <thead>\n    <tr style=\"text-align: right;\">\n      <th></th>\n      <th>sourceA</th>\n      <th>bugTypeA</th>\n      <th>sourceB</th>\n      <th>bugTypeB</th>\n      <th>sourceC</th>\n    </tr>\n  </thead>\n  <tbody>\n    <tr>\n      <th>355</th>\n      <td>countNewlines(headerFragment) + 1</td>\n      <td>CHANGE_NUMERAL</td>\n      <td>countNewlines(headerFragment) + 2</td>\n      <td>CHANGE_NUMERAL</td>\n      <td>countNewlines(headerFragment) + 1</td>\n    </tr>\n    <tr>\n      <th>83</th>\n      <td>ref_val.startsWith(\"HTTP error 403\")</td>\n      <td>LESS_SPECIFIC_IF</td>\n      <td>ref_val.startsWith(\"HTTP error 403\") || ref_va...</td>\n      <td>DIFFERENT_METHOD_SAME_ARGS</td>\n      <td>ref_val.contains(\"HTTP error 403\")</td>\n    </tr>\n    <tr>\n      <th>395</th>\n      <td>ret.setComplete(response)</td>\n      <td>CHANGE_IDENTIFIER</td>\n      <td>ret.setComplete(e,response)</td>\n      <td>CHANGE_IDENTIFIER</td>\n      <td>ret.setComplete(response)</td>\n    </tr>\n    <tr>\n      <th>310</th>\n      <td>new Paint()</td>\n      <td>OVERLOAD_METHOD_MORE_ARGS</td>\n      <td>new Paint(Paint.ANTI_ALIAS_FLAG)</td>\n      <td>OVERLOAD_METHOD_DELETED_ARGS</td>\n      <td>new Paint()</td>\n    </tr>\n    <tr>\n      <th>370</th>\n      <td>postfix.equals(\"id\")</td>\n      <td>DIFFERENT_METHOD_SAME_ARGS</td>\n      <td>postfix.startsWith(\"id\")</td>\n      <td>CHANGE_IDENTIFIER</td>\n      <td>postfix.equals(\"id\")</td>\n    </tr>\n  </tbody>\n</table>\n</div>"
     },
     "execution_count": 35,
     "metadata": {},
     "output_type": "execute_result"
    }
   ],
   "source": [
    "merged_df[merged_df.sourceA.str.len() < 40].sample(5)[[\n",
    "    'sourceA',\n",
    "    'bugTypeA',\n",
    "    'sourceB',\n",
    "    'bugTypeB',\n",
    "    'sourceC',\n",
    "]]"
   ],
   "metadata": {
    "collapsed": false,
    "pycharm": {
     "name": "#%%\n"
    }
   }
  },
  {
   "cell_type": "code",
   "execution_count": 36,
   "outputs": [
    {
     "data": {
      "text/plain": "(562, 10)"
     },
     "execution_count": 36,
     "metadata": {},
     "output_type": "execute_result"
    }
   ],
   "source": [
    "columns = [\n",
    "    'fixCommitParentSHA1',\n",
    "    'fixCommitSHA1',\n",
    "    'projectName',\n",
    "    'bugFilePath',\n",
    "    'bugLineNum',\n",
    "    'bugTypeA',\n",
    "    'bugTypeB',\n",
    "    'sourceA',\n",
    "    'sourceB',\n",
    "    'sourceC',\n",
    "]\n",
    "tree_df = pd.DataFrame(\n",
    "    data=merged_df.groupby(columns).groups.keys(),\n",
    "    columns=columns,\n",
    ")\n",
    "tree_df.shape"
   ],
   "metadata": {
    "collapsed": false,
    "pycharm": {
     "name": "#%%\n"
    }
   }
  },
  {
   "cell_type": "code",
   "execution_count": 37,
   "outputs": [],
   "source": [
    "tree_df.to_csv('../dataset/sequential_sstubs.csv', index=False)"
   ],
   "metadata": {
    "collapsed": false,
    "pycharm": {
     "name": "#%%\n"
    }
   }
  },
  {
   "cell_type": "markdown",
   "source": [
    "### Level 3 Tree"
   ],
   "metadata": {
    "collapsed": false,
    "pycharm": {
     "name": "#%% md\n"
    }
   }
  },
  {
   "cell_type": "markdown",
   "source": [
    "## Build Tree"
   ],
   "metadata": {
    "collapsed": false,
    "pycharm": {
     "name": "#%% md\n"
    }
   }
  },
  {
   "cell_type": "code",
   "execution_count": 12,
   "outputs": [],
   "source": [
    "from collections import deque"
   ],
   "metadata": {
    "collapsed": false,
    "pycharm": {
     "name": "#%%\n"
    }
   }
  },
  {
   "cell_type": "code",
   "execution_count": 13,
   "outputs": [],
   "source": [
    "roots = {}\n",
    "for _, row in tree_df.iterrows():\n",
    "    parent = row.fixCommitParentSHA1\n",
    "    child = row.fixCommitSHA1\n",
    "    project = row.projectName\n",
    "    file = row.bugFilePath\n",
    "    line = row.bugLineNum\n",
    "    bug = row.bugType\n",
    "    parentKey = (parent, project, file, line)\n",
    "    if parent not in roots:\n",
    "        roots[parentKey] = set()\n",
    "    roots[parentKey].add((child, bug))\n",
    "    childKey = (child, project, file, line)\n",
    "    if childKey not in roots:\n",
    "        roots[childKey] = set()\n",
    "    roots[childKey].add((parent, bug))"
   ],
   "metadata": {
    "collapsed": false,
    "pycharm": {
     "name": "#%%\n"
    }
   }
  },
  {
   "cell_type": "code",
   "execution_count": 14,
   "outputs": [
    {
     "data": {
      "text/plain": "614"
     },
     "execution_count": 14,
     "metadata": {},
     "output_type": "execute_result"
    }
   ],
   "source": [
    "len(roots)"
   ],
   "metadata": {
    "collapsed": false,
    "pycharm": {
     "name": "#%%\n"
    }
   }
  }
 ],
 "metadata": {
  "kernelspec": {
   "display_name": "Python 3",
   "language": "python",
   "name": "python3"
  },
  "language_info": {
   "codemirror_mode": {
    "name": "ipython",
    "version": 3
   },
   "file_extension": ".py",
   "mimetype": "text/x-python",
   "name": "python",
   "nbconvert_exporter": "python",
   "pygments_lexer": "ipython3",
   "version": "3.7.8"
  }
 },
 "nbformat": 4,
 "nbformat_minor": 1
}
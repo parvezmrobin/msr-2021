{
 "cells": [
  {
   "cell_type": "markdown",
   "metadata": {
    "collapsed": true,
    "pycharm": {
     "name": "#%% md\n"
    }
   },
   "source": [
    "# Generate Fix Commit Tree"
   ]
  },
  {
   "cell_type": "markdown",
   "source": [
    "If the same (project, file, line) sequence has a fix-commit\n",
    "that is appeared as fix-commit-parent for the same sequence,\n",
    "we are saying the first fix created / left a bug.\n",
    "\n",
    "This notebook will find such commit sequence and make a tree from those sequence.\n",
    "This will help to investigate in which situation\n",
    "developers create / leave a bug while fixing another."
   ],
   "metadata": {
    "collapsed": false,
    "pycharm": {
     "name": "#%% md\n"
    }
   }
  },
  {
   "cell_type": "code",
   "execution_count": 1,
   "metadata": {
    "pycharm": {
     "name": "#%%\n"
    }
   },
   "outputs": [],
   "source": [
    "import pandas as pd\n",
    "import numpy as np"
   ]
  },
  {
   "cell_type": "code",
   "execution_count": 2,
   "metadata": {
    "pycharm": {
     "name": "#%%\n"
    }
   },
   "outputs": [],
   "source": [
    "df = pd.read_json('../dataset/sstubsLarge')"
   ]
  },
  {
   "cell_type": "code",
   "execution_count": 3,
   "metadata": {
    "pycharm": {
     "name": "#%%\n"
    }
   },
   "outputs": [
    {
     "name": "stdout",
     "output_type": "stream",
     "text": [
      "Rows: 63923, Columns: 14\n"
     ]
    }
   ],
   "source": [
    "print('Rows: {}, Columns: {}'.format(*df.shape))"
   ]
  },
  {
   "cell_type": "code",
   "execution_count": 4,
   "metadata": {
    "pycharm": {
     "name": "#%%\n"
    }
   },
   "outputs": [
    {
     "name": "stdout",
     "output_type": "stream",
     "text": [
      "**Columns:**\n",
      "bugType\n",
      "fixCommitSHA1\n",
      "fixCommitParentSHA1\n",
      "bugFilePath\n",
      "fixPatch\n",
      "projectName\n",
      "bugLineNum\n",
      "bugNodeStartChar\n",
      "bugNodeLength\n",
      "fixLineNum\n",
      "fixNodeStartChar\n",
      "fixNodeLength\n",
      "sourceBeforeFix\n",
      "sourceAfterFix\n"
     ]
    }
   ],
   "source": [
    "print('**Columns:**')\n",
    "print(*df.columns, sep='\\n')"
   ]
  },
  {
   "cell_type": "markdown",
   "source": [
    "## Filter tree-commits"
   ],
   "metadata": {
    "collapsed": false,
    "pycharm": {
     "name": "#%% md\n"
    }
   }
  },
  {
   "cell_type": "markdown",
   "source": [
    "First, the fix-commits appearing as parent-commit in another entry are found via SQL.\n",
    "Three different SQL queries are run producing the same result to grow confidence.\n",
    "Then this query is applied to `pd.DataFrame`."
   ],
   "metadata": {
    "collapsed": false,
    "pycharm": {
     "name": "#%% md\n"
    }
   }
  },
  {
   "cell_type": "code",
   "execution_count": 5,
   "metadata": {
    "pycharm": {
     "name": "#%%\n"
    }
   },
   "outputs": [],
   "source": [
    "import sqlite3\n",
    "conn = sqlite3.connect('../database/sstubs.db')\n",
    "cursor = conn.cursor()"
   ]
  },
  {
   "cell_type": "code",
   "execution_count": 6,
   "metadata": {
    "pycharm": {
     "name": "#%%\n"
    }
   },
   "outputs": [
    {
     "name": "stdout",
     "output_type": "stream",
     "text": [
      "400\n"
     ]
    }
   ],
   "source": [
    "query = '''SELECT count(*)\n",
    "    FROM (SELECT * \n",
    "    FROM sstubs_large AS b1\n",
    "        INNER JOIN sstubs_large AS b2\n",
    "        ON b1.parent = b2.child AND b1.project = b2.project AND b1.file = b2.file AND b1.line = b2.line\n",
    "    GROUP BY b1.child, b1.parent, b1.project, b1.line, b1.file, b1.type)'''\n",
    "for res in cursor.execute(query):\n",
    "    print(*res)"
   ]
  },
  {
   "cell_type": "code",
   "execution_count": 7,
   "metadata": {
    "pycharm": {
     "name": "#%%\n"
    }
   },
   "outputs": [
    {
     "name": "stdout",
     "output_type": "stream",
     "text": [
      "400\n"
     ]
    }
   ],
   "source": [
    "query = '''SELECT count(*) FROM sstubs_large WHERE (parent, project, file, line) IN (\n",
    "                SELECT child, project, file, line FROM sstubs_large\n",
    "           ) '''\n",
    "for row in cursor.execute(query):\n",
    "    print(*row)\n"
   ]
  },
  {
   "cell_type": "code",
   "execution_count": 8,
   "metadata": {
    "pycharm": {
     "name": "#%%\n"
    }
   },
   "outputs": [
    {
     "name": "stdout",
     "output_type": "stream",
     "text": [
      "400\n"
     ]
    }
   ],
   "source": [
    "query = '''SELECT count(*) FROM sstubs_large AS P WHERE EXISTS (\n",
    "                SELECT parent\n",
    "                FROM sstubs_large AS C\n",
    "                WHERE C.child = P.parent AND C.project = P.project AND C.file = P.file AND C.line = P.line\n",
    "           ) '''\n",
    "for row in cursor.execute(query):\n",
    "    print(*row)"
   ]
  },
  {
   "cell_type": "code",
   "execution_count": 9,
   "outputs": [],
   "source": [
    "child_df = df[['fixCommitSHA1', 'fixCommitParentSHA1', 'bugFilePath', 'projectName', 'bugLineNum', 'bugType']]\n",
    "parent_df = df[['fixCommitSHA1', 'bugFilePath', 'projectName', 'bugLineNum', 'bugType']]\\\n",
    "    .rename(columns={'fixCommitSHA1': 'fixCommitParentSHA1'})\n",
    "\n",
    "merged_df = child_df.merge(\n",
    "    parent_df,\n",
    "    how='inner',\n",
    "    on=['fixCommitParentSHA1', 'bugFilePath', 'projectName', 'bugLineNum'],\n",
    ").drop(columns='bugType_y').rename(columns={'bugType_x': 'bugType'})"
   ],
   "metadata": {
    "collapsed": false,
    "pycharm": {
     "name": "#%%\n"
    }
   }
  },
  {
   "cell_type": "code",
   "execution_count": 10,
   "outputs": [
    {
     "data": {
      "text/plain": "(400, 6)"
     },
     "execution_count": 10,
     "metadata": {},
     "output_type": "execute_result"
    }
   ],
   "source": [
    "columns = ['fixCommitParentSHA1', 'fixCommitSHA1', 'projectName', 'bugFilePath', 'bugLineNum', 'bugType']\n",
    "tree_df = pd.DataFrame(\n",
    "    data=merged_df.groupby(columns).groups.keys(),\n",
    "    columns=columns,\n",
    ")\n",
    "tree_df.shape"
   ],
   "metadata": {
    "collapsed": false,
    "pycharm": {
     "name": "#%%\n"
    }
   }
  },
  {
   "cell_type": "code",
   "execution_count": 11,
   "outputs": [],
   "source": [
    "tree_df.to_csv('../dataset/sequential_sstubs.csv', index=False)"
   ],
   "metadata": {
    "collapsed": false,
    "pycharm": {
     "name": "#%%\n"
    }
   }
  },
  {
   "cell_type": "markdown",
   "source": [
    "## Build Tree"
   ],
   "metadata": {
    "collapsed": false,
    "pycharm": {
     "name": "#%% md\n"
    }
   }
  },
  {
   "cell_type": "code",
   "execution_count": 12,
   "outputs": [],
   "source": [
    "from collections import deque"
   ],
   "metadata": {
    "collapsed": false,
    "pycharm": {
     "name": "#%%\n"
    }
   }
  },
  {
   "cell_type": "code",
   "execution_count": 13,
   "outputs": [],
   "source": [
    "roots = {}\n",
    "for _, row in tree_df.iterrows():\n",
    "    parent = row.fixCommitParentSHA1\n",
    "    child = row.fixCommitSHA1\n",
    "    project = row.projectName\n",
    "    file = row.bugFilePath\n",
    "    line = row.bugLineNum\n",
    "    bug = row.bugType\n",
    "    parentKey = (parent, project, file, line)\n",
    "    if parent not in roots:\n",
    "        roots[parentKey] = set()\n",
    "    roots[parentKey].add((child, bug))\n",
    "    childKey = (child, project, file, line)\n",
    "    if childKey not in roots:\n",
    "        roots[childKey] = set()\n",
    "    roots[childKey].add((parent, bug))"
   ],
   "metadata": {
    "collapsed": false,
    "pycharm": {
     "name": "#%%\n"
    }
   }
  },
  {
   "cell_type": "code",
   "execution_count": 14,
   "outputs": [
    {
     "data": {
      "text/plain": "614"
     },
     "execution_count": 14,
     "metadata": {},
     "output_type": "execute_result"
    }
   ],
   "source": [
    "len(roots)"
   ],
   "metadata": {
    "collapsed": false,
    "pycharm": {
     "name": "#%%\n"
    }
   }
  }
 ],
 "metadata": {
  "kernelspec": {
   "display_name": "Python 3",
   "language": "python",
   "name": "python3"
  },
  "language_info": {
   "codemirror_mode": {
    "name": "ipython",
    "version": 3
   },
   "file_extension": ".py",
   "mimetype": "text/x-python",
   "name": "python",
   "nbconvert_exporter": "python",
   "pygments_lexer": "ipython3",
   "version": "3.7.8"
  }
 },
 "nbformat": 4,
 "nbformat_minor": 1
}
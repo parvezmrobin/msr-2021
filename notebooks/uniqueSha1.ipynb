{
 "cells": [
  {
   "cell_type": "code",
   "execution_count": 1,
   "metadata": {
    "collapsed": true
   },
   "outputs": [],
   "source": [
    "import pandas as pd\n",
    "import numpy as np"
   ]
  },
  {
   "cell_type": "code",
   "execution_count": 2,
   "outputs": [],
   "source": [
    "bugs = pd.read_json('../dataset/bugsLarge')"
   ],
   "metadata": {
    "collapsed": false,
    "pycharm": {
     "name": "#%%\n"
    }
   }
  },
  {
   "cell_type": "code",
   "execution_count": 3,
   "outputs": [
    {
     "data": {
      "text/plain": "(153652, 13)"
     },
     "execution_count": 3,
     "metadata": {},
     "output_type": "execute_result"
    }
   ],
   "source": [
    "bugs.shape"
   ],
   "metadata": {
    "collapsed": false,
    "pycharm": {
     "name": "#%%\n"
    }
   }
  },
  {
   "cell_type": "code",
   "execution_count": 4,
   "outputs": [
    {
     "data": {
      "text/plain": "Index(['fixCommitSHA1', 'fixCommitParentSHA1', 'bugFilePath', 'fixPatch',\n       'projectName', 'bugLineNum', 'bugNodeStartChar', 'bugNodeLength',\n       'fixLineNum', 'fixNodeStartChar', 'fixNodeLength', 'sourceBeforeFix',\n       'sourceAfterFix'],\n      dtype='object')"
     },
     "execution_count": 4,
     "metadata": {},
     "output_type": "execute_result"
    }
   ],
   "source": [
    "bugs.columns"
   ],
   "metadata": {
    "collapsed": false,
    "pycharm": {
     "name": "#%%\n"
    }
   }
  },
  {
   "cell_type": "code",
   "execution_count": 7,
   "outputs": [
    {
     "name": "stdout",
     "output_type": "stream",
     "text": [
      "Unique bug SHA1: 66261\n",
      "5 Duplicate SHA1\n",
      "0000d8aef85058d290527efd452bd3ac7bc09804 4\n",
      "00054685fe488b213300d32bd4caca202ddab018 4\n",
      "0005ede20b31d3cb361972bfd8c7243a93678b04 2\n",
      "000973a163d7400a8f37b7b472acfa6144b0621b 2\n",
      "000ac95fd49ad0f2fe5da4d93adb421fec3c14db 3\n"
     ]
    }
   ],
   "source": [
    "bugSha1 = bugs.fixCommitSHA1\n",
    "[unqSha1, counts] = np.unique(bugSha1, return_counts=True)\n",
    "print('Unique bug SHA1:', unqSha1.shape[0])\n",
    "\n",
    "print('5 Duplicate SHA1')\n",
    "i, j = 0, 0\n",
    "while i < 5:\n",
    "    if counts[j] > 1:\n",
    "        print(unqSha1[j], counts[j])\n",
    "        i += 1\n",
    "    j += 1"
   ],
   "metadata": {
    "collapsed": false,
    "pycharm": {
     "name": "#%%\n"
    }
   }
  },
  {
   "cell_type": "code",
   "execution_count": 21,
   "outputs": [],
   "source": [
    "three = bugs[bugs.fixCommitSHA1 == '000ac95fd49ad0f2fe5da4d93adb421fec3c14db']\n",
    "[first, second, third] = three.iloc"
   ],
   "metadata": {
    "collapsed": false,
    "pycharm": {
     "name": "#%%\n"
    }
   }
  },
  {
   "cell_type": "code",
   "execution_count": 27,
   "outputs": [
    {
     "name": "stdout",
     "output_type": "stream",
     "text": [
      "bugLineNum\n",
      "46\n",
      "68\n",
      "76\n",
      "\n",
      "bugNodeStartChar\n",
      "2001\n",
      "2951\n",
      "3199\n",
      "\n",
      "bugNodeLength\n",
      "58\n",
      "14\n",
      "30\n",
      "\n",
      "fixLineNum\n",
      "46\n",
      "68\n",
      "76\n",
      "\n",
      "fixNodeStartChar\n",
      "2001\n",
      "2951\n",
      "3199\n",
      "\n",
      "fixNodeLength\n",
      "45\n",
      "22\n",
      "35\n",
      "\n",
      "sourceBeforeFix\n",
      "\"http://www.jmonkeyengine.com/wp-content/uploads/2010/09/\"\n",
      "\"planet-2.jpg\"\n",
      "\"Failed to load from town.zip\"\n",
      "\n",
      "sourceAfterFix\n",
      "\"http://wiki.jmonkeyengine.org/jme3/beginner\"\n",
      "\"beginner-physics.png\"\n",
      "\"Failed to load from town.zip file\"\n",
      "\n"
     ]
    }
   ],
   "source": [
    "for k in first.keys():\n",
    "    if first[k] != second[k] or first[k] != third[k] or second[k] != third[k]:\n",
    "        print(k)\n",
    "        print(first[k])\n",
    "        print(second[k])\n",
    "        print(third[k])\n",
    "        print()"
   ],
   "metadata": {
    "collapsed": false,
    "pycharm": {
     "name": "#%%\n"
    }
   }
  },
  {
   "cell_type": "code",
   "execution_count": 25,
   "outputs": [
    {
     "name": "stdout",
     "output_type": "stream",
     "text": [
      "diff --git a/jme3-examples/src/main/java/jme3test/asset/TestManyLocators.java b/jme3-examples/src/main/java/jme3test/asset/TestManyLocators.java\n",
      "index af84da2..bf0cc64 100644\n",
      "--- a/jme3-examples/src/main/java/jme3test/asset/TestManyLocators.java\n",
      "+++ b/jme3-examples/src/main/java/jme3test/asset/TestManyLocators.java\n",
      "@@ -43,7 +43,7 @@\n",
      "     public static void main(String[] args){\n",
      "         AssetManager am = JmeSystem.newAssetManager();\n",
      " \n",
      "-        am.registerLocator(\"http://www.jmonkeyengine.com/wp-content/uploads/2010/09/\",\n",
      "+        am.registerLocator(\"http://wiki.jmonkeyengine.org/jme3/beginner\",\n",
      "                            UrlLocator.class);\n",
      " \n",
      "         am.registerLocator(\"town.zip\", ZipLocator.class);\n",
      "@@ -65,7 +65,7 @@\n",
      "         AssetInfo c = am.locateAsset(new ModelKey(\"glasstile2.png\"));\n",
      " \n",
      "         // Try loading directly from HTTP\n",
      "-        AssetInfo d = am.locateAsset(new TextureKey(\"planet-2.jpg\"));\n",
      "+        AssetInfo d = am.locateAsset(new TextureKey(\"beginner-physics.png\"));\n",
      " \n",
      "         if (a == null)\n",
      "             System.out.println(\"Failed to load from classpath\");\n",
      "@@ -73,7 +73,7 @@\n",
      "             System.out.println(\"Found classpath font: \" + a.toString());\n",
      " \n",
      "         if (b == null)\n",
      "-            System.out.println(\"Failed to load from town.zip\");\n",
      "+            System.out.println(\"Failed to load from town.zip file\");\n",
      "         else\n",
      "             System.out.println(\"Found zip image: \" + b.toString());\n",
      " \n",
      "\n"
     ]
    }
   ],
   "source": [
    "print(second.fixPatch)"
   ],
   "metadata": {
    "collapsed": false,
    "pycharm": {
     "name": "#%%\n"
    }
   }
  },
  {
   "cell_type": "code",
   "execution_count": 26,
   "outputs": [
    {
     "name": "stdout",
     "output_type": "stream",
     "text": [
      "diff --git a/jme3-examples/src/main/java/jme3test/asset/TestManyLocators.java b/jme3-examples/src/main/java/jme3test/asset/TestManyLocators.java\n",
      "index af84da2..bf0cc64 100644\n",
      "--- a/jme3-examples/src/main/java/jme3test/asset/TestManyLocators.java\n",
      "+++ b/jme3-examples/src/main/java/jme3test/asset/TestManyLocators.java\n",
      "@@ -43,7 +43,7 @@\n",
      "     public static void main(String[] args){\n",
      "         AssetManager am = JmeSystem.newAssetManager();\n",
      " \n",
      "-        am.registerLocator(\"http://www.jmonkeyengine.com/wp-content/uploads/2010/09/\",\n",
      "+        am.registerLocator(\"http://wiki.jmonkeyengine.org/jme3/beginner\",\n",
      "                            UrlLocator.class);\n",
      " \n",
      "         am.registerLocator(\"town.zip\", ZipLocator.class);\n",
      "@@ -65,7 +65,7 @@\n",
      "         AssetInfo c = am.locateAsset(new ModelKey(\"glasstile2.png\"));\n",
      " \n",
      "         // Try loading directly from HTTP\n",
      "-        AssetInfo d = am.locateAsset(new TextureKey(\"planet-2.jpg\"));\n",
      "+        AssetInfo d = am.locateAsset(new TextureKey(\"beginner-physics.png\"));\n",
      " \n",
      "         if (a == null)\n",
      "             System.out.println(\"Failed to load from classpath\");\n",
      "@@ -73,7 +73,7 @@\n",
      "             System.out.println(\"Found classpath font: \" + a.toString());\n",
      " \n",
      "         if (b == null)\n",
      "-            System.out.println(\"Failed to load from town.zip\");\n",
      "+            System.out.println(\"Failed to load from town.zip file\");\n",
      "         else\n",
      "             System.out.println(\"Found zip image: \" + b.toString());\n",
      " \n",
      "\n"
     ]
    }
   ],
   "source": [
    "print(third.fixPatch)"
   ],
   "metadata": {
    "collapsed": false,
    "pycharm": {
     "name": "#%%\n"
    }
   }
  },
  {
   "cell_type": "markdown",
   "source": [
    "> This is interesting.\n",
    "> If a diff contains more than one change, they are split into multiple entries\n",
    "> sharing the same SHA1"
   ],
   "metadata": {
    "collapsed": false,
    "pycharm": {
     "name": "#%% md\n"
    }
   }
  },
  {
   "cell_type": "code",
   "execution_count": 2,
   "outputs": [],
   "source": [
    "types = pd.read_json('../dataset/sstubsLarge')"
   ],
   "metadata": {
    "collapsed": false,
    "pycharm": {
     "name": "#%%\n"
    }
   }
  },
  {
   "cell_type": "code",
   "execution_count": 3,
   "outputs": [
    {
     "data": {
      "text/plain": "(63923, 14)"
     },
     "execution_count": 3,
     "metadata": {},
     "output_type": "execute_result"
    }
   ],
   "source": [
    "types.shape"
   ],
   "metadata": {
    "collapsed": false,
    "pycharm": {
     "name": "#%%\n"
    }
   }
  },
  {
   "cell_type": "code",
   "execution_count": 4,
   "outputs": [
    {
     "data": {
      "text/plain": "Index(['bugType', 'fixCommitSHA1', 'fixCommitParentSHA1', 'bugFilePath',\n       'fixPatch', 'projectName', 'bugLineNum', 'bugNodeStartChar',\n       'bugNodeLength', 'fixLineNum', 'fixNodeStartChar', 'fixNodeLength',\n       'sourceBeforeFix', 'sourceAfterFix'],\n      dtype='object')"
     },
     "execution_count": 4,
     "metadata": {},
     "output_type": "execute_result"
    }
   ],
   "source": [
    "types.columns"
   ],
   "metadata": {
    "collapsed": false,
    "pycharm": {
     "name": "#%%\n"
    }
   }
  },
  {
   "cell_type": "code",
   "execution_count": 6,
   "outputs": [
    {
     "name": "stdout",
     "output_type": "stream",
     "text": [
      "Unique type SHA1: 24486\n",
      "5 Duplicate SHA1\n",
      "007ce5508e36f865ec9afb04e1bbd826f9ef58f3 3\n",
      "01dc0d9d2144e624e17fd3df5978eba6c770e48a 3\n",
      "020f5496beba4d5c2ea0dafb40c4d7aa25a8f565 3\n",
      "0226179650f6aeaf0928b56fa78eb506de150dc7 3\n",
      "022a7db1a4639825962ca18a57747d3f09ad05e9 3\n"
     ]
    }
   ],
   "source": [
    "typeSha1 = types.fixCommitSHA1\n",
    "[unqSha1, counts] = np.unique(typeSha1, return_counts=True)\n",
    "print('Unique type SHA1:', unqSha1.shape[0])\n",
    "\n",
    "print('5 Duplicate SHA1')\n",
    "i, j = 0, 0\n",
    "while i < 5:\n",
    "    if counts[j] == 3:\n",
    "        print(unqSha1[j], counts[j])\n",
    "        i += 1\n",
    "    j += 1"
   ],
   "metadata": {
    "collapsed": false,
    "pycharm": {
     "name": "#%%\n"
    }
   }
  },
  {
   "cell_type": "code",
   "execution_count": 8,
   "outputs": [],
   "source": [
    "three = types[types.fixCommitSHA1 == '007ce5508e36f865ec9afb04e1bbd826f9ef58f3']\n",
    "[first, second, third] = three.iloc"
   ],
   "metadata": {
    "collapsed": false,
    "pycharm": {
     "name": "#%%\n"
    }
   }
  },
  {
   "cell_type": "code",
   "execution_count": 12,
   "outputs": [
    {
     "name": "stdout",
     "output_type": "stream",
     "text": [
      "**bugFilePath**\n",
      "rxjava-core/src/main/java/rx/Observable.java\n",
      "rxjava-core/src/main/java/rx/Observable.java\n",
      "rxjava-core/src/main/java/rx/operators/OperatorParallel.java\n",
      "\n",
      "**fixPatch**\n",
      "diff --git a/rxjava-core/src/main/java/rx/Observable.java b/rxjava-core/src/main/java/rx/Observable.java\n",
      "index 302990a..a71d6db 100644\n",
      "--- a/rxjava-core/src/main/java/rx/Observable.java\n",
      "+++ b/rxjava-core/src/main/java/rx/Observable.java\n",
      "@@ -4053,7 +4053,7 @@\n",
      "      * @see <a href=\"https://github.com/Netflix/RxJava/wiki/Transforming-Observables#wiki-groupby-and-groupbyuntil\">RxJava Wiki: groupBy</a>\n",
      "      */\n",
      "     public final <K> Observable<GroupedObservable<K, T>> groupBy(final Func1<? super T, ? extends K> keySelector) {\n",
      "-        return lift(new OnSubscribeGroupBy<K, T>(keySelector));\n",
      "+        return lift(new OperatorGroupBy<K, T>(keySelector));\n",
      "     }\n",
      " \n",
      "     /**\n",
      "@@ -4106,7 +4106,7 @@\n",
      "      * @see <a href=\"http://msdn.microsoft.com/en-us/library/hh229433.aspx\">MSDN: Observable.GroupByUntil</a>\n",
      "      */\n",
      "     public final <TKey, TValue, TDuration> Observable<GroupedObservable<TKey, TValue>> groupByUntil(Func1<? super T, ? extends TKey> keySelector, Func1<? super T, ? extends TValue> valueSelector, Func1<? super GroupedObservable<TKey, TValue>, ? extends Observable<? extends TDuration>> durationSelector) {\n",
      "-        return lift(new OnSubscribeGroupByUntil<T, TKey, TValue, TDuration>(keySelector, valueSelector, durationSelector));\n",
      "+        return lift(new OperatorGroupByUntil<T, TKey, TValue, TDuration>(keySelector, valueSelector, durationSelector));\n",
      "     }\n",
      " \n",
      "     /**\n",
      "=============================================\n",
      "diff --git a/rxjava-core/src/main/java/rx/Observable.java b/rxjava-core/src/main/java/rx/Observable.java\n",
      "index 302990a..a71d6db 100644\n",
      "--- a/rxjava-core/src/main/java/rx/Observable.java\n",
      "+++ b/rxjava-core/src/main/java/rx/Observable.java\n",
      "@@ -4053,7 +4053,7 @@\n",
      "      * @see <a href=\"https://github.com/Netflix/RxJava/wiki/Transforming-Observables#wiki-groupby-and-groupbyuntil\">RxJava Wiki: groupBy</a>\n",
      "      */\n",
      "     public final <K> Observable<GroupedObservable<K, T>> groupBy(final Func1<? super T, ? extends K> keySelector) {\n",
      "-        return lift(new OnSubscribeGroupBy<K, T>(keySelector));\n",
      "+        return lift(new OperatorGroupBy<K, T>(keySelector));\n",
      "     }\n",
      " \n",
      "     /**\n",
      "@@ -4106,7 +4106,7 @@\n",
      "      * @see <a href=\"http://msdn.microsoft.com/en-us/library/hh229433.aspx\">MSDN: Observable.GroupByUntil</a>\n",
      "      */\n",
      "     public final <TKey, TValue, TDuration> Observable<GroupedObservable<TKey, TValue>> groupByUntil(Func1<? super T, ? extends TKey> keySelector, Func1<? super T, ? extends TValue> valueSelector, Func1<? super GroupedObservable<TKey, TValue>, ? extends Observable<? extends TDuration>> durationSelector) {\n",
      "-        return lift(new OnSubscribeGroupByUntil<T, TKey, TValue, TDuration>(keySelector, valueSelector, durationSelector));\n",
      "+        return lift(new OperatorGroupByUntil<T, TKey, TValue, TDuration>(keySelector, valueSelector, durationSelector));\n",
      "     }\n",
      " \n",
      "     /**\n",
      "=============================================\n",
      "diff --git a/rxjava-core/src/main/java/rx/operators/OperatorParallel.java b/rxjava-core/src/main/java/rx/operators/OperatorParallel.java\n",
      "index e7ac12d..dcc92bf 100644\n",
      "--- a/rxjava-core/src/main/java/rx/operators/OperatorParallel.java\n",
      "+++ b/rxjava-core/src/main/java/rx/operators/OperatorParallel.java\n",
      "@@ -41,7 +41,7 @@\n",
      "     public Subscriber<? super T> call(Subscriber<? super R> op) {\n",
      " \n",
      "         Func1<Subscriber<? super GroupedObservable<Long, T>>, Subscriber<? super T>> groupBy =\n",
      "-                new OnSubscribeGroupBy<Long, T>(new Func1<T, Long>() {\n",
      "+                new OperatorGroupBy<Long, T>(new Func1<T, Long>() {\n",
      " \n",
      "                     long i = 0;\n",
      " \n",
      "=============================================\n",
      "\n",
      "**bugLineNum**\n",
      "4056\n",
      "4109\n",
      "44\n",
      "\n",
      "**bugNodeStartChar**\n",
      "210582\n",
      "214472\n",
      "1495\n",
      "\n",
      "**bugNodeLength**\n",
      "24\n",
      "51\n",
      "27\n",
      "\n",
      "**fixLineNum**\n",
      "4056\n",
      "4109\n",
      "44\n",
      "\n",
      "**fixNodeStartChar**\n",
      "210582\n",
      "214472\n",
      "1495\n",
      "\n",
      "**fixNodeLength**\n",
      "21\n",
      "48\n",
      "24\n",
      "\n",
      "**sourceBeforeFix**\n",
      "OnSubscribeGroupBy<K,T>\n",
      "OnSubscribeGroupByUntil<T,TKey,TValue,TDuration>\n",
      "OnSubscribeGroupBy<Long,T>\n",
      "\n",
      "**sourceAfterFix**\n",
      "OperatorGroupBy<K,T>\n",
      "OperatorGroupByUntil<T,TKey,TValue,TDuration>\n",
      "OperatorGroupBy<Long,T>\n",
      "\n"
     ]
    }
   ],
   "source": [
    "for k in first.keys():\n",
    "    if first[k] != second[k] or first[k] != third[k] or second[k] != third[k]:\n",
    "        print(f'**{k}**')\n",
    "        end = '=============================================\\n' if k == 'fixPatch' else '\\n'\n",
    "        print(first[k], end=end)\n",
    "        print(second[k], end=end)\n",
    "        print(third[k], end=end)\n",
    "        print()"
   ],
   "metadata": {
    "collapsed": false,
    "pycharm": {
     "name": "#%%\n"
    }
   }
  },
  {
   "cell_type": "markdown",
   "source": [
    "> It is more interesting.\n",
    "> Although, the three changes are from two separate files, their changes are the same.\n",
    "> `OnSubscribeGroupBy` class is changed by `OperatorGroupBy`.\n",
    "> Thus they share the same SHA1.\n",
    ">\n",
    "> Need to check if there is any entry where `bugFilePath` and `fixPatch` are the same\n",
    "> but SHA1 are different."
   ],
   "metadata": {
    "collapsed": false,
    "pycharm": {
     "name": "#%% md\n"
    }
   }
  },
  {
   "cell_type": "markdown",
   "source": [
    "## Footnote\n",
    "\n",
    "This still does not explain why bugs has more entries than sstubs.\n",
    "Need to revisit."
   ],
   "metadata": {
    "collapsed": false,
    "pycharm": {
     "name": "#%% md\n"
    }
   }
  },
  {
   "cell_type": "code",
   "execution_count": null,
   "outputs": [],
   "source": [],
   "metadata": {
    "collapsed": false,
    "pycharm": {
     "name": "#%%\n"
    }
   }
  }
 ],
 "metadata": {
  "kernelspec": {
   "display_name": "Python 3",
   "language": "python",
   "name": "python3"
  },
  "language_info": {
   "codemirror_mode": {
    "name": "ipython",
    "version": 2
   },
   "file_extension": ".py",
   "mimetype": "text/x-python",
   "name": "python",
   "nbconvert_exporter": "python",
   "pygments_lexer": "ipython2",
   "version": "2.7.6"
  }
 },
 "nbformat": 4,
 "nbformat_minor": 0
}
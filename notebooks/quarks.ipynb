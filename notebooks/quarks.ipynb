{
 "cells": [
  {
   "cell_type": "markdown",
   "source": [
    "# Inspect Various Attributes"
   ],
   "metadata": {
    "collapsed": false,
    "pycharm": {
     "name": "#%% md\n"
    }
   }
  },
  {
   "cell_type": "code",
   "execution_count": 1,
   "metadata": {
    "collapsed": true
   },
   "outputs": [],
   "source": [
    "import sqlite3"
   ]
  },
  {
   "cell_type": "code",
   "execution_count": 2,
   "outputs": [
    {
     "name": "stdout",
     "output_type": "stream",
     "text": [
      "10231 entries added to DB SStuBs\n",
      "63923 entries added to DB SStuBs Large\n",
      "25539 entries added to DB Bugs\n",
      "153652 entries added to DB Bugs Large\n"
     ]
    }
   ],
   "source": [
    "import scripts.buildSqlite"
   ],
   "metadata": {
    "collapsed": false,
    "pycharm": {
     "name": "#%%\n"
    }
   }
  },
  {
   "cell_type": "code",
   "execution_count": 3,
   "outputs": [],
   "source": [
    "conn = sqlite3.connect('../database/sstubs.db')\n",
    "cursor = conn.cursor()"
   ],
   "metadata": {
    "collapsed": false,
    "pycharm": {
     "name": "#%%\n"
    }
   }
  },
  {
   "cell_type": "markdown",
   "source": [
    "### Unique SHA1"
   ],
   "metadata": {
    "collapsed": false,
    "pycharm": {
     "name": "#%% md\n"
    }
   }
  },
  {
   "cell_type": "code",
   "execution_count": 29,
   "outputs": [
    {
     "name": "stdout",
     "output_type": "stream",
     "text": [
      "There are total 66,261 unique fix SHA1 among total 153,652 entries\n",
      "That is each commit contains nearly 2.32 lines of bugs\n"
     ]
    }
   ],
   "source": [
    "query = 'SELECT count(DISTINCT child), count() FROM bugs_large'\n",
    "for unq, tot in cursor.execute(query):\n",
    "    print(f'There are total {unq:,} unique fix SHA1 among total {tot:,} entries')\n",
    "    print(f'That is each commit contains nearly {round(tot / unq, 2)} lines of bugs')"
   ],
   "metadata": {
    "collapsed": false,
    "pycharm": {
     "name": "#%%\n"
    }
   }
  },
  {
   "cell_type": "code",
   "execution_count": 30,
   "outputs": [
    {
     "name": "stdout",
     "output_type": "stream",
     "text": [
      "There are total 24,486 unique fix SHA1 among total 63,923 entries\n",
      "That is each commit contains nearly 2.61 lines of stupid bugs\n"
     ]
    }
   ],
   "source": [
    "query = 'SELECT count(DISTINCT child), count() FROM sstubs_large'\n",
    "for unq, tot in cursor.execute(query):\n",
    "    print(f'There are total {unq:,} unique fix SHA1 among total {tot:,} entries')\n",
    "    print(f'That is each commit contains nearly {round(tot / unq, 2)} lines of stupid bugs')"
   ],
   "metadata": {
    "collapsed": false,
    "pycharm": {
     "name": "#%%\n"
    }
   }
  },
  {
   "cell_type": "markdown",
   "source": [
    "### Chance of introducing new bug / skipping existing bug"
   ],
   "metadata": {
    "collapsed": false
   }
  },
  {
   "cell_type": "code",
   "execution_count": 6,
   "outputs": [
    {
     "name": "stdout",
     "output_type": "stream",
     "text": [
      "14,294 fixes required another fix\n",
      "Need to make it a tree to see how long this fixing goes\n"
     ]
    }
   ],
   "source": [
    "query = '''SELECT count(*) FROM bugs_large WHERE child IN (\n",
    "    SELECT parent FROM bugs_large\n",
    ")'''\n",
    "for row in cursor.execute(query):\n",
    "    print(f'{row[0]:,} fixes required another fix')\n",
    "print('Need to make it a tree to see how long this fixing goes')"
   ],
   "metadata": {
    "collapsed": false,
    "pycharm": {
     "name": "#%%\n"
    }
   }
  },
  {
   "cell_type": "markdown",
   "source": [
    "### Unique Bug Entry"
   ],
   "metadata": {
    "collapsed": false
   }
  },
  {
   "cell_type": "code",
   "execution_count": 7,
   "outputs": [
    {
     "name": "stdout",
     "output_type": "stream",
     "text": [
      "In bugs, 43,751 entries in sstubs shares the same data\n",
      "with 21,626 unique sequences\n"
     ]
    }
   ],
   "source": [
    "query = '''SELECT count() as num_grp, sum(cnt) as num_entry\n",
    "           FROM (\n",
    "                SELECT *, count(*) as cnt\n",
    "                FROM bugs_large\n",
    "                GROUP BY parent, child, file, line\n",
    "                HAVING count(*) > 1\n",
    "            )'''\n",
    "for unq, tot in cursor.execute(query):\n",
    "    print(f'In bugs, {tot:,} entries in sstubs shares the same data')\n",
    "    print(f'with {unq:,} unique sequences')"
   ],
   "metadata": {
    "collapsed": false,
    "pycharm": {
     "name": "#%%\n"
    }
   }
  },
  {
   "cell_type": "code",
   "execution_count": 8,
   "outputs": [
    {
     "name": "stdout",
     "output_type": "stream",
     "text": [
      "In sstubs, 21,356 entries in sstubs shares the same data\n",
      "with 10,460 unique sequences\n",
      "Need to identify why the constitute different entry\n"
     ]
    }
   ],
   "source": [
    "query = '''SELECT count() as num_grp, sum(cnt) as num_entry\n",
    "           FROM (\n",
    "                SELECT *, count(*) as cnt\n",
    "                FROM sstubs_large\n",
    "                GROUP BY parent, child, file, line, type\n",
    "                HAVING count(*) > 1\n",
    "            )'''\n",
    "for unq, tot in cursor.execute(query):\n",
    "    print(f'In sstubs, {tot:,} entries in sstubs shares the same data')\n",
    "    print(f'with {unq:,} unique sequences')\n",
    "print('Need to identify why the constitute different entry')"
   ],
   "metadata": {
    "collapsed": false,
    "pycharm": {
     "name": "#%%\n"
    }
   }
  },
  {
   "cell_type": "markdown",
   "source": [
    "## Fix commit tree"
   ],
   "metadata": {
    "collapsed": false,
    "pycharm": {
     "name": "#%% md\n"
    }
   }
  },
  {
   "cell_type": "code",
   "execution_count": 23,
   "outputs": [],
   "source": [
    "from collections import deque"
   ],
   "metadata": {
    "collapsed": false,
    "pycharm": {
     "name": "#%%\n"
    }
   }
  },
  {
   "cell_type": "code",
   "execution_count": 34,
   "outputs": [
    {
     "name": "stdout",
     "output_type": "stream",
     "text": [
      "126,898 unique SHA1\n"
     ]
    }
   ],
   "source": [
    "roots = {}\n",
    "query = 'SELECT parent, child FROM bugs_large'\n",
    "for parent, child in cursor.execute(query):\n",
    "    if parent not in roots:\n",
    "        roots[parent] = set()\n",
    "    roots[parent].add(child)\n",
    "\n",
    "    if child not in roots:\n",
    "        roots[child] = set()\n",
    "    roots[child].add(parent)\n",
    "\n",
    "print(f'{len(roots):,} unique SHA1')"
   ],
   "metadata": {
    "collapsed": false,
    "pycharm": {
     "name": "#%%\n"
    }
   }
  },
  {
   "cell_type": "code",
   "execution_count": 41,
   "outputs": [
    {
     "name": "stdout",
     "output_type": "stream",
     "text": [
      "Ultimate longest distance: 12\n"
     ]
    }
   ],
   "source": [
    "def bfs(start):\n",
    "    visited = set()\n",
    "    distance = {start: 0}\n",
    "    queue = deque()\n",
    "    queue.append(start)\n",
    "    # mark `start` as visited\n",
    "    visited.add(start)\n",
    "\n",
    "    maxDist = 0\n",
    "    distantChild = None\n",
    "    while queue:\n",
    "        a = queue.popleft()\n",
    "        for b in roots[a]:\n",
    "            if b not in visited:\n",
    "                visited.add(b)\n",
    "                distance[b] = distance[a] + 1\n",
    "                queue.append(b)\n",
    "\n",
    "                if distance[b] > maxDist:\n",
    "                    maxDist = distance[b]\n",
    "                    distantChild = b\n",
    "    return distantChild, maxDist\n",
    "\n",
    "ultimateLongestDist = 0\n",
    "for firstParent in roots.keys():\n",
    "    longestPathStart, _ = bfs(firstParent)\n",
    "    longestPathEnd, longestDistance = bfs(longestPathStart)\n",
    "    if longestDistance > ultimateLongestDist:\n",
    "        ultimateLongestDist = longestDistance\n",
    "\n",
    "print(f'Ultimate longest distance: {ultimateLongestDist}')"
   ],
   "metadata": {
    "collapsed": false,
    "pycharm": {
     "name": "#%%\n"
    }
   }
  },
  {
   "cell_type": "code",
   "execution_count": null,
   "outputs": [],
   "source": [],
   "metadata": {
    "collapsed": false,
    "pycharm": {
     "name": "#%%\n"
    }
   }
  }
 ],
 "metadata": {
  "kernelspec": {
   "display_name": "Python 3",
   "language": "python",
   "name": "python3"
  },
  "language_info": {
   "codemirror_mode": {
    "name": "ipython",
    "version": 2
   },
   "file_extension": ".py",
   "mimetype": "text/x-python",
   "name": "python",
   "nbconvert_exporter": "python",
   "pygments_lexer": "ipython2",
   "version": "2.7.6"
  }
 },
 "nbformat": 4,
 "nbformat_minor": 0
}
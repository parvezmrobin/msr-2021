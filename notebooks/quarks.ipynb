{
 "cells": [
  {
   "cell_type": "markdown",
   "source": [
    "# Inspect Various Attributes"
   ],
   "metadata": {
    "collapsed": false,
    "pycharm": {
     "name": "#%% md\n"
    }
   }
  },
  {
   "cell_type": "code",
   "execution_count": 1,
   "metadata": {
    "collapsed": true
   },
   "outputs": [],
   "source": [
    "import sqlite3"
   ]
  },
  {
   "cell_type": "code",
   "execution_count": 2,
   "outputs": [
    {
     "name": "stdout",
     "output_type": "stream",
     "text": [
      "10231 entries added to DB SStuBs\n",
      "63923 entries added to DB SStuBs Large\n",
      "25539 entries added to DB Bugs\n",
      "153652 entries added to DB Bugs Large\n"
     ]
    }
   ],
   "source": [
    "import scripts.buildSqlite"
   ],
   "metadata": {
    "collapsed": false,
    "pycharm": {
     "name": "#%%\n"
    }
   }
  },
  {
   "cell_type": "code",
   "execution_count": 2,
   "outputs": [],
   "source": [
    "conn = sqlite3.connect('../database/sstubs.db')\n",
    "cursor = conn.cursor()"
   ],
   "metadata": {
    "collapsed": false,
    "pycharm": {
     "name": "#%%\n"
    }
   }
  },
  {
   "cell_type": "markdown",
   "source": [
    "### Unique SHA1"
   ],
   "metadata": {
    "collapsed": false,
    "pycharm": {
     "name": "#%% md\n"
    }
   }
  },
  {
   "cell_type": "code",
   "execution_count": 29,
   "outputs": [
    {
     "name": "stdout",
     "output_type": "stream",
     "text": [
      "There are total 66,261 unique fix SHA1 among total 153,652 entries\n",
      "That is each commit contains nearly 2.32 lines of bugs\n"
     ]
    }
   ],
   "source": [
    "query = 'SELECT count(DISTINCT child), count() FROM bugs_large'\n",
    "for unq, tot in cursor.execute(query):\n",
    "    print(f'There are total {unq:,} unique fix SHA1 among total {tot:,} entries')\n",
    "    print(f'That is each commit contains nearly {round(tot / unq, 2)} lines of bugs')"
   ],
   "metadata": {
    "collapsed": false,
    "pycharm": {
     "name": "#%%\n"
    }
   }
  },
  {
   "cell_type": "code",
   "execution_count": 30,
   "outputs": [
    {
     "name": "stdout",
     "output_type": "stream",
     "text": [
      "There are total 24,486 unique fix SHA1 among total 63,923 entries\n",
      "That is each commit contains nearly 2.61 lines of stupid bugs\n"
     ]
    }
   ],
   "source": [
    "query = 'SELECT count(DISTINCT child), count() FROM sstubs_large'\n",
    "for unq, tot in cursor.execute(query):\n",
    "    print(f'There are total {unq:,} unique fix SHA1 among total {tot:,} entries')\n",
    "    print(f'That is each commit contains nearly {round(tot / unq, 2)} lines of stupid bugs')"
   ],
   "metadata": {
    "collapsed": false,
    "pycharm": {
     "name": "#%%\n"
    }
   }
  },
  {
   "cell_type": "markdown",
   "source": [
    "### Chance of introducing new bug / skipping existing bug"
   ],
   "metadata": {
    "collapsed": false
   }
  },
  {
   "cell_type": "code",
   "execution_count": 6,
   "outputs": [
    {
     "name": "stdout",
     "output_type": "stream",
     "text": [
      "14,294 fixes required another fix\n",
      "Need to make it a tree to see how long this fixing goes\n"
     ]
    }
   ],
   "source": [
    "query = '''SELECT count(*) FROM bugs_large WHERE child IN (\n",
    "    SELECT parent FROM bugs_large\n",
    ")'''\n",
    "for row in cursor.execute(query):\n",
    "    print(f'{row[0]:,} fixes required another fix')\n",
    "print('Need to make it a tree to see how long this fixing goes')"
   ],
   "metadata": {
    "collapsed": false,
    "pycharm": {
     "name": "#%%\n"
    }
   }
  },
  {
   "cell_type": "markdown",
   "source": [
    "### Unique Bug Entry"
   ],
   "metadata": {
    "collapsed": false
   }
  },
  {
   "cell_type": "code",
   "execution_count": 7,
   "outputs": [
    {
     "name": "stdout",
     "output_type": "stream",
     "text": [
      "In bugs, 43,751 entries in sstubs shares the same data\n",
      "with 21,626 unique sequences\n"
     ]
    }
   ],
   "source": [
    "query = '''SELECT count() as num_grp, sum(cnt) as num_entry\n",
    "           FROM (\n",
    "                SELECT *, count(*) as cnt\n",
    "                FROM bugs_large\n",
    "                GROUP BY parent, child, file, line\n",
    "                HAVING count(*) > 1\n",
    "            )'''\n",
    "for unq, tot in cursor.execute(query):\n",
    "    print(f'In bugs, {tot:,} entries in sstubs shares the same data')\n",
    "    print(f'with {unq:,} unique sequences')"
   ],
   "metadata": {
    "collapsed": false,
    "pycharm": {
     "name": "#%%\n"
    }
   }
  },
  {
   "cell_type": "code",
   "execution_count": 8,
   "outputs": [
    {
     "name": "stdout",
     "output_type": "stream",
     "text": [
      "In sstubs, 21,356 entries in sstubs shares the same data\n",
      "with 10,460 unique sequences\n",
      "Need to identify why the constitute different entry\n"
     ]
    }
   ],
   "source": [
    "query = '''SELECT count() as num_grp, sum(cnt) as num_entry\n",
    "           FROM (\n",
    "                SELECT *, count(*) as cnt\n",
    "                FROM sstubs_large\n",
    "                GROUP BY parent, child, file, line, type\n",
    "                HAVING count(*) > 1\n",
    "            )'''\n",
    "for unq, tot in cursor.execute(query):\n",
    "    print(f'In sstubs, {tot:,} entries in sstubs shares the same data')\n",
    "    print(f'with {unq:,} unique sequences')\n",
    "print('Need to identify why the constitute different entry')"
   ],
   "metadata": {
    "collapsed": false,
    "pycharm": {
     "name": "#%%\n"
    }
   }
  },
  {
   "cell_type": "markdown",
   "source": [
    "## Fix-commit tree"
   ],
   "metadata": {
    "collapsed": false,
    "pycharm": {
     "name": "#%% md\n"
    }
   }
  },
  {
   "cell_type": "code",
   "execution_count": 4,
   "outputs": [],
   "source": [
    "from collections import deque"
   ],
   "metadata": {
    "collapsed": false,
    "pycharm": {
     "name": "#%%\n"
    }
   }
  },
  {
   "cell_type": "code",
   "execution_count": 3,
   "outputs": [
    {
     "name": "stdout",
     "output_type": "stream",
     "text": [
      "126,898 unique SHA1\n"
     ]
    }
   ],
   "source": [
    "roots = {}\n",
    "query = 'SELECT parent, child FROM bugs_large'\n",
    "for parent, child in cursor.execute(query):\n",
    "    if parent not in roots:\n",
    "        roots[parent] = set()\n",
    "    roots[parent].add(child)\n",
    "\n",
    "    if child not in roots:\n",
    "        roots[child] = set()\n",
    "    roots[child].add(parent)\n",
    "\n",
    "print(f'{len(roots):,} unique SHA1')"
   ],
   "metadata": {
    "collapsed": false,
    "pycharm": {
     "name": "#%%\n"
    }
   }
  },
  {
   "cell_type": "code",
   "execution_count": 13,
   "outputs": [
    {
     "name": "stdout",
     "output_type": "stream",
     "text": [
      "Path:\n",
      "a791de06c8b824094a2875ce54b934e734888f27\n",
      "                   ⇓\n",
      "ae85364071f63f413788dab839d6da7c06ae58fc\n",
      "                   ⇓\n",
      "2c7c0a297152ab15e36d477392a30f3a6b66627c\n",
      "                   ⇓\n",
      "29d8d6d6d0f762b15dca5db757b468875d90a1cd\n",
      "                   ⇓\n",
      "89eb8a7828b3b68c640f5b3f5b1db990496b1aaa\n",
      "                   ⇓\n",
      "e0316316807cea6fb5951874041a937855a7c730\n"
     ]
    }
   ],
   "source": [
    "def bfs(start, return_path=False):\n",
    "    visited = set()\n",
    "    distance = {start: 0}\n",
    "    queue = deque()\n",
    "    queue.append(start)\n",
    "    # mark `start` as visited\n",
    "    visited.add(start)\n",
    "\n",
    "    max_dist = 0\n",
    "    distant_child = None\n",
    "    # `parent_map` is used to trace back from leaf to root\n",
    "    parent_map = {}\n",
    "    while queue:\n",
    "        a = queue.popleft()\n",
    "        for b in roots[a]:\n",
    "            if b not in visited:\n",
    "                parent_map[b] = a\n",
    "                visited.add(b)\n",
    "                distance[b] = distance[a] + 1\n",
    "                queue.append(b)\n",
    "\n",
    "                if distance[b] > max_dist:\n",
    "                    max_dist = distance[b]\n",
    "                    distant_child = b\n",
    "    if not return_path:\n",
    "        return distant_child, max_dist\n",
    "\n",
    "    path = [distant_child]\n",
    "    node = distant_child\n",
    "    while node in parent_map:\n",
    "        node = parent_map[node]\n",
    "        path.insert(0, node)\n",
    "    return distant_child, max_dist, path\n",
    "\n",
    "# just finding a commit sequence of length 5\n",
    "path = []\n",
    "for firstParent in roots.keys():\n",
    "    longestPathStart, _ = bfs(firstParent)\n",
    "    longestPathEnd, longestDistance = bfs(longestPathStart)\n",
    "    if longestDistance == 5:\n",
    "        _, _, path = bfs(longestPathStart, True)\n",
    "        print('Path:')\n",
    "        print(*path, sep='\\n                   ⇓\\n')\n",
    "        break"
   ],
   "metadata": {
    "collapsed": false,
    "pycharm": {
     "name": "#%%\n"
    }
   }
  },
  {
   "cell_type": "code",
   "execution_count": 36,
   "outputs": [
    {
     "name": "stdout",
     "output_type": "stream",
     "text": [
      "a791de06c8b824094a2875ce54b934e734888f27\n",
      "ae85364071f63f413788dab839d6da7c06ae58fc\n",
      "src/components/org/apache/jmeter/timers/ConstantThroughputTimer.java\n",
      "\n",
      "a791de06c8b824094a2875ce54b934e734888f27\n",
      "ae85364071f63f413788dab839d6da7c06ae58fc\n",
      "src/components/org/apache/jmeter/timers/PoissonRandomTimer.java\n",
      "\n",
      "a791de06c8b824094a2875ce54b934e734888f27\n",
      "ae85364071f63f413788dab839d6da7c06ae58fc\n",
      "src/components/org/apache/jmeter/visualizers/Graph.java\n",
      "\n",
      "a791de06c8b824094a2875ce54b934e734888f27\n",
      "ae85364071f63f413788dab839d6da7c06ae58fc\n",
      "src/components/org/apache/jmeter/visualizers/Graph.java\n",
      "\n",
      "a791de06c8b824094a2875ce54b934e734888f27\n",
      "ae85364071f63f413788dab839d6da7c06ae58fc\n",
      "src/components/org/apache/jmeter/visualizers/Graph.java\n",
      "\n",
      "a791de06c8b824094a2875ce54b934e734888f27\n",
      "ae85364071f63f413788dab839d6da7c06ae58fc\n",
      "src/components/org/apache/jmeter/visualizers/Graph.java\n",
      "\n",
      "a791de06c8b824094a2875ce54b934e734888f27\n",
      "ae85364071f63f413788dab839d6da7c06ae58fc\n",
      "src/components/org/apache/jmeter/visualizers/RespTimeGraphVisualizer.java\n",
      "\n",
      "a791de06c8b824094a2875ce54b934e734888f27\n",
      "ae85364071f63f413788dab839d6da7c06ae58fc\n",
      "src/components/org/apache/jmeter/visualizers/SearchTextExtension.java\n",
      "\n",
      "ae85364071f63f413788dab839d6da7c06ae58fc\n",
      "2c7c0a297152ab15e36d477392a30f3a6b66627c\n",
      "src/core/org/apache/jmeter/gui/action/LoggerPanelEnableDisable.java\n",
      "\n",
      "2c7c0a297152ab15e36d477392a30f3a6b66627c\n",
      "29d8d6d6d0f762b15dca5db757b468875d90a1cd\n",
      "src/core/org/apache/jmeter/control/gui/TransactionControllerGui.java\n",
      "\n",
      "2c7c0a297152ab15e36d477392a30f3a6b66627c\n",
      "29d8d6d6d0f762b15dca5db757b468875d90a1cd\n",
      "src/core/org/apache/jmeter/gui/GUIFactory.java\n",
      "\n",
      "2c7c0a297152ab15e36d477392a30f3a6b66627c\n",
      "29d8d6d6d0f762b15dca5db757b468875d90a1cd\n",
      "src/core/org/apache/jmeter/gui/tree/JMeterTreeModel.java\n",
      "\n",
      "2c7c0a297152ab15e36d477392a30f3a6b66627c\n",
      "29d8d6d6d0f762b15dca5db757b468875d90a1cd\n",
      "src/core/org/apache/jmeter/gui/tree/JMeterTreeTransferHandler.java\n",
      "\n",
      "2c7c0a297152ab15e36d477392a30f3a6b66627c\n",
      "29d8d6d6d0f762b15dca5db757b468875d90a1cd\n",
      "src/core/org/apache/jmeter/report/processor/ErrorsSummaryConsumer.java\n",
      "\n",
      "2c7c0a297152ab15e36d477392a30f3a6b66627c\n",
      "29d8d6d6d0f762b15dca5db757b468875d90a1cd\n",
      "src/core/org/apache/jmeter/report/processor/ErrorsSummaryConsumer.java\n",
      "\n",
      "2c7c0a297152ab15e36d477392a30f3a6b66627c\n",
      "29d8d6d6d0f762b15dca5db757b468875d90a1cd\n",
      "src/core/org/apache/jmeter/report/processor/RequestsSummaryConsumer.java\n",
      "\n",
      "2c7c0a297152ab15e36d477392a30f3a6b66627c\n",
      "29d8d6d6d0f762b15dca5db757b468875d90a1cd\n",
      "src/core/org/apache/jmeter/report/processor/RequestsSummaryConsumer.java\n",
      "\n",
      "2c7c0a297152ab15e36d477392a30f3a6b66627c\n",
      "29d8d6d6d0f762b15dca5db757b468875d90a1cd\n",
      "src/core/org/apache/jmeter/report/processor/graph/TimeStampKeysSelector.java\n",
      "\n",
      "2c7c0a297152ab15e36d477392a30f3a6b66627c\n",
      "29d8d6d6d0f762b15dca5db757b468875d90a1cd\n",
      "src/core/org/apache/jmeter/report/processor/graph/impl/BytesThroughputGraphConsumer.java\n",
      "\n",
      "2c7c0a297152ab15e36d477392a30f3a6b66627c\n",
      "29d8d6d6d0f762b15dca5db757b468875d90a1cd\n",
      "src/core/org/apache/jmeter/report/processor/graph/impl/ResponseTimeDistributionGraphConsumer.java\n",
      "\n",
      "2c7c0a297152ab15e36d477392a30f3a6b66627c\n",
      "29d8d6d6d0f762b15dca5db757b468875d90a1cd\n",
      "src/core/org/apache/jmeter/samplers/SampleSaveConfiguration.java\n",
      "\n",
      "2c7c0a297152ab15e36d477392a30f3a6b66627c\n",
      "29d8d6d6d0f762b15dca5db757b468875d90a1cd\n",
      "src/core/org/apache/jmeter/save/converters/SampleResultConverter.java\n",
      "\n",
      "2c7c0a297152ab15e36d477392a30f3a6b66627c\n",
      "29d8d6d6d0f762b15dca5db757b468875d90a1cd\n",
      "src/core/org/apache/jmeter/testelement/property/CollectionProperty.java\n",
      "\n",
      "2c7c0a297152ab15e36d477392a30f3a6b66627c\n",
      "29d8d6d6d0f762b15dca5db757b468875d90a1cd\n",
      "src/core/org/apache/jmeter/testelement/property/MultiProperty.java\n",
      "\n",
      "2c7c0a297152ab15e36d477392a30f3a6b66627c\n",
      "29d8d6d6d0f762b15dca5db757b468875d90a1cd\n",
      "src/core/org/apache/jmeter/threads/TestCompiler.java\n",
      "\n",
      "2c7c0a297152ab15e36d477392a30f3a6b66627c\n",
      "29d8d6d6d0f762b15dca5db757b468875d90a1cd\n",
      "src/core/org/apache/jmeter/util/Calculator.java\n",
      "\n",
      "2c7c0a297152ab15e36d477392a30f3a6b66627c\n",
      "29d8d6d6d0f762b15dca5db757b468875d90a1cd\n",
      "src/core/org/apache/jmeter/util/Calculator.java\n",
      "\n",
      "2c7c0a297152ab15e36d477392a30f3a6b66627c\n",
      "29d8d6d6d0f762b15dca5db757b468875d90a1cd\n",
      "src/core/org/apache/jmeter/visualizers/Sample.java\n",
      "\n",
      "2c7c0a297152ab15e36d477392a30f3a6b66627c\n",
      "29d8d6d6d0f762b15dca5db757b468875d90a1cd\n",
      "src/core/org/apache/jmeter/visualizers/TableSample.java\n",
      "\n",
      "2c7c0a297152ab15e36d477392a30f3a6b66627c\n",
      "29d8d6d6d0f762b15dca5db757b468875d90a1cd\n",
      "src/core/org/apache/jmeter/visualizers/TableSample.java\n",
      "\n",
      "29d8d6d6d0f762b15dca5db757b468875d90a1cd\n",
      "89eb8a7828b3b68c640f5b3f5b1db990496b1aaa\n",
      "src/core/org/apache/jmeter/config/gui/ArgumentsPanel.java\n",
      "\n",
      "89eb8a7828b3b68c640f5b3f5b1db990496b1aaa\n",
      "e0316316807cea6fb5951874041a937855a7c730\n",
      "src/protocol/jms/org/apache/jmeter/protocol/jms/control/gui/JMSPropertiesPanel.java\n",
      "\n",
      "89eb8a7828b3b68c640f5b3f5b1db990496b1aaa\n",
      "e0316316807cea6fb5951874041a937855a7c730\n",
      "src/protocol/jms/org/apache/jmeter/protocol/jms/sampler/BaseJMSSampler.java\n",
      "\n",
      "89eb8a7828b3b68c640f5b3f5b1db990496b1aaa\n",
      "e0316316807cea6fb5951874041a937855a7c730\n",
      "src/protocol/jms/org/apache/jmeter/protocol/jms/sampler/BaseJMSSampler.java\n",
      "\n",
      "89eb8a7828b3b68c640f5b3f5b1db990496b1aaa\n",
      "e0316316807cea6fb5951874041a937855a7c730\n",
      "src/protocol/jms/org/apache/jmeter/protocol/jms/sampler/SubscriberSampler.java\n",
      "\n",
      "89eb8a7828b3b68c640f5b3f5b1db990496b1aaa\n",
      "e0316316807cea6fb5951874041a937855a7c730\n",
      "src/protocol/ldap/org/apache/jmeter/protocol/ldap/sampler/LDAPSampler.java\n",
      "\n",
      "89eb8a7828b3b68c640f5b3f5b1db990496b1aaa\n",
      "e0316316807cea6fb5951874041a937855a7c730\n",
      "src/protocol/mail/org/apache/jmeter/protocol/smtp/sampler/protocol/SendMailCommand.java\n",
      "\n",
      "89eb8a7828b3b68c640f5b3f5b1db990496b1aaa\n",
      "e0316316807cea6fb5951874041a937855a7c730\n",
      "src/protocol/tcp/org/apache/jmeter/protocol/tcp/sampler/TCPSampler.java\n",
      "\n"
     ]
    }
   ],
   "source": [
    "parent_child = []\n",
    "placeholder = []\n",
    "for i in range(1, len(path)):\n",
    "    parent_child.append(path[i-1])\n",
    "    parent_child.append(path[i])\n",
    "    placeholder.append('(parent=? AND child=?)')\n",
    "placeholder = ' OR '.join(placeholder)\n",
    "\n",
    "query = f'''SELECT parent, child, file\n",
    "            FROM bugs_large\n",
    "            WHERE {placeholder}\n",
    "        '''\n",
    "for parent, child, file in cursor.execute(query, parent_child):\n",
    "    print(parent, child, file, sep='\\n', end='\\n\\n')"
   ],
   "metadata": {
    "collapsed": false,
    "pycharm": {
     "name": "#%%\n"
    }
   }
  },
  {
   "cell_type": "markdown",
   "source": [
    "> To summarize, building the tree did not give us anything valuable.\n",
    "> Having a sequence of SHA1 is literally worthless."
   ],
   "metadata": {
    "collapsed": false,
    "pycharm": {
     "name": "#%% md\n"
    }
   }
  }
 ],
 "metadata": {
  "kernelspec": {
   "display_name": "Python 3",
   "language": "python",
   "name": "python3"
  },
  "language_info": {
   "codemirror_mode": {
    "name": "ipython",
    "version": 2
   },
   "file_extension": ".py",
   "mimetype": "text/x-python",
   "name": "python",
   "nbconvert_exporter": "python",
   "pygments_lexer": "ipython2",
   "version": "2.7.6"
  }
 },
 "nbformat": 4,
 "nbformat_minor": 0
}
{
 "cells": [
  {
   "cell_type": "markdown",
   "metadata": {
    "pycharm": {
     "name": "#%% md\n"
    }
   },
   "source": [
    "# Inspect Various Attributes"
   ]
  },
  {
   "cell_type": "code",
   "execution_count": 1,
   "metadata": {},
   "outputs": [],
   "source": [
    "import sqlite3"
   ]
  },
  {
   "cell_type": "code",
   "execution_count": 2,
   "metadata": {
    "pycharm": {
     "name": "#%%\n"
    }
   },
   "outputs": [
    {
     "name": "stdout",
     "output_type": "stream",
     "text": [
      "10231 entries added to table SStuBs\n",
      "63923 entries added to table SStuBs Large\n",
      "25539 entries added to table Bugs\n",
      "153652 entries added to table Bugs Large\n",
      "Created indices\n"
     ]
    }
   ],
   "source": [
    "import scripts.buildSqlite"
   ]
  },
  {
   "cell_type": "code",
   "execution_count": 3,
   "metadata": {
    "pycharm": {
     "name": "#%%\n"
    }
   },
   "outputs": [],
   "source": [
    "conn = sqlite3.connect('../database/sstubs.db')\n",
    "cursor = conn.cursor()"
   ]
  },
  {
   "cell_type": "markdown",
   "source": [
    "### Terminologies\n",
    "\n",
    "DB Col | Dataset Col | Def\n",
    "--- | --- | --- |\n",
    "parent | fixCommitParentSHA1 | SHA1 of the parent commit\n",
    "child | fixCommitSHA1 | SHA1 of the current commit\n",
    "type | bugType | One of the given 16 bug types\n",
    "project | projectName | The project's name in format '{repo_owner}.{repo_name}'\n",
    "file | bugFilePath | Relative path to the buggy file\n",
    "line | bugLineNum | Line number of the buggy AST node\n",
    "before | sourceBeforeFix | The fixed AST node in textual format\n",
    "after | sourceAfterFix | The buggy AST node in textual format"
   ],
   "metadata": {
    "collapsed": false,
    "pycharm": {
     "name": "#%% md\n"
    }
   }
  },
  {
   "cell_type": "markdown",
   "metadata": {
    "pycharm": {
     "name": "#%% md\n"
    }
   },
   "source": [
    "### 1. Unique SHA1"
   ]
  },
  {
   "cell_type": "markdown",
   "source": [
    "#### 1.1. Bugs"
   ],
   "metadata": {
    "collapsed": false,
    "pycharm": {
     "name": "#%% md\n"
    }
   }
  },
  {
   "cell_type": "code",
   "execution_count": 4,
   "metadata": {
    "pycharm": {
     "name": "#%%\n"
    }
   },
   "outputs": [
    {
     "name": "stdout",
     "output_type": "stream",
     "text": [
      "There are total 66,261 unique fixCommitSHA1 among total 153,652 entries\n",
      "That is each commit fixes nearly 2.32 buggy lines\n"
     ]
    }
   ],
   "source": [
    "query = 'SELECT count(DISTINCT child), count() FROM bugs_large'\n",
    "for unq, tot in cursor.execute(query):\n",
    "    print(f'There are total {unq:,} unique fixCommitSHA1 among total {tot:,} entries')\n",
    "    print(f'That is each commit fixes nearly {round(tot / unq, 2)} buggy lines')"
   ]
  },
  {
   "cell_type": "markdown",
   "source": [
    "#### 1.2. SStuBs"
   ],
   "metadata": {
    "collapsed": false,
    "pycharm": {
     "name": "#%% md\n"
    }
   }
  },
  {
   "cell_type": "code",
   "execution_count": 5,
   "metadata": {
    "pycharm": {
     "name": "#%%\n"
    }
   },
   "outputs": [
    {
     "name": "stdout",
     "output_type": "stream",
     "text": [
      "There are total 24,486 unique fixCommitSHA1 among total 63,923 entries\n",
      "That is each commit contains nearly 2.61 lines of stupid bugs\n"
     ]
    }
   ],
   "source": [
    "query = 'SELECT count(DISTINCT child), count() FROM sstubs_large'\n",
    "for unq, tot in cursor.execute(query):\n",
    "    print(f'There are total {unq:,} unique fixCommitSHA1 among total {tot:,} entries')\n",
    "    print(f'That is each commit contains nearly {round(tot / unq, 2)} lines of stupid bugs')"
   ]
  },
  {
   "cell_type": "markdown",
   "metadata": {},
   "source": [
    "### 2. Chance of introducing new bug / skipping existing bug"
   ]
  },
  {
   "cell_type": "markdown",
   "source": [
    "#### 2.1. At commit level\n",
    "If the same `fixCommitSHA1` is found as the `fixCommitParentSHA1` in another commit,\n",
    "then the former commit needed a subsequent fix."
   ],
   "metadata": {
    "collapsed": false
   }
  },
  {
   "cell_type": "markdown",
   "source": [
    "##### 2.1.1. Bugs"
   ],
   "metadata": {
    "collapsed": false,
    "pycharm": {
     "name": "#%% md\n"
    }
   }
  },
  {
   "cell_type": "code",
   "execution_count": 6,
   "outputs": [
    {
     "name": "stdout",
     "output_type": "stream",
     "text": [
      "3,357 fixes required another fix\n"
     ]
    }
   ],
   "source": [
    "query = '''SELECT count(DISTINCT child) FROM bugs_large WHERE child IN (\n",
    "    SELECT parent FROM bugs_large\n",
    ")'''\n",
    "\n",
    "for row, in cursor.execute(query):\n",
    "    print(f'{row:,} fixes required another fix')"
   ],
   "metadata": {
    "collapsed": false,
    "pycharm": {
     "name": "#%%\n"
    }
   }
  },
  {
   "cell_type": "markdown",
   "source": [
    "##### 2.1.2. SStubs"
   ],
   "metadata": {
    "collapsed": false,
    "pycharm": {
     "name": "#%% md\n"
    }
   }
  },
  {
   "cell_type": "code",
   "execution_count": 7,
   "outputs": [
    {
     "name": "stdout",
     "output_type": "stream",
     "text": [
      "582 fixes required another fix\n"
     ]
    }
   ],
   "source": [
    "query = '''SELECT count(DISTINCT child) FROM sstubs_large WHERE child IN (\n",
    "    SELECT parent FROM sstubs_large\n",
    ")'''\n",
    "\n",
    "for row, in cursor.execute(query):\n",
    "    print(f'{row:,} fixes required another fix')"
   ],
   "metadata": {
    "collapsed": false,
    "pycharm": {
     "name": "#%%\n"
    }
   }
  },
  {
   "cell_type": "markdown",
   "source": [
    "#### 2.2. At line level\n",
    "If the same (line, file, project) sequence contains a `fixCommitSHA1`\n",
    "that was `fixCommitParentSHA1` in a previous entry, that means that line required a subsequent fix"
   ],
   "metadata": {
    "collapsed": false,
    "pycharm": {
     "name": "#%% md\n"
    }
   }
  },
  {
   "cell_type": "markdown",
   "source": [
    "##### 2.2.1. Bugs"
   ],
   "metadata": {
    "collapsed": false,
    "pycharm": {
     "name": "#%% md\n"
    }
   }
  },
  {
   "cell_type": "code",
   "execution_count": 8,
   "metadata": {
    "pycharm": {
     "name": "#%%\n"
    }
   },
   "outputs": [
    {
     "name": "stdout",
     "output_type": "stream",
     "text": [
      "846 line-fixes required another fix\n"
     ]
    }
   ],
   "source": [
    "query = '''SELECT 1 as dummy_col FROM bugs_large WHERE (child, project, file, line) IN (\n",
    "    SELECT parent, project, file, line FROM bugs_large\n",
    ") GROUP BY child, project, file, line'''\n",
    "print(f'{len(list(cursor.execute(query))):,} line-fixes required another fix')"
   ]
  },
  {
   "cell_type": "markdown",
   "source": [
    "##### 2.2.2. SStubs"
   ],
   "metadata": {
    "collapsed": false,
    "pycharm": {
     "name": "#%% md\n"
    }
   }
  },
  {
   "cell_type": "code",
   "execution_count": 9,
   "outputs": [
    {
     "name": "stdout",
     "output_type": "stream",
     "text": [
      "315 line-fixes required another fix\n"
     ]
    }
   ],
   "source": [
    "query = '''SELECT 1 as dummy_col FROM sstubs_large WHERE (child, project, file, line) IN (\n",
    "    SELECT parent, project, file, line FROM sstubs_large\n",
    ") GROUP BY child, project, file, line'''\n",
    "print(f'{len(list(cursor.execute(query))):,} line-fixes required another fix')"
   ],
   "metadata": {
    "collapsed": false,
    "pycharm": {
     "name": "#%%\n"
    }
   }
  },
  {
   "cell_type": "markdown",
   "metadata": {
    "pycharm": {
     "name": "#%% md\n"
    }
   },
   "source": [
    "### 3. Fix-commit tree"
   ]
  },
  {
   "cell_type": "code",
   "execution_count": 10,
   "metadata": {
    "pycharm": {
     "name": "#%%\n"
    }
   },
   "outputs": [],
   "source": [
    "from collections import deque"
   ]
  },
  {
   "cell_type": "markdown",
   "source": [
    "#### 3.1. Get necessary data"
   ],
   "metadata": {
    "collapsed": false,
    "pycharm": {
     "name": "#%% md\n"
    }
   }
  },
  {
   "cell_type": "markdown",
   "source": [
    "##### 3.1.1 Get parent-child relations"
   ],
   "metadata": {
    "collapsed": false,
    "pycharm": {
     "name": "#%% md\n"
    }
   }
  },
  {
   "cell_type": "code",
   "execution_count": 11,
   "metadata": {
    "pycharm": {
     "name": "#%%\n"
    }
   },
   "outputs": [
    {
     "name": "stdout",
     "output_type": "stream",
     "text": [
      "4,168 unique parentSHA1\n"
     ]
    }
   ],
   "source": [
    "tree = {}\n",
    "query = 'SELECT parent, child FROM sstubs'\n",
    "for parent, child in cursor.execute(query):\n",
    "    if parent not in tree:\n",
    "        tree[parent] = set()\n",
    "    tree[parent].add(child)\n",
    "\n",
    "print(f'{len(tree):,} unique parentSHA1')"
   ]
  },
  {
   "cell_type": "markdown",
   "source": [
    "##### 3.1.2. Get tree-roots\n",
    "Imagine a forest of the following structure\n",
    "```\n",
    "    a        e      g\n",
    "   / \\      /      /\n",
    "  b   c    f      h\n",
    "     /           /\n",
    "    d           i\n",
    "```\n",
    "\n",
    "Now, to find a path of length 3, we must start at either `a` or `g`.\n",
    "However, `tree.keys()` will have every node except the child nodes.\n",
    "Thus, we also defined a list `treeRoots` that contains nodes without any parents"
   ],
   "metadata": {
    "collapsed": false,
    "pycharm": {
     "name": "#%% md\n"
    }
   }
  },
  {
   "cell_type": "code",
   "execution_count": 12,
   "outputs": [
    {
     "name": "stdout",
     "output_type": "stream",
     "text": [
      "4022 tree-roots\n"
     ]
    }
   ],
   "source": [
    "query = '''\n",
    "SELECT DISTINCT parent FROM sstubs WHERE parent NOT IN (\n",
    "    SELECT child FROM sstubs\n",
    ")\n",
    "'''\n",
    "treeRoots = [p for p, in list(cursor.execute(query))]\n",
    "print(f'{len(treeRoots)} tree-roots')"
   ],
   "metadata": {
    "collapsed": false,
    "pycharm": {
     "name": "#%%\n"
    }
   }
  },
  {
   "cell_type": "markdown",
   "source": [
    "##### 3.1.3. Define utility function"
   ],
   "metadata": {
    "collapsed": false,
    "pycharm": {
     "name": "#%% md\n"
    }
   }
  },
  {
   "cell_type": "code",
   "execution_count": 13,
   "metadata": {
    "pycharm": {
     "name": "#%%\n"
    }
   },
   "outputs": [],
   "source": [
    "def bfs(start, return_path=False, return_refix=False):\n",
    "    visited_roots = set()\n",
    "    distance = {start: 0}\n",
    "    queue = deque()\n",
    "    queue.append(start)\n",
    "    # mark `start` as visited\n",
    "    visited_roots.add(start)\n",
    "\n",
    "    max_dist = 0\n",
    "    distant_child = None\n",
    "    # `parent_map` is used to trace back from leaf to root\n",
    "    parent_map = {}\n",
    "    while queue:\n",
    "        p = queue.popleft()\n",
    "        if p not in tree:\n",
    "            continue\n",
    "        for c in tree[p]:\n",
    "            if c not in visited_roots:\n",
    "                parent_map[c] = p\n",
    "                visited_roots.add(c)\n",
    "                distance[c] = distance[p] + 1\n",
    "                queue.append(c)\n",
    "\n",
    "                if distance[c] > max_dist:\n",
    "                    max_dist = distance[c]\n",
    "                    distant_child = c\n",
    "\n",
    "    ret = [distant_child, max_dist]\n",
    "\n",
    "    if return_path:\n",
    "        fix_path = [distant_child]\n",
    "        node = distant_child\n",
    "        while node in parent_map:\n",
    "            node = parent_map[node]\n",
    "            fix_path.append(node)\n",
    "        fix_path.reverse()\n",
    "        ret.append(fix_path)\n",
    "\n",
    "    if return_refix:\n",
    "        # commits that are leaf of a path having more than 2 commits\n",
    "        leaves_of_refix_paths = [\n",
    "            node for node in distance.keys()\n",
    "                # if `node` is not a key of `tree` then it does not have any child\n",
    "                # and thus a leaf\n",
    "                if distance[node] > 1 and node not in tree\n",
    "        ]\n",
    "        num_refix = len(leaves_of_refix_paths)\n",
    "        ret.append(num_refix)\n",
    "        ret.append(visited_roots)\n",
    "\n",
    "\n",
    "    return ret"
   ]
  },
  {
   "cell_type": "markdown",
   "source": [
    "#### 4.2. Finding a commit sequence of length 5"
   ],
   "metadata": {
    "collapsed": false,
    "pycharm": {
     "name": "#%% md\n"
    }
   }
  },
  {
   "cell_type": "code",
   "execution_count": 14,
   "outputs": [
    {
     "name": "stdout",
     "output_type": "stream",
     "text": [
      "Path:\n",
      "063bc8616e8322dca47ae4b9d4860b864a61f215\n",
      "                   ⇓\n",
      "0b31e2f4558706b0831744485a80958c93524a44\n",
      "                   ⇓\n",
      "4eae69e20692a697a12a705155e972ddf448ca48\n",
      "                   ⇓\n",
      "9323424d263a1e573ab7edbfc69d67d8782ce36a\n",
      "                   ⇓\n",
      "6f74927366d17a4773006a094a7f0bc29c4b674b\n",
      "                   ⇓\n",
      "c32ad40f85061b84724dd9b5b8479eebea8675a0\n"
     ]
    }
   ],
   "source": [
    "path = []\n",
    "for root in treeRoots:\n",
    "    longestPathEnd, longestDistance = bfs(root)\n",
    "    if longestDistance == 5:\n",
    "        _, _, path = bfs(root, True)\n",
    "        print('Path:')\n",
    "        print(*path, sep='\\n                   ⇓\\n')\n",
    "        break"
   ],
   "metadata": {
    "collapsed": false,
    "pycharm": {
     "name": "#%%\n"
    }
   }
  },
  {
   "cell_type": "markdown",
   "metadata": {
    "pycharm": {
     "name": "#%% md\n"
    }
   },
   "source": [
    "#### 4.3. Files and corresponding changes of the found fix-path"
   ]
  },
  {
   "cell_type": "code",
   "execution_count": 15,
   "outputs": [
    {
     "name": "stdout",
     "output_type": "stream",
     "text": [
      "063bc8616e8322dca47ae4b9d4860b864a61f215\n",
      "0b31e2f4558706b0831744485a80958c93524a44\n",
      "\n",
      "hazelcast/src/test/java/com/hazelcast/topic/impl/reliable/ReliableTopicBasicDistributedTest.java\n",
      "ReliableTopicBasicTest\n",
      "ReliableTopicAbstractTest\n",
      "\n",
      "hazelcast/src/test/java/com/hazelcast/topic/impl/reliable/ReliableTopicBasicLocalTest.java\n",
      "ReliableTopicBasicTest\n",
      "ReliableTopicAbstractTest\n",
      "\n",
      "=========================================\n",
      "0b31e2f4558706b0831744485a80958c93524a44\n",
      "4eae69e20692a697a12a705155e972ddf448ca48\n",
      "\n",
      "hazelcast/src/test/java/com/hazelcast/concurrent/countdownlatch/CountDownLatchBasicDistributedTest.java\n",
      "CountDownLatchBasicTest\n",
      "CountDownLatchAbstractTest\n",
      "\n",
      "hazelcast/src/test/java/com/hazelcast/concurrent/countdownlatch/CountDownLatchBasicLocalTest.java\n",
      "CountDownLatchBasicTest\n",
      "CountDownLatchAbstractTest\n",
      "\n",
      "=========================================\n",
      "4eae69e20692a697a12a705155e972ddf448ca48\n",
      "9323424d263a1e573ab7edbfc69d67d8782ce36a\n",
      "\n",
      "hazelcast/src/test/java/com/hazelcast/concurrent/lock/ConditionBasicDistributedTest.java\n",
      "ConditionBasicTest\n",
      "ConditionAbstractTest\n",
      "\n",
      "hazelcast/src/test/java/com/hazelcast/concurrent/lock/ConditionBasicLocalTest.java\n",
      "ConditionBasicTest\n",
      "ConditionAbstractTest\n",
      "\n",
      "=========================================\n",
      "9323424d263a1e573ab7edbfc69d67d8782ce36a\n",
      "6f74927366d17a4773006a094a7f0bc29c4b674b\n",
      "\n",
      "hazelcast/src/test/java/com/hazelcast/concurrent/idgen/IdGeneratorBasicDistributedTest.java\n",
      "IdGeneratorBasicTest\n",
      "IdGeneratorAbstractTest\n",
      "\n",
      "hazelcast/src/test/java/com/hazelcast/concurrent/idgen/IdGeneratorBasicLocalTest.java\n",
      "IdGeneratorBasicTest\n",
      "IdGeneratorAbstractTest\n",
      "\n",
      "=========================================\n",
      "6f74927366d17a4773006a094a7f0bc29c4b674b\n",
      "c32ad40f85061b84724dd9b5b8479eebea8675a0\n",
      "\n",
      "hazelcast/src/test/java/com/hazelcast/concurrent/atomicreference/AtomicReferenceBasicLocalTest.java\n",
      "AtomicReferenceBasicTest\n",
      "AtomicReferenceAbstractTest\n",
      "\n",
      "=========================================\n"
     ]
    }
   ],
   "source": [
    "parent_child = []\n",
    "placeholder = []\n",
    "for i in range(1, len(path)):\n",
    "    query = f'''\n",
    "    SELECT * FROM (\n",
    "        SELECT file, group_concat(before) as before, group_concat(after) as after\n",
    "        FROM bugs\n",
    "        WHERE (parent=? AND child=?)\n",
    "        GROUP BY parent, child, file, line\n",
    "    )'''\n",
    "\n",
    "    print(path[i-1], path[i], sep='\\n', end='\\n\\n')\n",
    "    for file, before, after in cursor.execute(query, (path[i-1], path[i])):\n",
    "        print(file, before, after, sep='\\n', end='\\n\\n')\n",
    "    print('=========================================')\n"
   ],
   "metadata": {
    "collapsed": false,
    "pycharm": {
     "name": "#%%\n"
    }
   }
  },
  {
   "cell_type": "markdown",
   "source": [
    "#### 4.4. Number of refix"
   ],
   "metadata": {
    "collapsed": false,
    "pycharm": {
     "name": "#%% md\n"
    }
   }
  },
  {
   "cell_type": "code",
   "execution_count": 16,
   "outputs": [
    {
     "name": "stdout",
     "output_type": "stream",
     "text": [
      "There are total 127 paths in bugs that required at least one refix (have at least 2 child commits)\n"
     ]
    }
   ],
   "source": [
    "total_refix = 0\n",
    "visited = set()\n",
    "for k in treeRoots:\n",
    "    if k not in visited:\n",
    "        _, _, num_refix, visited_now = bfs(k, False, True)\n",
    "        total_refix += num_refix\n",
    "        visited = visited.union(visited_now)\n",
    "print(f'There are total {total_refix} paths in bugs that required at least one refix (have at least 2 child commits)')"
   ],
   "metadata": {
    "collapsed": false,
    "pycharm": {
     "name": "#%%\n"
    }
   }
  },
  {
   "cell_type": "markdown",
   "source": [
    "### 5. Number of Owner and Projects"
   ],
   "metadata": {
    "collapsed": false,
    "pycharm": {
     "name": "#%% md\n"
    }
   }
  },
  {
   "cell_type": "code",
   "execution_count": 17,
   "outputs": [
    {
     "name": "stdout",
     "output_type": "stream",
     "text": [
      "There are 759 projects / repo\n"
     ]
    }
   ],
   "source": [
    "query = '''SELECT count(DISTINCT project) FROM bugs_large'''\n",
    "for row in cursor.execute(query):\n",
    "    print(f'There are {row[0]} projects / repo')"
   ],
   "metadata": {
    "collapsed": false,
    "pycharm": {
     "name": "#%%\n"
    }
   }
  },
  {
   "cell_type": "code",
   "execution_count": 18,
   "outputs": [
    {
     "name": "stdout",
     "output_type": "stream",
     "text": [
      "There are 558 repo owners\n"
     ]
    }
   ],
   "source": [
    "query = '''SELECT count(DISTINCT substr(project, 0, instr(project, '.'))) FROM bugs_large'''\n",
    "for row in cursor.execute(query):\n",
    "    print(f'There are {row[0]} repo owners')"
   ],
   "metadata": {
    "collapsed": false,
    "pycharm": {
     "name": "#%%\n"
    }
   }
  },
  {
   "cell_type": "code",
   "execution_count": 19,
   "outputs": [
    {
     "name": "stdout",
     "output_type": "stream",
     "text": [
      "There are 57 repo owners having multiple projects / repo\n"
     ]
    }
   ],
   "source": [
    "query = '''\n",
    "SELECT count()\n",
    "FROM (\n",
    "    SELECT *\n",
    "    FROM (\n",
    "        SELECT\n",
    "           substr(project, 0, instr(project, '.')) as owner,\n",
    "           substr(project, instr(project, '.') + 1) as repo\n",
    "        FROM bugs_large) AS owners\n",
    "    GROUP BY owner\n",
    "    HAVING count(DISTINCT repo) > 1\n",
    ")'''\n",
    "for row in cursor.execute(query):\n",
    "    print(f'There are {row[0]} repo owners having multiple projects / repo')"
   ],
   "metadata": {
    "collapsed": false,
    "pycharm": {
     "name": "#%%\n"
    }
   }
  },
  {
   "cell_type": "code",
   "execution_count": 20,
   "outputs": [
    {
     "name": "stdout",
     "output_type": "stream",
     "text": [
      "There are 65 repo having the same name as owner\n"
     ]
    }
   ],
   "source": [
    "query = '''\n",
    "SELECT count()\n",
    "FROM (\n",
    "    SELECT DISTINCT owner\n",
    "    FROM (\n",
    "        SELECT\n",
    "           substr(project, 0, instr(project, '.')) as owner,\n",
    "           substr(project, instr(project, '.') + 1) as repo\n",
    "        FROM bugs_large) AS owners\n",
    "    WHERE owner = repo\n",
    ")'''\n",
    "for row in cursor.execute(query):\n",
    "    print(f'There are {row[0]} repo having the same name as owner')"
   ],
   "metadata": {
    "collapsed": false,
    "pycharm": {
     "name": "#%%\n"
    }
   }
  },
  {
   "cell_type": "markdown",
   "source": [
    "### 6. Sources That Required Sub-Sequent Changes"
   ],
   "metadata": {
    "collapsed": false,
    "pycharm": {
     "name": "#%% md\n"
    }
   }
  },
  {
   "cell_type": "code",
   "execution_count": 21,
   "outputs": [],
   "source": [
    "import pandas as pd\n",
    "pd.set_option('display.max_rows', 0)"
   ],
   "metadata": {
    "collapsed": false,
    "pycharm": {
     "name": "#%%\n"
    }
   }
  },
  {
   "cell_type": "code",
   "execution_count": 22,
   "outputs": [
    {
     "data": {
      "text/plain": "                              First       Second        Third\n0                     IOException e  Exception e  Throwable e\n1         NumberFormatException nfe  Exception e  Throwable e\n2        IllegalArgumentException e  Exception e  Throwable e\n3        IllegalArgumentException e  Exception e  Throwable e\n4    ReflectiveOperationException e  Exception e  Throwable e\n5    ReflectiveOperationException e  Exception e  Throwable e\n6                     IOException e  Exception e  Throwable e\n7                     IOException e  Exception e  Throwable e\n8                     IOException e  Exception e  Throwable e\n..                              ...          ...          ...\n327                        id=19903     id=19904     id=19905\n328                        id=19904     id=19905     id=19906\n329                        id=19905     id=19906     id=19907\n330                        id=19906     id=19907     id=19908\n331                        id=19907     id=19908     id=19909\n332                        id=19908     id=19909     id=19910\n333                        id=19909     id=19910     id=19911\n334                      offset > 0  offset >= 0   offset > 0\n335                     offset >= 0   offset > 0  offset >= 0\n\n[336 rows x 3 columns]",
      "text/html": "<div>\n<style scoped>\n    .dataframe tbody tr th:only-of-type {\n        vertical-align: middle;\n    }\n\n    .dataframe tbody tr th {\n        vertical-align: top;\n    }\n\n    .dataframe thead th {\n        text-align: right;\n    }\n</style>\n<table border=\"1\" class=\"dataframe\">\n  <thead>\n    <tr style=\"text-align: right;\">\n      <th></th>\n      <th>First</th>\n      <th>Second</th>\n      <th>Third</th>\n    </tr>\n  </thead>\n  <tbody>\n    <tr>\n      <th>0</th>\n      <td>IOException e</td>\n      <td>Exception e</td>\n      <td>Throwable e</td>\n    </tr>\n    <tr>\n      <th>1</th>\n      <td>NumberFormatException nfe</td>\n      <td>Exception e</td>\n      <td>Throwable e</td>\n    </tr>\n    <tr>\n      <th>2</th>\n      <td>IllegalArgumentException e</td>\n      <td>Exception e</td>\n      <td>Throwable e</td>\n    </tr>\n    <tr>\n      <th>3</th>\n      <td>IllegalArgumentException e</td>\n      <td>Exception e</td>\n      <td>Throwable e</td>\n    </tr>\n    <tr>\n      <th>4</th>\n      <td>ReflectiveOperationException e</td>\n      <td>Exception e</td>\n      <td>Throwable e</td>\n    </tr>\n    <tr>\n      <th>5</th>\n      <td>ReflectiveOperationException e</td>\n      <td>Exception e</td>\n      <td>Throwable e</td>\n    </tr>\n    <tr>\n      <th>6</th>\n      <td>IOException e</td>\n      <td>Exception e</td>\n      <td>Throwable e</td>\n    </tr>\n    <tr>\n      <th>7</th>\n      <td>IOException e</td>\n      <td>Exception e</td>\n      <td>Throwable e</td>\n    </tr>\n    <tr>\n      <th>8</th>\n      <td>IOException e</td>\n      <td>Exception e</td>\n      <td>Throwable e</td>\n    </tr>\n    <tr>\n      <th>...</th>\n      <td>...</td>\n      <td>...</td>\n      <td>...</td>\n    </tr>\n    <tr>\n      <th>327</th>\n      <td>id=19903</td>\n      <td>id=19904</td>\n      <td>id=19905</td>\n    </tr>\n    <tr>\n      <th>328</th>\n      <td>id=19904</td>\n      <td>id=19905</td>\n      <td>id=19906</td>\n    </tr>\n    <tr>\n      <th>329</th>\n      <td>id=19905</td>\n      <td>id=19906</td>\n      <td>id=19907</td>\n    </tr>\n    <tr>\n      <th>330</th>\n      <td>id=19906</td>\n      <td>id=19907</td>\n      <td>id=19908</td>\n    </tr>\n    <tr>\n      <th>331</th>\n      <td>id=19907</td>\n      <td>id=19908</td>\n      <td>id=19909</td>\n    </tr>\n    <tr>\n      <th>332</th>\n      <td>id=19908</td>\n      <td>id=19909</td>\n      <td>id=19910</td>\n    </tr>\n    <tr>\n      <th>333</th>\n      <td>id=19909</td>\n      <td>id=19910</td>\n      <td>id=19911</td>\n    </tr>\n    <tr>\n      <th>334</th>\n      <td>offset &gt; 0</td>\n      <td>offset &gt;= 0</td>\n      <td>offset &gt; 0</td>\n    </tr>\n    <tr>\n      <th>335</th>\n      <td>offset &gt;= 0</td>\n      <td>offset &gt; 0</td>\n      <td>offset &gt;= 0</td>\n    </tr>\n  </tbody>\n</table>\n<p>336 rows × 3 columns</p>\n</div>"
     },
     "execution_count": 22,
     "metadata": {},
     "output_type": "execute_result"
    }
   ],
   "source": [
    "query = '''\n",
    "SELECT a.before as first, a.after as second, b.after as third\n",
    "FROM sstubs AS a\n",
    "    INNER JOIN sstubs as b on a.after = b.before\n",
    "WHERE 5 < length(b.before) AND length(b.before) < 12\n",
    "'''\n",
    "pd.DataFrame(cursor.execute(query), columns=['First', 'Second', 'Third'])"
   ],
   "metadata": {
    "collapsed": false,
    "pycharm": {
     "name": "#%%\n"
    }
   }
  },
  {
   "cell_type": "markdown",
   "source": [
    "### 7. Length of SHA1 to Uniquely identify a commit"
   ],
   "metadata": {
    "collapsed": false,
    "pycharm": {
     "name": "#%% md\n"
    }
   }
  },
  {
   "cell_type": "code",
   "execution_count": 23,
   "outputs": [
    {
     "name": "stdout",
     "output_type": "stream",
     "text": [
      "For bugs 9 chars are enough to identify a commit SHA1\n",
      "For bugs_large 10 chars are enough to identify a commit SHA1\n",
      "For sstubs 8 chars are enough to identify a commit SHA1\n",
      "For sstubs_large 9 chars are enough to identify a commit SHA1\n"
     ]
    }
   ],
   "source": [
    "for table in ['bugs', 'bugs_large', 'sstubs', 'sstubs_large']:\n",
    "    # noinspection SqlResolve\n",
    "    query = f'''\n",
    "    SELECT count()\n",
    "    FROM (\n",
    "         SELECT parent FROM {table} UNION SELECT child FROM {table}\n",
    "    )\n",
    "    '''\n",
    "    numUnqCommits = next(cursor.execute(query))\n",
    "    for i in range(40):\n",
    "        # noinspection SqlResolve\n",
    "        query = f'''\n",
    "        SELECT count(DISTINCT substr(parent, 0, {i}))\n",
    "        FROM (\n",
    "             SELECT parent FROM {table} UNION SELECT child FROM {table}\n",
    "        )\n",
    "        '''\n",
    "        numIdentifiableCommits = next(cursor.execute(query))\n",
    "        if numUnqCommits == numIdentifiableCommits:\n",
    "            print(f'For {table} {i} chars are enough to identify a commit SHA1')\n",
    "            break"
   ],
   "metadata": {
    "collapsed": false,
    "pycharm": {
     "name": "#%%\n"
    }
   }
  },
  {
   "cell_type": "code",
   "execution_count": 23,
   "outputs": [],
   "source": [],
   "metadata": {
    "collapsed": false,
    "pycharm": {
     "name": "#%%\n"
    }
   }
  }
 ],
 "metadata": {
  "kernelspec": {
   "display_name": "Python 3",
   "language": "python",
   "name": "python3"
  },
  "language_info": {
   "codemirror_mode": {
    "name": "ipython",
    "version": 3
   },
   "file_extension": ".py",
   "mimetype": "text/x-python",
   "name": "python",
   "nbconvert_exporter": "python",
   "pygments_lexer": "ipython3",
   "version": "3.7.8"
  }
 },
 "nbformat": 4,
 "nbformat_minor": 1
}
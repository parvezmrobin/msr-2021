{
 "cells": [
  {
   "cell_type": "markdown",
   "source": [
    "# Inspect Various Attributes"
   ],
   "metadata": {
    "collapsed": false,
    "pycharm": {
     "name": "#%% md\n"
    }
   }
  },
  {
   "cell_type": "code",
   "execution_count": 1,
   "metadata": {
    "collapsed": true
   },
   "outputs": [],
   "source": [
    "import sqlite3"
   ]
  },
  {
   "cell_type": "code",
   "execution_count": 12,
   "outputs": [],
   "source": [
    "import scripts.buildSqlite"
   ],
   "metadata": {
    "collapsed": false,
    "pycharm": {
     "name": "#%%\n"
    }
   }
  },
  {
   "cell_type": "code",
   "execution_count": 2,
   "outputs": [],
   "source": [
    "conn = sqlite3.connect('../database/sstubs.db')\n",
    "cursor = conn.cursor()"
   ],
   "metadata": {
    "collapsed": false,
    "pycharm": {
     "name": "#%%\n"
    }
   }
  },
  {
   "cell_type": "code",
   "execution_count": 6,
   "outputs": [
    {
     "name": "stdout",
     "output_type": "stream",
     "text": [
      "14294 fixes required another fix\n",
      "Need to make it a tree to see how long this fixing goes\n"
     ]
    }
   ],
   "source": [
    "query = '''SELECT count(*) FROM bugs_large WHERE child IN (\n",
    "    SELECT parent FROM bugs_large\n",
    ")'''\n",
    "for row in cursor.execute(query):\n",
    "    print(f'{row[0]} fixes required another fix')\n",
    "print('Need to make it a tree to see how long this fixing goes')"
   ],
   "metadata": {
    "collapsed": false,
    "pycharm": {
     "name": "#%%\n"
    }
   }
  },
  {
   "cell_type": "code",
   "execution_count": 7,
   "outputs": [
    {
     "name": "stdout",
     "output_type": "stream",
     "text": [
      "10460 entries in sstubs shares the same data\n",
      "Need to identify why the constitute different entry\n"
     ]
    }
   ],
   "source": [
    "query = '''SELECT count()\n",
    "           FROM (\n",
    "                    SELECT parent, child, file, line, type\n",
    "                    FROM sstubs_large\n",
    "                    GROUP BY parent, child, file, line, type\n",
    "                    HAVING count(*) > 1\n",
    "                    )'''\n",
    "for row in cursor.execute(query):\n",
    "    print(f'{row[0]} entries in sstubs shares the same data')\n",
    "print('Need to identify why the constitute different entry')"
   ],
   "metadata": {
    "collapsed": false,
    "pycharm": {
     "name": "#%%\n"
    }
   }
  },
  {
   "cell_type": "code",
   "execution_count": null,
   "outputs": [],
   "source": [],
   "metadata": {
    "collapsed": false,
    "pycharm": {
     "name": "#%%\n"
    }
   }
  }
 ],
 "metadata": {
  "kernelspec": {
   "display_name": "Python 3",
   "language": "python",
   "name": "python3"
  },
  "language_info": {
   "codemirror_mode": {
    "name": "ipython",
    "version": 2
   },
   "file_extension": ".py",
   "mimetype": "text/x-python",
   "name": "python",
   "nbconvert_exporter": "python",
   "pygments_lexer": "ipython2",
   "version": "2.7.6"
  }
 },
 "nbformat": 4,
 "nbformat_minor": 0
}
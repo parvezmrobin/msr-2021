{
 "cells": [
  {
   "cell_type": "markdown",
   "metadata": {
    "pycharm": {
     "name": "#%% md\n"
    }
   },
   "source": [
    "# Inspect Various Attributes"
   ]
  },
  {
   "cell_type": "code",
   "execution_count": 1,
   "metadata": {},
   "outputs": [],
   "source": [
    "import sqlite3"
   ]
  },
  {
   "cell_type": "code",
   "execution_count": 2,
   "metadata": {
    "pycharm": {
     "name": "#%%\n"
    }
   },
   "outputs": [
    {
     "name": "stdout",
     "output_type": "stream",
     "text": [
      "10231 entries added to table SStuBs\n",
      "63923 entries added to table SStuBs Large\n",
      "25539 entries added to table Bugs\n",
      "153652 entries added to table Bugs Large\n",
      "Created indices\n"
     ]
    }
   ],
   "source": [
    "import scripts.buildSqlite"
   ]
  },
  {
   "cell_type": "code",
   "execution_count": 3,
   "metadata": {
    "pycharm": {
     "name": "#%%\n"
    }
   },
   "outputs": [],
   "source": [
    "conn = sqlite3.connect('../database/sstubs.db')\n",
    "cursor = conn.cursor()"
   ]
  },
  {
   "cell_type": "markdown",
   "metadata": {
    "pycharm": {
     "name": "#%% md\n"
    }
   },
   "source": [
    "### 1. Unique SHA1"
   ]
  },
  {
   "cell_type": "markdown",
   "source": [
    "#### 1.1. Bugs"
   ],
   "metadata": {
    "collapsed": false,
    "pycharm": {
     "name": "#%% md\n"
    }
   }
  },
  {
   "cell_type": "code",
   "execution_count": 4,
   "metadata": {
    "pycharm": {
     "name": "#%%\n"
    }
   },
   "outputs": [
    {
     "name": "stdout",
     "output_type": "stream",
     "text": [
      "There are total 66,261 unique fixCommitSHA1 among total 153,652 entries\n",
      "That is each commit fixes nearly 2.32 lines of bugs\n"
     ]
    }
   ],
   "source": [
    "query = 'SELECT count(DISTINCT child), count() FROM bugs_large'\n",
    "for unq, tot in cursor.execute(query):\n",
    "    print(f'There are total {unq:,} unique fixCommitSHA1 among total {tot:,} entries')\n",
    "    print(f'That is each commit fixes nearly {round(tot / unq, 2)} lines of bugs')"
   ]
  },
  {
   "cell_type": "markdown",
   "source": [
    "#### 1.2. SStuBs"
   ],
   "metadata": {
    "collapsed": false,
    "pycharm": {
     "name": "#%% md\n"
    }
   }
  },
  {
   "cell_type": "code",
   "execution_count": 5,
   "metadata": {
    "pycharm": {
     "name": "#%%\n"
    }
   },
   "outputs": [
    {
     "name": "stdout",
     "output_type": "stream",
     "text": [
      "There are total 24,486 unique fixCommitSHA1 among total 63,923 entries\n",
      "That is each commit contains nearly 2.61 lines of stupid bugs\n"
     ]
    }
   ],
   "source": [
    "query = 'SELECT count(DISTINCT child), count() FROM sstubs_large'\n",
    "for unq, tot in cursor.execute(query):\n",
    "    print(f'There are total {unq:,} unique fixCommitSHA1 among total {tot:,} entries')\n",
    "    print(f'That is each commit contains nearly {round(tot / unq, 2)} lines of stupid bugs')"
   ]
  },
  {
   "cell_type": "markdown",
   "metadata": {},
   "source": [
    "### 2. Chance of introducing new bug / skipping existing bug"
   ]
  },
  {
   "cell_type": "markdown",
   "source": [
    "If the same (line, file, project) sequence contains a `parentSHA1`\n",
    "that was `childSHA1` in a previous entry, that means that line required a subsequent fix"
   ],
   "metadata": {
    "collapsed": false,
    "pycharm": {
     "name": "#%% md\n"
    }
   }
  },
  {
   "cell_type": "code",
   "execution_count": 6,
   "metadata": {
    "pycharm": {
     "name": "#%%\n"
    }
   },
   "outputs": [
    {
     "name": "stdout",
     "output_type": "stream",
     "text": [
      "847 fixes required another fix\n",
      "Need to make it a tree to see how long this fixing goes\n"
     ]
    }
   ],
   "source": [
    "query = '''SELECT count(*) FROM bugs_large WHERE (child, project, file, line) IN (\n",
    "    SELECT parent, project, file, line FROM bugs_large\n",
    ")'''\n",
    "for row in cursor.execute(query):\n",
    "    print(f'{row[0]:,} fixes required another fix')\n",
    "print('Need to make it a tree to see how long this fixing goes')"
   ]
  },
  {
   "cell_type": "markdown",
   "metadata": {},
   "source": [
    "### 3. Unique Bug Entry"
   ]
  },
  {
   "cell_type": "markdown",
   "source": [
    "#### 3.1. Bugs"
   ],
   "metadata": {
    "collapsed": false,
    "pycharm": {
     "name": "#%% md\n"
    }
   }
  },
  {
   "cell_type": "code",
   "execution_count": 7,
   "metadata": {
    "pycharm": {
     "name": "#%%\n"
    }
   },
   "outputs": [
    {
     "name": "stdout",
     "output_type": "stream",
     "text": [
      "In bugs, 1,100 entries in sstubs shares the same data\n",
      "with 456 unique sequences\n"
     ]
    }
   ],
   "source": [
    "query = '''SELECT count() as num_grp, sum(cnt) as num_entry\n",
    "           FROM (\n",
    "                SELECT *, count(*) as cnt\n",
    "                FROM bugs_large\n",
    "                GROUP BY parent, child, file, line, project\n",
    "                HAVING count(*) > 1\n",
    "            )'''\n",
    "for unq, tot in cursor.execute(query):\n",
    "    print(f'In bugs, {tot:,} entries in sstubs shares the same data')\n",
    "    print(f'with {unq:,} unique sequences')"
   ]
  },
  {
   "cell_type": "markdown",
   "source": [
    "#### 3.2. SStuBs"
   ],
   "metadata": {
    "collapsed": false,
    "pycharm": {
     "name": "#%% md\n"
    }
   }
  },
  {
   "cell_type": "code",
   "execution_count": 8,
   "metadata": {
    "pycharm": {
     "name": "#%%\n"
    }
   },
   "outputs": [
    {
     "name": "stdout",
     "output_type": "stream",
     "text": [
      "In sstubs, 1,680 entries in sstubs shares the same data\n",
      "with 840 unique sequences\n"
     ]
    }
   ],
   "source": [
    "query = '''SELECT count() as num_grp, sum(cnt) as num_entry\n",
    "           FROM (\n",
    "                SELECT *, count(*) as cnt\n",
    "                FROM sstubs_large\n",
    "                GROUP BY parent, child, file, line, type, project\n",
    "                HAVING count(*) > 1\n",
    "            )'''\n",
    "for unq, tot in cursor.execute(query):\n",
    "    print(f'In sstubs, {tot:,} entries in sstubs shares the same data')\n",
    "    print(f'with {unq:,} unique sequences')"
   ]
  },
  {
   "cell_type": "markdown",
   "source": [
    "> Need to identify why the constitute different entry"
   ],
   "metadata": {
    "collapsed": false,
    "pycharm": {
     "name": "#%% md\n"
    }
   }
  },
  {
   "cell_type": "markdown",
   "metadata": {
    "pycharm": {
     "name": "#%% md\n"
    }
   },
   "source": [
    "### 4. Fix-commit tree"
   ]
  },
  {
   "cell_type": "code",
   "execution_count": 9,
   "metadata": {
    "pycharm": {
     "name": "#%%\n"
    }
   },
   "outputs": [],
   "source": [
    "from collections import deque"
   ]
  },
  {
   "cell_type": "code",
   "execution_count": 10,
   "metadata": {
    "pycharm": {
     "name": "#%%\n"
    }
   },
   "outputs": [
    {
     "name": "stdout",
     "output_type": "stream",
     "text": [
      "22,005 unique SHA1\n"
     ]
    }
   ],
   "source": [
    "roots = {}\n",
    "query = 'SELECT parent, child FROM bugs'\n",
    "for parent, child in cursor.execute(query):\n",
    "    if parent not in roots:\n",
    "        roots[parent] = set()\n",
    "    roots[parent].add(child)\n",
    "\n",
    "    if child not in roots:\n",
    "        roots[child] = set()\n",
    "    roots[child].add(parent)\n",
    "\n",
    "print(f'{len(roots):,} unique SHA1')"
   ]
  },
  {
   "cell_type": "code",
   "execution_count": 11,
   "metadata": {
    "pycharm": {
     "name": "#%%\n"
    }
   },
   "outputs": [],
   "source": [
    "def bfs(start, return_path=False, return_refix=False):\n",
    "    visited = set()\n",
    "    distance = {start: 0}\n",
    "    queue = deque()\n",
    "    queue.append(start)\n",
    "    # mark `start` as visited\n",
    "    visited.add(start)\n",
    "\n",
    "    max_dist = 0\n",
    "    distant_child = None\n",
    "    # `parent_map` is used to trace back from leaf to root\n",
    "    parent_map = {}\n",
    "    while queue:\n",
    "        a = queue.popleft()\n",
    "        for b in roots[a]:\n",
    "            if b not in visited:\n",
    "                parent_map[b] = a\n",
    "                visited.add(b)\n",
    "                distance[b] = distance[a] + 1\n",
    "                queue.append(b)\n",
    "\n",
    "                if distance[b] > max_dist:\n",
    "                    max_dist = distance[b]\n",
    "                    distant_child = b\n",
    "\n",
    "    ret = [distant_child, max_dist]\n",
    "\n",
    "    if return_path:\n",
    "        path = [distant_child]\n",
    "        node = distant_child\n",
    "        while node in parent_map:\n",
    "            node = parent_map[node]\n",
    "            path.insert(0, node)\n",
    "        ret.append(path)\n",
    "\n",
    "    if return_refix:\n",
    "        # commits that are leaf of a path having more than 2 commits\n",
    "        num_refix = len([1 for k in distance.keys() if distance[k] > 1])\n",
    "        ret.append(num_refix)\n",
    "        ret.append(visited)\n",
    "\n",
    "\n",
    "    return ret"
   ]
  },
  {
   "cell_type": "markdown",
   "source": [
    "#### 4.1. Finding a commit sequence of length 5"
   ],
   "metadata": {
    "collapsed": false,
    "pycharm": {
     "name": "#%% md\n"
    }
   }
  },
  {
   "cell_type": "code",
   "execution_count": 12,
   "outputs": [
    {
     "name": "stdout",
     "output_type": "stream",
     "text": [
      "Path:\n",
      "a61721569b1f3449c5d9cf5744eb5510481a094d\n",
      "                   ⇓\n",
      "b2e16f32383b3c579cd72cb82db91397ec7f99cd\n",
      "                   ⇓\n",
      "0dea40754e488987037156806d7591324fa41a51\n",
      "                   ⇓\n",
      "c3fa05b56d3661665fc05b953f99dc8fd2f86bb9\n",
      "                   ⇓\n",
      "432ce94797e7270851c93317e626779425b27de1\n",
      "                   ⇓\n",
      "aef4b33dfee39c787d3146e96bfeaf9d2584df82\n"
     ]
    }
   ],
   "source": [
    "path = []\n",
    "for firstParent in roots.keys():\n",
    "    longestPathStart, _ = bfs(firstParent)\n",
    "    longestPathEnd, longestDistance = bfs(longestPathStart)\n",
    "    if longestDistance == 5:\n",
    "        _, _, path = bfs(longestPathStart, True)\n",
    "        print('Path:')\n",
    "        print(*path, sep='\\n                   ⇓\\n')\n",
    "        break"
   ],
   "metadata": {
    "collapsed": false,
    "pycharm": {
     "name": "#%%\n"
    }
   }
  },
  {
   "cell_type": "code",
   "execution_count": 13,
   "metadata": {
    "pycharm": {
     "name": "#%%\n"
    }
   },
   "outputs": [
    {
     "name": "stdout",
     "output_type": "stream",
     "text": [
      "**Files in this fixing path:**\n",
      "\n",
      "0dea40754e488987037156806d7591324fa41a51\n",
      "c3fa05b56d3661665fc05b953f99dc8fd2f86bb9\n",
      "examples/camel-example-micrometer/src/main/java/org/apache/camel/example/micrometer/ScrapeRouteBuilder.java\n",
      "\n",
      "432ce94797e7270851c93317e626779425b27de1\n",
      "aef4b33dfee39c787d3146e96bfeaf9d2584df82\n",
      "tooling/maven/camel-restdsl-swagger-plugin/src/main/java/org/apache/camel/maven/generator/swagger/AbstractGenerateMojo.java\n",
      "\n",
      "a61721569b1f3449c5d9cf5744eb5510481a094d\n",
      "b2e16f32383b3c579cd72cb82db91397ec7f99cd\n",
      "components/camel-telegram/src/test/java/org/apache/camel/component/telegram/TelegramWebhookCallTest.java\n",
      "\n",
      "a61721569b1f3449c5d9cf5744eb5510481a094d\n",
      "b2e16f32383b3c579cd72cb82db91397ec7f99cd\n",
      "components/camel-webhook/src/main/java/org/apache/camel/component/webhook/WebhookUtils.java\n",
      "\n",
      "a61721569b1f3449c5d9cf5744eb5510481a094d\n",
      "b2e16f32383b3c579cd72cb82db91397ec7f99cd\n",
      "components/camel-webhook/src/test/java/org/apache/camel/component/webhook/WebhookBasePathTest.java\n",
      "\n",
      "a61721569b1f3449c5d9cf5744eb5510481a094d\n",
      "b2e16f32383b3c579cd72cb82db91397ec7f99cd\n",
      "components/camel-webhook/src/test/java/org/apache/camel/component/webhook/WebhookHttpBindingTest.java\n",
      "\n",
      "a61721569b1f3449c5d9cf5744eb5510481a094d\n",
      "b2e16f32383b3c579cd72cb82db91397ec7f99cd\n",
      "components/camel-webhook/src/test/java/org/apache/camel/component/webhook/WebhookMultiRouteTest.java\n",
      "\n",
      "a61721569b1f3449c5d9cf5744eb5510481a094d\n",
      "b2e16f32383b3c579cd72cb82db91397ec7f99cd\n",
      "components/camel-webhook/src/test/java/org/apache/camel/component/webhook/WebhookPathTest.java\n",
      "\n",
      "b2e16f32383b3c579cd72cb82db91397ec7f99cd\n",
      "0dea40754e488987037156806d7591324fa41a51\n",
      "examples/camel-example-artemis-amqp-blueprint/src/test/java/org/apache/camel/example/artemis/amqp/ArtemisAmqpIntTest.java\n",
      "\n",
      "c3fa05b56d3661665fc05b953f99dc8fd2f86bb9\n",
      "432ce94797e7270851c93317e626779425b27de1\n",
      "tooling/maven/camel-package-maven-plugin/src/main/java/org/apache/camel/maven/packaging/SpringBootAutoConfigurationMojo.java\n",
      "\n"
     ]
    }
   ],
   "source": [
    "parent_child = []\n",
    "placeholder = []\n",
    "for i in range(1, len(path)):\n",
    "    parent_child.append(path[i-1])\n",
    "    parent_child.append(path[i])\n",
    "    placeholder.append('(parent=? AND child=?)')\n",
    "placeholder = ' OR '.join(placeholder)\n",
    "\n",
    "query = f'''\n",
    "SELECT * FROM (\n",
    "    SELECT parent, child, file\n",
    "    FROM bugs\n",
    "    WHERE {placeholder}\n",
    "    GROUP BY parent, child, file\n",
    ")'''\n",
    "\n",
    "print('**Files in this fixing path:**\\n')\n",
    "for parent, child, file in cursor.execute(query, parent_child):\n",
    "    print(parent, child, file, sep='\\n', end='\\n\\n')"
   ]
  },
  {
   "cell_type": "markdown",
   "source": [
    "> Summary of this output is present in\n",
    "> https://gist.github.com/parvezmahbub/f51c53e96117062706c0717defdb011b"
   ],
   "metadata": {
    "collapsed": false
   }
  },
  {
   "cell_type": "markdown",
   "source": [
    "#### 4.2. Number of refix"
   ],
   "metadata": {
    "collapsed": false,
    "pycharm": {
     "name": "#%% md\n"
    }
   }
  },
  {
   "cell_type": "code",
   "execution_count": 14,
   "outputs": [
    {
     "name": "stdout",
     "output_type": "stream",
     "text": [
      "There are total 149 paths in bugs that required at least one refix\n"
     ]
    }
   ],
   "source": [
    "total_refix = 0\n",
    "visited = set()\n",
    "for k in roots.keys():\n",
    "    if k not in visited:\n",
    "        _, _, num_refix, visited_now = bfs(k, False, True)\n",
    "        total_refix += num_refix\n",
    "        visited = visited.union(visited_now)\n",
    "print(f'There are total {total_refix} paths in bugs that required at least one refix')"
   ],
   "metadata": {
    "collapsed": false,
    "pycharm": {
     "name": "#%%\n"
    }
   }
  },
  {
   "cell_type": "markdown",
   "source": [
    "### 5. Number of Owner and Projects"
   ],
   "metadata": {
    "collapsed": false,
    "pycharm": {
     "name": "#%% md\n"
    }
   }
  },
  {
   "cell_type": "code",
   "execution_count": 15,
   "outputs": [
    {
     "name": "stdout",
     "output_type": "stream",
     "text": [
      "There are 759 projects / repo\n"
     ]
    }
   ],
   "source": [
    "query = '''SELECT count(DISTINCT project) FROM bugs_large'''\n",
    "for row in cursor.execute(query):\n",
    "    print(f'There are {row[0]} projects / repo')"
   ],
   "metadata": {
    "collapsed": false,
    "pycharm": {
     "name": "#%%\n"
    }
   }
  },
  {
   "cell_type": "code",
   "execution_count": 16,
   "outputs": [
    {
     "name": "stdout",
     "output_type": "stream",
     "text": [
      "There are 558 repo owners\n"
     ]
    }
   ],
   "source": [
    "query = '''SELECT count(DISTINCT substr(project, 0, instr(project, '.'))) FROM bugs_large'''\n",
    "for row in cursor.execute(query):\n",
    "    print(f'There are {row[0]} repo owners')"
   ],
   "metadata": {
    "collapsed": false,
    "pycharm": {
     "name": "#%%\n"
    }
   }
  },
  {
   "cell_type": "code",
   "execution_count": 17,
   "outputs": [
    {
     "name": "stdout",
     "output_type": "stream",
     "text": [
      "There are 57 repo owners having multiple projects / repo\n"
     ]
    }
   ],
   "source": [
    "query = '''\n",
    "SELECT count()\n",
    "FROM (\n",
    "    SELECT *\n",
    "    FROM (\n",
    "        SELECT\n",
    "           substr(project, 0, instr(project, '.')) as owner,\n",
    "           substr(project, instr(project, '.') + 1) as repo\n",
    "        FROM bugs_large) AS owners\n",
    "    GROUP BY owner\n",
    "    HAVING count(DISTINCT repo) > 1\n",
    ")'''\n",
    "for row in cursor.execute(query):\n",
    "    print(f'There are {row[0]} repo owners having multiple projects / repo')"
   ],
   "metadata": {
    "collapsed": false,
    "pycharm": {
     "name": "#%%\n"
    }
   }
  },
  {
   "cell_type": "code",
   "execution_count": 18,
   "outputs": [
    {
     "name": "stdout",
     "output_type": "stream",
     "text": [
      "There are 65 repo having the same name as owner\n"
     ]
    }
   ],
   "source": [
    "query = '''\n",
    "SELECT count()\n",
    "FROM (\n",
    "    SELECT DISTINCT owner\n",
    "    FROM (\n",
    "        SELECT\n",
    "           substr(project, 0, instr(project, '.')) as owner,\n",
    "           substr(project, instr(project, '.') + 1) as repo\n",
    "        FROM bugs_large) AS owners\n",
    "    WHERE owner = repo\n",
    ")'''\n",
    "for row in cursor.execute(query):\n",
    "    print(f'There are {row[0]} repo having the same name as owner')"
   ],
   "metadata": {
    "collapsed": false,
    "pycharm": {
     "name": "#%%\n"
    }
   }
  },
  {
   "cell_type": "markdown",
   "source": [
    "### 6. Sources That Required Sub-Sequent Changes"
   ],
   "metadata": {
    "collapsed": false,
    "pycharm": {
     "name": "#%% md\n"
    }
   }
  },
  {
   "cell_type": "code",
   "execution_count": 19,
   "outputs": [],
   "source": [
    "import pandas as pd\n",
    "pd.set_option('display.max_rows', 0)"
   ],
   "metadata": {
    "collapsed": false,
    "pycharm": {
     "name": "#%%\n"
    }
   }
  },
  {
   "cell_type": "code",
   "execution_count": 20,
   "outputs": [
    {
     "data": {
      "text/plain": "                              First       Second        Third\n0                     IOException e  Exception e  Throwable e\n1         NumberFormatException nfe  Exception e  Throwable e\n2        IllegalArgumentException e  Exception e  Throwable e\n3        IllegalArgumentException e  Exception e  Throwable e\n4    ReflectiveOperationException e  Exception e  Throwable e\n5    ReflectiveOperationException e  Exception e  Throwable e\n6                     IOException e  Exception e  Throwable e\n7                     IOException e  Exception e  Throwable e\n8                     IOException e  Exception e  Throwable e\n..                              ...          ...          ...\n327                        id=19903     id=19904     id=19905\n328                        id=19904     id=19905     id=19906\n329                        id=19905     id=19906     id=19907\n330                        id=19906     id=19907     id=19908\n331                        id=19907     id=19908     id=19909\n332                        id=19908     id=19909     id=19910\n333                        id=19909     id=19910     id=19911\n334                      offset > 0  offset >= 0   offset > 0\n335                     offset >= 0   offset > 0  offset >= 0\n\n[336 rows x 3 columns]",
      "text/html": "<div>\n<style scoped>\n    .dataframe tbody tr th:only-of-type {\n        vertical-align: middle;\n    }\n\n    .dataframe tbody tr th {\n        vertical-align: top;\n    }\n\n    .dataframe thead th {\n        text-align: right;\n    }\n</style>\n<table border=\"1\" class=\"dataframe\">\n  <thead>\n    <tr style=\"text-align: right;\">\n      <th></th>\n      <th>First</th>\n      <th>Second</th>\n      <th>Third</th>\n    </tr>\n  </thead>\n  <tbody>\n    <tr>\n      <th>0</th>\n      <td>IOException e</td>\n      <td>Exception e</td>\n      <td>Throwable e</td>\n    </tr>\n    <tr>\n      <th>1</th>\n      <td>NumberFormatException nfe</td>\n      <td>Exception e</td>\n      <td>Throwable e</td>\n    </tr>\n    <tr>\n      <th>2</th>\n      <td>IllegalArgumentException e</td>\n      <td>Exception e</td>\n      <td>Throwable e</td>\n    </tr>\n    <tr>\n      <th>3</th>\n      <td>IllegalArgumentException e</td>\n      <td>Exception e</td>\n      <td>Throwable e</td>\n    </tr>\n    <tr>\n      <th>4</th>\n      <td>ReflectiveOperationException e</td>\n      <td>Exception e</td>\n      <td>Throwable e</td>\n    </tr>\n    <tr>\n      <th>5</th>\n      <td>ReflectiveOperationException e</td>\n      <td>Exception e</td>\n      <td>Throwable e</td>\n    </tr>\n    <tr>\n      <th>6</th>\n      <td>IOException e</td>\n      <td>Exception e</td>\n      <td>Throwable e</td>\n    </tr>\n    <tr>\n      <th>7</th>\n      <td>IOException e</td>\n      <td>Exception e</td>\n      <td>Throwable e</td>\n    </tr>\n    <tr>\n      <th>8</th>\n      <td>IOException e</td>\n      <td>Exception e</td>\n      <td>Throwable e</td>\n    </tr>\n    <tr>\n      <th>...</th>\n      <td>...</td>\n      <td>...</td>\n      <td>...</td>\n    </tr>\n    <tr>\n      <th>327</th>\n      <td>id=19903</td>\n      <td>id=19904</td>\n      <td>id=19905</td>\n    </tr>\n    <tr>\n      <th>328</th>\n      <td>id=19904</td>\n      <td>id=19905</td>\n      <td>id=19906</td>\n    </tr>\n    <tr>\n      <th>329</th>\n      <td>id=19905</td>\n      <td>id=19906</td>\n      <td>id=19907</td>\n    </tr>\n    <tr>\n      <th>330</th>\n      <td>id=19906</td>\n      <td>id=19907</td>\n      <td>id=19908</td>\n    </tr>\n    <tr>\n      <th>331</th>\n      <td>id=19907</td>\n      <td>id=19908</td>\n      <td>id=19909</td>\n    </tr>\n    <tr>\n      <th>332</th>\n      <td>id=19908</td>\n      <td>id=19909</td>\n      <td>id=19910</td>\n    </tr>\n    <tr>\n      <th>333</th>\n      <td>id=19909</td>\n      <td>id=19910</td>\n      <td>id=19911</td>\n    </tr>\n    <tr>\n      <th>334</th>\n      <td>offset &gt; 0</td>\n      <td>offset &gt;= 0</td>\n      <td>offset &gt; 0</td>\n    </tr>\n    <tr>\n      <th>335</th>\n      <td>offset &gt;= 0</td>\n      <td>offset &gt; 0</td>\n      <td>offset &gt;= 0</td>\n    </tr>\n  </tbody>\n</table>\n<p>336 rows × 3 columns</p>\n</div>"
     },
     "execution_count": 20,
     "metadata": {},
     "output_type": "execute_result"
    }
   ],
   "source": [
    "query = '''\n",
    "SELECT a.before as first, a.after as second, b.after as third\n",
    "FROM sstubs AS a\n",
    "    INNER JOIN sstubs as b on a.after = b.before\n",
    "WHERE 5 < length(b.before) AND length(b.before) < 12\n",
    "'''\n",
    "pd.DataFrame(cursor.execute(query), columns=['First', 'Second', 'Third'])"
   ],
   "metadata": {
    "collapsed": false,
    "pycharm": {
     "name": "#%%\n"
    }
   }
  },
  {
   "cell_type": "markdown",
   "source": [
    "### 7. Length of SHA1 to Uniquely identify a commit"
   ],
   "metadata": {
    "collapsed": false,
    "pycharm": {
     "name": "#%% md\n"
    }
   }
  },
  {
   "cell_type": "code",
   "execution_count": 21,
   "outputs": [
    {
     "name": "stdout",
     "output_type": "stream",
     "text": [
      "For bugs 9 chars are enough to identify a commit SHA1\n",
      "For bugs_large 10 chars are enough to identify a commit SHA1\n",
      "For sstubs 8 chars are enough to identify a commit SHA1\n",
      "For sstubs_large 9 chars are enough to identify a commit SHA1\n"
     ]
    }
   ],
   "source": [
    "for table in ['bugs', 'bugs_large', 'sstubs', 'sstubs_large']:\n",
    "    query = f'''\n",
    "    SELECT count()\n",
    "    FROM (\n",
    "         SELECT parent FROM {table} UNION SELECT child FROM {table}\n",
    "    )\n",
    "    '''\n",
    "    numUnqCommits = next(cursor.execute(query))\n",
    "    for i in range(40):\n",
    "        query = f'''\n",
    "        SELECT count(DISTINCT substr(parent, 0, {i}))\n",
    "        FROM (\n",
    "             SELECT parent FROM {table} UNION SELECT child FROM {table}\n",
    "        )\n",
    "        '''\n",
    "        numIdentifiableCommits = next(cursor.execute(query))\n",
    "        if numUnqCommits == numIdentifiableCommits:\n",
    "            print(f'For {table} {i} chars are enough to identify a commit SHA1')\n",
    "            break"
   ],
   "metadata": {
    "collapsed": false,
    "pycharm": {
     "name": "#%%\n"
    }
   }
  },
  {
   "cell_type": "code",
   "execution_count": 21,
   "outputs": [],
   "source": [],
   "metadata": {
    "collapsed": false,
    "pycharm": {
     "name": "#%%\n"
    }
   }
  }
 ],
 "metadata": {
  "kernelspec": {
   "display_name": "Python 3",
   "language": "python",
   "name": "python3"
  },
  "language_info": {
   "codemirror_mode": {
    "name": "ipython",
    "version": 3
   },
   "file_extension": ".py",
   "mimetype": "text/x-python",
   "name": "python",
   "nbconvert_exporter": "python",
   "pygments_lexer": "ipython3",
   "version": "3.7.8"
  }
 },
 "nbformat": 4,
 "nbformat_minor": 1
}
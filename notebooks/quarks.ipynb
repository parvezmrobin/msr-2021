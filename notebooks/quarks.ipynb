{
 "cells": [
  {
   "cell_type": "markdown",
   "metadata": {
    "pycharm": {
     "name": "#%% md\n"
    }
   },
   "source": [
    "# Inspect Various Attributes"
   ]
  },
  {
   "cell_type": "code",
   "execution_count": 1,
   "metadata": {},
   "outputs": [],
   "source": [
    "import sqlite3"
   ]
  },
  {
   "cell_type": "code",
   "execution_count": 2,
   "metadata": {
    "pycharm": {
     "name": "#%%\n"
    }
   },
   "outputs": [
    {
     "name": "stdout",
     "output_type": "stream",
     "text": [
      "10231 entries added to table SStuBs\n",
      "63923 entries added to table SStuBs Large\n",
      "25539 entries added to table Bugs\n",
      "153652 entries added to table Bugs Large\n",
      "Created indices\n"
     ]
    }
   ],
   "source": [
    "import scripts.buildSqlite"
   ]
  },
  {
   "cell_type": "code",
   "execution_count": 3,
   "metadata": {
    "pycharm": {
     "name": "#%%\n"
    }
   },
   "outputs": [],
   "source": [
    "conn = sqlite3.connect('../database/sstubs.db')\n",
    "cursor = conn.cursor()"
   ]
  },
  {
   "cell_type": "markdown",
   "metadata": {
    "pycharm": {
     "name": "#%% md\n"
    }
   },
   "source": [
    "### 1. Unique SHA1"
   ]
  },
  {
   "cell_type": "markdown",
   "source": [
    "#### 1.1. Bugs"
   ],
   "metadata": {
    "collapsed": false,
    "pycharm": {
     "name": "#%% md\n"
    }
   }
  },
  {
   "cell_type": "code",
   "execution_count": 4,
   "metadata": {
    "pycharm": {
     "name": "#%%\n"
    }
   },
   "outputs": [
    {
     "name": "stdout",
     "output_type": "stream",
     "text": [
      "There are total 66,261 unique fixCommitSHA1 among total 153,652 entries\n",
      "That is each commit fixes nearly 2.32 lines of bugs\n"
     ]
    }
   ],
   "source": [
    "query = 'SELECT count(DISTINCT child), count() FROM bugs_large'\n",
    "for unq, tot in cursor.execute(query):\n",
    "    print(f'There are total {unq:,} unique fixCommitSHA1 among total {tot:,} entries')\n",
    "    print(f'That is each commit fixes nearly {round(tot / unq, 2)} lines of bugs')"
   ]
  },
  {
   "cell_type": "markdown",
   "source": [
    "#### 1.2. SStuBs"
   ],
   "metadata": {
    "collapsed": false,
    "pycharm": {
     "name": "#%% md\n"
    }
   }
  },
  {
   "cell_type": "code",
   "execution_count": 5,
   "metadata": {
    "pycharm": {
     "name": "#%%\n"
    }
   },
   "outputs": [
    {
     "name": "stdout",
     "output_type": "stream",
     "text": [
      "There are total 24,486 unique fixCommitSHA1 among total 63,923 entries\n",
      "That is each commit contains nearly 2.61 lines of stupid bugs\n"
     ]
    }
   ],
   "source": [
    "query = 'SELECT count(DISTINCT child), count() FROM sstubs_large'\n",
    "for unq, tot in cursor.execute(query):\n",
    "    print(f'There are total {unq:,} unique fixCommitSHA1 among total {tot:,} entries')\n",
    "    print(f'That is each commit contains nearly {round(tot / unq, 2)} lines of stupid bugs')"
   ]
  },
  {
   "cell_type": "markdown",
   "metadata": {},
   "source": [
    "### 2. Chance of introducing new bug / skipping existing bug"
   ]
  },
  {
   "cell_type": "markdown",
   "source": [
    "If the same (line, file, project) sequence contains a `parentSHA1`\n",
    "that was `childSHA1` in a previous entry, that means that line required a subsequent fix"
   ],
   "metadata": {
    "collapsed": false,
    "pycharm": {
     "name": "#%% md\n"
    }
   }
  },
  {
   "cell_type": "code",
   "execution_count": 6,
   "metadata": {
    "pycharm": {
     "name": "#%%\n"
    }
   },
   "outputs": [
    {
     "name": "stdout",
     "output_type": "stream",
     "text": [
      "847 fixes required another fix\n",
      "Need to make it a tree to see how long this fixing goes\n"
     ]
    }
   ],
   "source": [
    "query = '''SELECT count(*) FROM bugs_large WHERE (child, project, file, line) IN (\n",
    "    SELECT parent, project, file, line FROM bugs_large\n",
    ")'''\n",
    "for row in cursor.execute(query):\n",
    "    print(f'{row[0]:,} fixes required another fix')\n",
    "print('Need to make it a tree to see how long this fixing goes')"
   ]
  },
  {
   "cell_type": "markdown",
   "metadata": {},
   "source": [
    "### 3. Unique Bug Entry"
   ]
  },
  {
   "cell_type": "markdown",
   "source": [
    "#### 3.1. Bugs"
   ],
   "metadata": {
    "collapsed": false,
    "pycharm": {
     "name": "#%% md\n"
    }
   }
  },
  {
   "cell_type": "code",
   "execution_count": 7,
   "metadata": {
    "pycharm": {
     "name": "#%%\n"
    }
   },
   "outputs": [
    {
     "name": "stdout",
     "output_type": "stream",
     "text": [
      "In bugs, 1,100 entries in sstubs shares the same data\n",
      "with 456 unique sequences\n"
     ]
    }
   ],
   "source": [
    "query = '''SELECT count() as num_grp, sum(cnt) as num_entry\n",
    "           FROM (\n",
    "                SELECT *, count(*) as cnt\n",
    "                FROM bugs_large\n",
    "                GROUP BY parent, child, file, line, project\n",
    "                HAVING count(*) > 1\n",
    "            )'''\n",
    "for unq, tot in cursor.execute(query):\n",
    "    print(f'In bugs, {tot:,} entries in sstubs shares the same data')\n",
    "    print(f'with {unq:,} unique sequences')"
   ]
  },
  {
   "cell_type": "markdown",
   "source": [
    "#### 3.2. SStuBs"
   ],
   "metadata": {
    "collapsed": false,
    "pycharm": {
     "name": "#%% md\n"
    }
   }
  },
  {
   "cell_type": "code",
   "execution_count": 8,
   "metadata": {
    "pycharm": {
     "name": "#%%\n"
    }
   },
   "outputs": [
    {
     "name": "stdout",
     "output_type": "stream",
     "text": [
      "In sstubs, 1,680 entries in sstubs shares the same data\n",
      "with 840 unique sequences\n"
     ]
    }
   ],
   "source": [
    "query = '''SELECT count() as num_grp, sum(cnt) as num_entry\n",
    "           FROM (\n",
    "                SELECT *, count(*) as cnt\n",
    "                FROM sstubs_large\n",
    "                GROUP BY parent, child, file, line, type, project\n",
    "                HAVING count(*) > 1\n",
    "            )'''\n",
    "for unq, tot in cursor.execute(query):\n",
    "    print(f'In sstubs, {tot:,} entries in sstubs shares the same data')\n",
    "    print(f'with {unq:,} unique sequences')"
   ]
  },
  {
   "cell_type": "markdown",
   "source": [
    "> Need to identify why the constitute different entry"
   ],
   "metadata": {
    "collapsed": false,
    "pycharm": {
     "name": "#%% md\n"
    }
   }
  },
  {
   "cell_type": "markdown",
   "metadata": {
    "pycharm": {
     "name": "#%% md\n"
    }
   },
   "source": [
    "### 4. Fix-commit tree"
   ]
  },
  {
   "cell_type": "code",
   "execution_count": 9,
   "metadata": {
    "pycharm": {
     "name": "#%%\n"
    }
   },
   "outputs": [],
   "source": [
    "from collections import deque"
   ]
  },
  {
   "cell_type": "code",
   "execution_count": 10,
   "metadata": {
    "pycharm": {
     "name": "#%%\n"
    }
   },
   "outputs": [
    {
     "name": "stdout",
     "output_type": "stream",
     "text": [
      "126,898 unique SHA1\n"
     ]
    }
   ],
   "source": [
    "roots = {}\n",
    "query = 'SELECT parent, child FROM bugs_large'\n",
    "for parent, child in cursor.execute(query):\n",
    "    if parent not in roots:\n",
    "        roots[parent] = set()\n",
    "    roots[parent].add(child)\n",
    "\n",
    "    if child not in roots:\n",
    "        roots[child] = set()\n",
    "    roots[child].add(parent)\n",
    "\n",
    "print(f'{len(roots):,} unique SHA1')"
   ]
  },
  {
   "cell_type": "code",
   "execution_count": 11,
   "metadata": {
    "pycharm": {
     "name": "#%%\n"
    }
   },
   "outputs": [
    {
     "name": "stdout",
     "output_type": "stream",
     "text": [
      "Path:\n",
      "a791de06c8b824094a2875ce54b934e734888f27\n",
      "                   ⇓\n",
      "ae85364071f63f413788dab839d6da7c06ae58fc\n",
      "                   ⇓\n",
      "2c7c0a297152ab15e36d477392a30f3a6b66627c\n",
      "                   ⇓\n",
      "29d8d6d6d0f762b15dca5db757b468875d90a1cd\n",
      "                   ⇓\n",
      "89eb8a7828b3b68c640f5b3f5b1db990496b1aaa\n",
      "                   ⇓\n",
      "e0316316807cea6fb5951874041a937855a7c730\n"
     ]
    }
   ],
   "source": [
    "def bfs(start, return_path=False):\n",
    "    visited = set()\n",
    "    distance = {start: 0}\n",
    "    queue = deque()\n",
    "    queue.append(start)\n",
    "    # mark `start` as visited\n",
    "    visited.add(start)\n",
    "\n",
    "    max_dist = 0\n",
    "    distant_child = None\n",
    "    # `parent_map` is used to trace back from leaf to root\n",
    "    parent_map = {}\n",
    "    while queue:\n",
    "        a = queue.popleft()\n",
    "        for b in roots[a]:\n",
    "            if b not in visited:\n",
    "                parent_map[b] = a\n",
    "                visited.add(b)\n",
    "                distance[b] = distance[a] + 1\n",
    "                queue.append(b)\n",
    "\n",
    "                if distance[b] > max_dist:\n",
    "                    max_dist = distance[b]\n",
    "                    distant_child = b\n",
    "    if not return_path:\n",
    "        return distant_child, max_dist\n",
    "\n",
    "    path = [distant_child]\n",
    "    node = distant_child\n",
    "    while node in parent_map:\n",
    "        node = parent_map[node]\n",
    "        path.insert(0, node)\n",
    "    return distant_child, max_dist, path\n",
    "\n",
    "# just finding a commit sequence of length 5\n",
    "path = []\n",
    "for firstParent in roots.keys():\n",
    "    longestPathStart, _ = bfs(firstParent)\n",
    "    longestPathEnd, longestDistance = bfs(longestPathStart)\n",
    "    if longestDistance == 5:\n",
    "        _, _, path = bfs(longestPathStart, True)\n",
    "        print('Path:')\n",
    "        print(*path, sep='\\n                   ⇓\\n')\n",
    "        break"
   ]
  },
  {
   "cell_type": "code",
   "execution_count": 12,
   "metadata": {
    "pycharm": {
     "name": "#%%\n"
    }
   },
   "outputs": [
    {
     "name": "stdout",
     "output_type": "stream",
     "text": [
      "a791de06c8b824094a2875ce54b934e734888f27\n",
      "ae85364071f63f413788dab839d6da7c06ae58fc\n",
      "src/components/org/apache/jmeter/timers/ConstantThroughputTimer.java\n",
      "\n",
      "a791de06c8b824094a2875ce54b934e734888f27\n",
      "ae85364071f63f413788dab839d6da7c06ae58fc\n",
      "src/components/org/apache/jmeter/timers/PoissonRandomTimer.java\n",
      "\n",
      "a791de06c8b824094a2875ce54b934e734888f27\n",
      "ae85364071f63f413788dab839d6da7c06ae58fc\n",
      "src/components/org/apache/jmeter/visualizers/Graph.java\n",
      "\n",
      "a791de06c8b824094a2875ce54b934e734888f27\n",
      "ae85364071f63f413788dab839d6da7c06ae58fc\n",
      "src/components/org/apache/jmeter/visualizers/Graph.java\n",
      "\n",
      "a791de06c8b824094a2875ce54b934e734888f27\n",
      "ae85364071f63f413788dab839d6da7c06ae58fc\n",
      "src/components/org/apache/jmeter/visualizers/Graph.java\n",
      "\n",
      "a791de06c8b824094a2875ce54b934e734888f27\n",
      "ae85364071f63f413788dab839d6da7c06ae58fc\n",
      "src/components/org/apache/jmeter/visualizers/Graph.java\n",
      "\n",
      "a791de06c8b824094a2875ce54b934e734888f27\n",
      "ae85364071f63f413788dab839d6da7c06ae58fc\n",
      "src/components/org/apache/jmeter/visualizers/RespTimeGraphVisualizer.java\n",
      "\n",
      "a791de06c8b824094a2875ce54b934e734888f27\n",
      "ae85364071f63f413788dab839d6da7c06ae58fc\n",
      "src/components/org/apache/jmeter/visualizers/SearchTextExtension.java\n",
      "\n",
      "ae85364071f63f413788dab839d6da7c06ae58fc\n",
      "2c7c0a297152ab15e36d477392a30f3a6b66627c\n",
      "src/core/org/apache/jmeter/gui/action/LoggerPanelEnableDisable.java\n",
      "\n",
      "2c7c0a297152ab15e36d477392a30f3a6b66627c\n",
      "29d8d6d6d0f762b15dca5db757b468875d90a1cd\n",
      "src/core/org/apache/jmeter/control/gui/TransactionControllerGui.java\n",
      "\n",
      "2c7c0a297152ab15e36d477392a30f3a6b66627c\n",
      "29d8d6d6d0f762b15dca5db757b468875d90a1cd\n",
      "src/core/org/apache/jmeter/gui/GUIFactory.java\n",
      "\n",
      "2c7c0a297152ab15e36d477392a30f3a6b66627c\n",
      "29d8d6d6d0f762b15dca5db757b468875d90a1cd\n",
      "src/core/org/apache/jmeter/gui/tree/JMeterTreeModel.java\n",
      "\n",
      "2c7c0a297152ab15e36d477392a30f3a6b66627c\n",
      "29d8d6d6d0f762b15dca5db757b468875d90a1cd\n",
      "src/core/org/apache/jmeter/gui/tree/JMeterTreeTransferHandler.java\n",
      "\n",
      "2c7c0a297152ab15e36d477392a30f3a6b66627c\n",
      "29d8d6d6d0f762b15dca5db757b468875d90a1cd\n",
      "src/core/org/apache/jmeter/report/processor/ErrorsSummaryConsumer.java\n",
      "\n",
      "2c7c0a297152ab15e36d477392a30f3a6b66627c\n",
      "29d8d6d6d0f762b15dca5db757b468875d90a1cd\n",
      "src/core/org/apache/jmeter/report/processor/ErrorsSummaryConsumer.java\n",
      "\n",
      "2c7c0a297152ab15e36d477392a30f3a6b66627c\n",
      "29d8d6d6d0f762b15dca5db757b468875d90a1cd\n",
      "src/core/org/apache/jmeter/report/processor/RequestsSummaryConsumer.java\n",
      "\n",
      "2c7c0a297152ab15e36d477392a30f3a6b66627c\n",
      "29d8d6d6d0f762b15dca5db757b468875d90a1cd\n",
      "src/core/org/apache/jmeter/report/processor/RequestsSummaryConsumer.java\n",
      "\n",
      "2c7c0a297152ab15e36d477392a30f3a6b66627c\n",
      "29d8d6d6d0f762b15dca5db757b468875d90a1cd\n",
      "src/core/org/apache/jmeter/report/processor/graph/TimeStampKeysSelector.java\n",
      "\n",
      "2c7c0a297152ab15e36d477392a30f3a6b66627c\n",
      "29d8d6d6d0f762b15dca5db757b468875d90a1cd\n",
      "src/core/org/apache/jmeter/report/processor/graph/impl/BytesThroughputGraphConsumer.java\n",
      "\n",
      "2c7c0a297152ab15e36d477392a30f3a6b66627c\n",
      "29d8d6d6d0f762b15dca5db757b468875d90a1cd\n",
      "src/core/org/apache/jmeter/report/processor/graph/impl/ResponseTimeDistributionGraphConsumer.java\n",
      "\n",
      "2c7c0a297152ab15e36d477392a30f3a6b66627c\n",
      "29d8d6d6d0f762b15dca5db757b468875d90a1cd\n",
      "src/core/org/apache/jmeter/samplers/SampleSaveConfiguration.java\n",
      "\n",
      "2c7c0a297152ab15e36d477392a30f3a6b66627c\n",
      "29d8d6d6d0f762b15dca5db757b468875d90a1cd\n",
      "src/core/org/apache/jmeter/save/converters/SampleResultConverter.java\n",
      "\n",
      "2c7c0a297152ab15e36d477392a30f3a6b66627c\n",
      "29d8d6d6d0f762b15dca5db757b468875d90a1cd\n",
      "src/core/org/apache/jmeter/testelement/property/CollectionProperty.java\n",
      "\n",
      "2c7c0a297152ab15e36d477392a30f3a6b66627c\n",
      "29d8d6d6d0f762b15dca5db757b468875d90a1cd\n",
      "src/core/org/apache/jmeter/testelement/property/MultiProperty.java\n",
      "\n",
      "2c7c0a297152ab15e36d477392a30f3a6b66627c\n",
      "29d8d6d6d0f762b15dca5db757b468875d90a1cd\n",
      "src/core/org/apache/jmeter/threads/TestCompiler.java\n",
      "\n",
      "2c7c0a297152ab15e36d477392a30f3a6b66627c\n",
      "29d8d6d6d0f762b15dca5db757b468875d90a1cd\n",
      "src/core/org/apache/jmeter/util/Calculator.java\n",
      "\n",
      "2c7c0a297152ab15e36d477392a30f3a6b66627c\n",
      "29d8d6d6d0f762b15dca5db757b468875d90a1cd\n",
      "src/core/org/apache/jmeter/util/Calculator.java\n",
      "\n",
      "2c7c0a297152ab15e36d477392a30f3a6b66627c\n",
      "29d8d6d6d0f762b15dca5db757b468875d90a1cd\n",
      "src/core/org/apache/jmeter/visualizers/Sample.java\n",
      "\n",
      "2c7c0a297152ab15e36d477392a30f3a6b66627c\n",
      "29d8d6d6d0f762b15dca5db757b468875d90a1cd\n",
      "src/core/org/apache/jmeter/visualizers/TableSample.java\n",
      "\n",
      "2c7c0a297152ab15e36d477392a30f3a6b66627c\n",
      "29d8d6d6d0f762b15dca5db757b468875d90a1cd\n",
      "src/core/org/apache/jmeter/visualizers/TableSample.java\n",
      "\n",
      "29d8d6d6d0f762b15dca5db757b468875d90a1cd\n",
      "89eb8a7828b3b68c640f5b3f5b1db990496b1aaa\n",
      "src/core/org/apache/jmeter/config/gui/ArgumentsPanel.java\n",
      "\n",
      "89eb8a7828b3b68c640f5b3f5b1db990496b1aaa\n",
      "e0316316807cea6fb5951874041a937855a7c730\n",
      "src/protocol/jms/org/apache/jmeter/protocol/jms/control/gui/JMSPropertiesPanel.java\n",
      "\n",
      "89eb8a7828b3b68c640f5b3f5b1db990496b1aaa\n",
      "e0316316807cea6fb5951874041a937855a7c730\n",
      "src/protocol/jms/org/apache/jmeter/protocol/jms/sampler/BaseJMSSampler.java\n",
      "\n",
      "89eb8a7828b3b68c640f5b3f5b1db990496b1aaa\n",
      "e0316316807cea6fb5951874041a937855a7c730\n",
      "src/protocol/jms/org/apache/jmeter/protocol/jms/sampler/BaseJMSSampler.java\n",
      "\n",
      "89eb8a7828b3b68c640f5b3f5b1db990496b1aaa\n",
      "e0316316807cea6fb5951874041a937855a7c730\n",
      "src/protocol/jms/org/apache/jmeter/protocol/jms/sampler/SubscriberSampler.java\n",
      "\n",
      "89eb8a7828b3b68c640f5b3f5b1db990496b1aaa\n",
      "e0316316807cea6fb5951874041a937855a7c730\n",
      "src/protocol/ldap/org/apache/jmeter/protocol/ldap/sampler/LDAPSampler.java\n",
      "\n",
      "89eb8a7828b3b68c640f5b3f5b1db990496b1aaa\n",
      "e0316316807cea6fb5951874041a937855a7c730\n",
      "src/protocol/mail/org/apache/jmeter/protocol/smtp/sampler/protocol/SendMailCommand.java\n",
      "\n",
      "89eb8a7828b3b68c640f5b3f5b1db990496b1aaa\n",
      "e0316316807cea6fb5951874041a937855a7c730\n",
      "src/protocol/tcp/org/apache/jmeter/protocol/tcp/sampler/TCPSampler.java\n",
      "\n"
     ]
    }
   ],
   "source": [
    "parent_child = []\n",
    "placeholder = []\n",
    "for i in range(1, len(path)):\n",
    "    parent_child.append(path[i-1])\n",
    "    parent_child.append(path[i])\n",
    "    placeholder.append('(parent=? AND child=?)')\n",
    "placeholder = ' OR '.join(placeholder)\n",
    "\n",
    "query = f'''SELECT parent, child, file\n",
    "            FROM bugs_large\n",
    "            WHERE {placeholder}\n",
    "        '''\n",
    "for parent, child, file in cursor.execute(query, parent_child):\n",
    "    print(parent, child, file, sep='\\n', end='\\n\\n')"
   ]
  },
  {
   "cell_type": "markdown",
   "metadata": {
    "pycharm": {
     "name": "#%% md\n"
    }
   },
   "source": [
    "> To summarize, building the tree did not give us anything valuable.\n",
    "> Having a sequence of SHA1 is literally worthless."
   ]
  },
  {
   "cell_type": "markdown",
   "source": [
    "### 5. Number of Owner and Projects"
   ],
   "metadata": {
    "collapsed": false,
    "pycharm": {
     "name": "#%% md\n"
    }
   }
  },
  {
   "cell_type": "code",
   "execution_count": 13,
   "outputs": [
    {
     "name": "stdout",
     "output_type": "stream",
     "text": [
      "There are 759 projects / repo\n"
     ]
    }
   ],
   "source": [
    "query = '''SELECT count(DISTINCT project) FROM bugs_large'''\n",
    "for row in cursor.execute(query):\n",
    "    print(f'There are {row[0]} projects / repo')"
   ],
   "metadata": {
    "collapsed": false,
    "pycharm": {
     "name": "#%%\n"
    }
   }
  },
  {
   "cell_type": "code",
   "execution_count": 14,
   "outputs": [
    {
     "name": "stdout",
     "output_type": "stream",
     "text": [
      "There are 558 repo owners\n"
     ]
    }
   ],
   "source": [
    "query = '''SELECT count(DISTINCT substr(project, 0, instr(project, '.'))) FROM bugs_large'''\n",
    "for row in cursor.execute(query):\n",
    "    print(f'There are {row[0]} repo owners')"
   ],
   "metadata": {
    "collapsed": false,
    "pycharm": {
     "name": "#%%\n"
    }
   }
  },
  {
   "cell_type": "code",
   "execution_count": 15,
   "outputs": [
    {
     "name": "stdout",
     "output_type": "stream",
     "text": [
      "There are 57 repo owners having multiple projects / repo\n"
     ]
    }
   ],
   "source": [
    "query = '''\n",
    "SELECT count()\n",
    "FROM (\n",
    "    SELECT *\n",
    "    FROM (\n",
    "        SELECT\n",
    "           substr(project, 0, instr(project, '.')) as owner,\n",
    "           substr(project, instr(project, '.') + 1) as repo\n",
    "        FROM bugs_large) AS owners\n",
    "    GROUP BY owner\n",
    "    HAVING count(DISTINCT repo) > 1\n",
    ")'''\n",
    "for row in cursor.execute(query):\n",
    "    print(f'There are {row[0]} repo owners having multiple projects / repo')"
   ],
   "metadata": {
    "collapsed": false,
    "pycharm": {
     "name": "#%%\n"
    }
   }
  },
  {
   "cell_type": "code",
   "execution_count": 16,
   "outputs": [
    {
     "name": "stdout",
     "output_type": "stream",
     "text": [
      "There are 65 repo having the same name as owner\n"
     ]
    }
   ],
   "source": [
    "query = '''\n",
    "SELECT count()\n",
    "FROM (\n",
    "    SELECT DISTINCT owner\n",
    "    FROM (\n",
    "        SELECT\n",
    "           substr(project, 0, instr(project, '.')) as owner,\n",
    "           substr(project, instr(project, '.') + 1) as repo\n",
    "        FROM bugs_large) AS owners\n",
    "    WHERE owner = repo\n",
    ")'''\n",
    "for row in cursor.execute(query):\n",
    "    print(f'There are {row[0]} repo having the same name as owner')"
   ],
   "metadata": {
    "collapsed": false,
    "pycharm": {
     "name": "#%%\n"
    }
   }
  },
  {
   "cell_type": "markdown",
   "source": [
    "### 6. Sources That Required Sub-Sequent Changes"
   ],
   "metadata": {
    "collapsed": false,
    "pycharm": {
     "name": "#%% md\n"
    }
   }
  },
  {
   "cell_type": "code",
   "execution_count": 17,
   "outputs": [],
   "source": [
    "import pandas as pd\n",
    "pd.set_option('display.max_rows', 0)"
   ],
   "metadata": {
    "collapsed": false,
    "pycharm": {
     "name": "#%%\n"
    }
   }
  },
  {
   "cell_type": "code",
   "execution_count": 18,
   "outputs": [
    {
     "data": {
      "text/plain": "                              First       Second        Third\n0                     IOException e  Exception e  Throwable e\n1         NumberFormatException nfe  Exception e  Throwable e\n2        IllegalArgumentException e  Exception e  Throwable e\n3        IllegalArgumentException e  Exception e  Throwable e\n4    ReflectiveOperationException e  Exception e  Throwable e\n5    ReflectiveOperationException e  Exception e  Throwable e\n6                     IOException e  Exception e  Throwable e\n7                     IOException e  Exception e  Throwable e\n8                     IOException e  Exception e  Throwable e\n..                              ...          ...          ...\n327                        id=19903     id=19904     id=19905\n328                        id=19904     id=19905     id=19906\n329                        id=19905     id=19906     id=19907\n330                        id=19906     id=19907     id=19908\n331                        id=19907     id=19908     id=19909\n332                        id=19908     id=19909     id=19910\n333                        id=19909     id=19910     id=19911\n334                      offset > 0  offset >= 0   offset > 0\n335                     offset >= 0   offset > 0  offset >= 0\n\n[336 rows x 3 columns]",
      "text/html": "<div>\n<style scoped>\n    .dataframe tbody tr th:only-of-type {\n        vertical-align: middle;\n    }\n\n    .dataframe tbody tr th {\n        vertical-align: top;\n    }\n\n    .dataframe thead th {\n        text-align: right;\n    }\n</style>\n<table border=\"1\" class=\"dataframe\">\n  <thead>\n    <tr style=\"text-align: right;\">\n      <th></th>\n      <th>First</th>\n      <th>Second</th>\n      <th>Third</th>\n    </tr>\n  </thead>\n  <tbody>\n    <tr>\n      <th>0</th>\n      <td>IOException e</td>\n      <td>Exception e</td>\n      <td>Throwable e</td>\n    </tr>\n    <tr>\n      <th>1</th>\n      <td>NumberFormatException nfe</td>\n      <td>Exception e</td>\n      <td>Throwable e</td>\n    </tr>\n    <tr>\n      <th>2</th>\n      <td>IllegalArgumentException e</td>\n      <td>Exception e</td>\n      <td>Throwable e</td>\n    </tr>\n    <tr>\n      <th>3</th>\n      <td>IllegalArgumentException e</td>\n      <td>Exception e</td>\n      <td>Throwable e</td>\n    </tr>\n    <tr>\n      <th>4</th>\n      <td>ReflectiveOperationException e</td>\n      <td>Exception e</td>\n      <td>Throwable e</td>\n    </tr>\n    <tr>\n      <th>5</th>\n      <td>ReflectiveOperationException e</td>\n      <td>Exception e</td>\n      <td>Throwable e</td>\n    </tr>\n    <tr>\n      <th>6</th>\n      <td>IOException e</td>\n      <td>Exception e</td>\n      <td>Throwable e</td>\n    </tr>\n    <tr>\n      <th>7</th>\n      <td>IOException e</td>\n      <td>Exception e</td>\n      <td>Throwable e</td>\n    </tr>\n    <tr>\n      <th>8</th>\n      <td>IOException e</td>\n      <td>Exception e</td>\n      <td>Throwable e</td>\n    </tr>\n    <tr>\n      <th>...</th>\n      <td>...</td>\n      <td>...</td>\n      <td>...</td>\n    </tr>\n    <tr>\n      <th>327</th>\n      <td>id=19903</td>\n      <td>id=19904</td>\n      <td>id=19905</td>\n    </tr>\n    <tr>\n      <th>328</th>\n      <td>id=19904</td>\n      <td>id=19905</td>\n      <td>id=19906</td>\n    </tr>\n    <tr>\n      <th>329</th>\n      <td>id=19905</td>\n      <td>id=19906</td>\n      <td>id=19907</td>\n    </tr>\n    <tr>\n      <th>330</th>\n      <td>id=19906</td>\n      <td>id=19907</td>\n      <td>id=19908</td>\n    </tr>\n    <tr>\n      <th>331</th>\n      <td>id=19907</td>\n      <td>id=19908</td>\n      <td>id=19909</td>\n    </tr>\n    <tr>\n      <th>332</th>\n      <td>id=19908</td>\n      <td>id=19909</td>\n      <td>id=19910</td>\n    </tr>\n    <tr>\n      <th>333</th>\n      <td>id=19909</td>\n      <td>id=19910</td>\n      <td>id=19911</td>\n    </tr>\n    <tr>\n      <th>334</th>\n      <td>offset &gt; 0</td>\n      <td>offset &gt;= 0</td>\n      <td>offset &gt; 0</td>\n    </tr>\n    <tr>\n      <th>335</th>\n      <td>offset &gt;= 0</td>\n      <td>offset &gt; 0</td>\n      <td>offset &gt;= 0</td>\n    </tr>\n  </tbody>\n</table>\n<p>336 rows × 3 columns</p>\n</div>"
     },
     "execution_count": 18,
     "metadata": {},
     "output_type": "execute_result"
    }
   ],
   "source": [
    "query = '''\n",
    "SELECT a.before as first, a.after as second, b.after as third\n",
    "FROM sstubs AS a\n",
    "    INNER JOIN sstubs as b on a.after = b.before\n",
    "WHERE 5 < length(b.before) AND length(b.before) < 12\n",
    "'''\n",
    "pd.DataFrame(cursor.execute(query), columns=['First', 'Second', 'Third'])"
   ],
   "metadata": {
    "collapsed": false,
    "pycharm": {
     "name": "#%%\n"
    }
   }
  },
  {
   "cell_type": "markdown",
   "source": [
    "### 7. Length of SHA1 to Uniquely identify a commit"
   ],
   "metadata": {
    "collapsed": false,
    "pycharm": {
     "name": "#%% md\n"
    }
   }
  },
  {
   "cell_type": "code",
   "execution_count": 19,
   "outputs": [
    {
     "name": "stdout",
     "output_type": "stream",
     "text": [
      "For bugs 9 chars are enough to identify a commit SHA1\n",
      "For bugs_large 10 chars are enough to identify a commit SHA1\n",
      "For sstubs 8 chars are enough to identify a commit SHA1\n",
      "For sstubs_large 9 chars are enough to identify a commit SHA1\n"
     ]
    }
   ],
   "source": [
    "for table in ['bugs', 'bugs_large', 'sstubs', 'sstubs_large']:\n",
    "    query = f'''\n",
    "    SELECT count()\n",
    "    FROM (\n",
    "         SELECT parent FROM {table} UNION SELECT child FROM {table}\n",
    "    )\n",
    "    '''\n",
    "    numUnqCommits = next(cursor.execute(query))\n",
    "    for i in range(40):\n",
    "        query = f'''\n",
    "        SELECT count(DISTINCT substr(parent, 0, {i}))\n",
    "        FROM (\n",
    "             SELECT parent FROM {table} UNION SELECT child FROM {table}\n",
    "        )\n",
    "        '''\n",
    "        numIdentifiableCommits = next(cursor.execute(query))\n",
    "        if numUnqCommits == numIdentifiableCommits:\n",
    "            print(f'For {table} {i} chars are enough to identify a commit SHA1')\n",
    "            break"
   ],
   "metadata": {
    "collapsed": false,
    "pycharm": {
     "name": "#%%\n"
    }
   }
  },
  {
   "cell_type": "code",
   "execution_count": 19,
   "outputs": [],
   "source": [],
   "metadata": {
    "collapsed": false,
    "pycharm": {
     "name": "#%%\n"
    }
   }
  }
 ],
 "metadata": {
  "kernelspec": {
   "display_name": "Python 3",
   "language": "python",
   "name": "python3"
  },
  "language_info": {
   "codemirror_mode": {
    "name": "ipython",
    "version": 3
   },
   "file_extension": ".py",
   "mimetype": "text/x-python",
   "name": "python",
   "nbconvert_exporter": "python",
   "pygments_lexer": "ipython3",
   "version": "3.7.8"
  }
 },
 "nbformat": 4,
 "nbformat_minor": 1
}
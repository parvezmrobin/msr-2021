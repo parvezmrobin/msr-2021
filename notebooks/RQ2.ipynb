{
 "cells": [
  {
   "cell_type": "markdown",
   "metadata": {
    "collapsed": true,
    "pycharm": {
     "name": "#%% md\n"
    }
   },
   "source": [
    "# Answering RQ2"
   ]
  },
  {
   "cell_type": "code",
   "execution_count": 1,
   "outputs": [],
   "source": [
    "import numpy as np\n",
    "from scipy import stats\n",
    "import pandas as pd"
   ],
   "metadata": {
    "collapsed": false,
    "pycharm": {
     "name": "#%%\n"
    }
   }
  },
  {
   "cell_type": "code",
   "execution_count": 2,
   "outputs": [],
   "source": [
    "from _databrick import fix_df"
   ],
   "metadata": {
    "collapsed": false,
    "pycharm": {
     "name": "#%%\n"
    }
   }
  },
  {
   "cell_type": "code",
   "execution_count": 3,
   "outputs": [
    {
     "data": {
      "text/plain": "(1712, 5)"
     },
     "execution_count": 3,
     "metadata": {},
     "output_type": "execute_result"
    }
   ],
   "source": [
    "trigger_df = fix_df[fix_df.Depth == 1]\n",
    "trigger_df.shape"
   ],
   "metadata": {
    "collapsed": false,
    "pycharm": {
     "name": "#%%\n"
    }
   }
  },
  {
   "cell_type": "code",
   "execution_count": 4,
   "outputs": [
    {
     "data": {
      "text/plain": "                                         Parent  \\\n49894  abffa9938bc3b57a098c0914083e8a38933e25d6   \n55353  4938ef5208c53f72deb5bf47e9cdd61612c51c57   \n44191  3d5ae6b97dace0dbf7a39390a5791b2574fb6c64   \n4107   b865a3bab6b8d283c6b3bd7a7d0fca48cd91ad2d   \n59017  03a6f06b21f28098f8c9597b0e0caffdfd6f34fc   \n\n                                          Child                Bug Type  \\\n49894  fc843b6e1ae4f54afbc27b59b9952d19ac3369ea  Change Identifier Used   \n55353  652f03ae0cd5f595285f9fe514c14ff495af1176         Change Modifier   \n44191  59b22faeea4654afac3fea342e7662bf27a9f791         Change Modifier   \n4107   33e47fa1725cc97644d16abf647edf60e888114a  Change Identifier Used   \n59017  db5222ef59500e20ac0df80d9a924cc9e1f2694e     Wrong Function Name   \n\n       Depth  Refix  \n49894      1   True  \n55353      1   True  \n44191      1   True  \n4107       1   True  \n59017      1   True  ",
      "text/html": "<div>\n<style scoped>\n    .dataframe tbody tr th:only-of-type {\n        vertical-align: middle;\n    }\n\n    .dataframe tbody tr th {\n        vertical-align: top;\n    }\n\n    .dataframe thead th {\n        text-align: right;\n    }\n</style>\n<table border=\"1\" class=\"dataframe\">\n  <thead>\n    <tr style=\"text-align: right;\">\n      <th></th>\n      <th>Parent</th>\n      <th>Child</th>\n      <th>Bug Type</th>\n      <th>Depth</th>\n      <th>Refix</th>\n    </tr>\n  </thead>\n  <tbody>\n    <tr>\n      <th>49894</th>\n      <td>abffa9938bc3b57a098c0914083e8a38933e25d6</td>\n      <td>fc843b6e1ae4f54afbc27b59b9952d19ac3369ea</td>\n      <td>Change Identifier Used</td>\n      <td>1</td>\n      <td>True</td>\n    </tr>\n    <tr>\n      <th>55353</th>\n      <td>4938ef5208c53f72deb5bf47e9cdd61612c51c57</td>\n      <td>652f03ae0cd5f595285f9fe514c14ff495af1176</td>\n      <td>Change Modifier</td>\n      <td>1</td>\n      <td>True</td>\n    </tr>\n    <tr>\n      <th>44191</th>\n      <td>3d5ae6b97dace0dbf7a39390a5791b2574fb6c64</td>\n      <td>59b22faeea4654afac3fea342e7662bf27a9f791</td>\n      <td>Change Modifier</td>\n      <td>1</td>\n      <td>True</td>\n    </tr>\n    <tr>\n      <th>4107</th>\n      <td>b865a3bab6b8d283c6b3bd7a7d0fca48cd91ad2d</td>\n      <td>33e47fa1725cc97644d16abf647edf60e888114a</td>\n      <td>Change Identifier Used</td>\n      <td>1</td>\n      <td>True</td>\n    </tr>\n    <tr>\n      <th>59017</th>\n      <td>03a6f06b21f28098f8c9597b0e0caffdfd6f34fc</td>\n      <td>db5222ef59500e20ac0df80d9a924cc9e1f2694e</td>\n      <td>Wrong Function Name</td>\n      <td>1</td>\n      <td>True</td>\n    </tr>\n  </tbody>\n</table>\n</div>"
     },
     "execution_count": 4,
     "metadata": {},
     "output_type": "execute_result"
    }
   ],
   "source": [
    "trigger_df.sample(5)"
   ],
   "metadata": {
    "collapsed": false,
    "pycharm": {
     "name": "#%%\n"
    }
   }
  },
  {
   "cell_type": "code",
   "execution_count": 6,
   "outputs": [
    {
     "data": {
      "text/plain": "Bug Type\nChange Identifier Used         449\nWrong Function Name            254\nChange Modifier                252\nSame Function More Args        239\nChange Numeric Literal         162\nChange Binary Operator          73\nSame Function Less Args         72\nChange Boolean Literal          50\nMore Specific If                45\nLess Specific If                42\nSame Function Change Caller     28\nChange Unary Operator           20\nChange Operand                  15\nSame Function Swap Args          6\nMissing Throws Exception         3\nDelete Throws Exception          2\ndtype: int64"
     },
     "execution_count": 6,
     "metadata": {},
     "output_type": "execute_result"
    }
   ],
   "source": [
    "trigger_df.groupby('Bug Type').agg('size').sort_values(ascending=False)"
   ],
   "metadata": {
    "collapsed": false,
    "pycharm": {
     "name": "#%%\n"
    }
   }
  },
  {
   "cell_type": "code",
   "execution_count": 45,
   "outputs": [
    {
     "data": {
      "text/plain": "                         Ratio  Count\nBug Type                             \nSame Function More Args  0.722    331\nChange Modifier          0.618    408\nChange Binary Operator   0.468    156\nSame Function Less Args  0.387    186\nChange Numeric Literal   0.354    457\nChange Identifier Used   0.293   1535\nWrong Function Name      0.230   1103",
      "text/html": "<div>\n<style scoped>\n    .dataframe tbody tr th:only-of-type {\n        vertical-align: middle;\n    }\n\n    .dataframe tbody tr th {\n        vertical-align: top;\n    }\n\n    .dataframe thead th {\n        text-align: right;\n    }\n</style>\n<table border=\"1\" class=\"dataframe\">\n  <thead>\n    <tr style=\"text-align: right;\">\n      <th></th>\n      <th>Ratio</th>\n      <th>Count</th>\n    </tr>\n    <tr>\n      <th>Bug Type</th>\n      <th></th>\n      <th></th>\n    </tr>\n  </thead>\n  <tbody>\n    <tr>\n      <th>Same Function More Args</th>\n      <td>0.722</td>\n      <td>331</td>\n    </tr>\n    <tr>\n      <th>Change Modifier</th>\n      <td>0.618</td>\n      <td>408</td>\n    </tr>\n    <tr>\n      <th>Change Binary Operator</th>\n      <td>0.468</td>\n      <td>156</td>\n    </tr>\n    <tr>\n      <th>Same Function Less Args</th>\n      <td>0.387</td>\n      <td>186</td>\n    </tr>\n    <tr>\n      <th>Change Numeric Literal</th>\n      <td>0.354</td>\n      <td>457</td>\n    </tr>\n    <tr>\n      <th>Change Identifier Used</th>\n      <td>0.293</td>\n      <td>1535</td>\n    </tr>\n    <tr>\n      <th>Wrong Function Name</th>\n      <td>0.230</td>\n      <td>1103</td>\n    </tr>\n  </tbody>\n</table>\n</div>"
     },
     "execution_count": 45,
     "metadata": {},
     "output_type": "execute_result"
    }
   ],
   "source": [
    "ratio_cnt_df = fix_df.groupby('Bug Type').agg(\n",
    "    Ratio=('Depth', lambda col: col[col == 1].size / col.size),\n",
    "    Count=('Depth', 'size'),\n",
    ")\n",
    "ratio_cnt_df = ratio_cnt_df[ratio_cnt_df.Count > 100]\\\n",
    "    .sort_values(by='Ratio', ascending=False)\n",
    "\n",
    "ratio_cnt_df"
   ],
   "metadata": {
    "collapsed": false,
    "pycharm": {
     "name": "#%%\n"
    }
   }
  },
  {
   "cell_type": "code",
   "execution_count": 58,
   "outputs": [
    {
     "data": {
      "text/plain": "<AxesSubplot:ylabel='Bug Type'>"
     },
     "execution_count": 58,
     "metadata": {},
     "output_type": "execute_result"
    },
    {
     "data": {
      "text/plain": "<Figure size 432x288 with 1 Axes>",
      "image/png": "[encoded data removed]"
     },
     "metadata": {
      "needs_background": "light"
     },
     "output_type": "display_data"
    }
   ],
   "source": [
    "ratio_cnt_df.Ratio.sort_values().plot.barh(legend=True)"
   ],
   "metadata": {
    "collapsed": false,
    "pycharm": {
     "name": "#%%\n"
    }
   }
  },
  {
   "cell_type": "code",
   "execution_count": null,
   "outputs": [],
   "source": [],
   "metadata": {
    "collapsed": false,
    "pycharm": {
     "name": "#%%\n"
    }
   }
  }
 ],
 "metadata": {
  "kernelspec": {
   "display_name": "Python 3",
   "language": "python",
   "name": "python3"
  },
  "language_info": {
   "codemirror_mode": {
    "name": "ipython",
    "version": 2
   },
   "file_extension": ".py",
   "mimetype": "text/x-python",
   "name": "python",
   "nbconvert_exporter": "python",
   "pygments_lexer": "ipython2",
   "version": "2.7.6"
  }
 },
 "nbformat": 4,
 "nbformat_minor": 0
}